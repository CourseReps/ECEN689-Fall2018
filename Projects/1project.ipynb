{
 "cells": [
  {
   "cell_type": "markdown",
   "metadata": {},
   "source": [
    "# Project 1\n",
    "Due: October 30, 2018\n",
    "\n",
    "The goal of this project is to support or refute the claim: income level is positively correlated to health.\n",
    "Pertinent well-being indicators may include diabetes and obesity rates, although the teams are encouraged to be creative about information sources.\n",
    "Public data sets are identified, and they should be viewed as a starting point.\n",
    "\n",
    "The 8-page report should be in the style of [investigative journalism](https://en.wikipedia.org/wiki/Investigative_journalism).\n",
    "\n",
    "\n",
    "## Data\n",
    "\n",
    "### Data 1 – Food Environment Atlas\n",
    "\n",
    "Food environment factors interact to influence food choices and diet quality.\n",
    "The objectives of the [Food Atlas](https://www.ers.usda.gov/data-products/food-environment-atlas/), made available by the [U.S. Department of Agriculture](https://www.usda.gov/), are to assemble statistics on food environment indicators and to provide a spatial overview of access to healthy food.\n",
    "The atlas contains health and well-being indicators such as diabetes and obesity rates.\n",
    "\n",
    "* [Food Atlas](https://www.ers.usda.gov/data-products/food-environment-atlas/data-access-and-documentation-downloads/)\n",
    "\n",
    "\n",
    "### Data 2 – Individual Income Tax Statistics\n",
    "\n",
    "The [Internal Revenue Service (IRS)](https://www.irs.gov/) is the revenue service of the United States federal government.\n",
    "It is responsible for collecting taxes and administering the Internal Revenue Code.\n",
    "\n",
    "The IRS makes data products available to the public; this data is collected and curated primarily as part of the Statistics of Income (SOI) program.\n",
    "Public information includes individual tax statistics for 2016, grouped by ZIP code.\n",
    "\n",
    " * [Individual Income Tax Statistics](https://www.irs.gov/statistics/soi-tax-stats-individual-income-tax-statistics-2016-zip-code-data-soi)\n",
    "\n",
    "\n",
    "### Data 3 – Spatial Information\n",
    "\n",
    "[Federal Information Processing Standards](https://www.nist.gov/itl/itl-publications/federal-information-processing-standards-fips) (FIPS) are publicly announced standards developed by the United States federal government for use in computer systems.\n",
    "The [FIPS county codes](https://en.wikipedia.org/wiki/FIPS_county_code) uniquely identify counties and county equivalents in the United States, certain U.S. possessions, and certain freely associated states.\n",
    "\n",
    "\n",
    "\n",
    "### File Descriptions\n",
    "\n",
    "Data 1 contains health and well-being makers, group by FIPS.\n",
    "Data 2 captures income levels per ZIP code.\n",
    "Data 3 hints at a way to go back and forth between FIPS and ZIP codes.\n",
    "\n",
    "\n",
    "### Deliverables\n",
    "\n",
    "On GitHub, you should submit the following items.\n",
    "\n",
    " 1. 8-page PDF report\n",
    " 2. Python code on GitHub\n",
    " 3. README.md file on GitHub"
   ]
  },
  {
   "cell_type": "code",
   "execution_count": null,
   "metadata": {
    "collapsed": true
   },
   "outputs": [],
   "source": []
  }
 ],
 "metadata": {
  "kernelspec": {
   "display_name": "Python 3",
   "language": "python",
   "name": "python3"
  },
  "language_info": {
   "codemirror_mode": {
    "name": "ipython",
    "version": 3
   },
   "file_extension": ".py",
   "mimetype": "text/x-python",
   "name": "python",
   "nbconvert_exporter": "python",
   "pygments_lexer": "ipython3",
   "version": "3.6.4"
  }
 },
 "nbformat": 4,
 "nbformat_minor": 2
}
