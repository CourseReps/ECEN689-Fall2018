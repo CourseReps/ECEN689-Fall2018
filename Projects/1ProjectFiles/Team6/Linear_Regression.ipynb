{
 "cells": [
  {
   "cell_type": "markdown",
   "metadata": {},
   "source": [
    "# Linear Regression Model"
   ]
  },
  {
   "cell_type": "code",
   "execution_count": 137,
   "metadata": {},
   "outputs": [],
   "source": [
    "import pandas as pd\n",
    "\n",
    "from sklearn import linear_model\n",
    "from sklearn.model_selection import train_test_split\n",
    "\n",
    "import statsmodels.api as sm\n",
    "\n",
    "import matplotlib\n",
    "import matplotlib.pyplot as plt\n",
    "\n",
    "import warnings\n",
    "warnings.filterwarnings('ignore')"
   ]
  },
  {
   "cell_type": "code",
   "execution_count": 138,
   "metadata": {},
   "outputs": [],
   "source": [
    "#Read the csv file into dataframe\n",
    "finaldf=pd.read_csv('combinedDataset.csv',encoding='utf-8')"
   ]
  },
  {
   "cell_type": "code",
   "execution_count": 139,
   "metadata": {},
   "outputs": [
    {
     "data": {
      "text/html": [
       "<div>\n",
       "<style scoped>\n",
       "    .dataframe tbody tr th:only-of-type {\n",
       "        vertical-align: middle;\n",
       "    }\n",
       "\n",
       "    .dataframe tbody tr th {\n",
       "        vertical-align: top;\n",
       "    }\n",
       "\n",
       "    .dataframe thead th {\n",
       "        text-align: right;\n",
       "    }\n",
       "</style>\n",
       "<table border=\"1\" class=\"dataframe\">\n",
       "  <thead>\n",
       "    <tr style=\"text-align: right;\">\n",
       "      <th></th>\n",
       "      <th>N02650</th>\n",
       "      <th>A02650</th>\n",
       "      <th>Population Estimate, 2013</th>\n",
       "      <th>Population Estimate, 2016</th>\n",
       "      <th>PCT_DIABETES_ADULTS13</th>\n",
       "      <th>PCT_OBESE_ADULTS13</th>\n",
       "      <th>FFR14</th>\n",
       "      <th>RECFAC14</th>\n",
       "    </tr>\n",
       "  </thead>\n",
       "  <tbody>\n",
       "    <tr>\n",
       "      <th>0</th>\n",
       "      <td>34230.0</td>\n",
       "      <td>1659673.0</td>\n",
       "      <td>54,792</td>\n",
       "      <td>55,416</td>\n",
       "      <td>13.0</td>\n",
       "      <td>34.1</td>\n",
       "      <td>36</td>\n",
       "      <td>5</td>\n",
       "    </tr>\n",
       "    <tr>\n",
       "      <th>1</th>\n",
       "      <td>90660.0</td>\n",
       "      <td>5118057.0</td>\n",
       "      <td>195,147</td>\n",
       "      <td>208,563</td>\n",
       "      <td>10.4</td>\n",
       "      <td>27.4</td>\n",
       "      <td>132</td>\n",
       "      <td>25</td>\n",
       "    </tr>\n",
       "    <tr>\n",
       "      <th>2</th>\n",
       "      <td>11480.0</td>\n",
       "      <td>446600.0</td>\n",
       "      <td>26,938</td>\n",
       "      <td>25,965</td>\n",
       "      <td>18.4</td>\n",
       "      <td>44.4</td>\n",
       "      <td>22</td>\n",
       "      <td>0</td>\n",
       "    </tr>\n",
       "    <tr>\n",
       "      <th>3</th>\n",
       "      <td>23170.0</td>\n",
       "      <td>1124762.0</td>\n",
       "      <td>22,501</td>\n",
       "      <td>22,643</td>\n",
       "      <td>14.8</td>\n",
       "      <td>40.3</td>\n",
       "      <td>5</td>\n",
       "      <td>1</td>\n",
       "    </tr>\n",
       "    <tr>\n",
       "      <th>4</th>\n",
       "      <td>63020.0</td>\n",
       "      <td>3023206.0</td>\n",
       "      <td>57,746</td>\n",
       "      <td>57,704</td>\n",
       "      <td>14.1</td>\n",
       "      <td>34.6</td>\n",
       "      <td>21</td>\n",
       "      <td>3</td>\n",
       "    </tr>\n",
       "  </tbody>\n",
       "</table>\n",
       "</div>"
      ],
      "text/plain": [
       "    N02650     A02650 Population Estimate, 2013 Population Estimate, 2016  \\\n",
       "0  34230.0  1659673.0                    54,792                    55,416   \n",
       "1  90660.0  5118057.0                   195,147                   208,563   \n",
       "2  11480.0   446600.0                    26,938                    25,965   \n",
       "3  23170.0  1124762.0                    22,501                    22,643   \n",
       "4  63020.0  3023206.0                    57,746                    57,704   \n",
       "\n",
       "   PCT_DIABETES_ADULTS13  PCT_OBESE_ADULTS13  FFR14  RECFAC14  \n",
       "0                   13.0                34.1     36         5  \n",
       "1                   10.4                27.4    132        25  \n",
       "2                   18.4                44.4     22         0  \n",
       "3                   14.8                40.3      5         1  \n",
       "4                   14.1                34.6     21         3  "
      ]
     },
     "execution_count": 139,
     "metadata": {},
     "output_type": "execute_result"
    }
   ],
   "source": [
    "finaldf.head()"
   ]
  },
  {
   "cell_type": "code",
   "execution_count": 140,
   "metadata": {},
   "outputs": [],
   "source": [
    "#Extract the feature columns\n",
    "X = finaldf.loc[:,'PCT_DIABETES_ADULTS13':].values"
   ]
  },
  {
   "cell_type": "code",
   "execution_count": 141,
   "metadata": {},
   "outputs": [
    {
     "name": "stdout",
     "output_type": "stream",
     "text": [
      "[[ 13.   34.1  36.    5. ]\n",
      " [ 10.4  27.4 132.   25. ]\n",
      " [ 18.4  44.4  22.    0. ]\n",
      " ...\n",
      " [  9.   27.9  16.    2. ]\n",
      " [ 12.   27.7   6.    1. ]\n",
      " [ 10.   29.2   3.    0. ]]\n"
     ]
    }
   ],
   "source": [
    "print(X)"
   ]
  },
  {
   "cell_type": "code",
   "execution_count": 142,
   "metadata": {},
   "outputs": [],
   "source": [
    "#Extract the label column\n",
    "y =finaldf.iloc[:,1].values"
   ]
  },
  {
   "cell_type": "code",
   "execution_count": 143,
   "metadata": {},
   "outputs": [
    {
     "name": "stdout",
     "output_type": "stream",
     "text": [
      "[1659673. 5118057.  446600. ...  462015.  260964.  373820.]\n"
     ]
    }
   ],
   "source": [
    "print(y)"
   ]
  },
  {
   "cell_type": "code",
   "execution_count": 144,
   "metadata": {},
   "outputs": [],
   "source": [
    "#Split the data into training and test sets\n",
    "X_train, X_test, y_train, y_test = train_test_split(X, y, test_size=0.1)"
   ]
  },
  {
   "cell_type": "code",
   "execution_count": 145,
   "metadata": {},
   "outputs": [],
   "source": [
    "#Train the model using the training data\n",
    "lm = linear_model.LinearRegression()\n",
    "model=lm.fit(X_train, y_train)"
   ]
  },
  {
   "cell_type": "code",
   "execution_count": 146,
   "metadata": {},
   "outputs": [
    {
     "data": {
      "text/plain": [
       "array([10720527.89433778,   794263.19355222,  1435770.38849422,\n",
       "        3249064.99402954, 31882355.580055  ])"
      ]
     },
     "execution_count": 146,
     "metadata": {},
     "output_type": "execute_result"
    }
   ],
   "source": [
    "#Predict the output for the test data\n",
    "y_predicted = model.predict(X_test)\n",
    "y_predicted[0:5]"
   ]
  },
  {
   "cell_type": "code",
   "execution_count": 147,
   "metadata": {},
   "outputs": [
    {
     "data": {
      "text/plain": [
       "array([ 19181.87340199, -27911.31216724,  15023.8115217 , 233957.54245677])"
      ]
     },
     "execution_count": 147,
     "metadata": {},
     "output_type": "execute_result"
    }
   ],
   "source": [
    "#Coefficients\n",
    "model.coef_"
   ]
  },
  {
   "cell_type": "code",
   "execution_count": 148,
   "metadata": {},
   "outputs": [],
   "source": [
    "%matplotlib inline\n",
    "matplotlib.style.use('ggplot')"
   ]
  },
  {
   "cell_type": "code",
   "execution_count": 149,
   "metadata": {},
   "outputs": [
    {
     "data": {
      "text/plain": [
       "Text(0,0.5,'Predictions')"
      ]
     },
     "execution_count": 149,
     "metadata": {},
     "output_type": "execute_result"
    },
    {
     "data": {
      "image/png": "[encoded data removed]",
      "text/plain": [
       "<Figure size 432x288 with 1 Axes>"
      ]
     },
     "metadata": {},
     "output_type": "display_data"
    }
   ],
   "source": [
    "#Graph of True Values Vs Predicted Values\n",
    "plt.scatter(y_test, y_predicted)\n",
    "plt.xlabel('TrueValues')\n",
    "plt.ylabel('Predictions')"
   ]
  },
  {
   "cell_type": "markdown",
   "metadata": {},
   "source": [
    "# P Values of the features"
   ]
  },
  {
   "cell_type": "code",
   "execution_count": 150,
   "metadata": {},
   "outputs": [
    {
     "name": "stdout",
     "output_type": "stream",
     "text": [
      "                            OLS Regression Results                            \n",
      "==============================================================================\n",
      "Dep. Variable:                      y   R-squared:                       0.960\n",
      "Model:                            OLS   Adj. R-squared:                  0.960\n",
      "Method:                 Least Squares   F-statistic:                 1.890e+04\n",
      "Date:                Tue, 30 Oct 2018   Prob (F-statistic):               0.00\n",
      "Time:                        16:59:40   Log-Likelihood:                -50167.\n",
      "No. Observations:                3118   AIC:                         1.003e+05\n",
      "Df Residuals:                    3113   BIC:                         1.004e+05\n",
      "Df Model:                           4                                         \n",
      "Covariance Type:            nonrobust                                         \n",
      "==============================================================================\n",
      "                 coef    std err          t      P>|t|      [0.025      0.975]\n",
      "------------------------------------------------------------------------------\n",
      "const       8.891e+05   3.13e+05      2.842      0.005    2.76e+05     1.5e+06\n",
      "x1          2.357e+04   2.39e+04      0.985      0.325   -2.33e+04    7.05e+04\n",
      "x2          -2.48e+04   1.34e+04     -1.852      0.064   -5.11e+04    1460.166\n",
      "x3          1.465e+04    540.790     27.086      0.000    1.36e+04    1.57e+04\n",
      "x4          2.359e+05   4170.106     56.564      0.000    2.28e+05    2.44e+05\n",
      "==============================================================================\n",
      "Omnibus:                     2323.479   Durbin-Watson:                   2.051\n",
      "Prob(Omnibus):                  0.000   Jarque-Bera (JB):           248979.193\n",
      "Skew:                           2.771   Prob(JB):                         0.00\n",
      "Kurtosis:                      46.425   Cond. No.                     1.99e+03\n",
      "==============================================================================\n",
      "\n",
      "Warnings:\n",
      "[1] Standard Errors assume that the covariance matrix of the errors is correctly specified.\n",
      "[2] The condition number is large, 1.99e+03. This might indicate that there are\n",
      "strong multicollinearity or other numerical problems.\n"
     ]
    }
   ],
   "source": [
    "X2 = sm.add_constant(X)\n",
    "est = sm.OLS(y, X2)\n",
    "est2 = est.fit()\n",
    "print(est2.summary())"
   ]
  },
  {
   "cell_type": "code",
   "execution_count": null,
   "metadata": {},
   "outputs": [],
   "source": []
  }
 ],
 "metadata": {
  "kernelspec": {
   "display_name": "Python 3",
   "language": "python",
   "name": "python3"
  },
  "language_info": {
   "codemirror_mode": {
    "name": "ipython",
    "version": 3
   },
   "file_extension": ".py",
   "mimetype": "text/x-python",
   "name": "python",
   "nbconvert_exporter": "python",
   "pygments_lexer": "ipython3",
   "version": "3.6.5"
  }
 },
 "nbformat": 4,
 "nbformat_minor": 2
}
