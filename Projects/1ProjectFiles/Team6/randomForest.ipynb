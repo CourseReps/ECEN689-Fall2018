{
 "cells": [
  {
   "cell_type": "code",
   "execution_count": 41,
   "metadata": {},
   "outputs": [],
   "source": [
    "import pandas as pd\n",
    "import numpy as np\n",
    "from sklearn.ensemble import RandomForestRegressor\n",
    "from sklearn import preprocessing\n",
    "from sklearn import tree\n",
    "from itertools import chain"
   ]
  },
  {
   "cell_type": "code",
   "execution_count": 42,
   "metadata": {},
   "outputs": [
    {
     "data": {
      "text/html": [
       "<div>\n",
       "<style scoped>\n",
       "    .dataframe tbody tr th:only-of-type {\n",
       "        vertical-align: middle;\n",
       "    }\n",
       "\n",
       "    .dataframe tbody tr th {\n",
       "        vertical-align: top;\n",
       "    }\n",
       "\n",
       "    .dataframe thead th {\n",
       "        text-align: right;\n",
       "    }\n",
       "</style>\n",
       "<table border=\"1\" class=\"dataframe\">\n",
       "  <thead>\n",
       "    <tr style=\"text-align: right;\">\n",
       "      <th></th>\n",
       "      <th>FIPS</th>\n",
       "      <th>N02650</th>\n",
       "      <th>A02650</th>\n",
       "      <th>Population Estimate, 2013</th>\n",
       "      <th>Population Estimate, 2016</th>\n",
       "      <th>PCT_DIABETES_ADULTS13</th>\n",
       "      <th>PCT_OBESE_ADULTS13</th>\n",
       "      <th>FFR14</th>\n",
       "      <th>RECFAC14</th>\n",
       "    </tr>\n",
       "  </thead>\n",
       "  <tbody>\n",
       "    <tr>\n",
       "      <th>0</th>\n",
       "      <td>1001</td>\n",
       "      <td>34230.0</td>\n",
       "      <td>1659673.0</td>\n",
       "      <td>54,792</td>\n",
       "      <td>55,416</td>\n",
       "      <td>13.0</td>\n",
       "      <td>34.1</td>\n",
       "      <td>36</td>\n",
       "      <td>5</td>\n",
       "    </tr>\n",
       "    <tr>\n",
       "      <th>1</th>\n",
       "      <td>1003</td>\n",
       "      <td>90660.0</td>\n",
       "      <td>5118057.0</td>\n",
       "      <td>195,147</td>\n",
       "      <td>208,563</td>\n",
       "      <td>10.4</td>\n",
       "      <td>27.4</td>\n",
       "      <td>132</td>\n",
       "      <td>25</td>\n",
       "    </tr>\n",
       "    <tr>\n",
       "      <th>2</th>\n",
       "      <td>1005</td>\n",
       "      <td>11480.0</td>\n",
       "      <td>446600.0</td>\n",
       "      <td>26,938</td>\n",
       "      <td>25,965</td>\n",
       "      <td>18.4</td>\n",
       "      <td>44.4</td>\n",
       "      <td>22</td>\n",
       "      <td>0</td>\n",
       "    </tr>\n",
       "    <tr>\n",
       "      <th>3</th>\n",
       "      <td>1007</td>\n",
       "      <td>23170.0</td>\n",
       "      <td>1124762.0</td>\n",
       "      <td>22,501</td>\n",
       "      <td>22,643</td>\n",
       "      <td>14.8</td>\n",
       "      <td>40.3</td>\n",
       "      <td>5</td>\n",
       "      <td>1</td>\n",
       "    </tr>\n",
       "    <tr>\n",
       "      <th>4</th>\n",
       "      <td>1009</td>\n",
       "      <td>63020.0</td>\n",
       "      <td>3023206.0</td>\n",
       "      <td>57,746</td>\n",
       "      <td>57,704</td>\n",
       "      <td>14.1</td>\n",
       "      <td>34.6</td>\n",
       "      <td>21</td>\n",
       "      <td>3</td>\n",
       "    </tr>\n",
       "  </tbody>\n",
       "</table>\n",
       "</div>"
      ],
      "text/plain": [
       "   FIPS   N02650     A02650 Population Estimate, 2013  \\\n",
       "0  1001  34230.0  1659673.0                    54,792   \n",
       "1  1003  90660.0  5118057.0                   195,147   \n",
       "2  1005  11480.0   446600.0                    26,938   \n",
       "3  1007  23170.0  1124762.0                    22,501   \n",
       "4  1009  63020.0  3023206.0                    57,746   \n",
       "\n",
       "  Population Estimate, 2016  PCT_DIABETES_ADULTS13  PCT_OBESE_ADULTS13  FFR14  \\\n",
       "0                    55,416                   13.0                34.1     36   \n",
       "1                   208,563                   10.4                27.4    132   \n",
       "2                    25,965                   18.4                44.4     22   \n",
       "3                    22,643                   14.8                40.3      5   \n",
       "4                    57,704                   14.1                34.6     21   \n",
       "\n",
       "   RECFAC14  \n",
       "0         5  \n",
       "1        25  \n",
       "2         0  \n",
       "3         1  \n",
       "4         3  "
      ]
     },
     "execution_count": 42,
     "metadata": {},
     "output_type": "execute_result"
    }
   ],
   "source": [
    "train= pd.read_csv('combinedDataset.csv')\n",
    "train.head()\n",
    "list_cols = list(v for v in chain(train.columns[6:9]))\n",
    "df = train[list_cols]\n",
    "df.head()\n",
    "train.head()"
   ]
  },
  {
   "cell_type": "code",
   "execution_count": 43,
   "metadata": {},
   "outputs": [
    {
     "data": {
      "text/plain": [
       "0    1659673.0\n",
       "1    5118057.0\n",
       "2     446600.0\n",
       "3    1124762.0\n",
       "4    3023206.0\n",
       "Name: A02650, dtype: float64"
      ]
     },
     "execution_count": 43,
     "metadata": {},
     "output_type": "execute_result"
    }
   ],
   "source": [
    "#obesity vs income, diabetes rate, ff, rc\n",
    "l = list(v for v in chain(train.columns[5:7], train.columns[7:9]))\n",
    "train_images = train[l]\n",
    "train_labels = train.iloc[:,2]\n",
    "train_images.head()\n",
    "train_labels.head()"
   ]
  },
  {
   "cell_type": "code",
   "execution_count": 44,
   "metadata": {},
   "outputs": [],
   "source": [
    "from sklearn.model_selection import train_test_split\n",
    "X_train, X_test, Y_train, Y_test = train_test_split(train_images, train_labels, test_size = 0.25)"
   ]
  },
  {
   "cell_type": "code",
   "execution_count": 45,
   "metadata": {},
   "outputs": [
    {
     "data": {
      "text/plain": [
       "RandomForestRegressor(bootstrap=True, criterion='mse', max_depth=None,\n",
       "           max_features=2, max_leaf_nodes=None, min_impurity_decrease=0.0,\n",
       "           min_impurity_split=None, min_samples_leaf=1,\n",
       "           min_samples_split=2, min_weight_fraction_leaf=0.0,\n",
       "           n_estimators=1, n_jobs=1, oob_score=False, random_state=None,\n",
       "           verbose=0, warm_start=False)"
      ]
     },
     "execution_count": 45,
     "metadata": {},
     "output_type": "execute_result"
    }
   ],
   "source": [
    "rf = RandomForestRegressor(n_estimators = 1, criterion = 'mse', max_features = 2,\n",
    "                               min_samples_split = 2, min_samples_leaf = 1, random_state = None)\n",
    "rf.fit(X_train, Y_train)"
   ]
  },
  {
   "cell_type": "code",
   "execution_count": 46,
   "metadata": {},
   "outputs": [
    {
     "data": {
      "text/plain": [
       "<matplotlib.axes._subplots.AxesSubplot at 0x216df9dde48>"
      ]
     },
     "execution_count": 46,
     "metadata": {},
     "output_type": "execute_result"
    },
    {
     "data": {
      "image/png": "[encoded data removed]",
      "text/plain": [
       "<Figure size 432x288 with 1 Axes>"
      ]
     },
     "metadata": {},
     "output_type": "display_data"
    }
   ],
   "source": [
    "import matplotlib.pyplot as plt\n",
    "feat_importances = pd.Series(rf.feature_importances_, index=X_train.columns)\n",
    "feat_importances.nlargest(20).plot(kind='barh')"
   ]
  },
  {
   "cell_type": "code",
   "execution_count": null,
   "metadata": {},
   "outputs": [],
   "source": []
  }
 ],
 "metadata": {
  "kernelspec": {
   "display_name": "Python 3",
   "language": "python",
   "name": "python3"
  },
  "language_info": {
   "codemirror_mode": {
    "name": "ipython",
    "version": 3
   },
   "file_extension": ".py",
   "mimetype": "text/x-python",
   "name": "python",
   "nbconvert_exporter": "python",
   "pygments_lexer": "ipython3",
   "version": "3.6.5"
  }
 },
 "nbformat": 4,
 "nbformat_minor": 2
}
