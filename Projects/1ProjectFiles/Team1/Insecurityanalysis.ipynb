{
  "nbformat": 4,
  "nbformat_minor": 0,
  "metadata": {
    "colab": {
      "name": "Insecurityanalysis.ipynb",
      "version": "0.3.2",
      "provenance": []
    },
    "kernelspec": {
      "name": "python3",
      "display_name": "Python 3"
    },
    "accelerator": "TPU"
  },
  "cells": [
    {
      "metadata": {
        "id": "JaHoBF2oiz3R",
        "colab_type": "code",
        "colab": {}
      },
      "cell_type": "code",
      "source": [
        "import pandas as pd\n",
        "from google.colab import files \n",
        "import numpy as np"
      ],
      "execution_count": 0,
      "outputs": []
    },
    {
      "metadata": {
        "id": "CMCYzzmQlU9F",
        "colab_type": "code",
        "outputId": "ae50f9e4-02dd-456b-80d5-a822ef787ab1",
        "colab": {
          "resources": {
            "http://localhost:8080/nbextensions/google.colab/files.js": {
              "data": "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",
              "ok": true,
              "headers": [
                [
                  "content-type",
                  "application/javascript"
                ]
              ],
              "status": 200,
              "status_text": ""
            }
          },
          "base_uri": "https://localhost:8080/",
          "height": 73
        }
      },
      "cell_type": "code",
      "source": [
        "uploaded_insecurity = files.upload()"
      ],
      "execution_count": 2,
      "outputs": [
        {
          "output_type": "display_data",
          "data": {
            "text/html": [
              "\n",
              "     <input type=\"file\" id=\"files-85a8c587-f7f4-4079-bcb7-f24bc6c3ddb7\" name=\"files[]\" multiple disabled />\n",
              "     <output id=\"result-85a8c587-f7f4-4079-bcb7-f24bc6c3ddb7\">\n",
              "      Upload widget is only available when the cell has been executed in the\n",
              "      current browser session. Please rerun this cell to enable.\n",
              "      </output>\n",
              "      <script src=\"/nbextensions/google.colab/files.js\"></script> "
            ],
            "text/plain": [
              "<IPython.core.display.HTML object>"
            ]
          },
          "metadata": {
            "tags": []
          }
        },
        {
          "output_type": "stream",
          "text": [
            "Saving datainsecurity.csv to datainsecurity.csv\n"
          ],
          "name": "stdout"
        }
      ]
    },
    {
      "metadata": {
        "id": "rXs0NSbqmY0Q",
        "colab_type": "code",
        "outputId": "b7e1fe4d-4f4c-43ae-99aa-0267b0f88f96",
        "colab": {
          "base_uri": "https://localhost:8080/",
          "height": 35
        }
      },
      "cell_type": "code",
      "source": [
        "for fn1 in uploaded_insecurity.keys():\n",
        "  print('User uploaded file \"{name}\" with length {length} bytes'.format(\n",
        "      name=fn1, length=len(uploaded_insecurity[fn1])))"
      ],
      "execution_count": 3,
      "outputs": [
        {
          "output_type": "stream",
          "text": [
            "User uploaded file \"datainsecurity.csv\" with length 5003605 bytes\n"
          ],
          "name": "stdout"
        }
      ]
    },
    {
      "metadata": {
        "id": "0rdqurhjnJy5",
        "colab_type": "code",
        "colab": {}
      },
      "cell_type": "code",
      "source": [
        "import io \n",
        "insecurity_df = pd.read_csv(io.StringIO(uploaded_insecurity['datainsecurity.csv'].decode('cp1252')),index_col=0)\n",
        "insecurity_df=insecurity_df.groupby(['State'],sort=False).median()\n",
        "insecurity_df=insecurity_df.drop(['DC'])"
      ],
      "execution_count": 0,
      "outputs": []
    },
    {
      "metadata": {
        "id": "NOiakam6nVWo",
        "colab_type": "code",
        "outputId": "28bdb354-3daa-4409-cb09-33f2169cd349",
        "colab": {
          "base_uri": "https://localhost:8080/",
          "height": 435
        }
      },
      "cell_type": "code",
      "source": [
        "insecurity_df.head(10)"
      ],
      "execution_count": 5,
      "outputs": [
        {
          "output_type": "execute_result",
          "data": {
            "text/html": [
              "<div>\n",
              "<style scoped>\n",
              "    .dataframe tbody tr th:only-of-type {\n",
              "        vertical-align: middle;\n",
              "    }\n",
              "\n",
              "    .dataframe tbody tr th {\n",
              "        vertical-align: top;\n",
              "    }\n",
              "\n",
              "    .dataframe thead th {\n",
              "        text-align: right;\n",
              "    }\n",
              "</style>\n",
              "<table border=\"1\" class=\"dataframe\">\n",
              "  <thead>\n",
              "    <tr style=\"text-align: right;\">\n",
              "      <th></th>\n",
              "      <th>FIPS</th>\n",
              "      <th>FOODINSEC_10_12</th>\n",
              "      <th>FOODINSEC_13_15</th>\n",
              "      <th>CH_FOODINSEC_12_15</th>\n",
              "      <th>VLFOODSEC_10_12</th>\n",
              "      <th>VLFOODSEC_13_15</th>\n",
              "      <th>CH_VLFOODSEC_12_15</th>\n",
              "      <th>FOODINSEC_CHILD_01_07</th>\n",
              "      <th>FOODINSEC_CHILD_03_11</th>\n",
              "      <th>PCT_DIABETES_ADULTS08</th>\n",
              "      <th>...</th>\n",
              "      <th>N10300</th>\n",
              "      <th>A10300</th>\n",
              "      <th>N85530</th>\n",
              "      <th>A85530</th>\n",
              "      <th>N85300</th>\n",
              "      <th>A85300</th>\n",
              "      <th>N11901</th>\n",
              "      <th>A11901</th>\n",
              "      <th>N11902</th>\n",
              "      <th>A11902</th>\n",
              "    </tr>\n",
              "    <tr>\n",
              "      <th>State</th>\n",
              "      <th></th>\n",
              "      <th></th>\n",
              "      <th></th>\n",
              "      <th></th>\n",
              "      <th></th>\n",
              "      <th></th>\n",
              "      <th></th>\n",
              "      <th></th>\n",
              "      <th></th>\n",
              "      <th></th>\n",
              "      <th></th>\n",
              "      <th></th>\n",
              "      <th></th>\n",
              "      <th></th>\n",
              "      <th></th>\n",
              "      <th></th>\n",
              "      <th></th>\n",
              "      <th></th>\n",
              "      <th></th>\n",
              "      <th></th>\n",
              "      <th></th>\n",
              "    </tr>\n",
              "  </thead>\n",
              "  <tbody>\n",
              "    <tr>\n",
              "      <th>AL</th>\n",
              "      <td>1065.0</td>\n",
              "      <td>17.9</td>\n",
              "      <td>17.6</td>\n",
              "      <td>-0.3</td>\n",
              "      <td>6.8</td>\n",
              "      <td>7.3</td>\n",
              "      <td>0.5</td>\n",
              "      <td>8.5</td>\n",
              "      <td>9.3</td>\n",
              "      <td>12.90</td>\n",
              "      <td>...</td>\n",
              "      <td>1597.500000</td>\n",
              "      <td>10589.909091</td>\n",
              "      <td>7.272727</td>\n",
              "      <td>8.857143</td>\n",
              "      <td>11.666667</td>\n",
              "      <td>21.750000</td>\n",
              "      <td>328.750000</td>\n",
              "      <td>1195.000000</td>\n",
              "      <td>1780.000000</td>\n",
              "      <td>5170.875000</td>\n",
              "    </tr>\n",
              "    <tr>\n",
              "      <th>AK</th>\n",
              "      <td>2164.0</td>\n",
              "      <td>12.1</td>\n",
              "      <td>13.3</td>\n",
              "      <td>1.2</td>\n",
              "      <td>4.4</td>\n",
              "      <td>4.4</td>\n",
              "      <td>0.0</td>\n",
              "      <td>7.4</td>\n",
              "      <td>8.0</td>\n",
              "      <td>6.30</td>\n",
              "      <td>...</td>\n",
              "      <td>573.333333</td>\n",
              "      <td>4817.333333</td>\n",
              "      <td>2.000000</td>\n",
              "      <td>1.200000</td>\n",
              "      <td>0.000000</td>\n",
              "      <td>0.000000</td>\n",
              "      <td>132.500000</td>\n",
              "      <td>596.000000</td>\n",
              "      <td>540.000000</td>\n",
              "      <td>1231.571429</td>\n",
              "    </tr>\n",
              "    <tr>\n",
              "      <th>AZ</th>\n",
              "      <td>4013.0</td>\n",
              "      <td>19.7</td>\n",
              "      <td>19.2</td>\n",
              "      <td>-0.5</td>\n",
              "      <td>8.1</td>\n",
              "      <td>7.4</td>\n",
              "      <td>-0.7</td>\n",
              "      <td>9.7</td>\n",
              "      <td>10.9</td>\n",
              "      <td>8.40</td>\n",
              "      <td>...</td>\n",
              "      <td>2059.047619</td>\n",
              "      <td>17244.800000</td>\n",
              "      <td>17.500000</td>\n",
              "      <td>22.450000</td>\n",
              "      <td>26.500000</td>\n",
              "      <td>67.176471</td>\n",
              "      <td>562.857143</td>\n",
              "      <td>2309.809524</td>\n",
              "      <td>2132.857143</td>\n",
              "      <td>5534.904762</td>\n",
              "    </tr>\n",
              "    <tr>\n",
              "      <th>AR</th>\n",
              "      <td>5074.0</td>\n",
              "      <td>14.9</td>\n",
              "      <td>14.9</td>\n",
              "      <td>0.0</td>\n",
              "      <td>6.4</td>\n",
              "      <td>6.0</td>\n",
              "      <td>-0.4</td>\n",
              "      <td>11.2</td>\n",
              "      <td>11.5</td>\n",
              "      <td>11.25</td>\n",
              "      <td>...</td>\n",
              "      <td>859.000000</td>\n",
              "      <td>5190.285714</td>\n",
              "      <td>0.000000</td>\n",
              "      <td>0.000000</td>\n",
              "      <td>5.166667</td>\n",
              "      <td>9.013889</td>\n",
              "      <td>198.000000</td>\n",
              "      <td>731.466667</td>\n",
              "      <td>989.326923</td>\n",
              "      <td>2800.402778</td>\n",
              "    </tr>\n",
              "    <tr>\n",
              "      <th>CA</th>\n",
              "      <td>6058.0</td>\n",
              "      <td>15.6</td>\n",
              "      <td>12.6</td>\n",
              "      <td>-3.0</td>\n",
              "      <td>5.7</td>\n",
              "      <td>4.5</td>\n",
              "      <td>-1.2</td>\n",
              "      <td>10.4</td>\n",
              "      <td>10.8</td>\n",
              "      <td>7.60</td>\n",
              "      <td>...</td>\n",
              "      <td>4080.357143</td>\n",
              "      <td>41065.384967</td>\n",
              "      <td>55.339367</td>\n",
              "      <td>77.642745</td>\n",
              "      <td>70.491667</td>\n",
              "      <td>256.336508</td>\n",
              "      <td>1219.579832</td>\n",
              "      <td>5559.573016</td>\n",
              "      <td>4140.640394</td>\n",
              "      <td>11748.105042</td>\n",
              "    </tr>\n",
              "    <tr>\n",
              "      <th>CO</th>\n",
              "      <td>8063.0</td>\n",
              "      <td>14.1</td>\n",
              "      <td>12.1</td>\n",
              "      <td>-2.0</td>\n",
              "      <td>5.8</td>\n",
              "      <td>5.1</td>\n",
              "      <td>-0.7</td>\n",
              "      <td>8.0</td>\n",
              "      <td>8.8</td>\n",
              "      <td>5.60</td>\n",
              "      <td>...</td>\n",
              "      <td>982.500000</td>\n",
              "      <td>9308.666667</td>\n",
              "      <td>0.000000</td>\n",
              "      <td>0.000000</td>\n",
              "      <td>10.000000</td>\n",
              "      <td>34.500000</td>\n",
              "      <td>306.000000</td>\n",
              "      <td>1400.714286</td>\n",
              "      <td>1040.000000</td>\n",
              "      <td>2628.500000</td>\n",
              "    </tr>\n",
              "    <tr>\n",
              "      <th>CT</th>\n",
              "      <td>9008.0</td>\n",
              "      <td>13.4</td>\n",
              "      <td>13.1</td>\n",
              "      <td>-0.3</td>\n",
              "      <td>4.9</td>\n",
              "      <td>6.3</td>\n",
              "      <td>1.4</td>\n",
              "      <td>6.8</td>\n",
              "      <td>8.0</td>\n",
              "      <td>7.65</td>\n",
              "      <td>...</td>\n",
              "      <td>3350.076923</td>\n",
              "      <td>46786.690705</td>\n",
              "      <td>127.676282</td>\n",
              "      <td>197.041667</td>\n",
              "      <td>115.641026</td>\n",
              "      <td>267.861111</td>\n",
              "      <td>791.153846</td>\n",
              "      <td>3821.618590</td>\n",
              "      <td>3210.217949</td>\n",
              "      <td>8997.389744</td>\n",
              "    </tr>\n",
              "    <tr>\n",
              "      <th>DE</th>\n",
              "      <td>10003.0</td>\n",
              "      <td>12.0</td>\n",
              "      <td>13.2</td>\n",
              "      <td>1.2</td>\n",
              "      <td>4.5</td>\n",
              "      <td>4.8</td>\n",
              "      <td>0.3</td>\n",
              "      <td>6.3</td>\n",
              "      <td>7.0</td>\n",
              "      <td>11.20</td>\n",
              "      <td>...</td>\n",
              "      <td>3747.000000</td>\n",
              "      <td>40099.950000</td>\n",
              "      <td>62.500000</td>\n",
              "      <td>114.650000</td>\n",
              "      <td>92.500000</td>\n",
              "      <td>230.300000</td>\n",
              "      <td>1047.000000</td>\n",
              "      <td>4665.000000</td>\n",
              "      <td>3958.888889</td>\n",
              "      <td>10472.222222</td>\n",
              "    </tr>\n",
              "    <tr>\n",
              "      <th>FL</th>\n",
              "      <td>12070.0</td>\n",
              "      <td>14.8</td>\n",
              "      <td>12.7</td>\n",
              "      <td>-2.1</td>\n",
              "      <td>5.7</td>\n",
              "      <td>5.4</td>\n",
              "      <td>-0.3</td>\n",
              "      <td>9.3</td>\n",
              "      <td>9.4</td>\n",
              "      <td>10.35</td>\n",
              "      <td>...</td>\n",
              "      <td>4375.454545</td>\n",
              "      <td>41834.431818</td>\n",
              "      <td>45.829493</td>\n",
              "      <td>75.908986</td>\n",
              "      <td>73.352535</td>\n",
              "      <td>199.451299</td>\n",
              "      <td>1043.068182</td>\n",
              "      <td>4520.209091</td>\n",
              "      <td>4839.015152</td>\n",
              "      <td>14751.766234</td>\n",
              "    </tr>\n",
              "    <tr>\n",
              "      <th>GA</th>\n",
              "      <td>13145.0</td>\n",
              "      <td>16.9</td>\n",
              "      <td>14.9</td>\n",
              "      <td>-2.0</td>\n",
              "      <td>6.5</td>\n",
              "      <td>5.6</td>\n",
              "      <td>-0.9</td>\n",
              "      <td>9.2</td>\n",
              "      <td>10.5</td>\n",
              "      <td>11.80</td>\n",
              "      <td>...</td>\n",
              "      <td>1730.000000</td>\n",
              "      <td>11629.500000</td>\n",
              "      <td>6.666667</td>\n",
              "      <td>7.000000</td>\n",
              "      <td>16.666667</td>\n",
              "      <td>29.000000</td>\n",
              "      <td>407.500000</td>\n",
              "      <td>1452.500000</td>\n",
              "      <td>2112.500000</td>\n",
              "      <td>6418.500000</td>\n",
              "    </tr>\n",
              "  </tbody>\n",
              "</table>\n",
              "<p>10 rows × 163 columns</p>\n",
              "</div>"
            ],
            "text/plain": [
              "          FIPS  FOODINSEC_10_12  FOODINSEC_13_15  CH_FOODINSEC_12_15  \\\n",
              "State                                                                  \n",
              "AL      1065.0             17.9             17.6                -0.3   \n",
              "AK      2164.0             12.1             13.3                 1.2   \n",
              "AZ      4013.0             19.7             19.2                -0.5   \n",
              "AR      5074.0             14.9             14.9                 0.0   \n",
              "CA      6058.0             15.6             12.6                -3.0   \n",
              "CO      8063.0             14.1             12.1                -2.0   \n",
              "CT      9008.0             13.4             13.1                -0.3   \n",
              "DE     10003.0             12.0             13.2                 1.2   \n",
              "FL     12070.0             14.8             12.7                -2.1   \n",
              "GA     13145.0             16.9             14.9                -2.0   \n",
              "\n",
              "       VLFOODSEC_10_12  VLFOODSEC_13_15  CH_VLFOODSEC_12_15  \\\n",
              "State                                                         \n",
              "AL                 6.8              7.3                 0.5   \n",
              "AK                 4.4              4.4                 0.0   \n",
              "AZ                 8.1              7.4                -0.7   \n",
              "AR                 6.4              6.0                -0.4   \n",
              "CA                 5.7              4.5                -1.2   \n",
              "CO                 5.8              5.1                -0.7   \n",
              "CT                 4.9              6.3                 1.4   \n",
              "DE                 4.5              4.8                 0.3   \n",
              "FL                 5.7              5.4                -0.3   \n",
              "GA                 6.5              5.6                -0.9   \n",
              "\n",
              "       FOODINSEC_CHILD_01_07  FOODINSEC_CHILD_03_11  PCT_DIABETES_ADULTS08  \\\n",
              "State                                                                        \n",
              "AL                       8.5                    9.3                  12.90   \n",
              "AK                       7.4                    8.0                   6.30   \n",
              "AZ                       9.7                   10.9                   8.40   \n",
              "AR                      11.2                   11.5                  11.25   \n",
              "CA                      10.4                   10.8                   7.60   \n",
              "CO                       8.0                    8.8                   5.60   \n",
              "CT                       6.8                    8.0                   7.65   \n",
              "DE                       6.3                    7.0                  11.20   \n",
              "FL                       9.3                    9.4                  10.35   \n",
              "GA                       9.2                   10.5                  11.80   \n",
              "\n",
              "           ...            N10300        A10300      N85530      A85530  \\\n",
              "State      ...                                                           \n",
              "AL         ...       1597.500000  10589.909091    7.272727    8.857143   \n",
              "AK         ...        573.333333   4817.333333    2.000000    1.200000   \n",
              "AZ         ...       2059.047619  17244.800000   17.500000   22.450000   \n",
              "AR         ...        859.000000   5190.285714    0.000000    0.000000   \n",
              "CA         ...       4080.357143  41065.384967   55.339367   77.642745   \n",
              "CO         ...        982.500000   9308.666667    0.000000    0.000000   \n",
              "CT         ...       3350.076923  46786.690705  127.676282  197.041667   \n",
              "DE         ...       3747.000000  40099.950000   62.500000  114.650000   \n",
              "FL         ...       4375.454545  41834.431818   45.829493   75.908986   \n",
              "GA         ...       1730.000000  11629.500000    6.666667    7.000000   \n",
              "\n",
              "           N85300      A85300       N11901       A11901       N11902  \\\n",
              "State                                                                  \n",
              "AL      11.666667   21.750000   328.750000  1195.000000  1780.000000   \n",
              "AK       0.000000    0.000000   132.500000   596.000000   540.000000   \n",
              "AZ      26.500000   67.176471   562.857143  2309.809524  2132.857143   \n",
              "AR       5.166667    9.013889   198.000000   731.466667   989.326923   \n",
              "CA      70.491667  256.336508  1219.579832  5559.573016  4140.640394   \n",
              "CO      10.000000   34.500000   306.000000  1400.714286  1040.000000   \n",
              "CT     115.641026  267.861111   791.153846  3821.618590  3210.217949   \n",
              "DE      92.500000  230.300000  1047.000000  4665.000000  3958.888889   \n",
              "FL      73.352535  199.451299  1043.068182  4520.209091  4839.015152   \n",
              "GA      16.666667   29.000000   407.500000  1452.500000  2112.500000   \n",
              "\n",
              "             A11902  \n",
              "State                \n",
              "AL      5170.875000  \n",
              "AK      1231.571429  \n",
              "AZ      5534.904762  \n",
              "AR      2800.402778  \n",
              "CA     11748.105042  \n",
              "CO      2628.500000  \n",
              "CT      8997.389744  \n",
              "DE     10472.222222  \n",
              "FL     14751.766234  \n",
              "GA      6418.500000  \n",
              "\n",
              "[10 rows x 163 columns]"
            ]
          },
          "metadata": {
            "tags": []
          },
          "execution_count": 5
        }
      ]
    },
    {
      "metadata": {
        "id": "EuLc6qP0qIfd",
        "colab_type": "code",
        "colab": {}
      },
      "cell_type": "code",
      "source": [
        "import matplotlib.pyplot as plt\n",
        "from matplotlib import rc\n",
        "import matplotlib.patches as mpatches"
      ],
      "execution_count": 0,
      "outputs": []
    },
    {
      "metadata": {
        "id": "yIdGHmvdqpIm",
        "colab_type": "code",
        "colab": {}
      },
      "cell_type": "code",
      "source": [
        "x=insecurity_df.A02650\n",
        "y=insecurity_df.PCT_DIABETES_ADULTS13\n",
        "z=insecurity_df.FOODINSEC_13_15\n",
        "s=insecurity_df.PCT_OBESE_ADULTS13"
      ],
      "execution_count": 0,
      "outputs": []
    },
    {
      "metadata": {
        "id": "5HTCmPghr6Wn",
        "colab_type": "code",
        "outputId": "c7837b51-b0ef-41e5-b03e-ec13e681a581",
        "colab": {
          "base_uri": "https://localhost:8080/",
          "height": 393
        }
      },
      "cell_type": "code",
      "source": [
        "fig, ax = plt.subplots()\n",
        "im=ax.scatter(x,y,c=z,s=(insecurity_df.PCT_OBESE_ADULTS13)**1.8,cmap=plt.cm.jet)\n",
        "plt.xlabel('total income in $ 2016', fontweight='bold')\n",
        "plt.ylabel('% of population with diabetes 2013 ', fontweight='bold')\n",
        "\n",
        "cbar=fig.colorbar(im, ax=ax)\n",
        "cbar.set_label('Averaged Household food insecurity (%, three-year average), 2013-15', fontweight='bold')\n",
        "for i, txt in enumerate(insecurity_df.index.values):\n",
        "    ax.annotate(txt, (x[i], y[i]))"
      ],
      "execution_count": 8,
      "outputs": [
        {
          "output_type": "display_data",
          "data": {
            "image/png": "[encoded data removed]",
            "text/plain": [
              "<matplotlib.figure.Figure at 0x7f4ddc7a6f98>"
            ]
          },
          "metadata": {
            "tags": []
          }
        }
      ]
    },
    {
      "metadata": {
        "id": "ZSHS3IPsyFkw",
        "colab_type": "code",
        "outputId": "3498a74f-7c0f-45dc-c0ef-9de7f4a7f742",
        "colab": {
          "base_uri": "https://localhost:8080/",
          "height": 89
        }
      },
      "cell_type": "code",
      "source": [
        "from scipy.stats import linregress\n",
        "print(linregress(insecurity_df.A02650.values, insecurity_df.FOODINSEC_13_15.values))\n",
        "print(linregress(insecurity_df.PCT_OBESE_ADULTS13.values, insecurity_df.FOODINSEC_13_15.values))\n",
        "print(linregress(insecurity_df.PCT_DIABETES_ADULTS13.values, insecurity_df.FOODINSEC_13_15.values))"
      ],
      "execution_count": 9,
      "outputs": [
        {
          "output_type": "stream",
          "text": [
            "LinregressResult(slope=-4.238232178250307e-06, intercept=14.166398560783039, rvalue=-0.1932494929469461, pvalue=0.17874383716427936, stderr=3.1058538493090755e-06)\n",
            "LinregressResult(slope=0.30586518787426176, intercept=4.426231466171851, rvalue=0.44678609335870656, pvalue=0.0011436209192777968, stderr=0.08840126753870031)\n",
            "LinregressResult(slope=0.5471965183588962, intercept=7.706203785862174, rvalue=0.417885943374823, pvalue=0.0025306112660798095, stderr=0.17170764653596582)\n"
          ],
          "name": "stdout"
        }
      ]
    },
    {
      "metadata": {
        "id": "u9RBVlLOVot5",
        "colab_type": "code",
        "colab": {
          "base_uri": "https://localhost:8080/",
          "height": 89
        },
        "outputId": "8fffa07a-3178-4ef1-eb23-532ce5fde9c7"
      },
      "cell_type": "code",
      "source": [
        "print(linregress(insecurity_df.A02650.values, insecurity_df.FOODINSEC_CHILD_03_11.values))\n",
        "print(linregress(insecurity_df.PCT_OBESE_ADULTS13.values, insecurity_df.FOODINSEC_CHILD_03_11.values))\n",
        "print(linregress(insecurity_df.PCT_DIABETES_ADULTS13.values, insecurity_df.FOODINSEC_CHILD_03_11.values))"
      ],
      "execution_count": 10,
      "outputs": [
        {
          "output_type": "stream",
          "text": [
            "LinregressResult(slope=-1.1524253121138905e-06, intercept=9.068904860678805, rvalue=-0.08384501694177439, pvalue=0.5626571909262851, stderr=1.976892163399831e-06)\n",
            "LinregressResult(slope=0.03766229516581278, intercept=7.782616856506559, rvalue=0.08778235516921225, pvalue=0.5443903488727766, stderr=0.06168778472421872)\n",
            "LinregressResult(slope=0.22681270082715127, intercept=6.474485218518048, rvalue=0.27638384670666366, pvalue=0.052024644857421906, stderr=0.1138358017251869)\n"
          ],
          "name": "stdout"
        }
      ]
    },
    {
      "metadata": {
        "id": "8Not_VIEwImW",
        "colab_type": "code",
        "colab": {}
      },
      "cell_type": "code",
      "source": [
        "x=insecurity_df.A02650\n",
        "y=insecurity_df.PCT_DIABETES_ADULTS13\n",
        "z=insecurity_df.FOODINSEC_CHILD_03_11\n",
        "s=insecurity_df.PCT_OBESE_ADULTS13"
      ],
      "execution_count": 0,
      "outputs": []
    },
    {
      "metadata": {
        "id": "uPzMWCVfwMZV",
        "colab_type": "code",
        "colab": {}
      },
      "cell_type": "code",
      "source": [
        "fig, ax = plt.subplots()\n",
        "im=ax.scatter(x,y,c=z,s=(insecurity_df.PCT_OBESE_ADULTS13)**1.8,cmap=plt.cm.jet)\n",
        "plt.xlabel('total income in $ 2016', fontweight='bold')\n",
        "plt.ylabel('% of population with diabetes 2013 ', fontweight='bold')\n",
        "\n",
        "cbar=fig.colorbar(im, ax=ax)\n",
        "cbar.set_label('averaged Child food insecurity 2003-11', fontweight='bold')\n",
        "for i, txt in enumerate(insecurity_df.index.values):\n",
        "    ax.annotate(txt, (x[i], y[i]))"
      ],
      "execution_count": 0,
      "outputs": []
    },
    {
      "metadata": {
        "id": "WW29SLRoz_iV",
        "colab_type": "code",
        "colab": {}
      },
      "cell_type": "code",
      "source": [
        "subset_data=insecurity_df.ix[['MS','AR','AL','SC','KY','LA','CT','NJ','MD','AK','MA','RI']]\n",
        "#subset_data=state_social_df\n",
        "subset_data"
      ],
      "execution_count": 0,
      "outputs": []
    },
    {
      "metadata": {
        "id": "qamFzfkL0Kvt",
        "colab_type": "code",
        "colab": {}
      },
      "cell_type": "code",
      "source": [
        "height =subset_data.FOODINSEC_13_15.values\n",
        "bars = ('MS','AR','AL','SC','KY','LA','CT','NJ','MD','AK','MA','RI')\n",
        "y_pos = np.arange(len(bars))\n",
        "\n",
        "barlist=plt.bar(y_pos, height)\n",
        "plt.xticks(y_pos, bars)\n",
        "#plt.xticks(y_pos, bars, color=(0.4,0.4,0.4,0.4,0.4,0.4,0.6,0.6,0.6,0.6,0.6,0.6))\n",
        "plt.xlabel(\"States\")\n",
        "plt.ylabel(\"Household food insecurity (%, three-year average), 2013-15*\")\n",
        "for iter in range(12):\n",
        "  if iter < 6:\n",
        "    barlist[iter].set_color('r')\n",
        "  else:\n",
        "    barlist[iter].set_color('b')"
      ],
      "execution_count": 0,
      "outputs": []
    }
  ]
}