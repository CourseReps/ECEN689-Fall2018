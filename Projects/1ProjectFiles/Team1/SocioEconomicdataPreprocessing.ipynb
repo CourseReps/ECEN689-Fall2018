{
  "nbformat": 4,
  "nbformat_minor": 0,
  "metadata": {
    "colab": {
      "name": "SocioEconomicdataPreprocessing.ipynb",
      "version": "0.3.2",
      "provenance": []
    },
    "kernelspec": {
      "name": "python3",
      "display_name": "Python 3"
    }
  },
  "cells": [
    {
      "metadata": {
        "id": "ivLmtCLAi0JL",
        "colab_type": "text"
      },
      "cell_type": "markdown",
      "source": [
        "**Integrate socioeconomic data with health and irs data .**"
      ]
    },
    {
      "metadata": {
        "id": "1Z4VzNYRkNy1",
        "colab_type": "text"
      },
      "cell_type": "markdown",
      "source": [
        "**First start by integrating the health-wealth data with socio economic data.**"
      ]
    },
    {
      "metadata": {
        "id": "P0auCziyjFXr",
        "colab_type": "code",
        "colab": {}
      },
      "cell_type": "code",
      "source": [
        "import pandas as pd\n",
        "from google.colab import files \n",
        "import numpy as np"
      ],
      "execution_count": 0,
      "outputs": []
    },
    {
      "metadata": {
        "id": "vGU4t0ivlzAe",
        "colab_type": "code",
        "colab": {}
      },
      "cell_type": "code",
      "source": [
        "uploaded_socio = files.upload()\n"
      ],
      "execution_count": 0,
      "outputs": []
    },
    {
      "metadata": {
        "id": "x1xIXQYfl6K2",
        "colab_type": "code",
        "colab": {}
      },
      "cell_type": "code",
      "source": [
        "uploaded_healthirs = files.upload()\n"
      ],
      "execution_count": 0,
      "outputs": []
    },
    {
      "metadata": {
        "id": "-Z7MUlOAmIj4",
        "colab_type": "code",
        "colab": {}
      },
      "cell_type": "code",
      "source": [
        "for fn1 in uploaded_socio.keys():\n",
        "  print('User uploaded file \"{name}\" with length {length} bytes'.format(\n",
        "      name=fn1, length=len(uploaded_socio[fn1])))\n",
        "  \n",
        "for fn2 in uploaded_healthirs.keys():\n",
        "  print('User uploaded file \"{name}\" with length {length} bytes'.format(\n",
        "      name=fn2, length=len(uploaded_healthirs[fn2])))"
      ],
      "execution_count": 0,
      "outputs": []
    },
    {
      "metadata": {
        "id": "IKqPMv4rmWtP",
        "colab_type": "code",
        "colab": {}
      },
      "cell_type": "code",
      "source": [
        "import io \n",
        "socio_df = pd.read_csv(io.StringIO(uploaded_socio['socioecon.csv'].decode('cp1252')))\n",
        "healthirs_df = pd.read_csv(io.StringIO(uploaded_healthirs['Health_IRS.csv'].decode('cp1252')),index_col=0)\n"
      ],
      "execution_count": 0,
      "outputs": []
    },
    {
      "metadata": {
        "id": "VnZM4dF4m12f",
        "colab_type": "code",
        "colab": {}
      },
      "cell_type": "code",
      "source": [
        "#socio_df=socio_df.drop(['State','County'],axis=1)\n",
        "socio_df=socio_df.drop(['County'],axis=1)\n",
        "socio_df.head(3)"
      ],
      "execution_count": 0,
      "outputs": []
    },
    {
      "metadata": {
        "id": "cOTeHlOcnCG3",
        "colab_type": "code",
        "colab": {}
      },
      "cell_type": "code",
      "source": [
        "socio_df.shape"
      ],
      "execution_count": 0,
      "outputs": []
    },
    {
      "metadata": {
        "id": "e7wWDIUom78P",
        "colab_type": "code",
        "colab": {}
      },
      "cell_type": "code",
      "source": [
        "#healthirs_df=healthirs_df.drop(['State','County'],axis=1)\n",
        "healthirs_df=healthirs_df.drop(['County'],axis=1)\n",
        "healthirs_df.head(3)"
      ],
      "execution_count": 0,
      "outputs": []
    },
    {
      "metadata": {
        "id": "cRsAvWpsnE-v",
        "colab_type": "code",
        "colab": {}
      },
      "cell_type": "code",
      "source": [
        "healthirs_df.shape"
      ],
      "execution_count": 0,
      "outputs": []
    },
    {
      "metadata": {
        "id": "OAgEbHw-tySg",
        "colab_type": "code",
        "colab": {}
      },
      "cell_type": "code",
      "source": [
        "data_socio_irs=pd.merge(socio_df, healthirs_df, on='FIPS')\n",
        "#data_socio_irs=data_socio_irs.drop([],axis=1)\n",
        "data_socio_irs=data_socio_irs.rename(index=str, columns={\"State_x\": \"State\"})\n",
        "data_socio_irs.head(100)\n"
      ],
      "execution_count": 0,
      "outputs": []
    },
    {
      "metadata": {
        "id": "8BofF5fl2HYR",
        "colab_type": "code",
        "colab": {}
      },
      "cell_type": "code",
      "source": [
        "data_socio_irs.shape"
      ],
      "execution_count": 0,
      "outputs": []
    },
    {
      "metadata": {
        "id": "S71PFPT93x5h",
        "colab_type": "text"
      },
      "cell_type": "markdown",
      "source": [
        "**Socioeconomic data is now ready**"
      ]
    },
    {
      "metadata": {
        "id": "xN2XO0qV2SRJ",
        "colab_type": "code",
        "colab": {}
      },
      "cell_type": "code",
      "source": [
        "data_socio_irs.to_csv(\"socioecondata.csv\")"
      ],
      "execution_count": 0,
      "outputs": []
    },
    {
      "metadata": {
        "id": "GFONoUL52yey",
        "colab_type": "code",
        "colab": {}
      },
      "cell_type": "code",
      "source": [
        "files.download('socioecondata.csv')"
      ],
      "execution_count": 0,
      "outputs": []
    }
  ]
}