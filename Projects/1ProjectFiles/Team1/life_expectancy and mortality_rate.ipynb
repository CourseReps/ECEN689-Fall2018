{
 "cells": [
  {
   "cell_type": "code",
   "execution_count": 1,
   "metadata": {},
   "outputs": [
    {
     "data": {
      "text/html": [
       "<script>requirejs.config({paths: { 'plotly': ['https://cdn.plot.ly/plotly-latest.min']},});if(!window.Plotly) {{require(['plotly'],function(plotly) {window.Plotly=plotly;});}}</script>"
      ],
      "text/vnd.plotly.v1+html": [
       "<script>requirejs.config({paths: { 'plotly': ['https://cdn.plot.ly/plotly-latest.min']},});if(!window.Plotly) {{require(['plotly'],function(plotly) {window.Plotly=plotly;});}}</script>"
      ]
     },
     "metadata": {},
     "output_type": "display_data"
    }
   ],
   "source": [
    "# for data manipulation\n",
    "import pandas as pd\n",
    "import numpy as np\n",
    "\n",
    "# for plotting/visualising the distibution of data\n",
    "import matplotlib.pyplot as plt \n",
    "import seaborn as sns\n",
    "import plotly.graph_objs as go\n",
    "import plotly.offline as py\n",
    "py.init_notebook_mode(connected=True)\n",
    "from plotly import tools\n",
    "\n",
    "import random\n",
    "import re\n",
    "\n",
    "# for pre-processing of the data\n",
    "from sklearn.preprocessing import LabelEncoder, OneHotEncoder\n",
    "\n",
    "import warnings\n",
    "from sklearn.linear_model import LinearRegression\n",
    "import patsy"
   ]
  },
  {
   "cell_type": "markdown",
   "metadata": {},
   "source": [
    "## Importing the IRS, Access and Restaurants(from food atlas), life expectancy and mortality rate datasets for analysis"
   ]
  },
  {
   "cell_type": "code",
   "execution_count": 2,
   "metadata": {},
   "outputs": [],
   "source": [
    "health_irs = pd.read_csv(\"health_irs.csv\")\n",
    "access = pd.read_csv(\"access.csv\")\n",
    "life = pd.read_csv('life_exp.csv')\n",
    "mort = pd.read_csv('mort_rate.csv')\n",
    "rest = pd.read_csv('restaran.csv')"
   ]
  },
  {
   "cell_type": "markdown",
   "metadata": {},
   "source": [
    "## Extracting out the required features for analysis from raw data"
   ]
  },
  {
   "cell_type": "code",
   "execution_count": 3,
   "metadata": {},
   "outputs": [],
   "source": [
    "# features from HEALTH_IRS dataset \n",
    "df1 = pd.DataFrame()\n",
    "df1['FIPS'] = health_irs['FIPS']\n",
    "df1['Income'] = health_irs['A02650']\n",
    "df1['health_pay'] = health_irs['A09750']\n",
    "df1['diab'] = ((health_irs['PCT_DIABETES_ADULTS13'] + health_irs['PCT_DIABETES_ADULTS08']) / 2)\n",
    "df1['obes'] = ((health_irs['PCT_OBESE_ADULTS13'] + health_irs['PCT_OBESE_ADULTS08']) / 2)\n",
    "\n",
    "# features from Access dataset\n",
    "df2 = pd.DataFrame()\n",
    "df2['FIPS'] = access['FIPS']\n",
    "df2['la'] = ((access['PCT_LACCESS_POP10'] + access['PCT_LACCESS_POP15']) / 2)\n",
    "df2['pchla'] = access['PCH_LACCESS_POP_10_15']\n",
    "df2['hncla'] = ((access['PCT_LACCESS_HHNV10'] + access['PCT_LACCESS_HHNV15']) / 2)\n",
    "\n",
    "# features from restaurant dataset\n",
    "df3 = pd.DataFrame()\n",
    "df3['FIPS'] = rest['FIPS']\n",
    "df3['exp_ff'] = (rest['PC_FFRSALES07'] + rest['PC_FFRSALES12']) / 2\n",
    "df3['exp_rest'] = (rest['PC_FSRSALES07'] + rest['PC_FSRSALES12']) / 2\n",
    "df3['state'] = rest['State']\n",
    "\n",
    "# merging the diffferent dataframes\n",
    "dft = df2.merge(df1, on = 'FIPS')\n",
    "df = pd.merge(dft, df3, on='FIPS')\n",
    "df.shape\n",
    "df.drop('FIPS', axis=1, inplace=True)\n",
    "dfg = df.groupby(['state'], sort=False).mean()"
   ]
  },
  {
   "cell_type": "code",
   "execution_count": 4,
   "metadata": {},
   "outputs": [
    {
     "data": {
      "text/html": [
       "<div>\n",
       "<style scoped>\n",
       "    .dataframe tbody tr th:only-of-type {\n",
       "        vertical-align: middle;\n",
       "    }\n",
       "\n",
       "    .dataframe tbody tr th {\n",
       "        vertical-align: top;\n",
       "    }\n",
       "\n",
       "    .dataframe thead th {\n",
       "        text-align: right;\n",
       "    }\n",
       "</style>\n",
       "<table border=\"1\" class=\"dataframe\">\n",
       "  <thead>\n",
       "    <tr style=\"text-align: right;\">\n",
       "      <th></th>\n",
       "      <th>gnd</th>\n",
       "      <th>pctile</th>\n",
       "      <th>age_at_d</th>\n",
       "      <th>yod</th>\n",
       "      <th>lag</th>\n",
       "      <th>mortrate</th>\n",
       "      <th>hh_inc</th>\n",
       "      <th>deaths</th>\n",
       "      <th>count</th>\n",
       "    </tr>\n",
       "  </thead>\n",
       "  <tbody>\n",
       "    <tr>\n",
       "      <th>0</th>\n",
       "      <td>F</td>\n",
       "      <td>1</td>\n",
       "      <td>40</td>\n",
       "      <td>2001</td>\n",
       "      <td>2</td>\n",
       "      <td>0.004409</td>\n",
       "      <td>364.823006</td>\n",
       "      <td>95</td>\n",
       "      <td>21545</td>\n",
       "    </tr>\n",
       "    <tr>\n",
       "      <th>1</th>\n",
       "      <td>F</td>\n",
       "      <td>1</td>\n",
       "      <td>40</td>\n",
       "      <td>2002</td>\n",
       "      <td>2</td>\n",
       "      <td>0.005786</td>\n",
       "      <td>383.668744</td>\n",
       "      <td>124</td>\n",
       "      <td>21431</td>\n",
       "    </tr>\n",
       "    <tr>\n",
       "      <th>2</th>\n",
       "      <td>F</td>\n",
       "      <td>1</td>\n",
       "      <td>40</td>\n",
       "      <td>2003</td>\n",
       "      <td>2</td>\n",
       "      <td>0.005046</td>\n",
       "      <td>374.732925</td>\n",
       "      <td>107</td>\n",
       "      <td>21203</td>\n",
       "    </tr>\n",
       "    <tr>\n",
       "      <th>3</th>\n",
       "      <td>F</td>\n",
       "      <td>1</td>\n",
       "      <td>40</td>\n",
       "      <td>2004</td>\n",
       "      <td>2</td>\n",
       "      <td>0.004787</td>\n",
       "      <td>370.528819</td>\n",
       "      <td>100</td>\n",
       "      <td>20890</td>\n",
       "    </tr>\n",
       "    <tr>\n",
       "      <th>4</th>\n",
       "      <td>F</td>\n",
       "      <td>1</td>\n",
       "      <td>40</td>\n",
       "      <td>2005</td>\n",
       "      <td>2</td>\n",
       "      <td>0.004725</td>\n",
       "      <td>356.143865</td>\n",
       "      <td>93</td>\n",
       "      <td>19684</td>\n",
       "    </tr>\n",
       "  </tbody>\n",
       "</table>\n",
       "</div>"
      ],
      "text/plain": [
       "  gnd  pctile  age_at_d   yod  lag  mortrate      hh_inc  deaths  count\n",
       "0   F       1        40  2001    2  0.004409  364.823006      95  21545\n",
       "1   F       1        40  2002    2  0.005786  383.668744     124  21431\n",
       "2   F       1        40  2003    2  0.005046  374.732925     107  21203\n",
       "3   F       1        40  2004    2  0.004787  370.528819     100  20890\n",
       "4   F       1        40  2005    2  0.004725  356.143865      93  19684"
      ]
     },
     "execution_count": 4,
     "metadata": {},
     "output_type": "execute_result"
    }
   ],
   "source": [
    "mort.head()"
   ]
  },
  {
   "cell_type": "code",
   "execution_count": 5,
   "metadata": {},
   "outputs": [
    {
     "name": "stdout",
     "output_type": "stream",
     "text": [
      "(3018, 5)\n",
      "(3143, 4)\n",
      "(3143, 4)\n"
     ]
    }
   ],
   "source": [
    "print(df1.shape)\n",
    "print(df2.shape)\n",
    "print(df3.shape)"
   ]
  },
  {
   "cell_type": "code",
   "execution_count": 6,
   "metadata": {},
   "outputs": [
    {
     "data": {
      "text/html": [
       "<div>\n",
       "<style scoped>\n",
       "    .dataframe tbody tr th:only-of-type {\n",
       "        vertical-align: middle;\n",
       "    }\n",
       "\n",
       "    .dataframe tbody tr th {\n",
       "        vertical-align: top;\n",
       "    }\n",
       "\n",
       "    .dataframe thead th {\n",
       "        text-align: right;\n",
       "    }\n",
       "</style>\n",
       "<table border=\"1\" class=\"dataframe\">\n",
       "  <thead>\n",
       "    <tr style=\"text-align: right;\">\n",
       "      <th></th>\n",
       "      <th>la</th>\n",
       "      <th>pchla</th>\n",
       "      <th>hncla</th>\n",
       "      <th>Income</th>\n",
       "      <th>health_pay</th>\n",
       "      <th>diab</th>\n",
       "      <th>obes</th>\n",
       "      <th>exp_ff</th>\n",
       "      <th>exp_rest</th>\n",
       "      <th>state</th>\n",
       "    </tr>\n",
       "  </thead>\n",
       "  <tbody>\n",
       "    <tr>\n",
       "      <th>0</th>\n",
       "      <td>32.915956</td>\n",
       "      <td>-5.056026</td>\n",
       "      <td>3.318059</td>\n",
       "      <td>183214.0000</td>\n",
       "      <td>52.000000</td>\n",
       "      <td>12.20</td>\n",
       "      <td>32.80</td>\n",
       "      <td>662.157044</td>\n",
       "      <td>498.331247</td>\n",
       "      <td>AL</td>\n",
       "    </tr>\n",
       "    <tr>\n",
       "      <th>1</th>\n",
       "      <td>18.042981</td>\n",
       "      <td>-13.204891</td>\n",
       "      <td>2.026471</td>\n",
       "      <td>267456.4783</td>\n",
       "      <td>80.652174</td>\n",
       "      <td>10.10</td>\n",
       "      <td>26.80</td>\n",
       "      <td>662.157044</td>\n",
       "      <td>498.331247</td>\n",
       "      <td>AL</td>\n",
       "    </tr>\n",
       "    <tr>\n",
       "      <th>2</th>\n",
       "      <td>21.473266</td>\n",
       "      <td>6.067799</td>\n",
       "      <td>4.232624</td>\n",
       "      <td>54174.1250</td>\n",
       "      <td>15.500000</td>\n",
       "      <td>16.00</td>\n",
       "      <td>41.00</td>\n",
       "      <td>662.157044</td>\n",
       "      <td>498.331247</td>\n",
       "      <td>AL</td>\n",
       "    </tr>\n",
       "    <tr>\n",
       "      <th>3</th>\n",
       "      <td>4.395039</td>\n",
       "      <td>-7.224696</td>\n",
       "      <td>3.140004</td>\n",
       "      <td>107697.7273</td>\n",
       "      <td>34.909091</td>\n",
       "      <td>12.95</td>\n",
       "      <td>36.30</td>\n",
       "      <td>662.157044</td>\n",
       "      <td>498.331247</td>\n",
       "      <td>AL</td>\n",
       "    </tr>\n",
       "    <tr>\n",
       "      <th>4</th>\n",
       "      <td>4.599110</td>\n",
       "      <td>140.568857</td>\n",
       "      <td>3.302897</td>\n",
       "      <td>204151.8750</td>\n",
       "      <td>71.687500</td>\n",
       "      <td>12.75</td>\n",
       "      <td>33.25</td>\n",
       "      <td>662.157044</td>\n",
       "      <td>498.331247</td>\n",
       "      <td>AL</td>\n",
       "    </tr>\n",
       "  </tbody>\n",
       "</table>\n",
       "</div>"
      ],
      "text/plain": [
       "          la       pchla     hncla       Income  health_pay   diab   obes  \\\n",
       "0  32.915956   -5.056026  3.318059  183214.0000   52.000000  12.20  32.80   \n",
       "1  18.042981  -13.204891  2.026471  267456.4783   80.652174  10.10  26.80   \n",
       "2  21.473266    6.067799  4.232624   54174.1250   15.500000  16.00  41.00   \n",
       "3   4.395039   -7.224696  3.140004  107697.7273   34.909091  12.95  36.30   \n",
       "4   4.599110  140.568857  3.302897  204151.8750   71.687500  12.75  33.25   \n",
       "\n",
       "       exp_ff    exp_rest state  \n",
       "0  662.157044  498.331247    AL  \n",
       "1  662.157044  498.331247    AL  \n",
       "2  662.157044  498.331247    AL  \n",
       "3  662.157044  498.331247    AL  \n",
       "4  662.157044  498.331247    AL  "
      ]
     },
     "execution_count": 6,
     "metadata": {},
     "output_type": "execute_result"
    }
   ],
   "source": [
    "df.head()"
   ]
  },
  {
   "cell_type": "code",
   "execution_count": 7,
   "metadata": {},
   "outputs": [
    {
     "data": {
      "text/plain": [
       "array(['AL', 'AK', 'AZ', 'AR', 'CA', 'CO', 'CT', 'DE', 'DC', 'FL', 'GA',\n",
       "       'HI', 'ID', 'IL', 'IN', 'IA', 'KS', 'KY', 'LA', 'ME', 'MD', 'MA',\n",
       "       'MI', 'MN', 'MS', 'MO', 'MT', 'NE', 'NV', 'NH', 'NJ', 'NM', 'NY',\n",
       "       'NC', 'ND', 'OH', 'OK', 'OR', 'PA', 'RI', 'SC', 'SD', 'TN', 'TX',\n",
       "       'UT', 'VT', 'VA', 'WA', 'WV', 'WI', 'WY'], dtype=object)"
      ]
     },
     "execution_count": 7,
     "metadata": {},
     "output_type": "execute_result"
    }
   ],
   "source": [
    "df3['state'].unique()"
   ]
  },
  {
   "cell_type": "code",
   "execution_count": 8,
   "metadata": {},
   "outputs": [
    {
     "data": {
      "text/plain": [
       "(3018, 10)"
      ]
     },
     "execution_count": 8,
     "metadata": {},
     "output_type": "execute_result"
    }
   ],
   "source": [
    "df.shape"
   ]
  },
  {
   "cell_type": "code",
   "execution_count": 9,
   "metadata": {},
   "outputs": [
    {
     "data": {
      "text/html": [
       "<div>\n",
       "<style scoped>\n",
       "    .dataframe tbody tr th:only-of-type {\n",
       "        vertical-align: middle;\n",
       "    }\n",
       "\n",
       "    .dataframe tbody tr th {\n",
       "        vertical-align: top;\n",
       "    }\n",
       "\n",
       "    .dataframe thead th {\n",
       "        text-align: right;\n",
       "    }\n",
       "</style>\n",
       "<table border=\"1\" class=\"dataframe\">\n",
       "  <thead>\n",
       "    <tr style=\"text-align: right;\">\n",
       "      <th></th>\n",
       "      <th>gnd</th>\n",
       "      <th>pctile</th>\n",
       "      <th>year</th>\n",
       "      <th>count</th>\n",
       "      <th>hh_inc</th>\n",
       "      <th>le_agg</th>\n",
       "      <th>le_raceadj</th>\n",
       "      <th>sd_le_agg</th>\n",
       "      <th>sd_le_raceadj</th>\n",
       "    </tr>\n",
       "  </thead>\n",
       "  <tbody>\n",
       "    <tr>\n",
       "      <th>0</th>\n",
       "      <td>F</td>\n",
       "      <td>1</td>\n",
       "      <td>2001</td>\n",
       "      <td>398740</td>\n",
       "      <td>499.10938</td>\n",
       "      <td>79.682068</td>\n",
       "      <td>79.893463</td>\n",
       "      <td>0.392838</td>\n",
       "      <td>0.385240</td>\n",
       "    </tr>\n",
       "    <tr>\n",
       "      <th>1</th>\n",
       "      <td>F</td>\n",
       "      <td>1</td>\n",
       "      <td>2002</td>\n",
       "      <td>411159</td>\n",
       "      <td>541.30695</td>\n",
       "      <td>79.183594</td>\n",
       "      <td>79.410622</td>\n",
       "      <td>0.353981</td>\n",
       "      <td>0.346817</td>\n",
       "    </tr>\n",
       "    <tr>\n",
       "      <th>2</th>\n",
       "      <td>F</td>\n",
       "      <td>1</td>\n",
       "      <td>2003</td>\n",
       "      <td>420298</td>\n",
       "      <td>529.13910</td>\n",
       "      <td>79.364410</td>\n",
       "      <td>79.572174</td>\n",
       "      <td>0.364780</td>\n",
       "      <td>0.359097</td>\n",
       "    </tr>\n",
       "    <tr>\n",
       "      <th>3</th>\n",
       "      <td>F</td>\n",
       "      <td>1</td>\n",
       "      <td>2004</td>\n",
       "      <td>427728</td>\n",
       "      <td>499.29950</td>\n",
       "      <td>79.898407</td>\n",
       "      <td>80.092476</td>\n",
       "      <td>0.352018</td>\n",
       "      <td>0.347992</td>\n",
       "    </tr>\n",
       "    <tr>\n",
       "      <th>4</th>\n",
       "      <td>F</td>\n",
       "      <td>1</td>\n",
       "      <td>2005</td>\n",
       "      <td>433665</td>\n",
       "      <td>474.14536</td>\n",
       "      <td>80.283600</td>\n",
       "      <td>80.465935</td>\n",
       "      <td>0.334612</td>\n",
       "      <td>0.330986</td>\n",
       "    </tr>\n",
       "  </tbody>\n",
       "</table>\n",
       "</div>"
      ],
      "text/plain": [
       "  gnd  pctile  year   count     hh_inc     le_agg  le_raceadj  sd_le_agg  \\\n",
       "0   F       1  2001  398740  499.10938  79.682068   79.893463   0.392838   \n",
       "1   F       1  2002  411159  541.30695  79.183594   79.410622   0.353981   \n",
       "2   F       1  2003  420298  529.13910  79.364410   79.572174   0.364780   \n",
       "3   F       1  2004  427728  499.29950  79.898407   80.092476   0.352018   \n",
       "4   F       1  2005  433665  474.14536  80.283600   80.465935   0.334612   \n",
       "\n",
       "   sd_le_raceadj  \n",
       "0       0.385240  \n",
       "1       0.346817  \n",
       "2       0.359097  \n",
       "3       0.347992  \n",
       "4       0.330986  "
      ]
     },
     "execution_count": 9,
     "metadata": {},
     "output_type": "execute_result"
    }
   ],
   "source": [
    "life.head()"
   ]
  },
  {
   "cell_type": "code",
   "execution_count": 10,
   "metadata": {},
   "outputs": [
    {
     "name": "stdout",
     "output_type": "stream",
     "text": [
      "(2800, 9)\n",
      "(85400, 9)\n"
     ]
    }
   ],
   "source": [
    "print(life.shape)\n",
    "print(mort.shape)"
   ]
  },
  {
   "cell_type": "code",
   "execution_count": 11,
   "metadata": {},
   "outputs": [
    {
     "data": {
      "text/html": [
       "<div>\n",
       "<style scoped>\n",
       "    .dataframe tbody tr th:only-of-type {\n",
       "        vertical-align: middle;\n",
       "    }\n",
       "\n",
       "    .dataframe tbody tr th {\n",
       "        vertical-align: top;\n",
       "    }\n",
       "\n",
       "    .dataframe thead th {\n",
       "        text-align: right;\n",
       "    }\n",
       "</style>\n",
       "<table border=\"1\" class=\"dataframe\">\n",
       "  <thead>\n",
       "    <tr style=\"text-align: right;\">\n",
       "      <th></th>\n",
       "      <th>pctile</th>\n",
       "      <th>year</th>\n",
       "      <th>count</th>\n",
       "      <th>hh_inc</th>\n",
       "      <th>le_agg</th>\n",
       "      <th>le_raceadj</th>\n",
       "      <th>sd_le_agg</th>\n",
       "      <th>sd_le_raceadj</th>\n",
       "    </tr>\n",
       "  </thead>\n",
       "  <tbody>\n",
       "    <tr>\n",
       "      <th>count</th>\n",
       "      <td>2800.000000</td>\n",
       "      <td>2800.000000</td>\n",
       "      <td>2800.000000</td>\n",
       "      <td>2.800000e+03</td>\n",
       "      <td>2800.000000</td>\n",
       "      <td>2800.000000</td>\n",
       "      <td>2800.000000</td>\n",
       "      <td>2800.000000</td>\n",
       "    </tr>\n",
       "    <tr>\n",
       "      <th>mean</th>\n",
       "      <td>50.500000</td>\n",
       "      <td>2007.500000</td>\n",
       "      <td>433773.845714</td>\n",
       "      <td>9.764774e+04</td>\n",
       "      <td>83.627406</td>\n",
       "      <td>83.672665</td>\n",
       "      <td>0.560205</td>\n",
       "      <td>0.550729</td>\n",
       "    </tr>\n",
       "    <tr>\n",
       "      <th>std</th>\n",
       "      <td>28.871226</td>\n",
       "      <td>4.031849</td>\n",
       "      <td>18872.974468</td>\n",
       "      <td>1.977964e+05</td>\n",
       "      <td>3.657129</td>\n",
       "      <td>3.600353</td>\n",
       "      <td>0.107541</td>\n",
       "      <td>0.106312</td>\n",
       "    </tr>\n",
       "    <tr>\n",
       "      <th>min</th>\n",
       "      <td>1.000000</td>\n",
       "      <td>2001.000000</td>\n",
       "      <td>387717.000000</td>\n",
       "      <td>1.375935e+02</td>\n",
       "      <td>67.862122</td>\n",
       "      <td>68.343384</td>\n",
       "      <td>0.179007</td>\n",
       "      <td>0.185262</td>\n",
       "    </tr>\n",
       "    <tr>\n",
       "      <th>25%</th>\n",
       "      <td>25.750000</td>\n",
       "      <td>2004.000000</td>\n",
       "      <td>421633.000000</td>\n",
       "      <td>3.083662e+04</td>\n",
       "      <td>81.774229</td>\n",
       "      <td>81.858478</td>\n",
       "      <td>0.494333</td>\n",
       "      <td>0.485487</td>\n",
       "    </tr>\n",
       "    <tr>\n",
       "      <th>50%</th>\n",
       "      <td>50.500000</td>\n",
       "      <td>2007.500000</td>\n",
       "      <td>436506.000000</td>\n",
       "      <td>6.119835e+04</td>\n",
       "      <td>84.143944</td>\n",
       "      <td>84.189407</td>\n",
       "      <td>0.560017</td>\n",
       "      <td>0.550386</td>\n",
       "    </tr>\n",
       "    <tr>\n",
       "      <th>75%</th>\n",
       "      <td>75.250000</td>\n",
       "      <td>2011.000000</td>\n",
       "      <td>445446.500000</td>\n",
       "      <td>1.048515e+05</td>\n",
       "      <td>86.313641</td>\n",
       "      <td>86.306168</td>\n",
       "      <td>0.624831</td>\n",
       "      <td>0.614215</td>\n",
       "    </tr>\n",
       "    <tr>\n",
       "      <th>max</th>\n",
       "      <td>100.000000</td>\n",
       "      <td>2014.000000</td>\n",
       "      <td>462127.000000</td>\n",
       "      <td>2.435930e+06</td>\n",
       "      <td>91.120705</td>\n",
       "      <td>91.076477</td>\n",
       "      <td>0.998827</td>\n",
       "      <td>0.974649</td>\n",
       "    </tr>\n",
       "  </tbody>\n",
       "</table>\n",
       "</div>"
      ],
      "text/plain": [
       "            pctile         year          count        hh_inc       le_agg  \\\n",
       "count  2800.000000  2800.000000    2800.000000  2.800000e+03  2800.000000   \n",
       "mean     50.500000  2007.500000  433773.845714  9.764774e+04    83.627406   \n",
       "std      28.871226     4.031849   18872.974468  1.977964e+05     3.657129   \n",
       "min       1.000000  2001.000000  387717.000000  1.375935e+02    67.862122   \n",
       "25%      25.750000  2004.000000  421633.000000  3.083662e+04    81.774229   \n",
       "50%      50.500000  2007.500000  436506.000000  6.119835e+04    84.143944   \n",
       "75%      75.250000  2011.000000  445446.500000  1.048515e+05    86.313641   \n",
       "max     100.000000  2014.000000  462127.000000  2.435930e+06    91.120705   \n",
       "\n",
       "        le_raceadj    sd_le_agg  sd_le_raceadj  \n",
       "count  2800.000000  2800.000000    2800.000000  \n",
       "mean     83.672665     0.560205       0.550729  \n",
       "std       3.600353     0.107541       0.106312  \n",
       "min      68.343384     0.179007       0.185262  \n",
       "25%      81.858478     0.494333       0.485487  \n",
       "50%      84.189407     0.560017       0.550386  \n",
       "75%      86.306168     0.624831       0.614215  \n",
       "max      91.076477     0.998827       0.974649  "
      ]
     },
     "execution_count": 11,
     "metadata": {},
     "output_type": "execute_result"
    }
   ],
   "source": [
    "life.describe()"
   ]
  },
  {
   "cell_type": "code",
   "execution_count": 12,
   "metadata": {},
   "outputs": [
    {
     "data": {
      "image/png": "[encoded data removed]",
      "text/plain": [
       "<Figure size 432x288 with 1 Axes>"
      ]
     },
     "metadata": {},
     "output_type": "display_data"
    }
   ],
   "source": [
    "plt.scatter(life['le_agg'], life['hh_inc'], c='g')\n",
    "plt.xlabel('life_expectancy (years)')\n",
    "plt.ylabel('avg_household_income')\n",
    "plt.show()"
   ]
  },
  {
   "cell_type": "code",
   "execution_count": 13,
   "metadata": {},
   "outputs": [
    {
     "name": "stdout",
     "output_type": "stream",
     "text": [
      "LinregressResult(slope=19025.20527166232, intercept=-1493380.8259447026, rvalue=0.35176392910878, pvalue=2.3777503659974395e-82, stderr=957.1306330401748)\n"
     ]
    }
   ],
   "source": [
    "from scipy.stats import linregress\n",
    "print(linregress(life['le_agg'], life['hh_inc']))"
   ]
  },
  {
   "cell_type": "code",
   "execution_count": 14,
   "metadata": {},
   "outputs": [
    {
     "data": {
      "text/html": [
       "<div>\n",
       "<style scoped>\n",
       "    .dataframe tbody tr th:only-of-type {\n",
       "        vertical-align: middle;\n",
       "    }\n",
       "\n",
       "    .dataframe tbody tr th {\n",
       "        vertical-align: top;\n",
       "    }\n",
       "\n",
       "    .dataframe thead th {\n",
       "        text-align: right;\n",
       "    }\n",
       "</style>\n",
       "<table border=\"1\" class=\"dataframe\">\n",
       "  <thead>\n",
       "    <tr style=\"text-align: right;\">\n",
       "      <th></th>\n",
       "      <th>gnd</th>\n",
       "      <th>pctile</th>\n",
       "      <th>age_at_d</th>\n",
       "      <th>yod</th>\n",
       "      <th>lag</th>\n",
       "      <th>mortrate</th>\n",
       "      <th>hh_inc</th>\n",
       "      <th>deaths</th>\n",
       "      <th>count</th>\n",
       "    </tr>\n",
       "  </thead>\n",
       "  <tbody>\n",
       "    <tr>\n",
       "      <th>0</th>\n",
       "      <td>F</td>\n",
       "      <td>1</td>\n",
       "      <td>40</td>\n",
       "      <td>2001</td>\n",
       "      <td>2</td>\n",
       "      <td>0.004409</td>\n",
       "      <td>364.823006</td>\n",
       "      <td>95</td>\n",
       "      <td>21545</td>\n",
       "    </tr>\n",
       "    <tr>\n",
       "      <th>1</th>\n",
       "      <td>F</td>\n",
       "      <td>1</td>\n",
       "      <td>40</td>\n",
       "      <td>2002</td>\n",
       "      <td>2</td>\n",
       "      <td>0.005786</td>\n",
       "      <td>383.668744</td>\n",
       "      <td>124</td>\n",
       "      <td>21431</td>\n",
       "    </tr>\n",
       "    <tr>\n",
       "      <th>2</th>\n",
       "      <td>F</td>\n",
       "      <td>1</td>\n",
       "      <td>40</td>\n",
       "      <td>2003</td>\n",
       "      <td>2</td>\n",
       "      <td>0.005046</td>\n",
       "      <td>374.732925</td>\n",
       "      <td>107</td>\n",
       "      <td>21203</td>\n",
       "    </tr>\n",
       "    <tr>\n",
       "      <th>3</th>\n",
       "      <td>F</td>\n",
       "      <td>1</td>\n",
       "      <td>40</td>\n",
       "      <td>2004</td>\n",
       "      <td>2</td>\n",
       "      <td>0.004787</td>\n",
       "      <td>370.528819</td>\n",
       "      <td>100</td>\n",
       "      <td>20890</td>\n",
       "    </tr>\n",
       "    <tr>\n",
       "      <th>4</th>\n",
       "      <td>F</td>\n",
       "      <td>1</td>\n",
       "      <td>40</td>\n",
       "      <td>2005</td>\n",
       "      <td>2</td>\n",
       "      <td>0.004725</td>\n",
       "      <td>356.143865</td>\n",
       "      <td>93</td>\n",
       "      <td>19684</td>\n",
       "    </tr>\n",
       "  </tbody>\n",
       "</table>\n",
       "</div>"
      ],
      "text/plain": [
       "  gnd  pctile  age_at_d   yod  lag  mortrate      hh_inc  deaths  count\n",
       "0   F       1        40  2001    2  0.004409  364.823006      95  21545\n",
       "1   F       1        40  2002    2  0.005786  383.668744     124  21431\n",
       "2   F       1        40  2003    2  0.005046  374.732925     107  21203\n",
       "3   F       1        40  2004    2  0.004787  370.528819     100  20890\n",
       "4   F       1        40  2005    2  0.004725  356.143865      93  19684"
      ]
     },
     "execution_count": 14,
     "metadata": {},
     "output_type": "execute_result"
    }
   ],
   "source": [
    "mort.head()"
   ]
  },
  {
   "cell_type": "code",
   "execution_count": 26,
   "metadata": {},
   "outputs": [
    {
     "data": {
      "image/png": "[encoded data removed]",
      "text/plain": [
       "<Figure size 432x288 with 1 Axes>"
      ]
     },
     "metadata": {},
     "output_type": "display_data"
    }
   ],
   "source": [
    "mort['pct_mort'] = mort['mortrate']*100\n",
    "plt.scatter(mort['pct_mort'], mort['hh_inc'], c='b')\n",
    "plt.ylabel('mortality rate')\n",
    "plt.xlabel('avg_household_income')\n",
    "plt.show()"
   ]
  },
  {
   "cell_type": "code",
   "execution_count": 16,
   "metadata": {},
   "outputs": [
    {
     "name": "stdout",
     "output_type": "stream",
     "text": [
      "LinregressResult(slope=-49754.456372051616, intercept=128217.66788277449, rvalue=-0.14719222157380624, pvalue=0.0, stderr=1144.1078058164944)\n"
     ]
    }
   ],
   "source": [
    "from scipy.stats import linregress\n",
    "print(linregress(mort['pct_mort'], mort['hh_inc']))"
   ]
  },
  {
   "cell_type": "code",
   "execution_count": 17,
   "metadata": {},
   "outputs": [
    {
     "name": "stdout",
     "output_type": "stream",
     "text": [
      "-0.14719222157380624\n"
     ]
    }
   ],
   "source": [
    "c = mort['pct_mort'].corr(mort['hh_inc'])\n",
    "print(c)"
   ]
  }
 ],
 "metadata": {
  "kernelspec": {
   "display_name": "Python 3",
   "language": "python",
   "name": "python3"
  },
  "language_info": {
   "codemirror_mode": {
    "name": "ipython",
    "version": 3
   },
   "file_extension": ".py",
   "mimetype": "text/x-python",
   "name": "python",
   "nbconvert_exporter": "python",
   "pygments_lexer": "ipython3",
   "version": "3.6.5"
  }
 },
 "nbformat": 4,
 "nbformat_minor": 2
}
