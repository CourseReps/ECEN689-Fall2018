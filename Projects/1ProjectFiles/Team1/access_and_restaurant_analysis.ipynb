{
 "cells": [
  {
   "cell_type": "code",
   "execution_count": 1,
   "metadata": {},
   "outputs": [
    {
     "data": {
      "text/html": [
       "<script>requirejs.config({paths: { 'plotly': ['https://cdn.plot.ly/plotly-latest.min']},});if(!window.Plotly) {{require(['plotly'],function(plotly) {window.Plotly=plotly;});}}</script>"
      ],
      "text/vnd.plotly.v1+html": [
       "<script>requirejs.config({paths: { 'plotly': ['https://cdn.plot.ly/plotly-latest.min']},});if(!window.Plotly) {{require(['plotly'],function(plotly) {window.Plotly=plotly;});}}</script>"
      ]
     },
     "metadata": {},
     "output_type": "display_data"
    }
   ],
   "source": [
    "# for data manipulation\n",
    "import pandas as pd\n",
    "import numpy as np\n",
    "\n",
    "# for plotting/visualising the distibution of data\n",
    "import matplotlib.pyplot as plt \n",
    "import seaborn as sns\n",
    "import plotly.graph_objs as go\n",
    "import plotly.offline as py\n",
    "py.init_notebook_mode(connected=True)\n",
    "from plotly import tools\n",
    "\n",
    "import random\n",
    "import re\n",
    "\n",
    "# for pre-processing of the data\n",
    "from sklearn.preprocessing import LabelEncoder, OneHotEncoder\n",
    "\n",
    "import warnings\n",
    "from sklearn.linear_model import LinearRegression\n",
    "import patsy"
   ]
  },
  {
   "cell_type": "markdown",
   "metadata": {},
   "source": [
    "## Importing the IRS, Access and Restaurants(from food atlas), life expectancy and mortality rate datasets for analysis"
   ]
  },
  {
   "cell_type": "code",
   "execution_count": 2,
   "metadata": {},
   "outputs": [],
   "source": [
    "health_irs = pd.read_csv(\"health_irs.csv\")\n",
    "access = pd.read_csv(\"access.csv\")\n",
    "life = pd.read_csv('life_exp.csv')\n",
    "mort = pd.read_csv('mort_rate.csv')\n",
    "rest = pd.read_csv('restaran.csv')"
   ]
  },
  {
   "cell_type": "markdown",
   "metadata": {},
   "source": [
    "## Extracting out the required features for analysis from raw data"
   ]
  },
  {
   "cell_type": "code",
   "execution_count": 3,
   "metadata": {},
   "outputs": [],
   "source": [
    "# features from HEALTH_IRS dataset \n",
    "df1 = pd.DataFrame()\n",
    "df1['FIPS'] = health_irs['FIPS']\n",
    "df1['Income'] = health_irs['A02650']\n",
    "df1['health_pay'] = health_irs['A09750']\n",
    "df1['diab'] = ((health_irs['PCT_DIABETES_ADULTS13'] + health_irs['PCT_DIABETES_ADULTS08']) / 2)\n",
    "df1['obes'] = ((health_irs['PCT_OBESE_ADULTS13'] + health_irs['PCT_OBESE_ADULTS08']) / 2)\n",
    "\n",
    "# features from Access dataset\n",
    "df2 = pd.DataFrame()\n",
    "df2['FIPS'] = access['FIPS']\n",
    "df2['la'] = ((access['PCT_LACCESS_POP10'] + access['PCT_LACCESS_POP15']) / 2)\n",
    "df2['pchla'] = access['PCH_LACCESS_POP_10_15']\n",
    "df2['hncla'] = ((access['PCT_LACCESS_HHNV10'] + access['PCT_LACCESS_HHNV15']) / 2)\n",
    "\n",
    "# features from restaurant dataset\n",
    "df3 = pd.DataFrame()\n",
    "df3['FIPS'] = rest['FIPS']\n",
    "df3['exp_ff'] = (rest['PC_FFRSALES07'] + rest['PC_FFRSALES12']) / 2\n",
    "df3['exp_rest'] = (rest['PC_FSRSALES07'] + rest['PC_FSRSALES12']) / 2\n",
    "df3['state'] = rest['State']\n",
    "\n",
    "# merging the diffferent dataframes\n",
    "dft = df2.merge(df1, on = 'FIPS')\n",
    "df = pd.merge(dft, df3, on='FIPS')\n",
    "df.shape\n",
    "df.drop('FIPS', axis=1, inplace=True)\n",
    "dfg = df.groupby(['state'], sort=False).mean()"
   ]
  },
  {
   "cell_type": "code",
   "execution_count": 4,
   "metadata": {},
   "outputs": [
    {
     "data": {
      "text/html": [
       "<div>\n",
       "<style scoped>\n",
       "    .dataframe tbody tr th:only-of-type {\n",
       "        vertical-align: middle;\n",
       "    }\n",
       "\n",
       "    .dataframe tbody tr th {\n",
       "        vertical-align: top;\n",
       "    }\n",
       "\n",
       "    .dataframe thead th {\n",
       "        text-align: right;\n",
       "    }\n",
       "</style>\n",
       "<table border=\"1\" class=\"dataframe\">\n",
       "  <thead>\n",
       "    <tr style=\"text-align: right;\">\n",
       "      <th></th>\n",
       "      <th>gnd</th>\n",
       "      <th>pctile</th>\n",
       "      <th>age_at_d</th>\n",
       "      <th>yod</th>\n",
       "      <th>lag</th>\n",
       "      <th>mortrate</th>\n",
       "      <th>hh_inc</th>\n",
       "      <th>deaths</th>\n",
       "      <th>count</th>\n",
       "    </tr>\n",
       "  </thead>\n",
       "  <tbody>\n",
       "    <tr>\n",
       "      <th>0</th>\n",
       "      <td>F</td>\n",
       "      <td>1</td>\n",
       "      <td>40</td>\n",
       "      <td>2001</td>\n",
       "      <td>2</td>\n",
       "      <td>0.004409</td>\n",
       "      <td>364.823006</td>\n",
       "      <td>95</td>\n",
       "      <td>21545</td>\n",
       "    </tr>\n",
       "    <tr>\n",
       "      <th>1</th>\n",
       "      <td>F</td>\n",
       "      <td>1</td>\n",
       "      <td>40</td>\n",
       "      <td>2002</td>\n",
       "      <td>2</td>\n",
       "      <td>0.005786</td>\n",
       "      <td>383.668744</td>\n",
       "      <td>124</td>\n",
       "      <td>21431</td>\n",
       "    </tr>\n",
       "    <tr>\n",
       "      <th>2</th>\n",
       "      <td>F</td>\n",
       "      <td>1</td>\n",
       "      <td>40</td>\n",
       "      <td>2003</td>\n",
       "      <td>2</td>\n",
       "      <td>0.005046</td>\n",
       "      <td>374.732925</td>\n",
       "      <td>107</td>\n",
       "      <td>21203</td>\n",
       "    </tr>\n",
       "    <tr>\n",
       "      <th>3</th>\n",
       "      <td>F</td>\n",
       "      <td>1</td>\n",
       "      <td>40</td>\n",
       "      <td>2004</td>\n",
       "      <td>2</td>\n",
       "      <td>0.004787</td>\n",
       "      <td>370.528819</td>\n",
       "      <td>100</td>\n",
       "      <td>20890</td>\n",
       "    </tr>\n",
       "    <tr>\n",
       "      <th>4</th>\n",
       "      <td>F</td>\n",
       "      <td>1</td>\n",
       "      <td>40</td>\n",
       "      <td>2005</td>\n",
       "      <td>2</td>\n",
       "      <td>0.004725</td>\n",
       "      <td>356.143865</td>\n",
       "      <td>93</td>\n",
       "      <td>19684</td>\n",
       "    </tr>\n",
       "  </tbody>\n",
       "</table>\n",
       "</div>"
      ],
      "text/plain": [
       "  gnd  pctile  age_at_d   yod  lag  mortrate      hh_inc  deaths  count\n",
       "0   F       1        40  2001    2  0.004409  364.823006      95  21545\n",
       "1   F       1        40  2002    2  0.005786  383.668744     124  21431\n",
       "2   F       1        40  2003    2  0.005046  374.732925     107  21203\n",
       "3   F       1        40  2004    2  0.004787  370.528819     100  20890\n",
       "4   F       1        40  2005    2  0.004725  356.143865      93  19684"
      ]
     },
     "execution_count": 4,
     "metadata": {},
     "output_type": "execute_result"
    }
   ],
   "source": [
    "mort.head()"
   ]
  },
  {
   "cell_type": "code",
   "execution_count": 5,
   "metadata": {},
   "outputs": [
    {
     "name": "stdout",
     "output_type": "stream",
     "text": [
      "(3018, 5)\n",
      "(3143, 4)\n",
      "(3143, 4)\n"
     ]
    }
   ],
   "source": [
    "print(df1.shape)\n",
    "print(df2.shape)\n",
    "print(df3.shape)"
   ]
  },
  {
   "cell_type": "code",
   "execution_count": 6,
   "metadata": {},
   "outputs": [
    {
     "data": {
      "text/html": [
       "<div>\n",
       "<style scoped>\n",
       "    .dataframe tbody tr th:only-of-type {\n",
       "        vertical-align: middle;\n",
       "    }\n",
       "\n",
       "    .dataframe tbody tr th {\n",
       "        vertical-align: top;\n",
       "    }\n",
       "\n",
       "    .dataframe thead th {\n",
       "        text-align: right;\n",
       "    }\n",
       "</style>\n",
       "<table border=\"1\" class=\"dataframe\">\n",
       "  <thead>\n",
       "    <tr style=\"text-align: right;\">\n",
       "      <th></th>\n",
       "      <th>la</th>\n",
       "      <th>pchla</th>\n",
       "      <th>hncla</th>\n",
       "      <th>Income</th>\n",
       "      <th>health_pay</th>\n",
       "      <th>diab</th>\n",
       "      <th>obes</th>\n",
       "      <th>exp_ff</th>\n",
       "      <th>exp_rest</th>\n",
       "      <th>state</th>\n",
       "    </tr>\n",
       "  </thead>\n",
       "  <tbody>\n",
       "    <tr>\n",
       "      <th>0</th>\n",
       "      <td>32.915956</td>\n",
       "      <td>-5.056026</td>\n",
       "      <td>3.318059</td>\n",
       "      <td>183214.0000</td>\n",
       "      <td>52.000000</td>\n",
       "      <td>12.20</td>\n",
       "      <td>32.80</td>\n",
       "      <td>662.157044</td>\n",
       "      <td>498.331247</td>\n",
       "      <td>AL</td>\n",
       "    </tr>\n",
       "    <tr>\n",
       "      <th>1</th>\n",
       "      <td>18.042981</td>\n",
       "      <td>-13.204891</td>\n",
       "      <td>2.026471</td>\n",
       "      <td>267456.4783</td>\n",
       "      <td>80.652174</td>\n",
       "      <td>10.10</td>\n",
       "      <td>26.80</td>\n",
       "      <td>662.157044</td>\n",
       "      <td>498.331247</td>\n",
       "      <td>AL</td>\n",
       "    </tr>\n",
       "    <tr>\n",
       "      <th>2</th>\n",
       "      <td>21.473266</td>\n",
       "      <td>6.067799</td>\n",
       "      <td>4.232624</td>\n",
       "      <td>54174.1250</td>\n",
       "      <td>15.500000</td>\n",
       "      <td>16.00</td>\n",
       "      <td>41.00</td>\n",
       "      <td>662.157044</td>\n",
       "      <td>498.331247</td>\n",
       "      <td>AL</td>\n",
       "    </tr>\n",
       "    <tr>\n",
       "      <th>3</th>\n",
       "      <td>4.395039</td>\n",
       "      <td>-7.224696</td>\n",
       "      <td>3.140004</td>\n",
       "      <td>107697.7273</td>\n",
       "      <td>34.909091</td>\n",
       "      <td>12.95</td>\n",
       "      <td>36.30</td>\n",
       "      <td>662.157044</td>\n",
       "      <td>498.331247</td>\n",
       "      <td>AL</td>\n",
       "    </tr>\n",
       "    <tr>\n",
       "      <th>4</th>\n",
       "      <td>4.599110</td>\n",
       "      <td>140.568857</td>\n",
       "      <td>3.302897</td>\n",
       "      <td>204151.8750</td>\n",
       "      <td>71.687500</td>\n",
       "      <td>12.75</td>\n",
       "      <td>33.25</td>\n",
       "      <td>662.157044</td>\n",
       "      <td>498.331247</td>\n",
       "      <td>AL</td>\n",
       "    </tr>\n",
       "  </tbody>\n",
       "</table>\n",
       "</div>"
      ],
      "text/plain": [
       "          la       pchla     hncla       Income  health_pay   diab   obes  \\\n",
       "0  32.915956   -5.056026  3.318059  183214.0000   52.000000  12.20  32.80   \n",
       "1  18.042981  -13.204891  2.026471  267456.4783   80.652174  10.10  26.80   \n",
       "2  21.473266    6.067799  4.232624   54174.1250   15.500000  16.00  41.00   \n",
       "3   4.395039   -7.224696  3.140004  107697.7273   34.909091  12.95  36.30   \n",
       "4   4.599110  140.568857  3.302897  204151.8750   71.687500  12.75  33.25   \n",
       "\n",
       "       exp_ff    exp_rest state  \n",
       "0  662.157044  498.331247    AL  \n",
       "1  662.157044  498.331247    AL  \n",
       "2  662.157044  498.331247    AL  \n",
       "3  662.157044  498.331247    AL  \n",
       "4  662.157044  498.331247    AL  "
      ]
     },
     "execution_count": 6,
     "metadata": {},
     "output_type": "execute_result"
    }
   ],
   "source": [
    "df.head()"
   ]
  },
  {
   "cell_type": "code",
   "execution_count": 7,
   "metadata": {},
   "outputs": [
    {
     "data": {
      "text/plain": [
       "array(['AL', 'AK', 'AZ', 'AR', 'CA', 'CO', 'CT', 'DE', 'DC', 'FL', 'GA',\n",
       "       'HI', 'ID', 'IL', 'IN', 'IA', 'KS', 'KY', 'LA', 'ME', 'MD', 'MA',\n",
       "       'MI', 'MN', 'MS', 'MO', 'MT', 'NE', 'NV', 'NH', 'NJ', 'NM', 'NY',\n",
       "       'NC', 'ND', 'OH', 'OK', 'OR', 'PA', 'RI', 'SC', 'SD', 'TN', 'TX',\n",
       "       'UT', 'VT', 'VA', 'WA', 'WV', 'WI', 'WY'], dtype=object)"
      ]
     },
     "execution_count": 7,
     "metadata": {},
     "output_type": "execute_result"
    }
   ],
   "source": [
    "df3['state'].unique()"
   ]
  },
  {
   "cell_type": "code",
   "execution_count": 8,
   "metadata": {},
   "outputs": [
    {
     "data": {
      "text/plain": [
       "(3018, 10)"
      ]
     },
     "execution_count": 8,
     "metadata": {},
     "output_type": "execute_result"
    }
   ],
   "source": [
    "df.shape"
   ]
  },
  {
   "cell_type": "code",
   "execution_count": 9,
   "metadata": {},
   "outputs": [
    {
     "data": {
      "text/html": [
       "<div>\n",
       "<style scoped>\n",
       "    .dataframe tbody tr th:only-of-type {\n",
       "        vertical-align: middle;\n",
       "    }\n",
       "\n",
       "    .dataframe tbody tr th {\n",
       "        vertical-align: top;\n",
       "    }\n",
       "\n",
       "    .dataframe thead th {\n",
       "        text-align: right;\n",
       "    }\n",
       "</style>\n",
       "<table border=\"1\" class=\"dataframe\">\n",
       "  <thead>\n",
       "    <tr style=\"text-align: right;\">\n",
       "      <th></th>\n",
       "      <th>gnd</th>\n",
       "      <th>pctile</th>\n",
       "      <th>year</th>\n",
       "      <th>count</th>\n",
       "      <th>hh_inc</th>\n",
       "      <th>le_agg</th>\n",
       "      <th>le_raceadj</th>\n",
       "      <th>sd_le_agg</th>\n",
       "      <th>sd_le_raceadj</th>\n",
       "    </tr>\n",
       "  </thead>\n",
       "  <tbody>\n",
       "    <tr>\n",
       "      <th>0</th>\n",
       "      <td>F</td>\n",
       "      <td>1</td>\n",
       "      <td>2001</td>\n",
       "      <td>398740</td>\n",
       "      <td>499.10938</td>\n",
       "      <td>79.682068</td>\n",
       "      <td>79.893463</td>\n",
       "      <td>0.392838</td>\n",
       "      <td>0.385240</td>\n",
       "    </tr>\n",
       "    <tr>\n",
       "      <th>1</th>\n",
       "      <td>F</td>\n",
       "      <td>1</td>\n",
       "      <td>2002</td>\n",
       "      <td>411159</td>\n",
       "      <td>541.30695</td>\n",
       "      <td>79.183594</td>\n",
       "      <td>79.410622</td>\n",
       "      <td>0.353981</td>\n",
       "      <td>0.346817</td>\n",
       "    </tr>\n",
       "    <tr>\n",
       "      <th>2</th>\n",
       "      <td>F</td>\n",
       "      <td>1</td>\n",
       "      <td>2003</td>\n",
       "      <td>420298</td>\n",
       "      <td>529.13910</td>\n",
       "      <td>79.364410</td>\n",
       "      <td>79.572174</td>\n",
       "      <td>0.364780</td>\n",
       "      <td>0.359097</td>\n",
       "    </tr>\n",
       "    <tr>\n",
       "      <th>3</th>\n",
       "      <td>F</td>\n",
       "      <td>1</td>\n",
       "      <td>2004</td>\n",
       "      <td>427728</td>\n",
       "      <td>499.29950</td>\n",
       "      <td>79.898407</td>\n",
       "      <td>80.092476</td>\n",
       "      <td>0.352018</td>\n",
       "      <td>0.347992</td>\n",
       "    </tr>\n",
       "    <tr>\n",
       "      <th>4</th>\n",
       "      <td>F</td>\n",
       "      <td>1</td>\n",
       "      <td>2005</td>\n",
       "      <td>433665</td>\n",
       "      <td>474.14536</td>\n",
       "      <td>80.283600</td>\n",
       "      <td>80.465935</td>\n",
       "      <td>0.334612</td>\n",
       "      <td>0.330986</td>\n",
       "    </tr>\n",
       "  </tbody>\n",
       "</table>\n",
       "</div>"
      ],
      "text/plain": [
       "  gnd  pctile  year   count     hh_inc     le_agg  le_raceadj  sd_le_agg  \\\n",
       "0   F       1  2001  398740  499.10938  79.682068   79.893463   0.392838   \n",
       "1   F       1  2002  411159  541.30695  79.183594   79.410622   0.353981   \n",
       "2   F       1  2003  420298  529.13910  79.364410   79.572174   0.364780   \n",
       "3   F       1  2004  427728  499.29950  79.898407   80.092476   0.352018   \n",
       "4   F       1  2005  433665  474.14536  80.283600   80.465935   0.334612   \n",
       "\n",
       "   sd_le_raceadj  \n",
       "0       0.385240  \n",
       "1       0.346817  \n",
       "2       0.359097  \n",
       "3       0.347992  \n",
       "4       0.330986  "
      ]
     },
     "execution_count": 9,
     "metadata": {},
     "output_type": "execute_result"
    }
   ],
   "source": [
    "life.head()"
   ]
  },
  {
   "cell_type": "code",
   "execution_count": 10,
   "metadata": {},
   "outputs": [
    {
     "name": "stdout",
     "output_type": "stream",
     "text": [
      "(2800, 9)\n",
      "(85400, 9)\n"
     ]
    }
   ],
   "source": [
    "print(life.shape)\n",
    "print(mort.shape)"
   ]
  },
  {
   "cell_type": "code",
   "execution_count": 11,
   "metadata": {},
   "outputs": [
    {
     "data": {
      "text/html": [
       "<div>\n",
       "<style scoped>\n",
       "    .dataframe tbody tr th:only-of-type {\n",
       "        vertical-align: middle;\n",
       "    }\n",
       "\n",
       "    .dataframe tbody tr th {\n",
       "        vertical-align: top;\n",
       "    }\n",
       "\n",
       "    .dataframe thead th {\n",
       "        text-align: right;\n",
       "    }\n",
       "</style>\n",
       "<table border=\"1\" class=\"dataframe\">\n",
       "  <thead>\n",
       "    <tr style=\"text-align: right;\">\n",
       "      <th></th>\n",
       "      <th>pctile</th>\n",
       "      <th>year</th>\n",
       "      <th>count</th>\n",
       "      <th>hh_inc</th>\n",
       "      <th>le_agg</th>\n",
       "      <th>le_raceadj</th>\n",
       "      <th>sd_le_agg</th>\n",
       "      <th>sd_le_raceadj</th>\n",
       "    </tr>\n",
       "  </thead>\n",
       "  <tbody>\n",
       "    <tr>\n",
       "      <th>count</th>\n",
       "      <td>2800.000000</td>\n",
       "      <td>2800.000000</td>\n",
       "      <td>2800.000000</td>\n",
       "      <td>2.800000e+03</td>\n",
       "      <td>2800.000000</td>\n",
       "      <td>2800.000000</td>\n",
       "      <td>2800.000000</td>\n",
       "      <td>2800.000000</td>\n",
       "    </tr>\n",
       "    <tr>\n",
       "      <th>mean</th>\n",
       "      <td>50.500000</td>\n",
       "      <td>2007.500000</td>\n",
       "      <td>433773.845714</td>\n",
       "      <td>9.764774e+04</td>\n",
       "      <td>83.627406</td>\n",
       "      <td>83.672665</td>\n",
       "      <td>0.560205</td>\n",
       "      <td>0.550729</td>\n",
       "    </tr>\n",
       "    <tr>\n",
       "      <th>std</th>\n",
       "      <td>28.871226</td>\n",
       "      <td>4.031849</td>\n",
       "      <td>18872.974468</td>\n",
       "      <td>1.977964e+05</td>\n",
       "      <td>3.657129</td>\n",
       "      <td>3.600353</td>\n",
       "      <td>0.107541</td>\n",
       "      <td>0.106312</td>\n",
       "    </tr>\n",
       "    <tr>\n",
       "      <th>min</th>\n",
       "      <td>1.000000</td>\n",
       "      <td>2001.000000</td>\n",
       "      <td>387717.000000</td>\n",
       "      <td>1.375935e+02</td>\n",
       "      <td>67.862122</td>\n",
       "      <td>68.343384</td>\n",
       "      <td>0.179007</td>\n",
       "      <td>0.185262</td>\n",
       "    </tr>\n",
       "    <tr>\n",
       "      <th>25%</th>\n",
       "      <td>25.750000</td>\n",
       "      <td>2004.000000</td>\n",
       "      <td>421633.000000</td>\n",
       "      <td>3.083662e+04</td>\n",
       "      <td>81.774229</td>\n",
       "      <td>81.858478</td>\n",
       "      <td>0.494333</td>\n",
       "      <td>0.485487</td>\n",
       "    </tr>\n",
       "    <tr>\n",
       "      <th>50%</th>\n",
       "      <td>50.500000</td>\n",
       "      <td>2007.500000</td>\n",
       "      <td>436506.000000</td>\n",
       "      <td>6.119835e+04</td>\n",
       "      <td>84.143944</td>\n",
       "      <td>84.189407</td>\n",
       "      <td>0.560017</td>\n",
       "      <td>0.550386</td>\n",
       "    </tr>\n",
       "    <tr>\n",
       "      <th>75%</th>\n",
       "      <td>75.250000</td>\n",
       "      <td>2011.000000</td>\n",
       "      <td>445446.500000</td>\n",
       "      <td>1.048515e+05</td>\n",
       "      <td>86.313641</td>\n",
       "      <td>86.306168</td>\n",
       "      <td>0.624831</td>\n",
       "      <td>0.614215</td>\n",
       "    </tr>\n",
       "    <tr>\n",
       "      <th>max</th>\n",
       "      <td>100.000000</td>\n",
       "      <td>2014.000000</td>\n",
       "      <td>462127.000000</td>\n",
       "      <td>2.435930e+06</td>\n",
       "      <td>91.120705</td>\n",
       "      <td>91.076477</td>\n",
       "      <td>0.998827</td>\n",
       "      <td>0.974649</td>\n",
       "    </tr>\n",
       "  </tbody>\n",
       "</table>\n",
       "</div>"
      ],
      "text/plain": [
       "            pctile         year          count        hh_inc       le_agg  \\\n",
       "count  2800.000000  2800.000000    2800.000000  2.800000e+03  2800.000000   \n",
       "mean     50.500000  2007.500000  433773.845714  9.764774e+04    83.627406   \n",
       "std      28.871226     4.031849   18872.974468  1.977964e+05     3.657129   \n",
       "min       1.000000  2001.000000  387717.000000  1.375935e+02    67.862122   \n",
       "25%      25.750000  2004.000000  421633.000000  3.083662e+04    81.774229   \n",
       "50%      50.500000  2007.500000  436506.000000  6.119835e+04    84.143944   \n",
       "75%      75.250000  2011.000000  445446.500000  1.048515e+05    86.313641   \n",
       "max     100.000000  2014.000000  462127.000000  2.435930e+06    91.120705   \n",
       "\n",
       "        le_raceadj    sd_le_agg  sd_le_raceadj  \n",
       "count  2800.000000  2800.000000    2800.000000  \n",
       "mean     83.672665     0.560205       0.550729  \n",
       "std       3.600353     0.107541       0.106312  \n",
       "min      68.343384     0.179007       0.185262  \n",
       "25%      81.858478     0.494333       0.485487  \n",
       "50%      84.189407     0.560017       0.550386  \n",
       "75%      86.306168     0.624831       0.614215  \n",
       "max      91.076477     0.998827       0.974649  "
      ]
     },
     "execution_count": 11,
     "metadata": {},
     "output_type": "execute_result"
    }
   ],
   "source": [
    "life.describe()"
   ]
  },
  {
   "cell_type": "code",
   "execution_count": 12,
   "metadata": {},
   "outputs": [
    {
     "data": {
      "image/png": "[encoded data removed]",
      "text/plain": [
       "<Figure size 432x288 with 1 Axes>"
      ]
     },
     "metadata": {},
     "output_type": "display_data"
    }
   ],
   "source": [
    "plt.scatter(life['le_agg'], life['hh_inc'], c='g')\n",
    "plt.xlabel('life_expectancy (years)')\n",
    "plt.ylabel('avg_household_income')\n",
    "plt.show()"
   ]
  },
  {
   "cell_type": "code",
   "execution_count": 13,
   "metadata": {},
   "outputs": [
    {
     "name": "stdout",
     "output_type": "stream",
     "text": [
      "LinregressResult(slope=19025.20527166232, intercept=-1493380.8259447026, rvalue=0.35176392910878, pvalue=2.3777503659974395e-82, stderr=957.1306330401748)\n"
     ]
    }
   ],
   "source": [
    "from scipy.stats import linregress\n",
    "print(linregress(life['le_agg'], life['hh_inc']))"
   ]
  },
  {
   "cell_type": "code",
   "execution_count": 14,
   "metadata": {},
   "outputs": [
    {
     "data": {
      "text/html": [
       "<div>\n",
       "<style scoped>\n",
       "    .dataframe tbody tr th:only-of-type {\n",
       "        vertical-align: middle;\n",
       "    }\n",
       "\n",
       "    .dataframe tbody tr th {\n",
       "        vertical-align: top;\n",
       "    }\n",
       "\n",
       "    .dataframe thead th {\n",
       "        text-align: right;\n",
       "    }\n",
       "</style>\n",
       "<table border=\"1\" class=\"dataframe\">\n",
       "  <thead>\n",
       "    <tr style=\"text-align: right;\">\n",
       "      <th></th>\n",
       "      <th>gnd</th>\n",
       "      <th>pctile</th>\n",
       "      <th>age_at_d</th>\n",
       "      <th>yod</th>\n",
       "      <th>lag</th>\n",
       "      <th>mortrate</th>\n",
       "      <th>hh_inc</th>\n",
       "      <th>deaths</th>\n",
       "      <th>count</th>\n",
       "    </tr>\n",
       "  </thead>\n",
       "  <tbody>\n",
       "    <tr>\n",
       "      <th>0</th>\n",
       "      <td>F</td>\n",
       "      <td>1</td>\n",
       "      <td>40</td>\n",
       "      <td>2001</td>\n",
       "      <td>2</td>\n",
       "      <td>0.004409</td>\n",
       "      <td>364.823006</td>\n",
       "      <td>95</td>\n",
       "      <td>21545</td>\n",
       "    </tr>\n",
       "    <tr>\n",
       "      <th>1</th>\n",
       "      <td>F</td>\n",
       "      <td>1</td>\n",
       "      <td>40</td>\n",
       "      <td>2002</td>\n",
       "      <td>2</td>\n",
       "      <td>0.005786</td>\n",
       "      <td>383.668744</td>\n",
       "      <td>124</td>\n",
       "      <td>21431</td>\n",
       "    </tr>\n",
       "    <tr>\n",
       "      <th>2</th>\n",
       "      <td>F</td>\n",
       "      <td>1</td>\n",
       "      <td>40</td>\n",
       "      <td>2003</td>\n",
       "      <td>2</td>\n",
       "      <td>0.005046</td>\n",
       "      <td>374.732925</td>\n",
       "      <td>107</td>\n",
       "      <td>21203</td>\n",
       "    </tr>\n",
       "    <tr>\n",
       "      <th>3</th>\n",
       "      <td>F</td>\n",
       "      <td>1</td>\n",
       "      <td>40</td>\n",
       "      <td>2004</td>\n",
       "      <td>2</td>\n",
       "      <td>0.004787</td>\n",
       "      <td>370.528819</td>\n",
       "      <td>100</td>\n",
       "      <td>20890</td>\n",
       "    </tr>\n",
       "    <tr>\n",
       "      <th>4</th>\n",
       "      <td>F</td>\n",
       "      <td>1</td>\n",
       "      <td>40</td>\n",
       "      <td>2005</td>\n",
       "      <td>2</td>\n",
       "      <td>0.004725</td>\n",
       "      <td>356.143865</td>\n",
       "      <td>93</td>\n",
       "      <td>19684</td>\n",
       "    </tr>\n",
       "  </tbody>\n",
       "</table>\n",
       "</div>"
      ],
      "text/plain": [
       "  gnd  pctile  age_at_d   yod  lag  mortrate      hh_inc  deaths  count\n",
       "0   F       1        40  2001    2  0.004409  364.823006      95  21545\n",
       "1   F       1        40  2002    2  0.005786  383.668744     124  21431\n",
       "2   F       1        40  2003    2  0.005046  374.732925     107  21203\n",
       "3   F       1        40  2004    2  0.004787  370.528819     100  20890\n",
       "4   F       1        40  2005    2  0.004725  356.143865      93  19684"
      ]
     },
     "execution_count": 14,
     "metadata": {},
     "output_type": "execute_result"
    }
   ],
   "source": [
    "mort.head()"
   ]
  },
  {
   "cell_type": "code",
   "execution_count": 26,
   "metadata": {},
   "outputs": [
    {
     "data": {
      "image/png": "[encoded data removed]",
      "text/plain": [
       "<Figure size 432x288 with 1 Axes>"
      ]
     },
     "metadata": {},
     "output_type": "display_data"
    }
   ],
   "source": [
    "mort['pct_mort'] = mort['mortrate']*100\n",
    "plt.scatter(mort['pct_mort'], mort['hh_inc'], c='b')\n",
    "plt.ylabel('mortality rate')\n",
    "plt.xlabel('avg_household_income')\n",
    "plt.show()"
   ]
  },
  {
   "cell_type": "code",
   "execution_count": 16,
   "metadata": {},
   "outputs": [
    {
     "name": "stdout",
     "output_type": "stream",
     "text": [
      "LinregressResult(slope=-49754.456372051616, intercept=128217.66788277449, rvalue=-0.14719222157380624, pvalue=0.0, stderr=1144.1078058164944)\n"
     ]
    }
   ],
   "source": [
    "from scipy.stats import linregress\n",
    "print(linregress(mort['pct_mort'], mort['hh_inc']))"
   ]
  },
  {
   "cell_type": "code",
   "execution_count": 17,
   "metadata": {},
   "outputs": [
    {
     "name": "stdout",
     "output_type": "stream",
     "text": [
      "-0.14719222157380624\n"
     ]
    }
   ],
   "source": [
    "c = mort['pct_mort'].corr(mort['hh_inc'])\n",
    "print(c)"
   ]
  },
  {
   "cell_type": "code",
   "execution_count": 18,
   "metadata": {},
   "outputs": [
    {
     "data": {
      "text/html": [
       "<div>\n",
       "<style scoped>\n",
       "    .dataframe tbody tr th:only-of-type {\n",
       "        vertical-align: middle;\n",
       "    }\n",
       "\n",
       "    .dataframe tbody tr th {\n",
       "        vertical-align: top;\n",
       "    }\n",
       "\n",
       "    .dataframe thead th {\n",
       "        text-align: right;\n",
       "    }\n",
       "</style>\n",
       "<table border=\"1\" class=\"dataframe\">\n",
       "  <thead>\n",
       "    <tr style=\"text-align: right;\">\n",
       "      <th></th>\n",
       "      <th>la</th>\n",
       "      <th>pchla</th>\n",
       "      <th>hncla</th>\n",
       "      <th>Income</th>\n",
       "      <th>health_pay</th>\n",
       "      <th>diab</th>\n",
       "      <th>obes</th>\n",
       "      <th>exp_ff</th>\n",
       "      <th>exp_rest</th>\n",
       "    </tr>\n",
       "  </thead>\n",
       "  <tbody>\n",
       "    <tr>\n",
       "      <th>count</th>\n",
       "      <td>3003.000000</td>\n",
       "      <td>2.997000e+03</td>\n",
       "      <td>3017.000000</td>\n",
       "      <td>3.018000e+03</td>\n",
       "      <td>3018.000000</td>\n",
       "      <td>3018.000000</td>\n",
       "      <td>3018.000000</td>\n",
       "      <td>3018.000000</td>\n",
       "      <td>3018.000000</td>\n",
       "    </tr>\n",
       "    <tr>\n",
       "      <th>mean</th>\n",
       "      <td>23.319501</td>\n",
       "      <td>7.397223e+03</td>\n",
       "      <td>3.201271</td>\n",
       "      <td>1.890820e+05</td>\n",
       "      <td>72.289624</td>\n",
       "      <td>10.524039</td>\n",
       "      <td>29.934957</td>\n",
       "      <td>618.851148</td>\n",
       "      <td>637.645084</td>\n",
       "    </tr>\n",
       "    <tr>\n",
       "      <th>std</th>\n",
       "      <td>18.700723</td>\n",
       "      <td>4.033940e+05</td>\n",
       "      <td>3.132978</td>\n",
       "      <td>2.717967e+05</td>\n",
       "      <td>96.647728</td>\n",
       "      <td>2.190931</td>\n",
       "      <td>3.987959</td>\n",
       "      <td>83.663235</td>\n",
       "      <td>119.353464</td>\n",
       "    </tr>\n",
       "    <tr>\n",
       "      <th>min</th>\n",
       "      <td>0.000000</td>\n",
       "      <td>-1.000000e+02</td>\n",
       "      <td>0.000000</td>\n",
       "      <td>2.990000e+03</td>\n",
       "      <td>0.000000</td>\n",
       "      <td>3.150000</td>\n",
       "      <td>12.350000</td>\n",
       "      <td>383.104903</td>\n",
       "      <td>405.788252</td>\n",
       "    </tr>\n",
       "    <tr>\n",
       "      <th>25%</th>\n",
       "      <td>11.359432</td>\n",
       "      <td>-1.088453e+01</td>\n",
       "      <td>1.722522</td>\n",
       "      <td>3.905611e+04</td>\n",
       "      <td>15.000000</td>\n",
       "      <td>9.050000</td>\n",
       "      <td>27.850000</td>\n",
       "      <td>550.033691</td>\n",
       "      <td>554.034359</td>\n",
       "    </tr>\n",
       "    <tr>\n",
       "      <th>50%</th>\n",
       "      <td>19.901879</td>\n",
       "      <td>-7.318760e-02</td>\n",
       "      <td>2.630777</td>\n",
       "      <td>8.592080e+04</td>\n",
       "      <td>39.875000</td>\n",
       "      <td>10.400000</td>\n",
       "      <td>30.200000</td>\n",
       "      <td>619.273324</td>\n",
       "      <td>646.022675</td>\n",
       "    </tr>\n",
       "    <tr>\n",
       "      <th>75%</th>\n",
       "      <td>29.011581</td>\n",
       "      <td>7.177775e+00</td>\n",
       "      <td>3.854461</td>\n",
       "      <td>2.178854e+05</td>\n",
       "      <td>91.638889</td>\n",
       "      <td>11.950000</td>\n",
       "      <td>32.350000</td>\n",
       "      <td>678.445424</td>\n",
       "      <td>680.803467</td>\n",
       "    </tr>\n",
       "    <tr>\n",
       "      <th>max</th>\n",
       "      <td>100.000001</td>\n",
       "      <td>2.208376e+07</td>\n",
       "      <td>64.536399</td>\n",
       "      <td>3.626014e+06</td>\n",
       "      <td>1110.125000</td>\n",
       "      <td>20.300000</td>\n",
       "      <td>45.000000</td>\n",
       "      <td>1039.626235</td>\n",
       "      <td>2045.329455</td>\n",
       "    </tr>\n",
       "  </tbody>\n",
       "</table>\n",
       "</div>"
      ],
      "text/plain": [
       "                la         pchla        hncla        Income   health_pay  \\\n",
       "count  3003.000000  2.997000e+03  3017.000000  3.018000e+03  3018.000000   \n",
       "mean     23.319501  7.397223e+03     3.201271  1.890820e+05    72.289624   \n",
       "std      18.700723  4.033940e+05     3.132978  2.717967e+05    96.647728   \n",
       "min       0.000000 -1.000000e+02     0.000000  2.990000e+03     0.000000   \n",
       "25%      11.359432 -1.088453e+01     1.722522  3.905611e+04    15.000000   \n",
       "50%      19.901879 -7.318760e-02     2.630777  8.592080e+04    39.875000   \n",
       "75%      29.011581  7.177775e+00     3.854461  2.178854e+05    91.638889   \n",
       "max     100.000001  2.208376e+07    64.536399  3.626014e+06  1110.125000   \n",
       "\n",
       "              diab         obes       exp_ff     exp_rest  \n",
       "count  3018.000000  3018.000000  3018.000000  3018.000000  \n",
       "mean     10.524039    29.934957   618.851148   637.645084  \n",
       "std       2.190931     3.987959    83.663235   119.353464  \n",
       "min       3.150000    12.350000   383.104903   405.788252  \n",
       "25%       9.050000    27.850000   550.033691   554.034359  \n",
       "50%      10.400000    30.200000   619.273324   646.022675  \n",
       "75%      11.950000    32.350000   678.445424   680.803467  \n",
       "max      20.300000    45.000000  1039.626235  2045.329455  "
      ]
     },
     "execution_count": 18,
     "metadata": {},
     "output_type": "execute_result"
    }
   ],
   "source": [
    "df.describe()"
   ]
  },
  {
   "cell_type": "code",
   "execution_count": 19,
   "metadata": {},
   "outputs": [
    {
     "data": {
      "image/png": "[encoded data removed]",
      "text/plain": [
       "<Figure size 432x288 with 1 Axes>"
      ]
     },
     "metadata": {},
     "output_type": "display_data"
    }
   ],
   "source": [
    "plt.scatter(df['Income'], df['hncla'], c='y')\n",
    "plt.xlabel('Total_Income')\n",
    "plt.ylabel('%households with no car and low access to stores')\n",
    "plt.show()"
   ]
  },
  {
   "cell_type": "code",
   "execution_count": 21,
   "metadata": {},
   "outputs": [
    {
     "data": {
      "image/png": "[encoded data removed]",
      "text/plain": [
       "<Figure size 432x288 with 1 Axes>"
      ]
     },
     "metadata": {},
     "output_type": "display_data"
    }
   ],
   "source": [
    "#df['diab'] = df['diab']/(df['diab'].max()) #- df['diab'].min())\n",
    "#df['obes'] = df['obes']/(df['obes'].max())#- df['obes'].min())\n",
    "#df['health_pay'] = df['health_pay']/(df['health_pay'].max())\n",
    "plt.scatter(dfg['hncla'], dfg['obes'], c='r')\n",
    "plt.xlabel('%households with no car and low access to stores')\n",
    "plt.ylabel('obesity_rate')\n",
    "plt.show()"
   ]
  },
  {
   "cell_type": "code",
   "execution_count": 22,
   "metadata": {},
   "outputs": [
    {
     "name": "stdout",
     "output_type": "stream",
     "text": [
      "LinregressResult(slope=0.5214667208751294, intercept=27.131833848228716, rvalue=0.3208639480716306, pvalue=0.021693663035556608, stderr=0.219894856402642)\n"
     ]
    }
   ],
   "source": [
    "from scipy.stats import linregress\n",
    "print(linregress(dfg['hncla'], dfg['obes']))"
   ]
  },
  {
   "cell_type": "code",
   "execution_count": 24,
   "metadata": {},
   "outputs": [
    {
     "data": {
      "image/png": "[encoded data removed]",
      "text/plain": [
       "<Figure size 432x288 with 1 Axes>"
      ]
     },
     "metadata": {},
     "output_type": "display_data"
    }
   ],
   "source": [
    "#df['diab'] = df['diab']/(df['diab'].max()) #- df['diab'].min())\n",
    "#df['obes'] = df['obes']/(df['obes'].max())#- df['obes'].min())\n",
    "#df['health_pay'] = df['health_pay']/(df['health_pay'].max())\n",
    "plt.scatter(dfg['hncla'], dfg['diab'], c='k')\n",
    "plt.xlabel('%households with no car and low access to stores')\n",
    "plt.ylabel('diabetes_rate')\n",
    "plt.show()"
   ]
  },
  {
   "cell_type": "code",
   "execution_count": 43,
   "metadata": {},
   "outputs": [
    {
     "data": {
      "image/png": "[encoded data removed]",
      "text/plain": [
       "<Figure size 432x288 with 1 Axes>"
      ]
     },
     "metadata": {},
     "output_type": "display_data"
    },
    {
     "data": {
      "text/plain": [
       "<Figure size 432x288 with 0 Axes>"
      ]
     },
     "metadata": {},
     "output_type": "display_data"
    }
   ],
   "source": [
    "#df['diab'] = df['diab']/(df['diab'].max()) #- df['diab'].min())\n",
    "#dfg['obes'] = dfg['obes']/(dfg['obes'].max())#- df['obes'].min())\n",
    "#df['health_pay'] = df['health_pay']/(df['health_pay'].max())\n",
    "plt.scatter(dfg['exp_rest'], dfg['hncla'], c='g')\n",
    "plt.ylabel('%households with no car and low access to stores')\n",
    "plt.xlabel('Expenditure on food')\n",
    "#plt.scatter(df['exp_rest'], df['diab'])\n",
    "plt.show()\n",
    "plt.savefig('exp.png')"
   ]
  },
  {
   "cell_type": "code",
   "execution_count": 37,
   "metadata": {},
   "outputs": [
    {
     "name": "stdout",
     "output_type": "stream",
     "text": [
      "LinregressResult(slope=-23.971964582506516, intercept=786.7685982105429, rvalue=-0.2105189791039684, pvalue=0.13812517733507226, stderr=15.902704188487322)\n"
     ]
    }
   ],
   "source": [
    "from scipy.stats import linregress\n",
    "print(linregress(dfg['hncla'], dfg['exp_rest']))"
   ]
  },
  {
   "cell_type": "code",
   "execution_count": 19,
   "metadata": {},
   "outputs": [
    {
     "data": {
      "image/png": "[encoded data removed]",
      "text/plain": [
       "<Figure size 432x288 with 1 Axes>"
      ]
     },
     "metadata": {},
     "output_type": "display_data"
    }
   ],
   "source": [
    "#df['diab'] = df['diab']/(df['diab'].max()) #- df['diab'].min())\n",
    "#dfg['obes'] = dfg['obes']/(dfg['obes'].max())#- df['obes'].min())\n",
    "#df['health_pay'] = df['health_pay']/(df['health_pay'].max())\n",
    "plt.scatter(dfg['Income'], dfg['exp_rest'])\n",
    "plt.xlabel('Total Income')\n",
    "plt.ylabel('Expenditure on food')\n",
    "#plt.scatter(df['exp_rest'], df['diab'])\n",
    "plt.show()"
   ]
  },
  {
   "cell_type": "code",
   "execution_count": 36,
   "metadata": {},
   "outputs": [
    {
     "name": "stdout",
     "output_type": "stream",
     "text": [
      "LinregressResult(slope=714.1890635658184, intercept=-262572.89890424407, rvalue=0.807696820344227, pvalue=7.946830618834122e-13, stderr=74.47710930788311)\n"
     ]
    }
   ],
   "source": [
    "from scipy.stats import linregress\n",
    "print(linregress(dfg['exp_rest'], dfg['Income']))"
   ]
  },
  {
   "cell_type": "code",
   "execution_count": 20,
   "metadata": {},
   "outputs": [
    {
     "data": {
      "image/png": "[encoded data removed]",
      "text/plain": [
       "<Figure size 432x288 with 1 Axes>"
      ]
     },
     "metadata": {},
     "output_type": "display_data"
    }
   ],
   "source": [
    "#df['diab'] = df['diab']/(df['diab'].max()) #- df['diab'].min())\n",
    "dfg['obes'] = dfg['obes']/(dfg['obes'].max())#- df['obes'].min())\n",
    "#df['health_pay'] = df['health_pay']/(df['health_pay'].max())\n",
    "plt.scatter(dfg['exp_rest'], dfg['obes'], color='r')\n",
    "plt.xlabel('expenditure on food')\n",
    "plt.ylabel('obesity_rate')\n",
    "#plt.scatter(df['exp_rest'], df['diab'])\n",
    "plt.show()"
   ]
  },
  {
   "cell_type": "code",
   "execution_count": 40,
   "metadata": {},
   "outputs": [
    {
     "name": "stdout",
     "output_type": "stream",
     "text": [
      "LinregressResult(slope=-1550.6057477360755, intercept=1942.8582780711545, rvalue=-0.610849678402052, pvalue=1.932390218610466e-06, stderr=287.1145516233412)\n"
     ]
    }
   ],
   "source": [
    "from scipy.stats import linregress\n",
    "print(linregress(dfg['obes'], dfg['exp_rest']))"
   ]
  },
  {
   "cell_type": "code",
   "execution_count": 21,
   "metadata": {},
   "outputs": [
    {
     "data": {
      "image/png": "[encoded data removed]",
      "text/plain": [
       "<Figure size 432x288 with 1 Axes>"
      ]
     },
     "metadata": {},
     "output_type": "display_data"
    }
   ],
   "source": [
    "dfg['diab'] = dfg['diab']/(dfg['diab'].max()) #- df['diab'].min())\n",
    "#plt.scatter(df['exp_rest'], df['obes'], color='r')\n",
    "plt.scatter(dfg['exp_rest'], dfg['diab'], c='k')\n",
    "plt.xlabel('expenditure on food')\n",
    "plt.ylabel('diabetes_rate')\n",
    "plt.show()"
   ]
  },
  {
   "cell_type": "code",
   "execution_count": 42,
   "metadata": {},
   "outputs": [
    {
     "name": "stdout",
     "output_type": "stream",
     "text": [
      "LinregressResult(slope=-755.1652309142952, intercept=1243.5540710398636, rvalue=-0.3923030035369313, pvalue=0.004409713475511987, stderr=252.94886663628978)\n"
     ]
    }
   ],
   "source": [
    "from scipy.stats import linregress\n",
    "print(linregress(dfg['diab'], dfg['exp_rest']))"
   ]
  },
  {
   "cell_type": "code",
   "execution_count": 46,
   "metadata": {},
   "outputs": [
    {
     "data": {
      "text/plain": [
       "<matplotlib.axes._subplots.AxesSubplot at 0xc7dd5042b0>"
      ]
     },
     "execution_count": 46,
     "metadata": {},
     "output_type": "execute_result"
    },
    {
     "data": {
      "image/png": "[encoded data removed]",
      "text/plain": [
       "<Figure size 432x288 with 2 Axes>"
      ]
     },
     "metadata": {},
     "output_type": "display_data"
    }
   ],
   "source": [
    "corrs = df.corr()\n",
    "sns.heatmap(corrs, xticklabels = corrs.columns, yticklabels = corrs.columns)"
   ]
  },
  {
   "cell_type": "code",
   "execution_count": 47,
   "metadata": {},
   "outputs": [
    {
     "name": "stdout",
     "output_type": "stream",
     "text": [
      "              exp_ff  exp_rest        la     pchla     hncla    Income  \\\n",
      "exp_ff      1.000000  0.356798 -0.078341 -0.001322  0.014111  0.179472   \n",
      "exp_rest    0.356798  1.000000  0.086012  0.007291 -0.035017  0.320335   \n",
      "la         -0.078341  0.086012  1.000000 -0.027756  0.240578 -0.005255   \n",
      "pchla      -0.001322  0.007291 -0.027756  1.000000 -0.011660 -0.017071   \n",
      "hncla       0.014111 -0.035017  0.240578 -0.011660  1.000000 -0.215295   \n",
      "Income      0.179472  0.320335 -0.005255 -0.017071 -0.215295  1.000000   \n",
      "health_pay  0.176618  0.312417 -0.001804 -0.021810 -0.196238  0.818193   \n",
      "diab        0.204958 -0.393074 -0.181764 -0.009211  0.140951 -0.250814   \n",
      "obes       -0.070929 -0.592228 -0.090704 -0.009014  0.253197 -0.373363   \n",
      "\n",
      "            health_pay      diab      obes  \n",
      "exp_ff        0.176618  0.204958 -0.070929  \n",
      "exp_rest      0.312417 -0.393074 -0.592228  \n",
      "la           -0.001804 -0.181764 -0.090704  \n",
      "pchla        -0.021810 -0.009211 -0.009014  \n",
      "hncla        -0.196238  0.140951  0.253197  \n",
      "Income        0.818193 -0.250814 -0.373363  \n",
      "health_pay    1.000000 -0.186507 -0.283396  \n",
      "diab         -0.186507  1.000000  0.770301  \n",
      "obes         -0.283396  0.770301  1.000000  \n"
     ]
    }
   ],
   "source": [
    "print(corrs)"
   ]
  },
  {
   "cell_type": "code",
   "execution_count": 49,
   "metadata": {},
   "outputs": [
    {
     "name": "stdout",
     "output_type": "stream",
     "text": [
      "                            OLS Regression Results                            \n",
      "==============================================================================\n",
      "Dep. Variable:                   obes   R-squared:                       0.970\n",
      "Model:                            OLS   Adj. R-squared:                  0.970\n",
      "Method:                 Least Squares   F-statistic:                     6565.\n",
      "Date:                Sun, 28 Oct 2018   Prob (F-statistic):               0.00\n",
      "Time:                        00:49:23   Log-Likelihood:                -3709.7\n",
      "No. Observations:                1208   AIC:                             7431.\n",
      "Df Residuals:                    1202   BIC:                             7462.\n",
      "Df Model:                           6                                         \n",
      "Covariance Type:            nonrobust                                         \n",
      "==============================================================================\n",
      "                 coef    std err          t      P>|t|      [0.025      0.975]\n",
      "------------------------------------------------------------------------------\n",
      "exp_ff         0.0611      0.001     50.763      0.000       0.059       0.063\n",
      "exp_rest      -0.0144      0.001    -12.118      0.000      -0.017      -0.012\n",
      "la             0.0243      0.010      2.553      0.011       0.006       0.043\n",
      "pchla      -5.672e-09   2.37e-07     -0.024      0.981   -4.71e-07     4.6e-07\n",
      "hncla          0.2553      0.037      6.875      0.000       0.182       0.328\n",
      "health_pay    -0.0093      0.002     -5.454      0.000      -0.013      -0.006\n",
      "==============================================================================\n",
      "Omnibus:                       37.547   Durbin-Watson:                   0.568\n",
      "Prob(Omnibus):                  0.000   Jarque-Bera (JB):               41.293\n",
      "Skew:                          -0.407   Prob(JB):                     1.08e-09\n",
      "Kurtosis:                       3.397   Cond. No.                     1.57e+05\n",
      "==============================================================================\n",
      "\n",
      "Warnings:\n",
      "[1] Standard Errors assume that the covariance matrix of the errors is correctly specified.\n",
      "[2] The condition number is large, 1.57e+05. This might indicate that there are\n",
      "strong multicollinearity or other numerical problems.\n"
     ]
    }
   ],
   "source": [
    "import statsmodels.api as sm\n",
    "from statsmodels.sandbox.regression.predstd import wls_prediction_std\n",
    "df.dropna(axis=0, inplace=True)\n",
    "y = df['obes']\n",
    "x = df.drop(['diab', 'obes', 'Income'], axis=1)\n",
    "model = sm.OLS(y, x)\n",
    "res = model.fit()\n",
    "print(res.summary())"
   ]
  },
  {
   "cell_type": "code",
   "execution_count": 121,
   "metadata": {},
   "outputs": [
    {
     "data": {
      "text/plain": [
       "(1219, 3)"
      ]
     },
     "execution_count": 121,
     "metadata": {},
     "output_type": "execute_result"
    }
   ],
   "source": [
    "df1.shape"
   ]
  },
  {
   "cell_type": "code",
   "execution_count": 122,
   "metadata": {},
   "outputs": [
    {
     "data": {
      "text/html": [
       "<div>\n",
       "<style scoped>\n",
       "    .dataframe tbody tr th:only-of-type {\n",
       "        vertical-align: middle;\n",
       "    }\n",
       "\n",
       "    .dataframe tbody tr th {\n",
       "        vertical-align: top;\n",
       "    }\n",
       "\n",
       "    .dataframe thead th {\n",
       "        text-align: right;\n",
       "    }\n",
       "</style>\n",
       "<table border=\"1\" class=\"dataframe\">\n",
       "  <thead>\n",
       "    <tr style=\"text-align: right;\">\n",
       "      <th></th>\n",
       "      <th>FIPS</th>\n",
       "      <th>Income</th>\n",
       "      <th>diabetes</th>\n",
       "    </tr>\n",
       "  </thead>\n",
       "  <tbody>\n",
       "    <tr>\n",
       "      <th>count</th>\n",
       "      <td>1219.000000</td>\n",
       "      <td>1.218000e+03</td>\n",
       "      <td>1219.000000</td>\n",
       "    </tr>\n",
       "    <tr>\n",
       "      <th>mean</th>\n",
       "      <td>14800.328958</td>\n",
       "      <td>1.992099e+05</td>\n",
       "      <td>11.337572</td>\n",
       "    </tr>\n",
       "    <tr>\n",
       "      <th>std</th>\n",
       "      <td>6828.796882</td>\n",
       "      <td>2.901721e+05</td>\n",
       "      <td>2.639538</td>\n",
       "    </tr>\n",
       "    <tr>\n",
       "      <th>min</th>\n",
       "      <td>1001.000000</td>\n",
       "      <td>2.990000e+03</td>\n",
       "      <td>3.300000</td>\n",
       "    </tr>\n",
       "    <tr>\n",
       "      <th>25%</th>\n",
       "      <td>9002.000000</td>\n",
       "      <td>3.993996e+04</td>\n",
       "      <td>9.700000</td>\n",
       "    </tr>\n",
       "    <tr>\n",
       "      <th>50%</th>\n",
       "      <td>17079.000000</td>\n",
       "      <td>8.917333e+04</td>\n",
       "      <td>11.400000</td>\n",
       "    </tr>\n",
       "    <tr>\n",
       "      <th>75%</th>\n",
       "      <td>20108.000000</td>\n",
       "      <td>2.303443e+05</td>\n",
       "      <td>13.000000</td>\n",
       "    </tr>\n",
       "    <tr>\n",
       "      <th>max</th>\n",
       "      <td>26065.000000</td>\n",
       "      <td>2.665477e+06</td>\n",
       "      <td>23.500000</td>\n",
       "    </tr>\n",
       "  </tbody>\n",
       "</table>\n",
       "</div>"
      ],
      "text/plain": [
       "               FIPS        Income     diabetes\n",
       "count   1219.000000  1.218000e+03  1219.000000\n",
       "mean   14800.328958  1.992099e+05    11.337572\n",
       "std     6828.796882  2.901721e+05     2.639538\n",
       "min     1001.000000  2.990000e+03     3.300000\n",
       "25%     9002.000000  3.993996e+04     9.700000\n",
       "50%    17079.000000  8.917333e+04    11.400000\n",
       "75%    20108.000000  2.303443e+05    13.000000\n",
       "max    26065.000000  2.665477e+06    23.500000"
      ]
     },
     "execution_count": 122,
     "metadata": {},
     "output_type": "execute_result"
    }
   ],
   "source": [
    "df1.describe()"
   ]
  },
  {
   "cell_type": "code",
   "execution_count": 123,
   "metadata": {},
   "outputs": [],
   "source": [
    "df1 = df1.dropna(axis=0)"
   ]
  },
  {
   "cell_type": "code",
   "execution_count": 124,
   "metadata": {},
   "outputs": [],
   "source": [
    "df1['diabetes'] = pd.cut(df1['diabetes'], bins = [0,7,25], labels = [\"1\", \"2\"])\n",
    "df1['diabetes'] = df1['diabetes'].astype(int)"
   ]
  },
  {
   "cell_type": "code",
   "execution_count": 127,
   "metadata": {},
   "outputs": [
    {
     "data": {
      "image/png": "[encoded data removed]",
      "text/plain": [
       "<Figure size 720x576 with 1 Axes>"
      ]
     },
     "metadata": {},
     "output_type": "display_data"
    }
   ],
   "source": [
    "plt.figure(figsize = (10, 8))\n",
    "\n",
    "df = df1[['diabetes', 'Income']]\n",
    "\n",
    "# KDE plot of passengers who did not survive \n",
    "sns.kdeplot(df.loc[df['diabetes'] == 1, 'Income'], label = 'diabetes_rate == 1')\n",
    "\n",
    "# KDE plot of passengers who survived\n",
    "sns.kdeplot(df.loc[df['diabetes'] == 2, 'Income'], label = 'diabetes_rate == 2')\n",
    "\n",
    "# Labeling of plot\n",
    "plt.xlabel('Income (dollars)'); plt.ylabel('Density'); plt.title('Distribution of Income');"
   ]
  },
  {
   "cell_type": "code",
   "execution_count": 125,
   "metadata": {},
   "outputs": [],
   "source": [
    "# Function to plot the classes of the variables\n",
    "def random_color_generator(number_of_colors):\n",
    "    color = [\"#\"+''.join([random.choice('0123456789ABCDEF') for j in range(6)])\n",
    "                 for i in range(number_of_colors)]\n",
    "    return color\n",
    "\n",
    "def get_percent(df, temp_col, width=800, height=500):\n",
    "    cnt_srs = df[[temp_col, 'diabetes']].groupby([temp_col], as_index=False).mean().sort_values(by=temp_col)\n",
    "\n",
    "    trace = go.Bar(\n",
    "        x = cnt_srs[temp_col].values[::-1],\n",
    "        y = cnt_srs['diabetes'].values[::-1],\n",
    "        text = cnt_srs.values[::-1],\n",
    "        textposition = 'auto',\n",
    "        name = \"Percent\",\n",
    "        textfont = dict(\n",
    "            size=12,\n",
    "            color='rgb(0, 0, 0)'\n",
    "        ),\n",
    "        orientation = 'v',\n",
    "            marker = dict(\n",
    "                color = random_color_generator(100),\n",
    "                line=dict(color='rgb(8,48,107)',\n",
    "                  width=1.5,)\n",
    "            ),\n",
    "            opacity = 0.7,\n",
    "    )    \n",
    "    return trace\n",
    "\n",
    "def get_count(df, temp_col, width=800, height=500):\n",
    "    cnt_srs = df[temp_col].value_counts().sort_index()\n",
    "\n",
    "    trace = go.Bar(\n",
    "        x = cnt_srs.index[::-1],\n",
    "        y = cnt_srs.values[::-1],\n",
    "        text = cnt_srs.values[::-1],\n",
    "        textposition = 'auto',\n",
    "        textfont = dict(\n",
    "            size=0,\n",
    "            color='rgb(0, 0, 0)'\n",
    "        ),\n",
    "        name = 'Count',\n",
    "        orientation = 'v',\n",
    "            marker = dict(\n",
    "                color = random_color_generator(100),\n",
    "                line=dict(color='rgb(8,48,107)',\n",
    "                  width=1.5,)\n",
    "            ),\n",
    "            opacity = 0.7,\n",
    "    )    \n",
    "    return trace\n",
    "\n",
    "def plot_count_percent_for_object(df, temp_col, height=400):\n",
    "    trace1 = get_count(df, temp_col)\n",
    "    trace2 = get_percent(df, temp_col)\n",
    "\n",
    "    fig = tools.make_subplots(rows=1, cols=2, subplot_titles=('Count', 'Percent'), print_grid=False)\n",
    "    fig.append_trace(trace1, 1, 1)\n",
    "    fig.append_trace(trace2, 1, 2)\n",
    "\n",
    "    fig['layout']['yaxis1'].update(title='Count')\n",
    "    fig['layout']['yaxis2'].update(range=[0, 1], title='% diabetes_rate')\n",
    "    fig['layout'].update(title = temp_col, margin=dict(l=100), width=800, height=height, showlegend=False)\n",
    "\n",
    "    py.iplot(fig)"
   ]
  },
  {
   "cell_type": "code",
   "execution_count": 112,
   "metadata": {},
   "outputs": [],
   "source": [
    "df1['Income'] = pd.cut(df1['Income'], 4, labels = [\"lower\", \"lower_middle\", \"upper_middle\", \"upper\"])\n"
   ]
  },
  {
   "cell_type": "code",
   "execution_count": 114,
   "metadata": {},
   "outputs": [
    {
     "data": {
      "text/html": [
       "<div>\n",
       "<style scoped>\n",
       "    .dataframe tbody tr th:only-of-type {\n",
       "        vertical-align: middle;\n",
       "    }\n",
       "\n",
       "    .dataframe tbody tr th {\n",
       "        vertical-align: top;\n",
       "    }\n",
       "\n",
       "    .dataframe thead th {\n",
       "        text-align: right;\n",
       "    }\n",
       "</style>\n",
       "<table border=\"1\" class=\"dataframe\">\n",
       "  <thead>\n",
       "    <tr style=\"text-align: right;\">\n",
       "      <th></th>\n",
       "      <th>FIPS</th>\n",
       "      <th>Income</th>\n",
       "      <th>diabetes</th>\n",
       "    </tr>\n",
       "  </thead>\n",
       "  <tbody>\n",
       "    <tr>\n",
       "      <th>0</th>\n",
       "      <td>1001</td>\n",
       "      <td>lower</td>\n",
       "      <td>2</td>\n",
       "    </tr>\n",
       "    <tr>\n",
       "      <th>1</th>\n",
       "      <td>1003</td>\n",
       "      <td>lower</td>\n",
       "      <td>2</td>\n",
       "    </tr>\n",
       "    <tr>\n",
       "      <th>2</th>\n",
       "      <td>1005</td>\n",
       "      <td>lower</td>\n",
       "      <td>2</td>\n",
       "    </tr>\n",
       "    <tr>\n",
       "      <th>3</th>\n",
       "      <td>1007</td>\n",
       "      <td>lower</td>\n",
       "      <td>2</td>\n",
       "    </tr>\n",
       "    <tr>\n",
       "      <th>4</th>\n",
       "      <td>1009</td>\n",
       "      <td>lower</td>\n",
       "      <td>2</td>\n",
       "    </tr>\n",
       "    <tr>\n",
       "      <th>5</th>\n",
       "      <td>1011</td>\n",
       "      <td>lower</td>\n",
       "      <td>2</td>\n",
       "    </tr>\n",
       "    <tr>\n",
       "      <th>6</th>\n",
       "      <td>1013</td>\n",
       "      <td>lower</td>\n",
       "      <td>2</td>\n",
       "    </tr>\n",
       "    <tr>\n",
       "      <th>7</th>\n",
       "      <td>1015</td>\n",
       "      <td>lower</td>\n",
       "      <td>2</td>\n",
       "    </tr>\n",
       "    <tr>\n",
       "      <th>8</th>\n",
       "      <td>1017</td>\n",
       "      <td>lower</td>\n",
       "      <td>2</td>\n",
       "    </tr>\n",
       "    <tr>\n",
       "      <th>9</th>\n",
       "      <td>1019</td>\n",
       "      <td>lower</td>\n",
       "      <td>2</td>\n",
       "    </tr>\n",
       "    <tr>\n",
       "      <th>10</th>\n",
       "      <td>1021</td>\n",
       "      <td>lower</td>\n",
       "      <td>2</td>\n",
       "    </tr>\n",
       "    <tr>\n",
       "      <th>11</th>\n",
       "      <td>1023</td>\n",
       "      <td>lower</td>\n",
       "      <td>2</td>\n",
       "    </tr>\n",
       "    <tr>\n",
       "      <th>12</th>\n",
       "      <td>1025</td>\n",
       "      <td>lower</td>\n",
       "      <td>2</td>\n",
       "    </tr>\n",
       "    <tr>\n",
       "      <th>13</th>\n",
       "      <td>1027</td>\n",
       "      <td>lower</td>\n",
       "      <td>2</td>\n",
       "    </tr>\n",
       "    <tr>\n",
       "      <th>14</th>\n",
       "      <td>1029</td>\n",
       "      <td>lower</td>\n",
       "      <td>2</td>\n",
       "    </tr>\n",
       "  </tbody>\n",
       "</table>\n",
       "</div>"
      ],
      "text/plain": [
       "    FIPS Income  diabetes\n",
       "0   1001  lower         2\n",
       "1   1003  lower         2\n",
       "2   1005  lower         2\n",
       "3   1007  lower         2\n",
       "4   1009  lower         2\n",
       "5   1011  lower         2\n",
       "6   1013  lower         2\n",
       "7   1015  lower         2\n",
       "8   1017  lower         2\n",
       "9   1019  lower         2\n",
       "10  1021  lower         2\n",
       "11  1023  lower         2\n",
       "12  1025  lower         2\n",
       "13  1027  lower         2\n",
       "14  1029  lower         2"
      ]
     },
     "execution_count": 114,
     "metadata": {},
     "output_type": "execute_result"
    }
   ],
   "source": [
    "df1.head(15)"
   ]
  },
  {
   "cell_type": "code",
   "execution_count": 113,
   "metadata": {},
   "outputs": [
    {
     "ename": "ValueError",
     "evalue": "Grouper for 'diabetes' not 1-dimensional",
     "output_type": "error",
     "traceback": [
      "\u001b[1;31m---------------------------------------------------------------------------\u001b[0m",
      "\u001b[1;31mValueError\u001b[0m                                Traceback (most recent call last)",
      "\u001b[1;32m<ipython-input-113-e423727c8fe3>\u001b[0m in \u001b[0;36m<module>\u001b[1;34m()\u001b[0m\n\u001b[0;32m      1\u001b[0m \u001b[0mtemp_col\u001b[0m \u001b[1;33m=\u001b[0m \u001b[0mdf1\u001b[0m\u001b[1;33m.\u001b[0m\u001b[0mcolumns\u001b[0m\u001b[1;33m.\u001b[0m\u001b[0mvalues\u001b[0m\u001b[1;33m[\u001b[0m\u001b[1;36m2\u001b[0m\u001b[1;33m]\u001b[0m\u001b[1;33m\u001b[0m\u001b[0m\n\u001b[1;32m----> 2\u001b[1;33m \u001b[0mplot_count_percent_for_object\u001b[0m\u001b[1;33m(\u001b[0m\u001b[0mdf1\u001b[0m\u001b[1;33m,\u001b[0m \u001b[0mtemp_col\u001b[0m\u001b[1;33m)\u001b[0m\u001b[1;33m\u001b[0m\u001b[0m\n\u001b[0m",
      "\u001b[1;32m<ipython-input-111-c671bd5028ab>\u001b[0m in \u001b[0;36mplot_count_percent_for_object\u001b[1;34m(df, temp_col, height)\u001b[0m\n\u001b[0;32m     53\u001b[0m \u001b[1;32mdef\u001b[0m \u001b[0mplot_count_percent_for_object\u001b[0m\u001b[1;33m(\u001b[0m\u001b[0mdf\u001b[0m\u001b[1;33m,\u001b[0m \u001b[0mtemp_col\u001b[0m\u001b[1;33m,\u001b[0m \u001b[0mheight\u001b[0m\u001b[1;33m=\u001b[0m\u001b[1;36m400\u001b[0m\u001b[1;33m)\u001b[0m\u001b[1;33m:\u001b[0m\u001b[1;33m\u001b[0m\u001b[0m\n\u001b[0;32m     54\u001b[0m     \u001b[0mtrace1\u001b[0m \u001b[1;33m=\u001b[0m \u001b[0mget_count\u001b[0m\u001b[1;33m(\u001b[0m\u001b[0mdf\u001b[0m\u001b[1;33m,\u001b[0m \u001b[0mtemp_col\u001b[0m\u001b[1;33m)\u001b[0m\u001b[1;33m\u001b[0m\u001b[0m\n\u001b[1;32m---> 55\u001b[1;33m     \u001b[0mtrace2\u001b[0m \u001b[1;33m=\u001b[0m \u001b[0mget_percent\u001b[0m\u001b[1;33m(\u001b[0m\u001b[0mdf\u001b[0m\u001b[1;33m,\u001b[0m \u001b[0mtemp_col\u001b[0m\u001b[1;33m)\u001b[0m\u001b[1;33m\u001b[0m\u001b[0m\n\u001b[0m\u001b[0;32m     56\u001b[0m \u001b[1;33m\u001b[0m\u001b[0m\n\u001b[0;32m     57\u001b[0m     \u001b[0mfig\u001b[0m \u001b[1;33m=\u001b[0m \u001b[0mtools\u001b[0m\u001b[1;33m.\u001b[0m\u001b[0mmake_subplots\u001b[0m\u001b[1;33m(\u001b[0m\u001b[0mrows\u001b[0m\u001b[1;33m=\u001b[0m\u001b[1;36m1\u001b[0m\u001b[1;33m,\u001b[0m \u001b[0mcols\u001b[0m\u001b[1;33m=\u001b[0m\u001b[1;36m2\u001b[0m\u001b[1;33m,\u001b[0m \u001b[0msubplot_titles\u001b[0m\u001b[1;33m=\u001b[0m\u001b[1;33m(\u001b[0m\u001b[1;34m'Count'\u001b[0m\u001b[1;33m,\u001b[0m \u001b[1;34m'Percent'\u001b[0m\u001b[1;33m)\u001b[0m\u001b[1;33m,\u001b[0m \u001b[0mprint_grid\u001b[0m\u001b[1;33m=\u001b[0m\u001b[1;32mFalse\u001b[0m\u001b[1;33m)\u001b[0m\u001b[1;33m\u001b[0m\u001b[0m\n",
      "\u001b[1;32m<ipython-input-111-c671bd5028ab>\u001b[0m in \u001b[0;36mget_percent\u001b[1;34m(df, temp_col, width, height)\u001b[0m\n\u001b[0;32m      6\u001b[0m \u001b[1;33m\u001b[0m\u001b[0m\n\u001b[0;32m      7\u001b[0m \u001b[1;32mdef\u001b[0m \u001b[0mget_percent\u001b[0m\u001b[1;33m(\u001b[0m\u001b[0mdf\u001b[0m\u001b[1;33m,\u001b[0m \u001b[0mtemp_col\u001b[0m\u001b[1;33m,\u001b[0m \u001b[0mwidth\u001b[0m\u001b[1;33m=\u001b[0m\u001b[1;36m800\u001b[0m\u001b[1;33m,\u001b[0m \u001b[0mheight\u001b[0m\u001b[1;33m=\u001b[0m\u001b[1;36m500\u001b[0m\u001b[1;33m)\u001b[0m\u001b[1;33m:\u001b[0m\u001b[1;33m\u001b[0m\u001b[0m\n\u001b[1;32m----> 8\u001b[1;33m     \u001b[0mcnt_srs\u001b[0m \u001b[1;33m=\u001b[0m \u001b[0mdf\u001b[0m\u001b[1;33m[\u001b[0m\u001b[1;33m[\u001b[0m\u001b[0mtemp_col\u001b[0m\u001b[1;33m,\u001b[0m \u001b[1;34m'diabetes'\u001b[0m\u001b[1;33m]\u001b[0m\u001b[1;33m]\u001b[0m\u001b[1;33m.\u001b[0m\u001b[0mgroupby\u001b[0m\u001b[1;33m(\u001b[0m\u001b[1;33m[\u001b[0m\u001b[0mtemp_col\u001b[0m\u001b[1;33m]\u001b[0m\u001b[1;33m,\u001b[0m \u001b[0mas_index\u001b[0m\u001b[1;33m=\u001b[0m\u001b[1;32mFalse\u001b[0m\u001b[1;33m)\u001b[0m\u001b[1;33m.\u001b[0m\u001b[0mmean\u001b[0m\u001b[1;33m(\u001b[0m\u001b[1;33m)\u001b[0m\u001b[1;33m.\u001b[0m\u001b[0msort_values\u001b[0m\u001b[1;33m(\u001b[0m\u001b[0mby\u001b[0m\u001b[1;33m=\u001b[0m\u001b[0mtemp_col\u001b[0m\u001b[1;33m)\u001b[0m\u001b[1;33m\u001b[0m\u001b[0m\n\u001b[0m\u001b[0;32m      9\u001b[0m \u001b[1;33m\u001b[0m\u001b[0m\n\u001b[0;32m     10\u001b[0m     trace = go.Bar(\n",
      "\u001b[1;32mc:\\python1\\lib\\site-packages\\pandas\\core\\generic.py\u001b[0m in \u001b[0;36mgroupby\u001b[1;34m(self, by, axis, level, as_index, sort, group_keys, squeeze, observed, **kwargs)\u001b[0m\n\u001b[0;32m   6657\u001b[0m         return groupby(self, by=by, axis=axis, level=level, as_index=as_index,\n\u001b[0;32m   6658\u001b[0m                        \u001b[0msort\u001b[0m\u001b[1;33m=\u001b[0m\u001b[0msort\u001b[0m\u001b[1;33m,\u001b[0m \u001b[0mgroup_keys\u001b[0m\u001b[1;33m=\u001b[0m\u001b[0mgroup_keys\u001b[0m\u001b[1;33m,\u001b[0m \u001b[0msqueeze\u001b[0m\u001b[1;33m=\u001b[0m\u001b[0msqueeze\u001b[0m\u001b[1;33m,\u001b[0m\u001b[1;33m\u001b[0m\u001b[0m\n\u001b[1;32m-> 6659\u001b[1;33m                        observed=observed, **kwargs)\n\u001b[0m\u001b[0;32m   6660\u001b[0m \u001b[1;33m\u001b[0m\u001b[0m\n\u001b[0;32m   6661\u001b[0m     def asfreq(self, freq, method=None, how=None, normalize=False,\n",
      "\u001b[1;32mc:\\python1\\lib\\site-packages\\pandas\\core\\groupby\\groupby.py\u001b[0m in \u001b[0;36mgroupby\u001b[1;34m(obj, by, **kwds)\u001b[0m\n\u001b[0;32m   2150\u001b[0m         \u001b[1;32mraise\u001b[0m \u001b[0mTypeError\u001b[0m\u001b[1;33m(\u001b[0m\u001b[1;34m'invalid type: %s'\u001b[0m \u001b[1;33m%\u001b[0m \u001b[0mtype\u001b[0m\u001b[1;33m(\u001b[0m\u001b[0mobj\u001b[0m\u001b[1;33m)\u001b[0m\u001b[1;33m)\u001b[0m\u001b[1;33m\u001b[0m\u001b[0m\n\u001b[0;32m   2151\u001b[0m \u001b[1;33m\u001b[0m\u001b[0m\n\u001b[1;32m-> 2152\u001b[1;33m     \u001b[1;32mreturn\u001b[0m \u001b[0mklass\u001b[0m\u001b[1;33m(\u001b[0m\u001b[0mobj\u001b[0m\u001b[1;33m,\u001b[0m \u001b[0mby\u001b[0m\u001b[1;33m,\u001b[0m \u001b[1;33m**\u001b[0m\u001b[0mkwds\u001b[0m\u001b[1;33m)\u001b[0m\u001b[1;33m\u001b[0m\u001b[0m\n\u001b[0m\u001b[0;32m   2153\u001b[0m \u001b[1;33m\u001b[0m\u001b[0m\n\u001b[0;32m   2154\u001b[0m \u001b[1;33m\u001b[0m\u001b[0m\n",
      "\u001b[1;32mc:\\python1\\lib\\site-packages\\pandas\\core\\groupby\\groupby.py\u001b[0m in \u001b[0;36m__init__\u001b[1;34m(self, obj, keys, axis, level, grouper, exclusions, selection, as_index, sort, group_keys, squeeze, observed, **kwargs)\u001b[0m\n\u001b[0;32m    597\u001b[0m                                                     \u001b[0msort\u001b[0m\u001b[1;33m=\u001b[0m\u001b[0msort\u001b[0m\u001b[1;33m,\u001b[0m\u001b[1;33m\u001b[0m\u001b[0m\n\u001b[0;32m    598\u001b[0m                                                     \u001b[0mobserved\u001b[0m\u001b[1;33m=\u001b[0m\u001b[0mobserved\u001b[0m\u001b[1;33m,\u001b[0m\u001b[1;33m\u001b[0m\u001b[0m\n\u001b[1;32m--> 599\u001b[1;33m                                                     mutated=self.mutated)\n\u001b[0m\u001b[0;32m    600\u001b[0m \u001b[1;33m\u001b[0m\u001b[0m\n\u001b[0;32m    601\u001b[0m         \u001b[0mself\u001b[0m\u001b[1;33m.\u001b[0m\u001b[0mobj\u001b[0m \u001b[1;33m=\u001b[0m \u001b[0mobj\u001b[0m\u001b[1;33m\u001b[0m\u001b[0m\n",
      "\u001b[1;32mc:\\python1\\lib\\site-packages\\pandas\\core\\groupby\\groupby.py\u001b[0m in \u001b[0;36m_get_grouper\u001b[1;34m(obj, key, axis, level, sort, observed, mutated, validate)\u001b[0m\n\u001b[0;32m   3313\u001b[0m                         \u001b[0mobserved\u001b[0m\u001b[1;33m=\u001b[0m\u001b[0mobserved\u001b[0m\u001b[1;33m,\u001b[0m\u001b[1;33m\u001b[0m\u001b[0m\n\u001b[0;32m   3314\u001b[0m                         in_axis=in_axis) \\\n\u001b[1;32m-> 3315\u001b[1;33m             \u001b[1;32mif\u001b[0m \u001b[1;32mnot\u001b[0m \u001b[0misinstance\u001b[0m\u001b[1;33m(\u001b[0m\u001b[0mgpr\u001b[0m\u001b[1;33m,\u001b[0m \u001b[0mGrouping\u001b[0m\u001b[1;33m)\u001b[0m \u001b[1;32melse\u001b[0m \u001b[0mgpr\u001b[0m\u001b[1;33m\u001b[0m\u001b[0m\n\u001b[0m\u001b[0;32m   3316\u001b[0m \u001b[1;33m\u001b[0m\u001b[0m\n\u001b[0;32m   3317\u001b[0m         \u001b[0mgroupings\u001b[0m\u001b[1;33m.\u001b[0m\u001b[0mappend\u001b[0m\u001b[1;33m(\u001b[0m\u001b[0mping\u001b[0m\u001b[1;33m)\u001b[0m\u001b[1;33m\u001b[0m\u001b[0m\n",
      "\u001b[1;32mc:\\python1\\lib\\site-packages\\pandas\\core\\groupby\\groupby.py\u001b[0m in \u001b[0;36m__init__\u001b[1;34m(self, index, grouper, obj, name, level, sort, observed, in_axis)\u001b[0m\n\u001b[0;32m   3023\u001b[0m                 \u001b[1;32mif\u001b[0m \u001b[0mgetattr\u001b[0m\u001b[1;33m(\u001b[0m\u001b[0mself\u001b[0m\u001b[1;33m.\u001b[0m\u001b[0mgrouper\u001b[0m\u001b[1;33m,\u001b[0m \u001b[1;34m'ndim'\u001b[0m\u001b[1;33m,\u001b[0m \u001b[1;36m1\u001b[0m\u001b[1;33m)\u001b[0m \u001b[1;33m!=\u001b[0m \u001b[1;36m1\u001b[0m\u001b[1;33m:\u001b[0m\u001b[1;33m\u001b[0m\u001b[0m\n\u001b[0;32m   3024\u001b[0m                     \u001b[0mt\u001b[0m \u001b[1;33m=\u001b[0m \u001b[0mself\u001b[0m\u001b[1;33m.\u001b[0m\u001b[0mname\u001b[0m \u001b[1;32mor\u001b[0m \u001b[0mstr\u001b[0m\u001b[1;33m(\u001b[0m\u001b[0mtype\u001b[0m\u001b[1;33m(\u001b[0m\u001b[0mself\u001b[0m\u001b[1;33m.\u001b[0m\u001b[0mgrouper\u001b[0m\u001b[1;33m)\u001b[0m\u001b[1;33m)\u001b[0m\u001b[1;33m\u001b[0m\u001b[0m\n\u001b[1;32m-> 3025\u001b[1;33m                     \u001b[1;32mraise\u001b[0m \u001b[0mValueError\u001b[0m\u001b[1;33m(\u001b[0m\u001b[1;34m\"Grouper for '%s' not 1-dimensional\"\u001b[0m \u001b[1;33m%\u001b[0m \u001b[0mt\u001b[0m\u001b[1;33m)\u001b[0m\u001b[1;33m\u001b[0m\u001b[0m\n\u001b[0m\u001b[0;32m   3026\u001b[0m                 \u001b[0mself\u001b[0m\u001b[1;33m.\u001b[0m\u001b[0mgrouper\u001b[0m \u001b[1;33m=\u001b[0m \u001b[0mself\u001b[0m\u001b[1;33m.\u001b[0m\u001b[0mindex\u001b[0m\u001b[1;33m.\u001b[0m\u001b[0mmap\u001b[0m\u001b[1;33m(\u001b[0m\u001b[0mself\u001b[0m\u001b[1;33m.\u001b[0m\u001b[0mgrouper\u001b[0m\u001b[1;33m)\u001b[0m\u001b[1;33m\u001b[0m\u001b[0m\n\u001b[0;32m   3027\u001b[0m                 if not (hasattr(self.grouper, \"__len__\") and\n",
      "\u001b[1;31mValueError\u001b[0m: Grouper for 'diabetes' not 1-dimensional"
     ]
    }
   ],
   "source": [
    "temp_col = df1.columns.values[2]\n",
    "plot_count_percent_for_object(df1, temp_col)"
   ]
  },
  {
   "cell_type": "code",
   "execution_count": 72,
   "metadata": {},
   "outputs": [
    {
     "data": {
      "text/plain": [
       "[2, 3, 1]\n",
       "Categories (3, object): [1 < 2 < 3]"
      ]
     },
     "execution_count": 72,
     "metadata": {},
     "output_type": "execute_result"
    }
   ],
   "source": [
    "df1['diabetes'].unique()"
   ]
  },
  {
   "cell_type": "code",
   "execution_count": 71,
   "metadata": {},
   "outputs": [
    {
     "data": {
      "image/png": "[encoded data removed]",
      "text/plain": [
       "<Figure size 432x288 with 1 Axes>"
      ]
     },
     "metadata": {},
     "output_type": "display_data"
    }
   ],
   "source": [
    "plt.scatter(df1['diabetes'], df1['Income'])\n",
    "plt.show()"
   ]
  },
  {
   "cell_type": "code",
   "execution_count": 27,
   "metadata": {},
   "outputs": [
    {
     "ename": "AttributeError",
     "evalue": "'function' object has no attribute 'head'",
     "output_type": "error",
     "traceback": [
      "\u001b[1;31m---------------------------------------------------------------------------\u001b[0m",
      "\u001b[1;31mAttributeError\u001b[0m                            Traceback (most recent call last)",
      "\u001b[1;32m<ipython-input-27-98a19e0d820c>\u001b[0m in \u001b[0;36m<module>\u001b[1;34m()\u001b[0m\n\u001b[1;32m----> 1\u001b[1;33m \u001b[0mprint\u001b[0m\u001b[1;33m(\u001b[0m\u001b[0mdf1\u001b[0m\u001b[1;33m.\u001b[0m\u001b[0mhead\u001b[0m\u001b[1;33m(\u001b[0m\u001b[1;33m)\u001b[0m\u001b[1;33m)\u001b[0m\u001b[1;33m\u001b[0m\u001b[0m\n\u001b[0m",
      "\u001b[1;31mAttributeError\u001b[0m: 'function' object has no attribute 'head'"
     ]
    }
   ],
   "source": [
    "print(df1.head())"
   ]
  },
  {
   "cell_type": "code",
   "execution_count": 44,
   "metadata": {},
   "outputs": [
    {
     "data": {
      "text/plain": [
       "\"df1['Income'] = df1['Income']/(df1['Income'].max() - df1['Income'].min())\\ndf1['diabetes'] = df1['diabetes']/(df1['diabetes'].max() - df1['diabetes'].min())\\nprint(df1.head())\""
      ]
     },
     "execution_count": 44,
     "metadata": {},
     "output_type": "execute_result"
    }
   ],
   "source": [
    "'''df1['Income'] = df1['Income']/(df1['Income'].max() - df1['Income'].min())\n",
    "df1['diabetes'] = df1['diabetes']/(df1['diabetes'].max() - df1['diabetes'].min())\n",
    "print(df1.head())'''"
   ]
  },
  {
   "cell_type": "code",
   "execution_count": 43,
   "metadata": {},
   "outputs": [
    {
     "data": {
      "image/png": "[encoded data removed]",
      "text/plain": [
       "<Figure size 432x288 with 1 Axes>"
      ]
     },
     "metadata": {},
     "output_type": "display_data"
    }
   ],
   "source": [
    "plt.scatter(df1['diabetes'], df1['Income'])\n",
    "plt.show()"
   ]
  },
  {
   "cell_type": "code",
   "execution_count": 19,
   "metadata": {},
   "outputs": [
    {
     "data": {
      "text/html": [
       "<div>\n",
       "<style scoped>\n",
       "    .dataframe tbody tr th:only-of-type {\n",
       "        vertical-align: middle;\n",
       "    }\n",
       "\n",
       "    .dataframe tbody tr th {\n",
       "        vertical-align: top;\n",
       "    }\n",
       "\n",
       "    .dataframe thead th {\n",
       "        text-align: right;\n",
       "    }\n",
       "</style>\n",
       "<table border=\"1\" class=\"dataframe\">\n",
       "  <thead>\n",
       "    <tr style=\"text-align: right;\">\n",
       "      <th></th>\n",
       "      <th>FIPS</th>\n",
       "      <th>access_count</th>\n",
       "    </tr>\n",
       "  </thead>\n",
       "  <tbody>\n",
       "    <tr>\n",
       "      <th>0</th>\n",
       "      <td>1001</td>\n",
       "      <td>6543.676824</td>\n",
       "    </tr>\n",
       "    <tr>\n",
       "      <th>1</th>\n",
       "      <td>1003</td>\n",
       "      <td>9886.831137</td>\n",
       "    </tr>\n",
       "    <tr>\n",
       "      <th>2</th>\n",
       "      <td>1005</td>\n",
       "      <td>2948.790251</td>\n",
       "    </tr>\n",
       "    <tr>\n",
       "      <th>3</th>\n",
       "      <td>1007</td>\n",
       "      <td>596.162829</td>\n",
       "    </tr>\n",
       "    <tr>\n",
       "      <th>4</th>\n",
       "      <td>1009</td>\n",
       "      <td>1650.959482</td>\n",
       "    </tr>\n",
       "  </tbody>\n",
       "</table>\n",
       "</div>"
      ],
      "text/plain": [
       "   FIPS  access_count\n",
       "0  1001   6543.676824\n",
       "1  1003   9886.831137\n",
       "2  1005   2948.790251\n",
       "3  1007    596.162829\n",
       "4  1009   1650.959482"
      ]
     },
     "execution_count": 19,
     "metadata": {},
     "output_type": "execute_result"
    }
   ],
   "source": [
    "df2 = pd.DataFrame()\n",
    "df2['FIPS'] = access['FIPS']\n",
    "df2['access_count'] = access['LACCESS_LOWI15']\n",
    "df2.head()"
   ]
  },
  {
   "cell_type": "code",
   "execution_count": 22,
   "metadata": {},
   "outputs": [
    {
     "data": {
      "text/html": [
       "<div>\n",
       "<style scoped>\n",
       "    .dataframe tbody tr th:only-of-type {\n",
       "        vertical-align: middle;\n",
       "    }\n",
       "\n",
       "    .dataframe tbody tr th {\n",
       "        vertical-align: top;\n",
       "    }\n",
       "\n",
       "    .dataframe thead th {\n",
       "        text-align: right;\n",
       "    }\n",
       "</style>\n",
       "<table border=\"1\" class=\"dataframe\">\n",
       "  <thead>\n",
       "    <tr style=\"text-align: right;\">\n",
       "      <th></th>\n",
       "      <th>FIPS</th>\n",
       "      <th>access_count</th>\n",
       "      <th>diabetes</th>\n",
       "    </tr>\n",
       "  </thead>\n",
       "  <tbody>\n",
       "    <tr>\n",
       "      <th>0</th>\n",
       "      <td>1001</td>\n",
       "      <td>6543.676824</td>\n",
       "      <td>13.0</td>\n",
       "    </tr>\n",
       "    <tr>\n",
       "      <th>1</th>\n",
       "      <td>1003</td>\n",
       "      <td>9886.831137</td>\n",
       "      <td>10.4</td>\n",
       "    </tr>\n",
       "    <tr>\n",
       "      <th>2</th>\n",
       "      <td>1005</td>\n",
       "      <td>2948.790251</td>\n",
       "      <td>18.4</td>\n",
       "    </tr>\n",
       "    <tr>\n",
       "      <th>3</th>\n",
       "      <td>1007</td>\n",
       "      <td>596.162829</td>\n",
       "      <td>14.8</td>\n",
       "    </tr>\n",
       "    <tr>\n",
       "      <th>4</th>\n",
       "      <td>1009</td>\n",
       "      <td>1650.959482</td>\n",
       "      <td>14.1</td>\n",
       "    </tr>\n",
       "  </tbody>\n",
       "</table>\n",
       "</div>"
      ],
      "text/plain": [
       "   FIPS  access_count  diabetes\n",
       "0  1001   6543.676824      13.0\n",
       "1  1003   9886.831137      10.4\n",
       "2  1005   2948.790251      18.4\n",
       "3  1007    596.162829      14.8\n",
       "4  1009   1650.959482      14.1"
      ]
     },
     "execution_count": 22,
     "metadata": {},
     "output_type": "execute_result"
    }
   ],
   "source": [
    "df3 = df2.merge(df1, how='left', on='FIPS')\n",
    "df3.head()"
   ]
  },
  {
   "cell_type": "code",
   "execution_count": null,
   "metadata": {},
   "outputs": [],
   "source": [
    "df1['Income'] = health_irs['A02650']"
   ]
  },
  {
   "cell_type": "code",
   "execution_count": 27,
   "metadata": {},
   "outputs": [
    {
     "data": {
      "image/png": "[encoded data removed]",
      "text/plain": [
       "<Figure size 432x288 with 1 Axes>"
      ]
     },
     "metadata": {},
     "output_type": "display_data"
    }
   ],
   "source": [
    "plt.scatter(df3['diabetes'], df3['access_count'])\n",
    "plt.show()"
   ]
  },
  {
   "cell_type": "code",
   "execution_count": null,
   "metadata": {},
   "outputs": [],
   "source": []
  }
 ],
 "metadata": {
  "kernelspec": {
   "display_name": "Python 3",
   "language": "python",
   "name": "python3"
  },
  "language_info": {
   "codemirror_mode": {
    "name": "ipython",
    "version": 3
   },
   "file_extension": ".py",
   "mimetype": "text/x-python",
   "name": "python",
   "nbconvert_exporter": "python",
   "pygments_lexer": "ipython3",
   "version": "3.6.5"
  }
 },
 "nbformat": 4,
 "nbformat_minor": 2
}
