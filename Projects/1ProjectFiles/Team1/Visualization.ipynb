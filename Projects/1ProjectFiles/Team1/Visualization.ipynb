{
  "nbformat": 4,
  "nbformat_minor": 0,
  "metadata": {
    "colab": {
      "name": "Visualization.ipynb",
      "version": "0.3.2",
      "provenance": [],
      "collapsed_sections": []
    },
    "kernelspec": {
      "name": "python3",
      "display_name": "Python 3"
    }
  },
  "cells": [
    {
      "metadata": {
        "id": "CrPxfnTv3QFV",
        "colab_type": "code",
        "colab": {}
      },
      "cell_type": "code",
      "source": [
        " from google.colab import files\n",
        "uploaded = files.upload()"
      ],
      "execution_count": 0,
      "outputs": []
    },
    {
      "metadata": {
        "id": "XVgxa25a3UiU",
        "colab_type": "code",
        "colab": {}
      },
      "cell_type": "code",
      "source": [
        "import plotly\n",
        "import plotly.plotly as py\n",
        "import plotly.figure_factory as ff\n",
        "import pandas as pd\n",
        "df = pd.read_csv('Merged_Data.csv')\n",
        "\n",
        "fips= df['FIPS']\n",
        "values = df['N1']\n",
        "\n",
        "fig = ff.create_choropleth(fips=fips, values=values)\n",
        "py.iplot(fig, filename='choropleth of some cali counties - full usa scope')\n",
        "\n"
      ],
      "execution_count": 0,
      "outputs": []
    },
    {
      "metadata": {
        "id": "eqcnndCg3exH",
        "colab_type": "code",
        "colab": {}
      },
      "cell_type": "code",
      "source": [
        "values = df['PCT_DIABETES_ADULTS13']\n",
        "\n",
        "fig = ff.create_choropleth(fips=fips, values=values)\n",
        "py.iplot(fig, filename='choropleth of some cali counties - full usa scope')"
      ],
      "execution_count": 0,
      "outputs": []
    },
    {
      "metadata": {
        "id": "_wAxC88Z3e0O",
        "colab_type": "code",
        "colab": {}
      },
      "cell_type": "code",
      "source": [
        "values = df['PCT_OBESE_ADULTS13']\n",
        "\n",
        "fig = ff.create_choropleth(fips=fips, values=values)\n",
        "py.iplot(fig, filename='choropleth of some cali counties - full usa scope')"
      ],
      "execution_count": 0,
      "outputs": []
    }
  ]
}