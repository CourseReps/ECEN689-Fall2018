from google.colab import files
uploaded = files.upload()

import plotly
import plotly.plotly as py
import plotly.figure_factory as ff
import pandas as pd
df = pd.read_csv('Merged_Data.csv')

fips= df['FIPS']
values = df['N1']

fig = ff.create_choropleth(fips=fips, values=values)
py.iplot(fig, filename='choropleth of some cali counties - full usa scope')


values = df['PCT_DIABETES_ADULTS13']

fig = ff.create_choropleth(fips=fips, values=values)
py.iplot(fig, filename='choropleth of some cali counties - full usa scope')


values = df['PCT_OBESE_ADULTS13']

fig = ff.create_choropleth(fips=fips, values=values)
py.iplot(fig, filename='choropleth of some cali counties - full usa scope')
