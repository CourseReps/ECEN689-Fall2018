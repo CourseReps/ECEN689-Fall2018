{
  "nbformat": 4,
  "nbformat_minor": 0,
  "metadata": {
    "colab": {
      "name": "IRSpreprocess.ipynb",
      "version": "0.3.2",
      "provenance": []
    },
    "kernelspec": {
      "name": "python3",
      "display_name": "Python 3"
    }
  },
  "cells": [
    {
      "metadata": {
        "id": "P81Wa-EXOH7p",
        "colab_type": "text"
      },
      "cell_type": "markdown",
      "source": [
        "***Preprocessing the IRS data , aggregate by FIPS***"
      ]
    },
    {
      "metadata": {
        "id": "SpEqpjBYXNsF",
        "colab_type": "code",
        "colab": {}
      },
      "cell_type": "code",
      "source": [
        ""
      ],
      "execution_count": 0,
      "outputs": []
    },
    {
      "metadata": {
        "id": "dbYr_XYWOR7u",
        "colab_type": "code",
        "colab": {}
      },
      "cell_type": "code",
      "source": [
        "import pandas as pd\n",
        "from google.colab import files \n",
        "import numpy as np"
      ],
      "execution_count": 0,
      "outputs": []
    },
    {
      "metadata": {
        "id": "ZGbFuDgwOee2",
        "colab_type": "code",
        "colab": {}
      },
      "cell_type": "code",
      "source": [
        "uploaded_irs = files.upload()\n"
      ],
      "execution_count": 0,
      "outputs": []
    },
    {
      "metadata": {
        "id": "NRn5mOGeOjbG",
        "colab_type": "code",
        "colab": {}
      },
      "cell_type": "code",
      "source": [
        "for fn1 in uploaded_irs.keys():\n",
        "  print('User uploaded file \"{name}\" with length {length} bytes'.format(\n",
        "      name=fn1, length=len(uploaded_irs[fn1])))"
      ],
      "execution_count": 0,
      "outputs": []
    },
    {
      "metadata": {
        "id": "Viiy9elsOx7f",
        "colab_type": "code",
        "colab": {}
      },
      "cell_type": "code",
      "source": [
        "import io \n",
        "irs_df = pd.read_csv(io.StringIO(uploaded_irs['16zpallnoagi.csv'].decode('cp1252')))\n",
        "irs_df.head(10) "
      ],
      "execution_count": 0,
      "outputs": []
    },
    {
      "metadata": {
        "id": "f56IyvvCRUBF",
        "colab_type": "code",
        "colab": {}
      },
      "cell_type": "code",
      "source": [
        "dt=irs_df\n",
        "dt=dt.drop(['STATEFIPS', 'STATE','AGI_STUB'], axis=1)\n",
        "dt.head()"
      ],
      "execution_count": 0,
      "outputs": []
    },
    {
      "metadata": {
        "id": "QPuWYkXCef5d",
        "colab_type": "text"
      },
      "cell_type": "markdown",
      "source": [
        "![alt text](https://)**Remove zipcodes that are entered as 0**"
      ]
    },
    {
      "metadata": {
        "id": "y0wlP6uxWXNr",
        "colab_type": "code",
        "colab": {}
      },
      "cell_type": "code",
      "source": [
        "dt.shape\n",
        "dt = dt[dt.ZIPCODE != 0]\n",
        "dt.shape\n",
        "dt=dt[dt.ZIPCODE!=99999]\n",
        "dt.head(10)"
      ],
      "execution_count": 0,
      "outputs": []
    },
    {
      "metadata": {
        "id": "ewYez0VQKXy4",
        "colab_type": "text"
      },
      "cell_type": "markdown",
      "source": [
        "**Aggregated zipdata**"
      ]
    },
    {
      "metadata": {
        "id": "7dA8JKnjDEbD",
        "colab_type": "code",
        "outputId": "379b441f-b251-4ef9-ccf0-7826faad9d27",
        "colab": {
          "base_uri": "https://localhost:8080/",
          "height": 183
        }
      },
      "cell_type": "code",
      "source": [
        "zip_data=dt.groupby(['ZIPCODE'],sort=False).mean()\n",
        "zip_data.head(10)"
      ],
      "execution_count": 1,
      "outputs": [
        {
          "output_type": "error",
          "ename": "NameError",
          "evalue": "ignored",
          "traceback": [
            "\u001b[0;31m---------------------------------------------------------------------------\u001b[0m",
            "\u001b[0;31mNameError\u001b[0m                                 Traceback (most recent call last)",
            "\u001b[0;32m<ipython-input-1-4f9ca5555f65>\u001b[0m in \u001b[0;36m<module>\u001b[0;34m()\u001b[0m\n\u001b[0;32m----> 1\u001b[0;31m \u001b[0mzip_data\u001b[0m\u001b[0;34m=\u001b[0m\u001b[0mdt\u001b[0m\u001b[0;34m.\u001b[0m\u001b[0mgroupby\u001b[0m\u001b[0;34m(\u001b[0m\u001b[0;34m[\u001b[0m\u001b[0;34m'ZIPCODE'\u001b[0m\u001b[0;34m]\u001b[0m\u001b[0;34m,\u001b[0m\u001b[0msort\u001b[0m\u001b[0;34m=\u001b[0m\u001b[0;32mFalse\u001b[0m\u001b[0;34m)\u001b[0m\u001b[0;34m.\u001b[0m\u001b[0mmean\u001b[0m\u001b[0;34m(\u001b[0m\u001b[0;34m)\u001b[0m\u001b[0;34m\u001b[0m\u001b[0m\n\u001b[0m\u001b[1;32m      2\u001b[0m \u001b[0mzip_data\u001b[0m\u001b[0;34m.\u001b[0m\u001b[0mhead\u001b[0m\u001b[0;34m(\u001b[0m\u001b[0;36m10\u001b[0m\u001b[0;34m)\u001b[0m\u001b[0;34m\u001b[0m\u001b[0m\n",
            "\u001b[0;31mNameError\u001b[0m: name 'dt' is not defined"
          ]
        }
      ]
    },
    {
      "metadata": {
        "id": "UyUZPz7oIF9g",
        "colab_type": "code",
        "colab": {}
      },
      "cell_type": "code",
      "source": [
        "zip_data.shape"
      ],
      "execution_count": 0,
      "outputs": []
    },
    {
      "metadata": {
        "id": "JNhEwLsmM4t5",
        "colab_type": "text"
      },
      "cell_type": "markdown",
      "source": [
        "**Load the HUD data for converting zip code to FIPS**"
      ]
    },
    {
      "metadata": {
        "id": "N2BCO8-SM_if",
        "colab_type": "code",
        "colab": {}
      },
      "cell_type": "code",
      "source": [
        "uploaded_hud = files.upload()\n"
      ],
      "execution_count": 0,
      "outputs": []
    },
    {
      "metadata": {
        "id": "WUrpvnW7Ntrh",
        "colab_type": "code",
        "colab": {}
      },
      "cell_type": "code",
      "source": [
        "for fn2 in uploaded_hud.keys():\n",
        "  print('User uploaded file \"{name}\" with length {length} bytes'.format(\n",
        "      name=fn2, length=len(uploaded_hud[fn2])))"
      ],
      "execution_count": 0,
      "outputs": []
    },
    {
      "metadata": {
        "id": "GqFxOLCeN1W_",
        "colab_type": "code",
        "colab": {}
      },
      "cell_type": "code",
      "source": [
        "hud_df = pd.read_csv(io.StringIO(uploaded_hud['COUNTY_ZIP_122016.csv'].decode('cp1252')))\n",
        "hud_df.head(10) "
      ],
      "execution_count": 0,
      "outputs": []
    },
    {
      "metadata": {
        "id": "Gx0ML_mpOyYI",
        "colab_type": "code",
        "colab": {}
      },
      "cell_type": "code",
      "source": [
        "zip_data.insert(0, \"FIPS\", \"\")\n",
        "zip_data.reset_index(level=0, inplace=True)\n",
        "zip_data.head(10)\n"
      ],
      "execution_count": 0,
      "outputs": []
    },
    {
      "metadata": {
        "id": "C8DDaugTO4oz",
        "colab_type": "code",
        "colab": {}
      },
      "cell_type": "code",
      "source": [
        "zip_code_unmatched=[]\n",
        "for iter in range(zip_data.shape[0]):\n",
        "  search_value=zip_data.iloc[iter,0]\n",
        "  sub_data_frame=hud_df.loc[hud_df['ZIP'] == search_value]\n",
        "  if not sub_data_frame.empty:\n",
        "    zip_data.iloc[iter,1]=sub_data_frame.iloc[0,0]\n",
        "  else:\n",
        "    zip_code_unmatched.append(search_value)\n",
        "    \n",
        "    "
      ],
      "execution_count": 0,
      "outputs": []
    },
    {
      "metadata": {
        "id": "bDEavX4rMLKE",
        "colab_type": "code",
        "colab": {}
      },
      "cell_type": "code",
      "source": [
        "zip_data.head(20)"
      ],
      "execution_count": 0,
      "outputs": []
    },
    {
      "metadata": {
        "id": "0ta7sSA9HpdX",
        "colab_type": "code",
        "colab": {}
      },
      "cell_type": "code",
      "source": [
        "zip_code_unmatched"
      ],
      "execution_count": 0,
      "outputs": []
    },
    {
      "metadata": {
        "id": "xJhFHTmNKQHP",
        "colab_type": "code",
        "colab": {}
      },
      "cell_type": "code",
      "source": [
        "fips_code_unmatched=[4021,4017,4005,5103,8107,12107,12001,13279,21125,22075,25013,28011,28055,32013,35031,35039,40145,42071,48043,51107]"
      ],
      "execution_count": 0,
      "outputs": []
    },
    {
      "metadata": {
        "id": "k6OlG2TDFkZF",
        "colab_type": "code",
        "colab": {}
      },
      "cell_type": "code",
      "source": [
        "ind=0\n",
        "for iter in zip_code_unmatched:\n",
        "  bb=zip_data.loc[zip_data['ZIPCODE']==iter]\n",
        "  ap=bb.index.values\n",
        "  zip_data.iloc[ap,1]=fips_code_unmatched[ind]\n",
        "  ind=ind+1\n",
        "  \n"
      ],
      "execution_count": 0,
      "outputs": []
    },
    {
      "metadata": {
        "id": "VK2y_MQBiZqJ",
        "colab_type": "code",
        "colab": {}
      },
      "cell_type": "code",
      "source": [
        "zip_data.head(10)"
      ],
      "execution_count": 0,
      "outputs": []
    },
    {
      "metadata": {
        "id": "U-O8jxUNi_iU",
        "colab_type": "text"
      },
      "cell_type": "markdown",
      "source": [
        "**Get rid of zip codes only use FIPS now**"
      ]
    },
    {
      "metadata": {
        "id": "T29310T-jDwS",
        "colab_type": "code",
        "colab": {}
      },
      "cell_type": "code",
      "source": [
        "zip_data=zip_data.drop(['ZIPCODE'], axis=1)"
      ],
      "execution_count": 0,
      "outputs": []
    },
    {
      "metadata": {
        "id": "ABOe87WGjNnn",
        "colab_type": "code",
        "colab": {}
      },
      "cell_type": "code",
      "source": [
        "zip_data.head(10)"
      ],
      "execution_count": 0,
      "outputs": []
    },
    {
      "metadata": {
        "id": "UHc6MaZljlNx",
        "colab_type": "code",
        "colab": {}
      },
      "cell_type": "code",
      "source": [
        "zip_data=zip_data.groupby(['FIPS'],sort=False).mean()\n",
        "zip_data.head(10)\n",
        "zip_data.shape"
      ],
      "execution_count": 0,
      "outputs": []
    },
    {
      "metadata": {
        "id": "oEB-n6_VjqrP",
        "colab_type": "code",
        "colab": {}
      },
      "cell_type": "code",
      "source": [
        "zip_data.to_csv('FIPSFilteredData.csv')\n",
        "files.download('FIPSFilteredData.csv')"
      ],
      "execution_count": 0,
      "outputs": []
    }
  ]
}