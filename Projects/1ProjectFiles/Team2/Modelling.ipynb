{
 "cells": [
  {
   "cell_type": "code",
   "execution_count": 1,
   "metadata": {
    "collapsed": true
   },
   "outputs": [],
   "source": [
    "import pandas as pd\n",
    "import numpy as np\n",
    "from sklearn.linear_model import LinearRegression\n",
    "from sklearn.linear_model import LogisticRegression\n",
    "import os\n",
    "import matplotlib.pyplot as plt"
   ]
  },
  {
   "cell_type": "code",
   "execution_count": 2,
   "metadata": {
    "collapsed": true
   },
   "outputs": [],
   "source": [
    "dataset = pd.read_csv('final_df_ml.csv')"
   ]
  },
  {
   "cell_type": "markdown",
   "metadata": {},
   "source": [
    "### Deleted the 'drunken driving deaths column'"
   ]
  },
  {
   "cell_type": "code",
   "execution_count": 3,
   "metadata": {
    "collapsed": true
   },
   "outputs": [],
   "source": [
    "dataset.drop(['Alcohol-impaired driving deaths Value'],axis=1,inplace=True)"
   ]
  },
  {
   "cell_type": "markdown",
   "metadata": {},
   "source": [
    "### The predictors and labels for modelling "
   ]
  },
  {
   "cell_type": "code",
   "execution_count": 4,
   "metadata": {},
   "outputs": [
    {
     "data": {
      "text/html": [
       "<div>\n",
       "<style>\n",
       "    .dataframe thead tr:only-child th {\n",
       "        text-align: right;\n",
       "    }\n",
       "\n",
       "    .dataframe thead th {\n",
       "        text-align: left;\n",
       "    }\n",
       "\n",
       "    .dataframe tbody tr th {\n",
       "        vertical-align: top;\n",
       "    }\n",
       "</style>\n",
       "<table border=\"1\" class=\"dataframe\">\n",
       "  <thead>\n",
       "    <tr style=\"text-align: right;\">\n",
       "      <th></th>\n",
       "      <th>Unnamed: 0</th>\n",
       "      <th>avg_income_n2_agi</th>\n",
       "      <th>Premature death Value</th>\n",
       "      <th>Poor or fair health Value</th>\n",
       "      <th>Poor physical health days Value</th>\n",
       "      <th>Poor mental health days Value</th>\n",
       "      <th>Low birthweight Value</th>\n",
       "      <th>Adult smoking Value</th>\n",
       "      <th>Adult obesity Value</th>\n",
       "      <th>Food environment index Value</th>\n",
       "      <th>Physical inactivity Value</th>\n",
       "      <th>Access to exercise opportunities Value</th>\n",
       "      <th>Excessive drinking Value</th>\n",
       "      <th>Sexually transmitted infections Value</th>\n",
       "      <th>Teen births Value</th>\n",
       "      <th>Diabetic screening Value</th>\n",
       "      <th>Premature age-adjusted mortality Value</th>\n",
       "      <th>Frequent physical distress Value</th>\n",
       "      <th>Frequent mental distress Value</th>\n",
       "      <th>Diabetes Value</th>\n",
       "    </tr>\n",
       "  </thead>\n",
       "  <tbody>\n",
       "    <tr>\n",
       "      <th>0</th>\n",
       "      <td>0</td>\n",
       "      <td>16.430620</td>\n",
       "      <td>9215.0</td>\n",
       "      <td>0.194</td>\n",
       "      <td>4.4</td>\n",
       "      <td>4.3</td>\n",
       "      <td>0.09</td>\n",
       "      <td>0.187</td>\n",
       "      <td>0.309</td>\n",
       "      <td>7.1</td>\n",
       "      <td>0.287</td>\n",
       "      <td>0.708</td>\n",
       "      <td>0.151</td>\n",
       "      <td>416.1</td>\n",
       "      <td>35.2</td>\n",
       "      <td>0.84</td>\n",
       "      <td>456.4</td>\n",
       "      <td>0.1</td>\n",
       "      <td>0.1</td>\n",
       "      <td>0.109</td>\n",
       "    </tr>\n",
       "    <tr>\n",
       "      <th>1</th>\n",
       "      <td>1</td>\n",
       "      <td>31.412955</td>\n",
       "      <td>7455.0</td>\n",
       "      <td>0.160</td>\n",
       "      <td>4.1</td>\n",
       "      <td>4.2</td>\n",
       "      <td>0.09</td>\n",
       "      <td>0.186</td>\n",
       "      <td>0.267</td>\n",
       "      <td>7.6</td>\n",
       "      <td>0.252</td>\n",
       "      <td>0.722</td>\n",
       "      <td>0.151</td>\n",
       "      <td>308.2</td>\n",
       "      <td>41.6</td>\n",
       "      <td>0.84</td>\n",
       "      <td>356.0</td>\n",
       "      <td>0.1</td>\n",
       "      <td>0.1</td>\n",
       "      <td>0.109</td>\n",
       "    </tr>\n",
       "    <tr>\n",
       "      <th>2</th>\n",
       "      <td>2</td>\n",
       "      <td>18.287601</td>\n",
       "      <td>8500.0</td>\n",
       "      <td>0.257</td>\n",
       "      <td>4.9</td>\n",
       "      <td>4.7</td>\n",
       "      <td>0.12</td>\n",
       "      <td>0.214</td>\n",
       "      <td>0.408</td>\n",
       "      <td>5.1</td>\n",
       "      <td>0.329</td>\n",
       "      <td>0.453</td>\n",
       "      <td>0.124</td>\n",
       "      <td>632.3</td>\n",
       "      <td>67.9</td>\n",
       "      <td>0.90</td>\n",
       "      <td>430.8</td>\n",
       "      <td>0.2</td>\n",
       "      <td>0.1</td>\n",
       "      <td>0.153</td>\n",
       "    </tr>\n",
       "    <tr>\n",
       "      <th>3</th>\n",
       "      <td>3</td>\n",
       "      <td>26.999781</td>\n",
       "      <td>11008.0</td>\n",
       "      <td>0.220</td>\n",
       "      <td>4.8</td>\n",
       "      <td>4.6</td>\n",
       "      <td>0.12</td>\n",
       "      <td>0.210</td>\n",
       "      <td>0.401</td>\n",
       "      <td>7.4</td>\n",
       "      <td>0.332</td>\n",
       "      <td>0.328</td>\n",
       "      <td>0.138</td>\n",
       "      <td>367.3</td>\n",
       "      <td>48.4</td>\n",
       "      <td>0.84</td>\n",
       "      <td>541.7</td>\n",
       "      <td>0.1</td>\n",
       "      <td>0.1</td>\n",
       "      <td>0.125</td>\n",
       "    </tr>\n",
       "    <tr>\n",
       "      <th>4</th>\n",
       "      <td>4</td>\n",
       "      <td>22.035900</td>\n",
       "      <td>8656.0</td>\n",
       "      <td>0.207</td>\n",
       "      <td>4.6</td>\n",
       "      <td>4.5</td>\n",
       "      <td>0.07</td>\n",
       "      <td>0.194</td>\n",
       "      <td>0.324</td>\n",
       "      <td>8.3</td>\n",
       "      <td>0.285</td>\n",
       "      <td>0.255</td>\n",
       "      <td>0.141</td>\n",
       "      <td>159.1</td>\n",
       "      <td>45.3</td>\n",
       "      <td>0.86</td>\n",
       "      <td>430.3</td>\n",
       "      <td>0.1</td>\n",
       "      <td>0.1</td>\n",
       "      <td>0.117</td>\n",
       "    </tr>\n",
       "  </tbody>\n",
       "</table>\n",
       "</div>"
      ],
      "text/plain": [
       "   Unnamed: 0  avg_income_n2_agi  Premature death Value  \\\n",
       "0           0          16.430620                 9215.0   \n",
       "1           1          31.412955                 7455.0   \n",
       "2           2          18.287601                 8500.0   \n",
       "3           3          26.999781                11008.0   \n",
       "4           4          22.035900                 8656.0   \n",
       "\n",
       "   Poor or fair health Value  Poor physical health days Value  \\\n",
       "0                      0.194                              4.4   \n",
       "1                      0.160                              4.1   \n",
       "2                      0.257                              4.9   \n",
       "3                      0.220                              4.8   \n",
       "4                      0.207                              4.6   \n",
       "\n",
       "   Poor mental health days Value  Low birthweight Value  Adult smoking Value  \\\n",
       "0                            4.3                   0.09                0.187   \n",
       "1                            4.2                   0.09                0.186   \n",
       "2                            4.7                   0.12                0.214   \n",
       "3                            4.6                   0.12                0.210   \n",
       "4                            4.5                   0.07                0.194   \n",
       "\n",
       "   Adult obesity Value  Food environment index Value  \\\n",
       "0                0.309                           7.1   \n",
       "1                0.267                           7.6   \n",
       "2                0.408                           5.1   \n",
       "3                0.401                           7.4   \n",
       "4                0.324                           8.3   \n",
       "\n",
       "   Physical inactivity Value  Access to exercise opportunities Value  \\\n",
       "0                      0.287                                   0.708   \n",
       "1                      0.252                                   0.722   \n",
       "2                      0.329                                   0.453   \n",
       "3                      0.332                                   0.328   \n",
       "4                      0.285                                   0.255   \n",
       "\n",
       "   Excessive drinking Value  Sexually transmitted infections Value  \\\n",
       "0                     0.151                                  416.1   \n",
       "1                     0.151                                  308.2   \n",
       "2                     0.124                                  632.3   \n",
       "3                     0.138                                  367.3   \n",
       "4                     0.141                                  159.1   \n",
       "\n",
       "   Teen births Value  Diabetic screening Value  \\\n",
       "0               35.2                      0.84   \n",
       "1               41.6                      0.84   \n",
       "2               67.9                      0.90   \n",
       "3               48.4                      0.84   \n",
       "4               45.3                      0.86   \n",
       "\n",
       "   Premature age-adjusted mortality Value  Frequent physical distress Value  \\\n",
       "0                                   456.4                               0.1   \n",
       "1                                   356.0                               0.1   \n",
       "2                                   430.8                               0.2   \n",
       "3                                   541.7                               0.1   \n",
       "4                                   430.3                               0.1   \n",
       "\n",
       "   Frequent mental distress Value  Diabetes Value  \n",
       "0                             0.1           0.109  \n",
       "1                             0.1           0.109  \n",
       "2                             0.1           0.153  \n",
       "3                             0.1           0.125  \n",
       "4                             0.1           0.117  "
      ]
     },
     "execution_count": 4,
     "metadata": {},
     "output_type": "execute_result"
    }
   ],
   "source": [
    "dataset.head()"
   ]
  },
  {
   "cell_type": "code",
   "execution_count": 5,
   "metadata": {
    "collapsed": true,
    "scrolled": true
   },
   "outputs": [],
   "source": [
    "dataset.drop(['Unnamed: 0'],axis = 1,inplace=True)"
   ]
  },
  {
   "cell_type": "code",
   "execution_count": 6,
   "metadata": {
    "collapsed": true
   },
   "outputs": [],
   "source": [
    "Data_X = np.array(dataset.iloc[:,1:])\n",
    "Data_Y = np.array(dataset.iloc[:,:1])"
   ]
  },
  {
   "cell_type": "markdown",
   "metadata": {},
   "source": [
    "## 1. Linear Regression\n",
    "\n",
    "In this section, we have used Linear Regression to fit the model and used r2 score to evaluate the performance of the model. Since in a vanilla linear regression, there is no parameters to worry about, we go for cross validation by splitting up the data in 10 parts. In each iteration, we fit the model on the 9 parts of data and validate it on the 1 left out part. To get a general idea of how well the model is performing we take the mean of the r2 scores from all the iterations. (mean_r2 = 0.4947) "
   ]
  },
  {
   "cell_type": "code",
   "execution_count": 7,
   "metadata": {
    "collapsed": true
   },
   "outputs": [],
   "source": [
    "from sklearn.model_selection import cross_val_score\n",
    "from sklearn.metrics import r2_score,mean_squared_error,make_scorer\n"
   ]
  },
  {
   "cell_type": "code",
   "execution_count": 8,
   "metadata": {},
   "outputs": [
    {
     "data": {
      "text/plain": [
       "0.49576165650105414"
      ]
     },
     "execution_count": 8,
     "metadata": {},
     "output_type": "execute_result"
    }
   ],
   "source": [
    "lr = LinearRegression()\n",
    "cross_val_score(lr,Data_X,Data_Y,cv = 10,scoring=make_scorer(r2_score)).mean()"
   ]
  },
  {
   "cell_type": "markdown",
   "metadata": {},
   "source": [
    " The average of the mean_squared error for linear regression model is found to be 35.25"
   ]
  },
  {
   "cell_type": "code",
   "execution_count": 9,
   "metadata": {},
   "outputs": [
    {
     "data": {
      "text/plain": [
       "35.25255164147558"
      ]
     },
     "execution_count": 9,
     "metadata": {},
     "output_type": "execute_result"
    }
   ],
   "source": [
    "cross_val_score(lr,Data_X,Data_Y,cv = 10,scoring=make_scorer(mean_squared_error)).mean()"
   ]
  },
  {
   "cell_type": "code",
   "execution_count": 10,
   "metadata": {
    "collapsed": true
   },
   "outputs": [],
   "source": [
    "from sklearn.linear_model import Lasso"
   ]
  },
  {
   "cell_type": "markdown",
   "metadata": {},
   "source": [
    "#### LASSO\n",
    "\n",
    "LASSO is a regularisation technique used in Linear Regression, to cut out the number of predictors in case it overfits. The alpha value is inversely proportional to the number of predictors it is going to cut down. We tried alpha value 0.001,0.01,0.1,1,10. When the alpha values were increase the r2 score of the model reduced. Maximum r2 score was achieved with alpha = 0"
   ]
  },
  {
   "cell_type": "code",
   "execution_count": 11,
   "metadata": {},
   "outputs": [
    {
     "data": {
      "text/plain": [
       "0.49779327337638224"
      ]
     },
     "execution_count": 11,
     "metadata": {},
     "output_type": "execute_result"
    }
   ],
   "source": [
    "las = Lasso(alpha = 0.001)\n",
    "\n",
    "cross_val_score(las,Data_X,Data_Y,cv = 10,scoring=make_scorer(r2_score)).mean()"
   ]
  },
  {
   "cell_type": "code",
   "execution_count": 12,
   "metadata": {},
   "outputs": [
    {
     "data": {
      "text/plain": [
       "0.49083986404196195"
      ]
     },
     "execution_count": 12,
     "metadata": {},
     "output_type": "execute_result"
    }
   ],
   "source": [
    "las = Lasso(alpha = 0.01)\n",
    "\n",
    "cross_val_score(las,Data_X,Data_Y,cv = 10,scoring=make_scorer(r2_score)).mean()"
   ]
  },
  {
   "cell_type": "code",
   "execution_count": 13,
   "metadata": {},
   "outputs": [
    {
     "data": {
      "text/plain": [
       "0.4312578922098699"
      ]
     },
     "execution_count": 13,
     "metadata": {},
     "output_type": "execute_result"
    }
   ],
   "source": [
    "las = Lasso(alpha = 0.1)\n",
    "\n",
    "cross_val_score(las,Data_X,Data_Y,cv = 10,scoring=make_scorer(r2_score)).mean()"
   ]
  },
  {
   "cell_type": "code",
   "execution_count": 14,
   "metadata": {},
   "outputs": [
    {
     "data": {
      "text/plain": [
       "0.36610139026179117"
      ]
     },
     "execution_count": 14,
     "metadata": {},
     "output_type": "execute_result"
    }
   ],
   "source": [
    "las = Lasso(alpha = 1)\n",
    "\n",
    "cross_val_score(las,Data_X,Data_Y,cv = 10,scoring=make_scorer(r2_score)).mean()"
   ]
  },
  {
   "cell_type": "markdown",
   "metadata": {},
   "source": [
    "## 2. Random Forest \n",
    "\n",
    "\n",
    "To find the importance of predictors we go for Random Forest. "
   ]
  },
  {
   "cell_type": "code",
   "execution_count": 15,
   "metadata": {},
   "outputs": [
    {
     "name": "stderr",
     "output_type": "stream",
     "text": [
      "/home/amrita95/anaconda3/lib/python3.6/site-packages/ipykernel_launcher.py:4: DataConversionWarning: A column-vector y was passed when a 1d array was expected. Please change the shape of y to (n_samples,), for example using ravel().\n",
      "  after removing the cwd from sys.path.\n"
     ]
    }
   ],
   "source": [
    "from sklearn.ensemble import RandomForestRegressor\n",
    "RF = RandomForestRegressor()\n",
    "\n",
    "RF.fit(Data_X,Data_Y)\n",
    "Rf_pred = RF.predict(Data_X)\n",
    "feature_importances = pd.DataFrame(RF.feature_importances_,\n",
    "                                   index = dataset.columns[1:],\n",
    "                                    columns=['importance']).sort_values('importance',ascending=False)\n"
   ]
  },
  {
   "cell_type": "code",
   "execution_count": 16,
   "metadata": {},
   "outputs": [
    {
     "data": {
      "image/png": "[encoded data removed]",
      "text/plain": [
       "<matplotlib.figure.Figure at 0x7faa89ca24a8>"
      ]
     },
     "metadata": {},
     "output_type": "display_data"
    }
   ],
   "source": [
    "import seaborn as sns\n",
    "barplot = sns.barplot(x = feature_importances.index, y = \"importance\", data = feature_importances)\n",
    "barplot.set_xticklabels(feature_importances.index,rotation = 90)\n",
    "barplot.set_title(\"FEATURE IMPORTANCE\")\n",
    "plt.show()"
   ]
  },
  {
   "cell_type": "markdown",
   "metadata": {},
   "source": [
    "## 3. SVM Regressor\n",
    "\n",
    "Tried out SVM Regressor with linea"
   ]
  },
  {
   "cell_type": "code",
   "execution_count": null,
   "metadata": {},
   "outputs": [
    {
     "name": "stderr",
     "output_type": "stream",
     "text": [
      "/home/amrita95/anaconda3/lib/python3.6/site-packages/sklearn/utils/validation.py:526: DataConversionWarning: A column-vector y was passed when a 1d array was expected. Please change the shape of y to (n_samples, ), for example using ravel().\n",
      "  y = column_or_1d(y, warn=True)\n"
     ]
    }
   ],
   "source": [
    "from sklearn.svm import SVR\n",
    "from sklearn.model_selection import GridSearchCV\n",
    "parameters = {'kernel':('linear', 'rbf'), 'C':[1, 10]}\n",
    "\n",
    "svc = SVR(kernel = 'linear')\n",
    "cross_val_score(svc,Data_X,Data_Y,cv = 10,scoring=make_scorer(r2_score)).mean()\n",
    "#clf = GridSearchCV(svc, parameters, cv=5)\n",
    "#clf.fit(Data_X, Data_Y)"
   ]
  },
  {
   "cell_type": "markdown",
   "metadata": {},
   "source": [
    "## 3. KNN Regressor\n",
    "\n",
    "The parameter 'n_neighbor' is varied from 5-100. The r2 score of the regressor got saturated at n_neighbours ~30 at a value 0.303. Linear Regression without Lasso gave us the best result so far."
   ]
  },
  {
   "cell_type": "code",
   "execution_count": 17,
   "metadata": {
    "collapsed": true
   },
   "outputs": [],
   "source": [
    "from sklearn.neighbors import KNeighborsRegressor"
   ]
  },
  {
   "cell_type": "code",
   "execution_count": 52,
   "metadata": {},
   "outputs": [],
   "source": [
    "neigh = KNeighborsRegressor(n_neighbors=50)"
   ]
  },
  {
   "cell_type": "code",
   "execution_count": 53,
   "metadata": {},
   "outputs": [
    {
     "data": {
      "text/plain": [
       "0.3034568283944771"
      ]
     },
     "execution_count": 53,
     "metadata": {},
     "output_type": "execute_result"
    }
   ],
   "source": [
    "cross_val_score(neigh,Data_X,Data_Y,cv = 10,scoring=make_scorer(r2_score)).mean()"
   ]
  },
  {
   "cell_type": "code",
   "execution_count": null,
   "metadata": {
    "collapsed": true
   },
   "outputs": [],
   "source": []
  }
 ],
 "metadata": {
  "kernelspec": {
   "display_name": "Python 3",
   "language": "python",
   "name": "python3"
  },
  "language_info": {
   "codemirror_mode": {
    "name": "ipython",
    "version": 3
   },
   "file_extension": ".py",
   "mimetype": "text/x-python",
   "name": "python",
   "nbconvert_exporter": "python",
   "pygments_lexer": "ipython3",
   "version": "3.6.3"
  }
 },
 "nbformat": 4,
 "nbformat_minor": 2
}
