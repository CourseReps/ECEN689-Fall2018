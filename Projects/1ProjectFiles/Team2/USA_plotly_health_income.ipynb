{
 "cells": [
  {
   "cell_type": "code",
   "execution_count": 1,
   "metadata": {
    "collapsed": true
   },
   "outputs": [],
   "source": [
    "import pandas as pd\n",
    "import numpy as np\n",
    "import matplotlib.pyplot as plt\n",
    "import plotly.plotly as py\n",
    "import plotly.figure_factory as ff\n",
    "import shapely"
   ]
  },
  {
   "cell_type": "code",
   "execution_count": 2,
   "metadata": {
    "collapsed": true
   },
   "outputs": [],
   "source": [
    "import warnings\n",
    "warnings.filterwarnings('ignore')"
   ]
  },
  {
   "cell_type": "code",
   "execution_count": 3,
   "metadata": {
    "collapsed": true
   },
   "outputs": [],
   "source": [
    "county_health = pd.read_excel('FIPS Health.xls',converters={'FIPS':str})"
   ]
  },
  {
   "cell_type": "code",
   "execution_count": 4,
   "metadata": {},
   "outputs": [
    {
     "data": {
      "text/html": [
       "<div>\n",
       "<style scoped>\n",
       "    .dataframe tbody tr th:only-of-type {\n",
       "        vertical-align: middle;\n",
       "    }\n",
       "\n",
       "    .dataframe tbody tr th {\n",
       "        vertical-align: top;\n",
       "    }\n",
       "\n",
       "    .dataframe thead th {\n",
       "        text-align: right;\n",
       "    }\n",
       "</style>\n",
       "<table border=\"1\" class=\"dataframe\">\n",
       "  <thead>\n",
       "    <tr style=\"text-align: right;\">\n",
       "      <th></th>\n",
       "      <th>FIPS</th>\n",
       "      <th>State</th>\n",
       "      <th>County</th>\n",
       "      <th>PCT_DIABETES_ADULTS08</th>\n",
       "      <th>PCT_DIABETES_ADULTS13</th>\n",
       "      <th>PCT_OBESE_ADULTS08</th>\n",
       "      <th>PCT_OBESE_ADULTS13</th>\n",
       "      <th>PCT_HSPA15</th>\n",
       "      <th>RECFAC09</th>\n",
       "      <th>RECFAC14</th>\n",
       "      <th>PCH_RECFAC_09_14</th>\n",
       "      <th>RECFACPTH09</th>\n",
       "      <th>RECFACPTH14</th>\n",
       "      <th>PCH_RECFACPTH_09_14</th>\n",
       "    </tr>\n",
       "  </thead>\n",
       "  <tbody>\n",
       "    <tr>\n",
       "      <th>0</th>\n",
       "      <td>01001</td>\n",
       "      <td>AL</td>\n",
       "      <td>Autauga</td>\n",
       "      <td>11.4</td>\n",
       "      <td>13.0</td>\n",
       "      <td>31.5</td>\n",
       "      <td>34.1</td>\n",
       "      <td>25.4</td>\n",
       "      <td>4</td>\n",
       "      <td>5</td>\n",
       "      <td>25.000000</td>\n",
       "      <td>0.073889</td>\n",
       "      <td>0.090261</td>\n",
       "      <td>22.156783</td>\n",
       "    </tr>\n",
       "    <tr>\n",
       "      <th>1</th>\n",
       "      <td>01003</td>\n",
       "      <td>AL</td>\n",
       "      <td>Baldwin</td>\n",
       "      <td>9.8</td>\n",
       "      <td>10.4</td>\n",
       "      <td>26.2</td>\n",
       "      <td>27.4</td>\n",
       "      <td>25.4</td>\n",
       "      <td>18</td>\n",
       "      <td>25</td>\n",
       "      <td>38.888889</td>\n",
       "      <td>0.100331</td>\n",
       "      <td>0.124931</td>\n",
       "      <td>24.518392</td>\n",
       "    </tr>\n",
       "    <tr>\n",
       "      <th>2</th>\n",
       "      <td>01005</td>\n",
       "      <td>AL</td>\n",
       "      <td>Barbour</td>\n",
       "      <td>13.6</td>\n",
       "      <td>18.4</td>\n",
       "      <td>37.6</td>\n",
       "      <td>44.4</td>\n",
       "      <td>25.4</td>\n",
       "      <td>1</td>\n",
       "      <td>0</td>\n",
       "      <td>-100.000000</td>\n",
       "      <td>0.036157</td>\n",
       "      <td>0.000000</td>\n",
       "      <td>-100.000000</td>\n",
       "    </tr>\n",
       "    <tr>\n",
       "      <th>3</th>\n",
       "      <td>01007</td>\n",
       "      <td>AL</td>\n",
       "      <td>Bibb</td>\n",
       "      <td>11.1</td>\n",
       "      <td>14.8</td>\n",
       "      <td>32.3</td>\n",
       "      <td>40.3</td>\n",
       "      <td>25.4</td>\n",
       "      <td>1</td>\n",
       "      <td>1</td>\n",
       "      <td>0.000000</td>\n",
       "      <td>0.043590</td>\n",
       "      <td>0.044433</td>\n",
       "      <td>1.932818</td>\n",
       "    </tr>\n",
       "    <tr>\n",
       "      <th>4</th>\n",
       "      <td>01009</td>\n",
       "      <td>AL</td>\n",
       "      <td>Blount</td>\n",
       "      <td>11.4</td>\n",
       "      <td>14.1</td>\n",
       "      <td>31.9</td>\n",
       "      <td>34.6</td>\n",
       "      <td>25.4</td>\n",
       "      <td>3</td>\n",
       "      <td>3</td>\n",
       "      <td>0.000000</td>\n",
       "      <td>0.052319</td>\n",
       "      <td>0.051976</td>\n",
       "      <td>-0.654897</td>\n",
       "    </tr>\n",
       "  </tbody>\n",
       "</table>\n",
       "</div>"
      ],
      "text/plain": [
       "    FIPS State   County  PCT_DIABETES_ADULTS08  PCT_DIABETES_ADULTS13  \\\n",
       "0  01001    AL  Autauga                   11.4                   13.0   \n",
       "1  01003    AL  Baldwin                    9.8                   10.4   \n",
       "2  01005    AL  Barbour                   13.6                   18.4   \n",
       "3  01007    AL     Bibb                   11.1                   14.8   \n",
       "4  01009    AL   Blount                   11.4                   14.1   \n",
       "\n",
       "   PCT_OBESE_ADULTS08  PCT_OBESE_ADULTS13  PCT_HSPA15  RECFAC09  RECFAC14  \\\n",
       "0                31.5                34.1        25.4         4         5   \n",
       "1                26.2                27.4        25.4        18        25   \n",
       "2                37.6                44.4        25.4         1         0   \n",
       "3                32.3                40.3        25.4         1         1   \n",
       "4                31.9                34.6        25.4         3         3   \n",
       "\n",
       "   PCH_RECFAC_09_14  RECFACPTH09  RECFACPTH14  PCH_RECFACPTH_09_14  \n",
       "0         25.000000     0.073889     0.090261            22.156783  \n",
       "1         38.888889     0.100331     0.124931            24.518392  \n",
       "2       -100.000000     0.036157     0.000000          -100.000000  \n",
       "3          0.000000     0.043590     0.044433             1.932818  \n",
       "4          0.000000     0.052319     0.051976            -0.654897  "
      ]
     },
     "execution_count": 4,
     "metadata": {},
     "output_type": "execute_result"
    }
   ],
   "source": [
    "county_health.head()"
   ]
  },
  {
   "cell_type": "code",
   "execution_count": 5,
   "metadata": {
    "collapsed": true
   },
   "outputs": [],
   "source": [
    "colorscale = [\"#f7fbff\",\"#ebf3fb\",\"#deebf7\",\"#d2e3f3\",\"#c6dbef\",\"#b3d2e9\",\"#9ecae1\",\n",
    "              \"#85bcdb\",\"#6baed6\",\"#57a0ce\",\"#4292c6\",\"#3082be\",\"#2171b5\",\"#1361a9\",\n",
    "              \"#08519c\",\"#0b4083\",\"#08306c\"]\n",
    "endpts = list(np.linspace(1, 16, len(colorscale) - 1))"
   ]
  },
  {
   "cell_type": "code",
   "execution_count": null,
   "metadata": {},
   "outputs": [],
   "source": []
  },
  {
   "cell_type": "code",
   "execution_count": 6,
   "metadata": {
    "collapsed": true
   },
   "outputs": [],
   "source": [
    "fips = county_health['FIPS'].tolist()"
   ]
  },
  {
   "cell_type": "code",
   "execution_count": 7,
   "metadata": {
    "collapsed": true
   },
   "outputs": [],
   "source": [
    "dia08 = county_health['PCT_DIABETES_ADULTS08'].tolist()\n",
    "dia13 = county_health['PCT_DIABETES_ADULTS13'].tolist()\n",
    "obe08 = county_health['PCT_OBESE_ADULTS08'].tolist()\n",
    "obe13 = county_health['PCT_OBESE_ADULTS13'].tolist()"
   ]
  },
  {
   "cell_type": "code",
   "execution_count": null,
   "metadata": {
    "collapsed": true
   },
   "outputs": [],
   "source": []
  },
  {
   "cell_type": "code",
   "execution_count": 66,
   "metadata": {},
   "outputs": [
    {
     "name": "stdout",
     "output_type": "stream",
     "text": [
      "The draw time for this plot will be slow for all clients.\n"
     ]
    },
    {
     "data": {
      "text/html": [
       "<iframe id=\"igraph\" scrolling=\"no\" style=\"border:none;\" seamless=\"seamless\" src=\"https://plot.ly/~devarshjhaveri/4.embed\" height=\"450px\" width=\"900px\"></iframe>"
      ],
      "text/plain": [
       "<plotly.tools.PlotlyDisplay object>"
      ]
     },
     "execution_count": 66,
     "metadata": {},
     "output_type": "execute_result"
    }
   ],
   "source": [
    "fig = ff.create_choropleth(\n",
    "    fips=fips, values=dia08,\n",
    "    binning_endpoints=list(np.linspace(1, 16, len(colorscale) - 1)),\n",
    "    colorscale=colorscale,\n",
    "    state_outline=state_outline,\n",
    "    show_state_data=True,\n",
    "    show_hover=True, centroid_marker={'opacity': 0},\n",
    "    asp=2.9, title='USA by Diabetes 2008 %',\n",
    "    legend_title='% Diabetes 2008'\n",
    ")\n",
    "py.iplot(fig, filename='choropleth_full_usa')"
   ]
  },
  {
   "cell_type": "code",
   "execution_count": 67,
   "metadata": {},
   "outputs": [
    {
     "name": "stdout",
     "output_type": "stream",
     "text": [
      "The draw time for this plot will be slow for all clients.\n"
     ]
    },
    {
     "data": {
      "text/html": [
       "<iframe id=\"igraph\" scrolling=\"no\" style=\"border:none;\" seamless=\"seamless\" src=\"https://plot.ly/~devarshjhaveri/4.embed\" height=\"450px\" width=\"900px\"></iframe>"
      ],
      "text/plain": [
       "<plotly.tools.PlotlyDisplay object>"
      ]
     },
     "execution_count": 67,
     "metadata": {},
     "output_type": "execute_result"
    }
   ],
   "source": [
    "fig = ff.create_choropleth(\n",
    "    fips=fips, values=dia13,\n",
    "    binning_endpoints=list(np.linspace(1, 16, len(colorscale) - 1)),\n",
    "    colorscale=colorscale,\n",
    "    state_outline=state_outline,\n",
    "    show_state_data=True,\n",
    "    show_hover=True, centroid_marker={'opacity': 0},\n",
    "    asp=2.9, title='USA by Diabetes 2013 %',\n",
    "    legend_title='% Diabetes 2013'\n",
    ")\n",
    "py.iplot(fig, filename='choropleth_full_usa')"
   ]
  },
  {
   "cell_type": "code",
   "execution_count": 60,
   "metadata": {},
   "outputs": [
    {
     "name": "stdout",
     "output_type": "stream",
     "text": [
      "The draw time for this plot will be slow for all clients.\n"
     ]
    },
    {
     "data": {
      "text/html": [
       "<iframe id=\"igraph\" scrolling=\"no\" style=\"border:none;\" seamless=\"seamless\" src=\"https://plot.ly/~devarshjhaveri/4.embed\" height=\"450px\" width=\"900px\"></iframe>"
      ],
      "text/plain": [
       "<plotly.tools.PlotlyDisplay object>"
      ]
     },
     "execution_count": 60,
     "metadata": {},
     "output_type": "execute_result"
    }
   ],
   "source": [
    "fig = ff.create_choropleth(\n",
    "    fips=fips, values=obe08,\n",
    "    binning_endpoints=list(np.linspace(1, 36, 36)),\n",
    "    show_state_data=True,\n",
    "    state_outline=state_outline,\n",
    "    county_outline=county_outline,\n",
    "    show_hover=True, centroid_marker={'opacity': 0},\n",
    "    asp=2.9, title='USA by Obesity 2008 %',\n",
    "    legend_title='% Obesity 2008'\n",
    ")\n",
    "py.iplot(fig, filename='choropleth_full_usa')"
   ]
  },
  {
   "cell_type": "code",
   "execution_count": 57,
   "metadata": {},
   "outputs": [
    {
     "name": "stdout",
     "output_type": "stream",
     "text": [
      "The draw time for this plot will be slow for all clients.\n"
     ]
    },
    {
     "data": {
      "text/html": [
       "<iframe id=\"igraph\" scrolling=\"no\" style=\"border:none;\" seamless=\"seamless\" src=\"https://plot.ly/~devarshjhaveri/4.embed\" height=\"450px\" width=\"900px\"></iframe>"
      ],
      "text/plain": [
       "<plotly.tools.PlotlyDisplay object>"
      ]
     },
     "execution_count": 57,
     "metadata": {},
     "output_type": "execute_result"
    }
   ],
   "source": [
    "fig = ff.create_choropleth(\n",
    "    fips=fips, values=obe13,\n",
    "    binning_endpoints=list(np.linspace(1, 36, 36)),\n",
    "    show_state_data=True,\n",
    "    state_outline=state_outline,\n",
    "    county_outline=county_outline,\n",
    "    show_hover=True, centroid_marker={'opacity': 0},\n",
    "    asp=2.9, title='USA by Obesity 2013 %',\n",
    "    legend_title='% Obesity 2013'\n",
    ")\n",
    "py.iplot(fig, filename='choropleth_full_usa')"
   ]
  },
  {
   "cell_type": "code",
   "execution_count": 12,
   "metadata": {
    "collapsed": true
   },
   "outputs": [],
   "source": [
    "agg_income = pd.read_csv('Aggregated Income.csv',index_col=0)"
   ]
  },
  {
   "cell_type": "code",
   "execution_count": 13,
   "metadata": {},
   "outputs": [
    {
     "data": {
      "text/html": [
       "<div>\n",
       "<style scoped>\n",
       "    .dataframe tbody tr th:only-of-type {\n",
       "        vertical-align: middle;\n",
       "    }\n",
       "\n",
       "    .dataframe tbody tr th {\n",
       "        vertical-align: top;\n",
       "    }\n",
       "\n",
       "    .dataframe thead th {\n",
       "        text-align: right;\n",
       "    }\n",
       "</style>\n",
       "<table border=\"1\" class=\"dataframe\">\n",
       "  <thead>\n",
       "    <tr style=\"text-align: right;\">\n",
       "      <th></th>\n",
       "      <th>County</th>\n",
       "      <th>n1</th>\n",
       "      <th>mars1</th>\n",
       "      <th>mars2</th>\n",
       "      <th>mars4</th>\n",
       "      <th>prep</th>\n",
       "      <th>n2</th>\n",
       "      <th>numdep</th>\n",
       "      <th>total_vita</th>\n",
       "      <th>vita</th>\n",
       "      <th>...</th>\n",
       "      <th>a11070</th>\n",
       "      <th>a10960</th>\n",
       "      <th>a11560</th>\n",
       "      <th>a06500</th>\n",
       "      <th>a10300</th>\n",
       "      <th>a85530</th>\n",
       "      <th>a85300</th>\n",
       "      <th>a11901</th>\n",
       "      <th>a11902</th>\n",
       "      <th>avg_income_n2_agi</th>\n",
       "    </tr>\n",
       "  </thead>\n",
       "  <tbody>\n",
       "    <tr>\n",
       "      <th>0</th>\n",
       "      <td>1001</td>\n",
       "      <td>6160</td>\n",
       "      <td>2360</td>\n",
       "      <td>1400</td>\n",
       "      <td>2370</td>\n",
       "      <td>3690</td>\n",
       "      <td>12900</td>\n",
       "      <td>5520</td>\n",
       "      <td>0</td>\n",
       "      <td>0</td>\n",
       "      <td>...</td>\n",
       "      <td>711.931008</td>\n",
       "      <td>166.524806</td>\n",
       "      <td>22.957364</td>\n",
       "      <td>712.238760</td>\n",
       "      <td>918.293798</td>\n",
       "      <td>0.000000</td>\n",
       "      <td>0.000000</td>\n",
       "      <td>108.798450</td>\n",
       "      <td>4549.137209</td>\n",
       "      <td>16.430620</td>\n",
       "    </tr>\n",
       "    <tr>\n",
       "      <th>1</th>\n",
       "      <td>1003</td>\n",
       "      <td>96270</td>\n",
       "      <td>39180</td>\n",
       "      <td>40860</td>\n",
       "      <td>14170</td>\n",
       "      <td>48000</td>\n",
       "      <td>190890</td>\n",
       "      <td>59720</td>\n",
       "      <td>1750</td>\n",
       "      <td>270</td>\n",
       "      <td>...</td>\n",
       "      <td>396.985751</td>\n",
       "      <td>108.103358</td>\n",
       "      <td>32.867096</td>\n",
       "      <td>10646.549112</td>\n",
       "      <td>11488.307821</td>\n",
       "      <td>23.238933</td>\n",
       "      <td>43.143329</td>\n",
       "      <td>1584.483210</td>\n",
       "      <td>3927.023679</td>\n",
       "      <td>31.412955</td>\n",
       "    </tr>\n",
       "    <tr>\n",
       "      <th>2</th>\n",
       "      <td>1005</td>\n",
       "      <td>4230</td>\n",
       "      <td>1590</td>\n",
       "      <td>1360</td>\n",
       "      <td>1210</td>\n",
       "      <td>2710</td>\n",
       "      <td>8630</td>\n",
       "      <td>3160</td>\n",
       "      <td>0</td>\n",
       "      <td>0</td>\n",
       "      <td>...</td>\n",
       "      <td>99.494786</td>\n",
       "      <td>18.059096</td>\n",
       "      <td>0.000000</td>\n",
       "      <td>354.590962</td>\n",
       "      <td>422.663963</td>\n",
       "      <td>0.000000</td>\n",
       "      <td>0.000000</td>\n",
       "      <td>54.924681</td>\n",
       "      <td>720.022016</td>\n",
       "      <td>18.287601</td>\n",
       "    </tr>\n",
       "    <tr>\n",
       "      <th>3</th>\n",
       "      <td>1007</td>\n",
       "      <td>25770</td>\n",
       "      <td>9510</td>\n",
       "      <td>11170</td>\n",
       "      <td>4470</td>\n",
       "      <td>13900</td>\n",
       "      <td>54770</td>\n",
       "      <td>19530</td>\n",
       "      <td>120</td>\n",
       "      <td>80</td>\n",
       "      <td>...</td>\n",
       "      <td>142.890999</td>\n",
       "      <td>71.592295</td>\n",
       "      <td>7.430162</td>\n",
       "      <td>6374.095855</td>\n",
       "      <td>6748.320431</td>\n",
       "      <td>1.491693</td>\n",
       "      <td>2.099690</td>\n",
       "      <td>635.229870</td>\n",
       "      <td>2165.066642</td>\n",
       "      <td>26.999781</td>\n",
       "    </tr>\n",
       "    <tr>\n",
       "      <th>4</th>\n",
       "      <td>1009</td>\n",
       "      <td>8400</td>\n",
       "      <td>2900</td>\n",
       "      <td>4320</td>\n",
       "      <td>1020</td>\n",
       "      <td>5350</td>\n",
       "      <td>18440</td>\n",
       "      <td>6190</td>\n",
       "      <td>30</td>\n",
       "      <td>0</td>\n",
       "      <td>...</td>\n",
       "      <td>138.116594</td>\n",
       "      <td>27.430043</td>\n",
       "      <td>8.217462</td>\n",
       "      <td>1584.805315</td>\n",
       "      <td>1771.816161</td>\n",
       "      <td>0.000000</td>\n",
       "      <td>0.000000</td>\n",
       "      <td>171.600868</td>\n",
       "      <td>1351.374187</td>\n",
       "      <td>22.035900</td>\n",
       "    </tr>\n",
       "  </tbody>\n",
       "</table>\n",
       "<p>5 rows × 145 columns</p>\n",
       "</div>"
      ],
      "text/plain": [
       "   County     n1  mars1  mars2  mars4   prep      n2  numdep  total_vita  \\\n",
       "0    1001   6160   2360   1400   2370   3690   12900    5520           0   \n",
       "1    1003  96270  39180  40860  14170  48000  190890   59720        1750   \n",
       "2    1005   4230   1590   1360   1210   2710    8630    3160           0   \n",
       "3    1007  25770   9510  11170   4470  13900   54770   19530         120   \n",
       "4    1009   8400   2900   4320   1020   5350   18440    6190          30   \n",
       "\n",
       "   vita        ...              a11070      a10960     a11560        a06500  \\\n",
       "0     0        ...          711.931008  166.524806  22.957364    712.238760   \n",
       "1   270        ...          396.985751  108.103358  32.867096  10646.549112   \n",
       "2     0        ...           99.494786   18.059096   0.000000    354.590962   \n",
       "3    80        ...          142.890999   71.592295   7.430162   6374.095855   \n",
       "4     0        ...          138.116594   27.430043   8.217462   1584.805315   \n",
       "\n",
       "         a10300     a85530     a85300       a11901       a11902  \\\n",
       "0    918.293798   0.000000   0.000000   108.798450  4549.137209   \n",
       "1  11488.307821  23.238933  43.143329  1584.483210  3927.023679   \n",
       "2    422.663963   0.000000   0.000000    54.924681   720.022016   \n",
       "3   6748.320431   1.491693   2.099690   635.229870  2165.066642   \n",
       "4   1771.816161   0.000000   0.000000   171.600868  1351.374187   \n",
       "\n",
       "   avg_income_n2_agi  \n",
       "0          16.430620  \n",
       "1          31.412955  \n",
       "2          18.287601  \n",
       "3          26.999781  \n",
       "4          22.035900  \n",
       "\n",
       "[5 rows x 145 columns]"
      ]
     },
     "execution_count": 13,
     "metadata": {},
     "output_type": "execute_result"
    }
   ],
   "source": [
    "agg_income.head()"
   ]
  },
  {
   "cell_type": "code",
   "execution_count": 14,
   "metadata": {
    "collapsed": true
   },
   "outputs": [],
   "source": [
    "agg_income['County']=agg_income['County'].astype(str)\n",
    "for i in range(len(agg_income)): \n",
    "    agg_income['County'][i] = agg_income['County'][i].zfill(5)"
   ]
  },
  {
   "cell_type": "code",
   "execution_count": 15,
   "metadata": {
    "collapsed": true
   },
   "outputs": [],
   "source": [
    "County = agg_income['County'].tolist()\n",
    "income = agg_income['avg_income_n2_agi'].tolist()"
   ]
  },
  {
   "cell_type": "code",
   "execution_count": 16,
   "metadata": {},
   "outputs": [
    {
     "data": {
      "text/plain": [
       "8.289361696263299"
      ]
     },
     "execution_count": 16,
     "metadata": {},
     "output_type": "execute_result"
    }
   ],
   "source": [
    "np.min(agg_income['avg_income_n2_agi'])"
   ]
  },
  {
   "cell_type": "code",
   "execution_count": 58,
   "metadata": {
    "scrolled": true
   },
   "outputs": [
    {
     "name": "stdout",
     "output_type": "stream",
     "text": [
      "The draw time for this plot will be slow for all clients.\n"
     ]
    },
    {
     "data": {
      "text/html": [
       "<iframe id=\"igraph\" scrolling=\"no\" style=\"border:none;\" seamless=\"seamless\" src=\"https://plot.ly/~devarshjhaveri/4.embed\" height=\"450px\" width=\"900px\"></iframe>"
      ],
      "text/plain": [
       "<plotly.tools.PlotlyDisplay object>"
      ]
     },
     "execution_count": 58,
     "metadata": {},
     "output_type": "execute_result"
    }
   ],
   "source": [
    "fig = ff.create_choropleth(\n",
    "    fips=County, values=income,\n",
    "    binning_endpoints=list(np.linspace(30,120,16)),\n",
    "    show_state_data=True,\n",
    "    colorscale=colorscale,\n",
    "    state_outline=state_outline,\n",
    "    county_outline=county_outline,\n",
    "    show_hover=True, centroid_marker={'opacity': 0},\n",
    "    asp=2.9, title='USA by Income %',\n",
    "    legend_title='% Income'\n",
    ")\n",
    "py.iplot(fig, filename='choropleth_full_usa')"
   ]
  },
  {
   "cell_type": "code",
   "execution_count": 35,
   "metadata": {},
   "outputs": [],
   "source": [
    "import plotly.graph_objs as go\n",
    "from plotly import tools"
   ]
  },
  {
   "cell_type": "code",
   "execution_count": 65,
   "metadata": {
    "collapsed": true
   },
   "outputs": [],
   "source": [
    "colorscale1 = [\"#8dd3c7\", \"#ffffb3\", \"#bebada\", \"#fb8072\",\n",
    "              \"#80b1d3\", \"#fdb462\", \"#b3de69\", \"#fccde5\",\n",
    "              \"#d9d9d9\", \"#bc80bd\", \"#ccebc5\", \"#ffed6f\",\n",
    "              \"#8dd3c7\", \"#ffffb3\", \"#bebada\", \"#fb8072\",\n",
    "              \"#80b1d3\", \"#fdb462\", \"#b3de69\", \"#fccde5\",\n",
    "              \"#d9d9d9\", \"#bc80bd\", \"#ccebc5\", \"#ffed6f\",\n",
    "              \"#8dd3c7\", \"#ffffb3\", \"#bebada\", \"#fb8072\",\n",
    "              \"#80b1d3\", \"#fdb462\", \"#b3de69\", \"#fccde5\",\n",
    "              \"#d9d9d9\", \"#bc80bd\", \"#ccebc5\", \"#ffed6f\"]\n",
    "state_outline = {'color': 'rgb(255, 255, 255)',\n",
    "                         'width': 0.2}\n",
    "county_outline = {'color': 'rgb(255, 255, 255)',\n",
    "                         'width': 0.2}"
   ]
  },
  {
   "cell_type": "code",
   "execution_count": 63,
   "metadata": {
    "collapsed": true
   },
   "outputs": [],
   "source": [
    "state_outline1 = {'color': 'rgb(155, 155, 155)',\n",
    "                         'width': 0.5}\n",
    "county_outline1 = {'color': 'rgb(155, 155, 155)',\n",
    "                         'width': 0.2}"
   ]
  },
  {
   "cell_type": "code",
   "execution_count": 70,
   "metadata": {},
   "outputs": [
    {
     "name": "stdout",
     "output_type": "stream",
     "text": [
      "The draw time for this plot will be slow for all clients.\n"
     ]
    },
    {
     "data": {
      "text/html": [
       "<iframe id=\"igraph\" scrolling=\"no\" style=\"border:none;\" seamless=\"seamless\" src=\"https://plot.ly/~devarshjhaveri/4.embed\" height=\"450px\" width=\"900px\"></iframe>"
      ],
      "text/plain": [
       "<plotly.tools.PlotlyDisplay object>"
      ]
     },
     "execution_count": 70,
     "metadata": {},
     "output_type": "execute_result"
    }
   ],
   "source": [
    "fig = ff.create_choropleth(\n",
    "    fips=County, values=income,\n",
    "    binning_endpoints=list(np.linspace(30,120,16)),\n",
    "    show_state_data=True,\n",
    "    colorscale=colorscale,\n",
    "    state_outline=state_outline1,\n",
    "    show_hover=True, centroid_marker={'opacity': 0},\n",
    "    asp=2.9, title='USA by Average Per Capita Income',\n",
    "    legend_title='Average Income (Thousands of dollars)'\n",
    ")\n",
    "py.iplot(fig, filename='choropleth_full_usa')"
   ]
  },
  {
   "cell_type": "code",
   "execution_count": null,
   "metadata": {
    "collapsed": true
   },
   "outputs": [],
   "source": []
  }
 ],
 "metadata": {
  "kernelspec": {
   "display_name": "Python 3",
   "language": "python",
   "name": "python3"
  },
  "language_info": {
   "codemirror_mode": {
    "name": "ipython",
    "version": 3
   },
   "file_extension": ".py",
   "mimetype": "text/x-python",
   "name": "python",
   "nbconvert_exporter": "python",
   "pygments_lexer": "ipython3",
   "version": "3.6.3"
  }
 },
 "nbformat": 4,
 "nbformat_minor": 2
}
