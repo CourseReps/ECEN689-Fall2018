{
 "cells": [
  {
   "cell_type": "markdown",
   "metadata": {},
   "source": [
    "# Jupyter Team Generator"
   ]
  },
  {
   "cell_type": "code",
   "execution_count": null,
   "metadata": {},
   "outputs": [],
   "source": [
    "import numpy as np\n",
    "import math\n",
    "\n",
    "group_size = 3\n",
    "\n",
    "# Challenge 2\n",
    "np.random.seed(2)\n",
    "\n",
    "student_names = [\n",
    "'Siddharth Ajit',\n",
    "'Sayeed Alvi',\n",
    "'Prabhneet Arora',\n",
    "'Priya Balasubramanian',\n",
    "# 'Michael Bass',\n",
    "'Fazia Batool',\n",
    "'Harish Chigurupati',\n",
    "'Sambandh Bhusan Dhal',\n",
    "'Divyank Garg',\n",
    "'Devarsh Jhaveri',\n",
    "'Jatin Kamnani',\n",
    "'Drupad Khublani',\n",
    "'Ashish Kumar',\n",
    "'Harish Kumar',\n",
    "'Rishi Laddha',\n",
    "'Aditya Lahiri',\n",
    "'Ki Yeob Lee',\n",
    "'Vedant Mehta',\n",
    "'Samarth Mistry',\n",
    "'Khaled Nakhleh',\n",
    "'Harinath',\n",
    "'Shirish Pandagare',\n",
    "'Venkata Pydimarri',\n",
    "'Shabarish Rajendra',\n",
    "'Swati Ramachandran',\n",
    "'Mason Rumuly',\n",
    "'Samyuktha Sankaran',\n",
    "'Kanchan Satpute',\n",
    "'Ali Shafi',\n",
    "'Kishan Shah',\n",
    "'Anirudh Shaktawat',\n",
    "'Mahalakshmi Sridharan',\n",
    "'Ranjith Tamil Selvan',\n",
    "'Brandon Thayer',\n",
    "'Amrita Veerabagu',\n",
    "'Neehar Yalamarti'\n",
    "]\n",
    "\n",
    "class_size = len(student_names)\n",
    "print('Current Class Size: ' + str(class_size))\n",
    "shuffled_names = np.random.permutation(student_names)\n",
    "\n",
    "groups = math.floor(class_size / group_size)\n",
    "for index in range(groups):\n",
    "    print(shuffled_names[(index)*group_size:(index+1)*group_size])\n",
    "print(shuffled_names[groups*group_size:])\n",
    "    \n",
    "# Tutoial teams\n",
    "# ['Samyuktha Sankaran' 'P R S Harinath']\n",
    "# ['Kishan Shah' 'Khaled Nakhleh']\n",
    "# ['Swati Ramachandran' 'Priyadharsheni Balasubramanian']\n",
    "# ['Brandon Thayer' 'Harish Chigurupati']\n",
    "# ['Ranjith Tamil Selvan' 'Drupad Khublani']\n",
    "# ['Aliakbar Shafi' 'Rishi Laddha']\n",
    "# ['Anirudh Shaktawat' 'Kanchan Satpute']\n",
    "# ['Devarsh Jhaveri' 'Ki Yeob Lee']\n",
    "# ['Sayeed Alvi' 'Samarth Mistry']\n",
    "# ['Fazia Batool' 'Mahalakshmi Sridharan']\n",
    "# ['Vedant Mehta' 'Neehar Yalamarti']\n",
    "# ['Siddharth Ajit' 'Mason Rumuly']\n",
    "# ['Shirish Pandagare' 'Aditya Lahiri']\n",
    "# ['Michael Bass' 'Harish Kumar']\n",
    "# ['Venkata Pydimarri' 'Jatin Kamnani']\n",
    "# ['Prabhneet Arora' 'Sambandh Bhusan Dhal']\n",
    "# ['Ashish Kumar' 'Shabarish Rajendra']\n",
    "# ['Divyank Garg' 'Amrita Veerabagu']"
   ]
  },
  {
   "cell_type": "code",
   "execution_count": null,
   "metadata": {
    "collapsed": true
   },
   "outputs": [],
   "source": []
  }
 ],
 "metadata": {
  "kernelspec": {
   "display_name": "Python 3",
   "language": "python",
   "name": "python3"
  },
  "language_info": {
   "codemirror_mode": {
    "name": "ipython",
    "version": 3
   },
   "file_extension": ".py",
   "mimetype": "text/x-python",
   "name": "python",
   "nbconvert_exporter": "python",
   "pygments_lexer": "ipython3",
   "version": "3.6.1"
  }
 },
 "nbformat": 4,
 "nbformat_minor": 2
}
