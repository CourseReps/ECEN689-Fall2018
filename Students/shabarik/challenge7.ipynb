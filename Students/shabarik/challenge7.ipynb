{
  "nbformat": 4,
  "nbformat_minor": 0,
  "metadata": {
    "colab": {
      "name": "DGCI_Keras.ipynb",
      "version": "0.3.2",
      "provenance": []
    },
    "kernelspec": {
      "name": "python3",
      "display_name": "Python 3"
    }
  },
  "cells": [
    {
      "metadata": {
        "id": "2HpW7yqKcuLK",
        "colab_type": "code",
        "colab": {}
      },
      "cell_type": "code",
      "source": [
        "from google.colab import files\n",
        "uploaded = files.upload()"
      ],
      "execution_count": 0,
      "outputs": []
    },
    {
      "metadata": {
        "id": "gPth5220e9TU",
        "colab_type": "code",
        "colab": {}
      },
      "cell_type": "code",
      "source": [
        "from PIL import Image"
      ],
      "execution_count": 0,
      "outputs": []
    },
    {
      "metadata": {
        "id": "S08wI0CyZ2uM",
        "colab_type": "code",
        "colab": {}
      },
      "cell_type": "code",
      "source": [
        "from google.colab import files\n",
        "import tensorflow as tf\n",
        "import pandas as pd\n",
        "import io\n",
        "import numpy as np\n",
        "import PIL\n",
        "from math import sqrt\n",
        "from keras.models import Sequential\n",
        "from keras.layers import Dense, Conv2D, Flatten"
      ],
      "execution_count": 0,
      "outputs": []
    },
    {
      "metadata": {
        "id": "9Lx79QeKoJ39",
        "colab_type": "code",
        "colab": {}
      },
      "cell_type": "code",
      "source": [
        "train = pd.read_csv('train.csv')\n",
        "train_ids = train['Id'].values.tolist()\n",
        "train_labels = train['DGCI'].values.tolist()\n",
        "train_labels = np.array(train_labels,dtype=float).reshape([792,1])\n",
        "\n",
        "test = pd.read_csv('sample.csv')\n",
        "test_ids = test['Id'].values.tolist()"
      ],
      "execution_count": 0,
      "outputs": []
    },
    {
      "metadata": {
        "id": "sc7uB-P55gau",
        "colab_type": "code",
        "colab": {}
      },
      "cell_type": "code",
      "source": [
        "final = []\n",
        "green = []\n",
        "for label in train_ids:\n",
        "\n",
        "    img = Image.open(str(label)+'.jpg')\n",
        "    img = img.resize((40,30),PIL.Image.ANTIALIAS)\n",
        "    x = np.array(img)\n",
        "    #x = x.reshape(30,40,3)\n",
        "    g = x[:,:,1].reshape(30,40,1)\n",
        "    #g = g.reshape(300,400,1)\n",
        "    final.append(x)\n",
        "    green.append(g)\n",
        "\n",
        "final = np.array(final,dtype=float)\n",
        "green = np.array(green,dtype=float)\n",
        "print(np.shape(green))"
      ],
      "execution_count": 0,
      "outputs": []
    },
    {
      "metadata": {
        "id": "p3m-oyyH7oLX",
        "colab_type": "code",
        "colab": {}
      },
      "cell_type": "code",
      "source": [
        "final_test = []\n",
        "green_test = []\n",
        "for label in test_ids:\n",
        "\n",
        "    img = Image.open(str(label)+'.jpg')\n",
        "    img = img.resize((40,30),PIL.Image.ANTIALIAS)\n",
        "    x = np.array(img)\n",
        "    #x = x.reshape(30,40,3)\n",
        "    g = x[:,:,1].reshape(30,40,1)\n",
        "    final_test.append(x)\n",
        "    green_test.append(g)\n",
        "\n",
        "final_test = np.array(final_test,dtype=float)\n",
        "green_test = np.array(green_test,dtype=float)\n",
        "print(np.shape(green_test))"
      ],
      "execution_count": 0,
      "outputs": []
    },
    {
      "metadata": {
        "id": "RAiawucDLM2x",
        "colab_type": "code",
        "colab": {}
      },
      "cell_type": "code",
      "source": [
        "from keras.layers.normalization import BatchNormalization\n",
        "from keras.callbacks import LearningRateScheduler\n",
        "from keras.layers import Dense, Dropout, Activation, Flatten\n",
        "import keras"
      ],
      "execution_count": 0,
      "outputs": []
    },
    {
      "metadata": {
        "id": "Ki9tNPBhNNHB",
        "colab_type": "code",
        "colab": {}
      },
      "cell_type": "code",
      "source": [
        "model = Sequential()\n",
        "\n",
        "model.add(Conv2D(32, kernel_size = 3, activation='relu', input_shape = (30, 40, 3)))\n",
        "model.add(BatchNormalization())\n",
        "model.add(Conv2D(32, kernel_size = 3, activation='relu'))\n",
        "model.add(BatchNormalization())\n",
        "model.add(Conv2D(32, kernel_size = 5, strides=2, padding='same', activation='relu'))\n",
        "model.add(BatchNormalization())\n",
        "model.add(Dropout(0.4))\n",
        "model.add(Conv2D(64, kernel_size = 3, activation='relu'))\n",
        "model.add(BatchNormalization())\n",
        "model.add(Conv2D(64, kernel_size = 5, strides=2, padding='same', activation='relu'))\n",
        "model.add(BatchNormalization())\n",
        "model.add(Dropout(0.4)) \n",
        "model.add(Conv2D(128, kernel_size = 4, activation='relu'))\n",
        "model.add(BatchNormalization())\n",
        "model.add(Flatten())\n",
        "model.add(Dropout(0.4))\n",
        "model.add(Dense(1,activation='linear'))"
      ],
      "execution_count": 0,
      "outputs": []
    },
    {
      "metadata": {
        "id": "Sr5KndwBhyOa",
        "colab_type": "code",
        "colab": {}
      },
      "cell_type": "code",
      "source": [
        "model.compile(optimizer=keras.optimizers.Adadelta(), loss='mean_squared_error', metrics=['mean_squared_error'])"
      ],
      "execution_count": 0,
      "outputs": []
    },
    {
      "metadata": {
        "id": "-ozXz9yudO9T",
        "colab_type": "code",
        "colab": {}
      },
      "cell_type": "code",
      "source": [
        "model.fit(final,train_labels,epochs=1,batch_size=64)"
      ],
      "execution_count": 0,
      "outputs": []
    },
    {
      "metadata": {
        "id": "ESzytdS_nO22",
        "colab_type": "code",
        "colab": {}
      },
      "cell_type": "code",
      "source": [
        "print(sqrt(model.evaluate(final,train_labels)[1]))"
      ],
      "execution_count": 0,
      "outputs": []
    },
    {
      "metadata": {
        "id": "gxMH0n-ZgVWv",
        "colab_type": "code",
        "colab": {}
      },
      "cell_type": "code",
      "source": [
        "predicted = model.predict(final_test)"
      ],
      "execution_count": 0,
      "outputs": []
    },
    {
      "metadata": {
        "id": "DrgQisIZge5l",
        "colab_type": "code",
        "colab": {}
      },
      "cell_type": "code",
      "source": [
        "test['DGCI'] = predicted\n",
        "test.to_csv('Predictions_DGCI.csv',index=False)"
      ],
      "execution_count": 0,
      "outputs": []
    },
    {
      "metadata": {
        "id": "_u_ocivygts3",
        "colab_type": "code",
        "colab": {}
      },
      "cell_type": "code",
      "source": [
        "files.download('Predictions_DGCI.csv')"
      ],
      "execution_count": 0,
      "outputs": []
    }
  ]
}