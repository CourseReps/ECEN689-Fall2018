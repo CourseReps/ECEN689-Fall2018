{
  "nbformat": 4,
  "nbformat_minor": 0,
  "metadata": {
    "colab": {
      "name": "DGCI.ipynb",
      "version": "0.3.2",
      "provenance": [],
      "collapsed_sections": []
    },
    "kernelspec": {
      "name": "python3",
      "display_name": "Python 3"
    },
    "accelerator": "GPU"
  },
  "cells": [
    {
      "metadata": {
        "id": "PbdUMIVW6zWf",
        "colab_type": "code",
        "colab": {}
      },
      "cell_type": "code",
      "source": [
        "import glob\n",
        "import cv2\n",
        "import os\n",
        "import pandas as pd\n",
        "from PIL import Image\n",
        "import numpy as np\n",
        "import os\n",
        "from pydrive.auth import GoogleAuth\n",
        "from pydrive.drive import GoogleDrive\n",
        "from google.colab import auth\n",
        "from oauth2client.client import GoogleCredentials\n",
        "from keras.callbacks import EarlyStopping\n",
        "from keras.wrappers.scikit_learn import KerasRegressor\n",
        "from sklearn import preprocessing\n",
        "import matplotlib.pyplot as plt\n"
      ],
      "execution_count": 0,
      "outputs": []
    },
    {
      "metadata": {
        "id": "KgDLTZgkzaf6",
        "colab_type": "code",
        "colab": {}
      },
      "cell_type": "code",
      "source": [
        "auth.authenticate_user()\n",
        "gauth = GoogleAuth()\n",
        "gauth.credentials = GoogleCredentials.get_application_default()\n",
        "drive = GoogleDrive(gauth)"
      ],
      "execution_count": 0,
      "outputs": []
    },
    {
      "metadata": {
        "id": "5xX9vfO3zhkm",
        "colab_type": "code",
        "colab": {
          "base_uri": "https://localhost:8080/",
          "height": 55
        },
        "outputId": "6f7f154a-7cc1-490b-d1f5-612d756078fc"
      },
      "cell_type": "code",
      "source": [
        "from google.colab import drive\n",
        "drive.mount('/content/drive')"
      ],
      "execution_count": 706,
      "outputs": [
        {
          "output_type": "stream",
          "text": [
            "Drive already mounted at /content/drive; to attempt to forcibly remount, call drive.mount(\"/content/drive\", force_remount=True).\n"
          ],
          "name": "stdout"
        }
      ]
    },
    {
      "metadata": {
        "id": "vK4awJJZzozr",
        "colab_type": "code",
        "colab": {}
      },
      "cell_type": "code",
      "source": [
        "import os\n",
        "os.chdir('/content/drive/My Drive/Archive')"
      ],
      "execution_count": 0,
      "outputs": []
    },
    {
      "metadata": {
        "id": "PMZV6MXBzaFY",
        "colab_type": "code",
        "colab": {}
      },
      "cell_type": "code",
      "source": [
        ""
      ],
      "execution_count": 0,
      "outputs": []
    },
    {
      "metadata": {
        "id": "h4aRGHpY9Xvt",
        "colab_type": "code",
        "colab": {}
      },
      "cell_type": "code",
      "source": [
        "train_data=pd.read_csv('train.csv')\n",
        "test_data=pd.read_csv('sample.csv')\n",
        "\n",
        "train_list=list(zip(train_data['Id'], train_data['DGCI']))\n",
        "test_list=list(zip(test_data['Id'], test_data['DGCI']))\n",
        "test_Id=list(test_data['Id'])\n",
        "train_Id=list(train_data['Id'])\n",
        "train_label=train_data['DGCI']\n",
        "\n",
        "train_dict=dict(train_list)\n",
        "test_dict=dict(test_list)\n",
        "\n",
        "\n",
        "#train_dict=dict(train_list)\n",
        "#test_dict=dict(test_list)\n",
        "\n",
        "\n",
        "train_images=[]\n",
        "test_images=[]\n"
      ],
      "execution_count": 0,
      "outputs": []
    },
    {
      "metadata": {
        "id": "dyr_STJ89Zs3",
        "colab_type": "code",
        "colab": {}
      },
      "cell_type": "code",
      "source": [
        "train_ID=[]\n",
        "test_ID=[]\n",
        "train_label=[]\n",
        "test_label=[]"
      ],
      "execution_count": 0,
      "outputs": []
    },
    {
      "metadata": {
        "id": "XaO9CpBw9fNY",
        "colab_type": "code",
        "colab": {}
      },
      "cell_type": "code",
      "source": [
        "import skimage.io as io\n",
        "images=[]\n",
        "for i in test_Id:\n",
        "    img=io.imread(str(i)+'.jpg',as_grey=False)\n",
        "    if (img.shape[0]!=300) or (img.shape[1]!=400):\n",
        "        img=cv2.resize(img,(400,300),3)\n",
        "    #img=img.reshape([300,400,3])\n",
        "\n",
        "    test_images.append(img)\n",
        "    \n"
      ],
      "execution_count": 0,
      "outputs": []
    },
    {
      "metadata": {
        "id": "Rs_9MAmW2uMt",
        "colab_type": "code",
        "colab": {}
      },
      "cell_type": "code",
      "source": [
        "for i in train_Id:\n",
        "    img=io.imread(str(i)+'.jpg',as_grey=False)\n",
        "    if (img.shape[0]!=300) or (img.shape[1]!=400):\n",
        "        img=cv2.resize(img,(400,300),3)\n",
        "    #img=img.reshape([300,400,3])\n",
        "\n",
        "    train_images.append(img)\n",
        "    train_label.append(train_dict[i])"
      ],
      "execution_count": 0,
      "outputs": []
    },
    {
      "metadata": {
        "id": "Fr-mJfP59ryz",
        "colab_type": "code",
        "outputId": "8931748b-70c8-4514-ee4c-53cb88df02a3",
        "colab": {
          "base_uri": "https://localhost:8080/",
          "height": 35
        }
      },
      "cell_type": "code",
      "source": [
        "np.asarray(train_images).shape"
      ],
      "execution_count": 712,
      "outputs": [
        {
          "output_type": "execute_result",
          "data": {
            "text/plain": [
              "(792, 300, 400, 3)"
            ]
          },
          "metadata": {
            "tags": []
          },
          "execution_count": 712
        }
      ]
    },
    {
      "metadata": {
        "id": "w_6pooIbv63y",
        "colab_type": "code",
        "colab": {}
      },
      "cell_type": "code",
      "source": [
        "a=np.asarray(train_images)"
      ],
      "execution_count": 0,
      "outputs": []
    },
    {
      "metadata": {
        "id": "JSYYVFiO9sjN",
        "colab_type": "code",
        "outputId": "12292e42-9383-4a32-8dc2-bfc273c3aeb3",
        "colab": {
          "base_uri": "https://localhost:8080/",
          "height": 35
        }
      },
      "cell_type": "code",
      "source": [
        "np.asarray(test_images).shape"
      ],
      "execution_count": 714,
      "outputs": [
        {
          "output_type": "execute_result",
          "data": {
            "text/plain": [
              "(528, 300, 400, 3)"
            ]
          },
          "metadata": {
            "tags": []
          },
          "execution_count": 714
        }
      ]
    },
    {
      "metadata": {
        "id": "c0Q2plHt9ujE",
        "colab_type": "code",
        "colab": {}
      },
      "cell_type": "code",
      "source": [
        "x_train=np.asarray(train_images)\n",
        "x_test=np.asarray(test_images)\n"
      ],
      "execution_count": 0,
      "outputs": []
    },
    {
      "metadata": {
        "id": "HFoiKrSO9w2E",
        "colab_type": "code",
        "colab": {}
      },
      "cell_type": "code",
      "source": [
        "#x_train = preprocessing.normalize(x_train)\n",
        "#x_test = preprocessing.normalize(x_test)\n",
        "\n",
        "x_train = x_train.astype('float32') / 255\n",
        "x_test= x_test.astype('float32') / 255"
      ],
      "execution_count": 0,
      "outputs": []
    },
    {
      "metadata": {
        "id": "2nDPOEEk903S",
        "colab_type": "code",
        "colab": {}
      },
      "cell_type": "code",
      "source": [
        "from sklearn.model_selection import train_test_split\n",
        "x_train, x_val, y_train, y_val = train_test_split(x_train, train_label, test_size=0.2, random_state=13)"
      ],
      "execution_count": 0,
      "outputs": []
    },
    {
      "metadata": {
        "id": "cIzm6zyB6RdP",
        "colab_type": "code",
        "colab": {
          "base_uri": "https://localhost:8080/",
          "height": 35
        },
        "outputId": "fbf50d5b-7d0f-474b-8878-0582c57ebf79"
      },
      "cell_type": "code",
      "source": [
        "x_test.shape"
      ],
      "execution_count": 718,
      "outputs": [
        {
          "output_type": "execute_result",
          "data": {
            "text/plain": [
              "(528, 300, 400, 3)"
            ]
          },
          "metadata": {
            "tags": []
          },
          "execution_count": 718
        }
      ]
    },
    {
      "metadata": {
        "id": "tLCE5w1K92fX",
        "colab_type": "code",
        "colab": {}
      },
      "cell_type": "code",
      "source": [
        "import keras\n",
        "from keras.models import Sequential\n",
        "from keras.layers import Conv2D\n",
        "from keras.layers import MaxPool2D\n",
        "from keras.layers import Flatten\n",
        "from keras.layers import Dense\n",
        "from keras.layers import Dropout\n",
        "from keras.layers.advanced_activations import LeakyReLU"
      ],
      "execution_count": 0,
      "outputs": []
    },
    {
      "metadata": {
        "colab_type": "code",
        "id": "-otBJ3W_5Mg2",
        "colab": {}
      },
      "cell_type": "code",
      "source": [
        "from keras import Sequential\n",
        "from keras.layers.convolutional import Conv2D\n",
        "from keras.layers import Dense,Dropout,BatchNormalization\n",
        "\n",
        "model = Sequential()\n",
        "\n",
        "model.add(Conv2D(32,kernel_size=(3,3),activation='relu',padding='same',input_shape=(300,400,3)))\n",
        "model.add(LeakyReLU(alpha=0.3))\n",
        "model.add(MaxPool2D(pool_size=(2,2)))\n",
        "#model.add(Dropout(0.25))\n",
        "\n",
        "\n",
        "model.add(Conv2D(32,kernel_size=(3,3),activation='relu',padding='same'))\n",
        "model.add(LeakyReLU(alpha=0.3))\n",
        "model.add(MaxPool2D(pool_size=(2,2)))\n",
        "#model.add(Dropout(0.25))\n",
        "\n",
        "model.add(Conv2D(64,kernel_size=(3,3),activation='relu',padding='same'))\n",
        "model.add(LeakyReLU(alpha=0.3))\n",
        "model.add(MaxPool2D(pool_size=(2,2)))\n",
        "#model.add(Dropout(0.25))\n",
        "\n",
        "model.add(Conv2D(64,kernel_size=(3,3),activation='relu',padding='same'))\n",
        "model.add(LeakyReLU(alpha=0.3))\n",
        "model.add(MaxPool2D(pool_size=(2,2)))\n",
        "#model.add(Dropout(0.25))\n",
        "\n",
        "model.add(Conv2D(128,kernel_size=(3,3),activation='relu',padding='same'))\n",
        "model.add(LeakyReLU(alpha=0.3))\n",
        "model.add(MaxPool2D(pool_size=(2,2)))\n",
        "#model.add(Dropout(0.25))\n",
        "\n",
        "\n",
        "model.add(Conv2D(128,kernel_size=(3,3),activation='relu',padding='same'))\n",
        "model.add(LeakyReLU(alpha=0.3))\n",
        "model.add(MaxPool2D(pool_size=(2,2)))\n",
        "#model.add(Dropout(0.25))\n",
        "\n",
        "model.add(Conv2D(256,kernel_size=(3,3),activation='relu',padding='same'))\n",
        "model.add(LeakyReLU(alpha=0.3))\n",
        "model.add(MaxPool2D(pool_size=(2,2)))\n",
        "#model.add(Dropout(0.25))\n",
        "\n",
        "model.add(Conv2D(256,kernel_size=(3,3),activation='relu',padding='same'))\n",
        "model.add(LeakyReLU(alpha=0.3))\n",
        "model.add(MaxPool2D(pool_size=(2,2)))\n",
        "#model.add(Dropout(0.25))\n",
        "\n",
        "model.add(Flatten())\n",
        "#model.add(BatchNormalization())\n",
        "\n",
        "model.add(Dense(256, activation='relu'))\n",
        "model.add(LeakyReLU(alpha=0.3))\n",
        "#model.add(Dropout(0.3))\n",
        "\n",
        "model.add(Dense(256, activation='relu'))\n",
        "model.add(LeakyReLU(alpha=0.3))\n",
        "#model.add(Dropout(0.3))\n",
        "\n",
        "model.add(Dense(256, activation='relu'))\n",
        "model.add(LeakyReLU(alpha=0.3))\n",
        "model.add(Dropout(0.3))\n",
        "\n",
        "model.add(Dense(1,activation='linear'))\n",
        "\n",
        "model.compile(loss='mse',\n",
        "              optimizer='adam',\n",
        "              metrics=['accuracy'])"
      ],
      "execution_count": 0,
      "outputs": []
    },
    {
      "metadata": {
        "id": "Ao8-szLe97Qd",
        "colab_type": "code",
        "outputId": "82da0875-9153-4d40-93f3-eb9dbb795f3f",
        "colab": {
          "base_uri": "https://localhost:8080/",
          "height": 1095
        }
      },
      "cell_type": "code",
      "source": [
        "a=model.fit(x_train, y_train,epochs=30,verbose=1,validation_data=(x_val, y_val))\n"
      ],
      "execution_count": 721,
      "outputs": [
        {
          "output_type": "stream",
          "text": [
            "Train on 633 samples, validate on 159 samples\n",
            "Epoch 1/30\n",
            "633/633 [==============================] - 17s 27ms/step - loss: 0.2287 - acc: 0.0000e+00 - val_loss: 0.0670 - val_acc: 0.0000e+00\n",
            "Epoch 2/30\n",
            "633/633 [==============================] - 7s 11ms/step - loss: 0.0615 - acc: 0.0000e+00 - val_loss: 0.0658 - val_acc: 0.0000e+00\n",
            "Epoch 3/30\n",
            "633/633 [==============================] - 7s 11ms/step - loss: 0.0571 - acc: 0.0000e+00 - val_loss: 0.0600 - val_acc: 0.0000e+00\n",
            "Epoch 4/30\n",
            "633/633 [==============================] - 7s 11ms/step - loss: 0.0463 - acc: 0.0000e+00 - val_loss: 0.0693 - val_acc: 0.0000e+00\n",
            "Epoch 5/30\n",
            "633/633 [==============================] - 7s 11ms/step - loss: 0.0619 - acc: 0.0000e+00 - val_loss: 0.0704 - val_acc: 0.0000e+00\n",
            "Epoch 6/30\n",
            "633/633 [==============================] - 7s 11ms/step - loss: 0.0500 - acc: 0.0000e+00 - val_loss: 0.0696 - val_acc: 0.0000e+00\n",
            "Epoch 7/30\n",
            "633/633 [==============================] - 7s 11ms/step - loss: 0.0542 - acc: 0.0000e+00 - val_loss: 0.0639 - val_acc: 0.0000e+00\n",
            "Epoch 8/30\n",
            "633/633 [==============================] - 7s 11ms/step - loss: 0.0409 - acc: 0.0000e+00 - val_loss: 0.0371 - val_acc: 0.0000e+00\n",
            "Epoch 9/30\n",
            "633/633 [==============================] - 7s 11ms/step - loss: 0.0523 - acc: 0.0000e+00 - val_loss: 0.0695 - val_acc: 0.0000e+00\n",
            "Epoch 10/30\n",
            "633/633 [==============================] - 7s 11ms/step - loss: 0.0552 - acc: 0.0000e+00 - val_loss: 0.0626 - val_acc: 0.0000e+00\n",
            "Epoch 11/30\n",
            "633/633 [==============================] - 7s 11ms/step - loss: 0.0521 - acc: 0.0000e+00 - val_loss: 0.0558 - val_acc: 0.0000e+00\n",
            "Epoch 12/30\n",
            "633/633 [==============================] - 7s 11ms/step - loss: 0.0373 - acc: 0.0000e+00 - val_loss: 0.0417 - val_acc: 0.0000e+00\n",
            "Epoch 13/30\n",
            "633/633 [==============================] - 7s 11ms/step - loss: 0.0200 - acc: 0.0000e+00 - val_loss: 0.0465 - val_acc: 0.0000e+00\n",
            "Epoch 14/30\n",
            "633/633 [==============================] - 7s 11ms/step - loss: 0.0423 - acc: 0.0000e+00 - val_loss: 0.0297 - val_acc: 0.0000e+00\n",
            "Epoch 15/30\n",
            "633/633 [==============================] - 7s 11ms/step - loss: 0.0177 - acc: 0.0000e+00 - val_loss: 0.0325 - val_acc: 0.0000e+00\n",
            "Epoch 16/30\n",
            "633/633 [==============================] - 7s 11ms/step - loss: 0.0422 - acc: 0.0000e+00 - val_loss: 0.0631 - val_acc: 0.0000e+00\n",
            "Epoch 17/30\n",
            "633/633 [==============================] - 7s 11ms/step - loss: 0.0511 - acc: 0.0000e+00 - val_loss: 0.0578 - val_acc: 0.0000e+00\n",
            "Epoch 18/30\n",
            "633/633 [==============================] - 7s 11ms/step - loss: 0.0375 - acc: 0.0000e+00 - val_loss: 0.0402 - val_acc: 0.0000e+00\n",
            "Epoch 19/30\n",
            "633/633 [==============================] - 7s 11ms/step - loss: 0.0229 - acc: 0.0000e+00 - val_loss: 0.0250 - val_acc: 0.0000e+00\n",
            "Epoch 20/30\n",
            "633/633 [==============================] - 7s 11ms/step - loss: 0.0300 - acc: 0.0000e+00 - val_loss: 0.0531 - val_acc: 0.0000e+00\n",
            "Epoch 21/30\n",
            "633/633 [==============================] - 7s 11ms/step - loss: 0.0418 - acc: 0.0000e+00 - val_loss: 0.0414 - val_acc: 0.0000e+00\n",
            "Epoch 22/30\n",
            "633/633 [==============================] - 7s 11ms/step - loss: 0.0248 - acc: 0.0000e+00 - val_loss: 0.0203 - val_acc: 0.0000e+00\n",
            "Epoch 23/30\n",
            "633/633 [==============================] - 7s 11ms/step - loss: 0.0094 - acc: 0.0000e+00 - val_loss: 0.0193 - val_acc: 0.0000e+00\n",
            "Epoch 24/30\n",
            "633/633 [==============================] - 7s 11ms/step - loss: 0.0087 - acc: 0.0000e+00 - val_loss: 0.0194 - val_acc: 0.0000e+00\n",
            "Epoch 25/30\n",
            "633/633 [==============================] - 7s 11ms/step - loss: 0.0127 - acc: 0.0000e+00 - val_loss: 0.0207 - val_acc: 0.0000e+00\n",
            "Epoch 26/30\n",
            "633/633 [==============================] - 7s 11ms/step - loss: 0.0189 - acc: 0.0000e+00 - val_loss: 0.0209 - val_acc: 0.0000e+00\n",
            "Epoch 27/30\n",
            "633/633 [==============================] - 7s 11ms/step - loss: 0.0071 - acc: 0.0000e+00 - val_loss: 0.0196 - val_acc: 0.0000e+00\n",
            "Epoch 28/30\n",
            "633/633 [==============================] - 7s 11ms/step - loss: 0.0081 - acc: 0.0000e+00 - val_loss: 0.0224 - val_acc: 0.0000e+00\n",
            "Epoch 29/30\n",
            "633/633 [==============================] - 7s 11ms/step - loss: 0.0067 - acc: 0.0000e+00 - val_loss: 0.0212 - val_acc: 0.0000e+00\n",
            "Epoch 30/30\n",
            "633/633 [==============================] - 7s 11ms/step - loss: 0.0074 - acc: 0.0000e+00 - val_loss: 0.0238 - val_acc: 0.0000e+00\n"
          ],
          "name": "stdout"
        }
      ]
    },
    {
      "metadata": {
        "id": "VqyvXaLK92Sn",
        "colab_type": "code",
        "colab": {
          "base_uri": "https://localhost:8080/",
          "height": 35
        },
        "outputId": "74fd8984-43f9-4486-a649-69eb95452860"
      },
      "cell_type": "code",
      "source": [
        "score = model.evaluate(x_val, y_val, verbose=0)\n",
        "print(score)"
      ],
      "execution_count": 722,
      "outputs": [
        {
          "output_type": "stream",
          "text": [
            "[0.023769188297432173, 0.0]\n"
          ],
          "name": "stdout"
        }
      ]
    },
    {
      "metadata": {
        "id": "J6pGuA22rNQp",
        "colab_type": "code",
        "colab": {
          "base_uri": "https://localhost:8080/",
          "height": 363
        },
        "outputId": "2939a288-736d-4ee3-9cc3-f5cc7dfb2836"
      },
      "cell_type": "code",
      "source": [
        "loss = a.history['loss']\n",
        "val_loss = a.history['val_loss']\n",
        "epochs = range(len(loss))\n",
        "plt.plot(epochs, loss, 'bo', label='Training loss')\n",
        "plt.plot(epochs, val_loss, 'b', label='Validation loss')\n",
        "plt.title('Training and validation loss')\n",
        "plt.legend()\n",
        "plt.show()\n"
      ],
      "execution_count": 723,
      "outputs": [
        {
          "output_type": "display_data",
          "data": {
            "image/png": "[encoded data removed]",
            "text/plain": [
              "<matplotlib.figure.Figure at 0x7ff8d254edd8>"
            ]
          },
          "metadata": {
            "tags": []
          }
        }
      ]
    },
    {
      "metadata": {
        "id": "CW25XSSLH2zg",
        "colab_type": "code",
        "colab": {}
      },
      "cell_type": "code",
      "source": [
        "test_data['DGCI'] = model.predict(x_test, verbose=0)\n",
        "test_data.to_csv(\"prediction.csv\", index=False)"
      ],
      "execution_count": 0,
      "outputs": []
    },
    {
      "metadata": {
        "id": "9a3TtSvXIIlq",
        "colab_type": "code",
        "colab": {}
      },
      "cell_type": "code",
      "source": [
        "from google.colab import files\n",
        "files.download( \"prediction.csv\" ) "
      ],
      "execution_count": 0,
      "outputs": []
    }
  ]
}