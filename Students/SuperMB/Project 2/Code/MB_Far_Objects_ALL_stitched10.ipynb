{
  "nbformat": 4,
  "nbformat_minor": 0,
  "metadata": {
    "colab": {
      "name": "MB - Far Objects - ALL - stitched10.ipynb",
      "version": "0.3.2",
      "provenance": [],
      "collapsed_sections": []
    },
    "kernelspec": {
      "name": "python3",
      "display_name": "Python 3"
    },
    "accelerator": "GPU"
  },
  "cells": [
    {
      "metadata": {
        "id": "7U-LXv3kXnHA",
        "colab_type": "code",
        "outputId": "f6005f41-835c-4774-858a-8472ea638f3e",
        "colab": {
          "base_uri": "https://localhost:8080/",
          "height": 138
        }
      },
      "cell_type": "code",
      "source": [
        "from keras.layers import Activation, Dense, Dropout, Flatten\n",
        "from keras.layers.convolutional import Conv2D, MaxPooling2D\n",
        "from keras.preprocessing.image import ImageDataGenerator\n",
        "from sklearn.model_selection import train_test_split\n",
        "from keras.models import Sequential\n",
        "from google.colab import drive\n",
        "from google.colab import files\n",
        "import pandas as pd\n",
        "import numpy as np\n",
        "import glob\n",
        "\n",
        "# Make sure you have access to the images' folders\n",
        "drive.mount('/content/drive/')"
      ],
      "execution_count": 0,
      "outputs": [
        {
          "output_type": "stream",
          "text": [
            "Using TensorFlow backend.\n"
          ],
          "name": "stderr"
        },
        {
          "output_type": "stream",
          "text": [
            "Go to this URL in a browser: https://accounts.google.com/o/oauth2/auth?client_id=947318989803-6bn6qk8qdgf4n4g3pfee6491hc0brc4i.apps.googleusercontent.com&redirect_uri=urn%3Aietf%3Awg%3Aoauth%3A2.0%3Aoob&scope=email%20https%3A%2F%2Fwww.googleapis.com%2Fauth%2Fdocs.test%20https%3A%2F%2Fwww.googleapis.com%2Fauth%2Fdrive%20https%3A%2F%2Fwww.googleapis.com%2Fauth%2Fdrive.photos.readonly%20https%3A%2F%2Fwww.googleapis.com%2Fauth%2Fpeopleapi.readonly&response_type=code\n",
            "\n",
            "Enter your authorization code:\n",
            "··········\n",
            "Mounted at /content/drive/\n"
          ],
          "name": "stdout"
        }
      ]
    },
    {
      "metadata": {
        "id": "qflwCAMRkhyX",
        "colab_type": "code",
        "outputId": "e38c2fdf-86cd-4fba-c38f-8c5fbc301783",
        "colab": {
          "base_uri": "https://localhost:8080/",
          "height": 34
        }
      },
      "cell_type": "code",
      "source": [
        "cd drive/Team Drives"
      ],
      "execution_count": 0,
      "outputs": [
        {
          "output_type": "stream",
          "text": [
            "/content/drive/Team Drives\n"
          ],
          "name": "stdout"
        }
      ]
    },
    {
      "metadata": {
        "id": "iWcD8G7cks1B",
        "colab_type": "code",
        "outputId": "241d2958-c5d0-477f-edd2-294c77f3cf5f",
        "colab": {
          "base_uri": "https://localhost:8080/",
          "height": 34
        }
      },
      "cell_type": "code",
      "source": [
        "cd ECENproject2"
      ],
      "execution_count": 0,
      "outputs": [
        {
          "output_type": "stream",
          "text": [
            "/content/drive/Team Drives/ECENproject2\n"
          ],
          "name": "stdout"
        }
      ]
    },
    {
      "metadata": {
        "id": "sM-oOyZhYaRN",
        "colab_type": "code",
        "colab": {}
      },
      "cell_type": "code",
      "source": [
        "####The Convolutional Neural Network for stitched images####\n",
        "#----------------------------------------------------------#\n",
        "\n",
        "# Still requires tweaking. Also keep it simple for faster forward\\backward propagations\n",
        "\n",
        "# model = Sequential()\n",
        "# model.add(Conv2D(16, (3, 3), input_shape= (640, 180, 1), activation='relu'))\n",
        "# model.add(MaxPooling2D(pool_size=(2, 2)))\n",
        "# model.add(Conv2D(16, (3, 3), activation='relu'))\n",
        "# model.add(MaxPooling2D(pool_size=(2, 2)))\n",
        "# model.add(Conv2D(16, (3, 3), activation='relu'))\n",
        "# model.add(MaxPooling2D(pool_size=(2, 2)))\n",
        "# model.add(Dropout(0.3))\n",
        "# model.add(Flatten())\n",
        "# model.add(Dense(20, activation='relu'))\n",
        "# model.add(Dense(2, activation='softmax'))\n",
        "\n",
        "model = Sequential()\n",
        "model.add(Conv2D(32, (3, 3), input_shape= (640, 180, 1), activation='relu'))\n",
        "model.add(MaxPooling2D(pool_size=(2, 2)))\n",
        "model.add(Conv2D(64, (3, 3), activation='relu'))\n",
        "model.add(MaxPooling2D(pool_size=(2, 2)))\n",
        "model.add(Conv2D(64, (3, 3), activation='relu'))\n",
        "model.add(MaxPooling2D(pool_size=(2, 2)))\n",
        "model.add(Conv2D(64, (5, 5), activation='relu'))\n",
        "model.add(MaxPooling2D(pool_size=(2, 2)))\n",
        "model.add(Conv2D(64, (5, 5), activation='relu'))\n",
        "model.add(MaxPooling2D(pool_size=(2, 2)))\n",
        "model.add(Dropout(0.3))\n",
        "model.add(Flatten())\n",
        "model.add(Dense(500, activation='relu'))\n",
        "model.add(Dense(200, activation='relu'))\n",
        "model.add(Dense(2, activation='softmax'))"
      ],
      "execution_count": 0,
      "outputs": []
    },
    {
      "metadata": {
        "id": "XCU-c2sVZQlW",
        "colab_type": "code",
        "outputId": "fd42d223-980c-413e-da2c-0320f5f7909c",
        "colab": {
          "base_uri": "https://localhost:8080/",
          "height": 638
        }
      },
      "cell_type": "code",
      "source": [
        "####       Running the CNN          ####\n",
        "#--------------------------------------#\n",
        "\n",
        "model.compile(\n",
        "    loss=\"sparse_categorical_crossentropy\",\n",
        "    optimizer=\"adam\",\n",
        "    metrics=[\"accuracy\"]\n",
        ")\n",
        "\n",
        "model.summary()\n"
      ],
      "execution_count": 0,
      "outputs": [
        {
          "output_type": "stream",
          "text": [
            "_________________________________________________________________\n",
            "Layer (type)                 Output Shape              Param #   \n",
            "=================================================================\n",
            "conv2d_1 (Conv2D)            (None, 638, 178, 32)      320       \n",
            "_________________________________________________________________\n",
            "max_pooling2d_1 (MaxPooling2 (None, 319, 89, 32)       0         \n",
            "_________________________________________________________________\n",
            "conv2d_2 (Conv2D)            (None, 317, 87, 64)       18496     \n",
            "_________________________________________________________________\n",
            "max_pooling2d_2 (MaxPooling2 (None, 158, 43, 64)       0         \n",
            "_________________________________________________________________\n",
            "conv2d_3 (Conv2D)            (None, 156, 41, 64)       36928     \n",
            "_________________________________________________________________\n",
            "max_pooling2d_3 (MaxPooling2 (None, 78, 20, 64)        0         \n",
            "_________________________________________________________________\n",
            "conv2d_4 (Conv2D)            (None, 74, 16, 64)        102464    \n",
            "_________________________________________________________________\n",
            "max_pooling2d_4 (MaxPooling2 (None, 37, 8, 64)         0         \n",
            "_________________________________________________________________\n",
            "conv2d_5 (Conv2D)            (None, 33, 4, 64)         102464    \n",
            "_________________________________________________________________\n",
            "max_pooling2d_5 (MaxPooling2 (None, 16, 2, 64)         0         \n",
            "_________________________________________________________________\n",
            "dropout_1 (Dropout)          (None, 16, 2, 64)         0         \n",
            "_________________________________________________________________\n",
            "flatten_1 (Flatten)          (None, 2048)              0         \n",
            "_________________________________________________________________\n",
            "dense_1 (Dense)              (None, 500)               1024500   \n",
            "_________________________________________________________________\n",
            "dense_2 (Dense)              (None, 200)               100200    \n",
            "_________________________________________________________________\n",
            "dense_3 (Dense)              (None, 2)                 402       \n",
            "=================================================================\n",
            "Total params: 1,385,774\n",
            "Trainable params: 1,385,774\n",
            "Non-trainable params: 0\n",
            "_________________________________________________________________\n"
          ],
          "name": "stdout"
        }
      ]
    },
    {
      "metadata": {
        "id": "AYe-2tdkctfd",
        "colab_type": "code",
        "outputId": "12bed8c0-9dce-459f-bd4a-aec603cb4bb9",
        "colab": {
          "base_uri": "https://localhost:8080/",
          "height": 3427
        }
      },
      "cell_type": "code",
      "source": [
        "nb_epochs = 100\n",
        "batch_size = 15\n",
        "train_datagen = ImageDataGenerator(\n",
        "    rescale=1./255,\n",
        "    shear_range=0.05,\n",
        "    zoom_range=0.05,\n",
        "    horizontal_flip=True,\n",
        "    validation_split=.05)\n",
        "\n",
        "train_generator = train_datagen.flow_from_directory(\n",
        "    'stitched_pic_with_far_objs',\n",
        "    target_size=(640, 180),#width , height \n",
        "    batch_size=batch_size,\n",
        "    color_mode='grayscale',\n",
        "    class_mode='binary',\n",
        "    subset='training') # set as training data\n",
        "\n",
        "validation_generator = train_datagen.flow_from_directory(\n",
        "    'stitched_pic_with_far_objs',\n",
        "    target_size=(640, 180),\n",
        "    batch_size=batch_size,\n",
        "    color_mode='grayscale',\n",
        "    class_mode='binary',\n",
        "    subset='validation') # set as validation data\n",
        "\n",
        "model.fit_generator(\n",
        "    train_generator,\n",
        "    steps_per_epoch = train_generator.samples // batch_size,\n",
        "    validation_data = validation_generator, \n",
        "    validation_steps = validation_generator.samples // batch_size,\n",
        "    epochs = nb_epochs)\n",
        "\n",
        "# model.save(\"MB_monoscopic_unseen_stitched_result.h5\")"
      ],
      "execution_count": 0,
      "outputs": [
        {
          "output_type": "stream",
          "text": [
            "Found 2640 images belonging to 2 classes.\n",
            "Found 138 images belonging to 2 classes.\n",
            "Epoch 1/100\n",
            "176/176 [==============================] - 41s 235ms/step - loss: 0.0077 - acc: 0.9973 - val_loss: 1.3664 - val_acc: 0.7556\n",
            "Epoch 2/100\n",
            "176/176 [==============================] - 41s 233ms/step - loss: 0.0122 - acc: 0.9973 - val_loss: 0.6215 - val_acc: 0.8211\n",
            "Epoch 3/100\n",
            "176/176 [==============================] - 41s 236ms/step - loss: 0.0048 - acc: 0.9985 - val_loss: 1.1919 - val_acc: 0.8699\n",
            "Epoch 4/100\n",
            "176/176 [==============================] - 41s 233ms/step - loss: 0.0153 - acc: 0.9962 - val_loss: 1.0890 - val_acc: 0.7886\n",
            "Epoch 5/100\n",
            "176/176 [==============================] - 41s 231ms/step - loss: 0.0026 - acc: 0.9992 - val_loss: 1.2431 - val_acc: 0.8293\n",
            "Epoch 6/100\n",
            "176/176 [==============================] - 41s 234ms/step - loss: 0.0198 - acc: 0.9955 - val_loss: 0.5263 - val_acc: 0.8211\n",
            "Epoch 7/100\n",
            "176/176 [==============================] - 40s 230ms/step - loss: 0.0064 - acc: 0.9985 - val_loss: 0.9870 - val_acc: 0.7886\n",
            "Epoch 8/100\n",
            "176/176 [==============================] - 41s 235ms/step - loss: 0.0066 - acc: 0.9977 - val_loss: 1.6291 - val_acc: 0.7561\n",
            "Epoch 9/100\n",
            "176/176 [==============================] - 41s 236ms/step - loss: 0.0053 - acc: 0.9989 - val_loss: 1.5970 - val_acc: 0.7154\n",
            "Epoch 10/100\n",
            "176/176 [==============================] - 42s 236ms/step - loss: 0.0141 - acc: 0.9955 - val_loss: 0.4926 - val_acc: 0.8049\n",
            "Epoch 11/100\n",
            "176/176 [==============================] - 41s 233ms/step - loss: 0.0030 - acc: 0.9992 - val_loss: 0.7965 - val_acc: 0.8815\n",
            "Epoch 12/100\n",
            "176/176 [==============================] - 41s 231ms/step - loss: 0.0125 - acc: 0.9943 - val_loss: 0.3860 - val_acc: 0.8537\n",
            "Epoch 13/100\n",
            "176/176 [==============================] - 42s 236ms/step - loss: 0.0088 - acc: 0.9970 - val_loss: 1.8416 - val_acc: 0.7317\n",
            "Epoch 14/100\n",
            "176/176 [==============================] - 42s 237ms/step - loss: 0.0057 - acc: 0.9981 - val_loss: 1.5934 - val_acc: 0.8049\n",
            "Epoch 15/100\n",
            "176/176 [==============================] - 41s 235ms/step - loss: 0.0068 - acc: 0.9981 - val_loss: 1.1845 - val_acc: 0.7642\n",
            "Epoch 16/100\n",
            "176/176 [==============================] - 41s 232ms/step - loss: 0.0039 - acc: 0.9985 - val_loss: 2.6226 - val_acc: 0.6829\n",
            "Epoch 17/100\n",
            "176/176 [==============================] - 41s 231ms/step - loss: 0.0100 - acc: 0.9977 - val_loss: 1.3334 - val_acc: 0.7398\n",
            "Epoch 18/100\n",
            "176/176 [==============================] - 41s 232ms/step - loss: 0.0316 - acc: 0.9932 - val_loss: 0.3621 - val_acc: 0.9187\n",
            "Epoch 19/100\n",
            "176/176 [==============================] - 40s 229ms/step - loss: 0.0175 - acc: 0.9962 - val_loss: 1.4563 - val_acc: 0.7724\n",
            "Epoch 20/100\n",
            "176/176 [==============================] - 41s 232ms/step - loss: 0.0026 - acc: 0.9989 - val_loss: 1.1932 - val_acc: 0.8211\n",
            "Epoch 21/100\n",
            "176/176 [==============================] - 41s 235ms/step - loss: 0.0086 - acc: 0.9973 - val_loss: 0.5754 - val_acc: 0.8963\n",
            "Epoch 22/100\n",
            "176/176 [==============================] - 41s 232ms/step - loss: 0.0037 - acc: 0.9989 - val_loss: 1.0387 - val_acc: 0.8293\n",
            "Epoch 23/100\n",
            "176/176 [==============================] - 40s 230ms/step - loss: 0.0081 - acc: 0.9966 - val_loss: 2.5149 - val_acc: 0.7236\n",
            "Epoch 24/100\n",
            "176/176 [==============================] - 41s 231ms/step - loss: 0.0017 - acc: 0.9989 - val_loss: 1.4296 - val_acc: 0.8211\n",
            "Epoch 25/100\n",
            "176/176 [==============================] - 41s 232ms/step - loss: 2.2369e-04 - acc: 1.0000 - val_loss: 1.7883 - val_acc: 0.8049\n",
            "Epoch 26/100\n",
            "176/176 [==============================] - 41s 234ms/step - loss: 0.0155 - acc: 0.9977 - val_loss: 1.7715 - val_acc: 0.7724\n",
            "Epoch 27/100\n",
            "176/176 [==============================] - 41s 234ms/step - loss: 8.5666e-04 - acc: 0.9996 - val_loss: 1.0564 - val_acc: 0.8455\n",
            "Epoch 28/100\n",
            "176/176 [==============================] - 41s 233ms/step - loss: 6.8122e-04 - acc: 0.9992 - val_loss: 1.1503 - val_acc: 0.8618\n",
            "Epoch 29/100\n",
            "176/176 [==============================] - 41s 232ms/step - loss: 0.0127 - acc: 0.9989 - val_loss: 0.9196 - val_acc: 0.7398\n",
            "Epoch 30/100\n",
            "176/176 [==============================] - 41s 230ms/step - loss: 0.0166 - acc: 0.9958 - val_loss: 1.0685 - val_acc: 0.8374\n",
            "Epoch 31/100\n",
            "176/176 [==============================] - 40s 229ms/step - loss: 0.0297 - acc: 0.9939 - val_loss: 1.1613 - val_acc: 0.7111\n",
            "Epoch 32/100\n",
            "176/176 [==============================] - 41s 232ms/step - loss: 0.0368 - acc: 0.9924 - val_loss: 1.3087 - val_acc: 0.7480\n",
            "Epoch 33/100\n",
            "176/176 [==============================] - 41s 233ms/step - loss: 0.0128 - acc: 0.9970 - val_loss: 0.8546 - val_acc: 0.8130\n",
            "Epoch 34/100\n",
            "176/176 [==============================] - 41s 231ms/step - loss: 0.0081 - acc: 0.9977 - val_loss: 0.5876 - val_acc: 0.8537\n",
            "Epoch 35/100\n",
            "176/176 [==============================] - 41s 231ms/step - loss: 0.0153 - acc: 0.9966 - val_loss: 1.1952 - val_acc: 0.7967\n",
            "Epoch 36/100\n",
            "176/176 [==============================] - 41s 232ms/step - loss: 0.0012 - acc: 1.0000 - val_loss: 1.4414 - val_acc: 0.8374\n",
            "Epoch 37/100\n",
            "176/176 [==============================] - 40s 230ms/step - loss: 5.8618e-04 - acc: 0.9996 - val_loss: 0.9701 - val_acc: 0.8374\n",
            "Epoch 38/100\n",
            "176/176 [==============================] - 41s 234ms/step - loss: 0.0021 - acc: 0.9992 - val_loss: 0.4635 - val_acc: 0.8862\n",
            "Epoch 39/100\n",
            "176/176 [==============================] - 41s 233ms/step - loss: 3.5081e-04 - acc: 1.0000 - val_loss: 1.3955 - val_acc: 0.8130\n",
            "Epoch 40/100\n",
            "176/176 [==============================] - 41s 235ms/step - loss: 3.5930e-04 - acc: 1.0000 - val_loss: 1.0417 - val_acc: 0.8537\n",
            "Epoch 41/100\n",
            "176/176 [==============================] - 41s 232ms/step - loss: 0.0012 - acc: 0.9992 - val_loss: 1.4936 - val_acc: 0.8000\n",
            "Epoch 42/100\n",
            "176/176 [==============================] - 40s 230ms/step - loss: 1.5490e-04 - acc: 1.0000 - val_loss: 0.6817 - val_acc: 0.8699\n",
            "Epoch 43/100\n",
            "176/176 [==============================] - 40s 229ms/step - loss: 0.0229 - acc: 0.9947 - val_loss: 0.6307 - val_acc: 0.8049\n",
            "Epoch 44/100\n",
            "176/176 [==============================] - 41s 235ms/step - loss: 0.0082 - acc: 0.9989 - val_loss: 1.2967 - val_acc: 0.7886\n",
            "Epoch 45/100\n",
            "176/176 [==============================] - 41s 231ms/step - loss: 0.0138 - acc: 0.9981 - val_loss: 0.5961 - val_acc: 0.7642\n",
            "Epoch 46/100\n",
            "176/176 [==============================] - 40s 228ms/step - loss: 0.0026 - acc: 0.9992 - val_loss: 1.1199 - val_acc: 0.8374\n",
            "Epoch 47/100\n",
            "176/176 [==============================] - 41s 231ms/step - loss: 0.0035 - acc: 0.9985 - val_loss: 1.9756 - val_acc: 0.7724\n",
            "Epoch 48/100\n",
            "176/176 [==============================] - 41s 233ms/step - loss: 0.0217 - acc: 0.9973 - val_loss: 1.3857 - val_acc: 0.7642\n",
            "Epoch 49/100\n",
            "176/176 [==============================] - 40s 229ms/step - loss: 0.0024 - acc: 0.9989 - val_loss: 1.6416 - val_acc: 0.7805\n",
            "Epoch 50/100\n",
            "176/176 [==============================] - 41s 232ms/step - loss: 0.0142 - acc: 0.9951 - val_loss: 0.7611 - val_acc: 0.8780\n",
            "Epoch 51/100\n",
            "176/176 [==============================] - 41s 234ms/step - loss: 0.0132 - acc: 0.9973 - val_loss: 1.0736 - val_acc: 0.7852\n",
            "Epoch 52/100\n",
            "176/176 [==============================] - 40s 230ms/step - loss: 0.0015 - acc: 0.9996 - val_loss: 1.9253 - val_acc: 0.7805\n",
            "Epoch 53/100\n",
            "176/176 [==============================] - 41s 231ms/step - loss: 0.0222 - acc: 0.9966 - val_loss: 0.7472 - val_acc: 0.8293\n",
            "Epoch 54/100\n",
            "176/176 [==============================] - 40s 230ms/step - loss: 0.0429 - acc: 0.9936 - val_loss: 1.0941 - val_acc: 0.8211\n",
            "Epoch 55/100\n",
            "176/176 [==============================] - 41s 232ms/step - loss: 0.0100 - acc: 0.9970 - val_loss: 1.0830 - val_acc: 0.7724\n",
            "Epoch 56/100\n",
            "176/176 [==============================] - 41s 234ms/step - loss: 0.0189 - acc: 0.9962 - val_loss: 0.8246 - val_acc: 0.7886\n",
            "Epoch 57/100\n",
            "176/176 [==============================] - 41s 232ms/step - loss: 0.0091 - acc: 0.9981 - val_loss: 0.4275 - val_acc: 0.8618\n",
            "Epoch 58/100\n",
            "176/176 [==============================] - 41s 234ms/step - loss: 0.0122 - acc: 0.9970 - val_loss: 1.1144 - val_acc: 0.8130\n",
            "Epoch 59/100\n",
            "176/176 [==============================] - 41s 236ms/step - loss: 0.0110 - acc: 0.9973 - val_loss: 0.7577 - val_acc: 0.8455\n",
            "Epoch 60/100\n",
            "176/176 [==============================] - 41s 230ms/step - loss: 0.0013 - acc: 0.9996 - val_loss: 1.1851 - val_acc: 0.7642\n",
            "Epoch 61/100\n",
            "176/176 [==============================] - 41s 230ms/step - loss: 0.0020 - acc: 0.9992 - val_loss: 1.5344 - val_acc: 0.7704\n",
            "Epoch 62/100\n",
            "176/176 [==============================] - 41s 234ms/step - loss: 0.0012 - acc: 0.9996 - val_loss: 1.2664 - val_acc: 0.8211\n",
            "Epoch 63/100\n",
            "176/176 [==============================] - 42s 237ms/step - loss: 0.0065 - acc: 0.9992 - val_loss: 1.3122 - val_acc: 0.7561\n",
            "Epoch 64/100\n",
            "176/176 [==============================] - 41s 232ms/step - loss: 0.0045 - acc: 0.9985 - val_loss: 1.6934 - val_acc: 0.7398\n",
            "Epoch 65/100\n",
            "176/176 [==============================] - 40s 229ms/step - loss: 7.2902e-04 - acc: 0.9996 - val_loss: 1.3756 - val_acc: 0.8130\n",
            "Epoch 66/100\n",
            "176/176 [==============================] - 40s 229ms/step - loss: 0.0026 - acc: 0.9992 - val_loss: 0.8959 - val_acc: 0.7724\n",
            "Epoch 67/100\n",
            "176/176 [==============================] - 41s 231ms/step - loss: 2.5187e-04 - acc: 1.0000 - val_loss: 1.5296 - val_acc: 0.7236\n",
            "Epoch 68/100\n",
            "176/176 [==============================] - 40s 230ms/step - loss: 0.0070 - acc: 0.9970 - val_loss: 1.3254 - val_acc: 0.8537\n",
            "Epoch 69/100\n",
            "176/176 [==============================] - 41s 232ms/step - loss: 3.0956e-04 - acc: 1.0000 - val_loss: 1.2625 - val_acc: 0.8537\n",
            "Epoch 70/100\n",
            "176/176 [==============================] - 41s 233ms/step - loss: 0.0078 - acc: 0.9989 - val_loss: 1.2607 - val_acc: 0.7724\n",
            "Epoch 71/100\n",
            "176/176 [==============================] - 41s 232ms/step - loss: 0.0021 - acc: 0.9992 - val_loss: 1.2726 - val_acc: 0.8370\n",
            "Epoch 72/100\n",
            "176/176 [==============================] - 41s 234ms/step - loss: 0.0154 - acc: 0.9970 - val_loss: 1.6838 - val_acc: 0.7236\n",
            "Epoch 73/100\n",
            "176/176 [==============================] - 41s 235ms/step - loss: 0.0011 - acc: 1.0000 - val_loss: 2.0171 - val_acc: 0.7642\n",
            "Epoch 74/100\n",
            "176/176 [==============================] - 42s 240ms/step - loss: 0.0473 - acc: 0.9898 - val_loss: 1.2131 - val_acc: 0.6911\n",
            "Epoch 75/100\n",
            "176/176 [==============================] - 41s 232ms/step - loss: 0.0018 - acc: 0.9996 - val_loss: 1.7696 - val_acc: 0.7398\n",
            "Epoch 76/100\n",
            "176/176 [==============================] - 41s 231ms/step - loss: 0.0071 - acc: 0.9989 - val_loss: 1.3425 - val_acc: 0.7480\n",
            "Epoch 77/100\n",
            "176/176 [==============================] - 41s 232ms/step - loss: 0.0025 - acc: 0.9985 - val_loss: 0.6758 - val_acc: 0.7642\n",
            "Epoch 78/100\n",
            "176/176 [==============================] - 41s 234ms/step - loss: 0.0023 - acc: 0.9989 - val_loss: 1.2381 - val_acc: 0.7642\n",
            "Epoch 79/100\n",
            "176/176 [==============================] - 41s 232ms/step - loss: 0.0074 - acc: 0.9977 - val_loss: 1.7548 - val_acc: 0.7154\n",
            "Epoch 80/100\n",
            "176/176 [==============================] - 41s 235ms/step - loss: 0.0022 - acc: 0.9992 - val_loss: 1.5669 - val_acc: 0.7724\n",
            "Epoch 81/100\n",
            "176/176 [==============================] - 42s 237ms/step - loss: 0.0017 - acc: 0.9989 - val_loss: 1.5889 - val_acc: 0.7704\n",
            "Epoch 82/100\n",
            "176/176 [==============================] - 42s 238ms/step - loss: 4.0768e-04 - acc: 0.9996 - val_loss: 1.4748 - val_acc: 0.7724\n",
            "Epoch 83/100\n",
            "176/176 [==============================] - 42s 236ms/step - loss: 0.0182 - acc: 0.9939 - val_loss: 0.8132 - val_acc: 0.8699\n",
            "Epoch 84/100\n",
            "176/176 [==============================] - 41s 233ms/step - loss: 0.0325 - acc: 0.9913 - val_loss: 0.9803 - val_acc: 0.6341\n",
            "Epoch 85/100\n",
            "176/176 [==============================] - 41s 234ms/step - loss: 0.0100 - acc: 0.9981 - val_loss: 0.9836 - val_acc: 0.8293\n",
            "Epoch 86/100\n",
            "176/176 [==============================] - 41s 232ms/step - loss: 5.0973e-04 - acc: 1.0000 - val_loss: 1.3316 - val_acc: 0.7886\n",
            "Epoch 87/100\n",
            "176/176 [==============================] - 41s 233ms/step - loss: 3.7810e-04 - acc: 1.0000 - val_loss: 1.8756 - val_acc: 0.7724\n",
            "Epoch 88/100\n",
            "176/176 [==============================] - 41s 236ms/step - loss: 0.0074 - acc: 0.9981 - val_loss: 1.3017 - val_acc: 0.8130\n",
            "Epoch 89/100\n",
            "176/176 [==============================] - 42s 238ms/step - loss: 0.0104 - acc: 0.9981 - val_loss: 1.2759 - val_acc: 0.7967\n",
            "Epoch 90/100\n",
            "176/176 [==============================] - 41s 234ms/step - loss: 4.4307e-04 - acc: 1.0000 - val_loss: 1.5009 - val_acc: 0.8618\n",
            "Epoch 91/100\n",
            "176/176 [==============================] - 41s 234ms/step - loss: 0.0393 - acc: 0.9928 - val_loss: 0.8324 - val_acc: 0.9037\n",
            "Epoch 92/100\n",
            "176/176 [==============================] - 41s 233ms/step - loss: 0.0152 - acc: 0.9955 - val_loss: 1.2827 - val_acc: 0.8130\n",
            "Epoch 93/100\n",
            "176/176 [==============================] - 41s 232ms/step - loss: 0.0125 - acc: 0.9981 - val_loss: 1.2292 - val_acc: 0.8293\n",
            "Epoch 94/100\n",
            "176/176 [==============================] - 41s 235ms/step - loss: 9.0446e-04 - acc: 1.0000 - val_loss: 0.9662 - val_acc: 0.8374\n",
            "Epoch 95/100\n",
            "176/176 [==============================] - 41s 231ms/step - loss: 9.3268e-04 - acc: 1.0000 - val_loss: 1.9685 - val_acc: 0.7642\n",
            "Epoch 96/100\n",
            "176/176 [==============================] - 41s 230ms/step - loss: 0.0025 - acc: 0.9992 - val_loss: 1.0925 - val_acc: 0.8130\n",
            "Epoch 97/100\n",
            "176/176 [==============================] - 41s 234ms/step - loss: 0.0036 - acc: 0.9996 - val_loss: 0.9781 - val_acc: 0.8374\n",
            "Epoch 98/100\n",
            "176/176 [==============================] - 41s 234ms/step - loss: 0.0066 - acc: 0.9992 - val_loss: 0.9969 - val_acc: 0.8780\n",
            "Epoch 99/100\n",
            "176/176 [==============================] - 40s 230ms/step - loss: 0.0070 - acc: 0.9989 - val_loss: 2.3344 - val_acc: 0.7236\n",
            "Epoch 100/100\n",
            "176/176 [==============================] - 41s 232ms/step - loss: 0.0333 - acc: 0.9936 - val_loss: 0.8063 - val_acc: 0.8537\n"
          ],
          "name": "stdout"
        },
        {
          "output_type": "execute_result",
          "data": {
            "text/plain": [
              "<keras.callbacks.History at 0x7f72b33edd68>"
            ]
          },
          "metadata": {
            "tags": []
          },
          "execution_count": 7
        }
      ]
    },
    {
      "metadata": {
        "id": "EMklssMlHCWf",
        "colab_type": "code",
        "colab": {}
      },
      "cell_type": "code",
      "source": [
        ""
      ],
      "execution_count": 0,
      "outputs": []
    },
    {
      "metadata": {
        "id": "3CVAad_cPzsg",
        "colab_type": "text"
      },
      "cell_type": "markdown",
      "source": [
        "# GOOD MODELS"
      ]
    }
  ]
}