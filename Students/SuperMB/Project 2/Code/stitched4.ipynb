{
  "nbformat": 4,
  "nbformat_minor": 0,
  "metadata": {
    "colab": {
      "name": "stitched4.ipynb",
      "version": "0.3.2",
      "provenance": [],
      "collapsed_sections": []
    },
    "kernelspec": {
      "name": "python3",
      "display_name": "Python 3"
    },
    "accelerator": "GPU"
  },
  "cells": [
    {
      "metadata": {
        "id": "7U-LXv3kXnHA",
        "colab_type": "code",
        "outputId": "5da25161-9885-4731-d27d-c70656113c33",
        "colab": {
          "base_uri": "https://localhost:8080/",
          "height": 111
        }
      },
      "cell_type": "code",
      "source": [
        "from keras.layers import Activation, Dense, Dropout, Flatten\n",
        "from keras.layers.convolutional import Conv2D, MaxPooling2D\n",
        "from keras.preprocessing.image import ImageDataGenerator\n",
        "from sklearn.model_selection import train_test_split\n",
        "from keras.models import Sequential\n",
        "from google.colab import drive\n",
        "from google.colab import files\n",
        "import pandas as pd\n",
        "import numpy as np\n",
        "import glob\n",
        "\n",
        "# Make sure you have access to the images' folders\n",
        "drive.mount('/content/drive/')"
      ],
      "execution_count": 0,
      "outputs": [
        {
          "output_type": "stream",
          "text": [
            "Using TensorFlow backend.\n"
          ],
          "name": "stderr"
        },
        {
          "output_type": "stream",
          "text": [
            "Drive already mounted at /content/drive/; to attempt to forcibly remount, call drive.mount(\"/content/drive/\", force_remount=True).\n"
          ],
          "name": "stdout"
        }
      ]
    },
    {
      "metadata": {
        "id": "qflwCAMRkhyX",
        "colab_type": "code",
        "outputId": "17acf1cb-abaa-47a5-b23b-cba63b5ebc30",
        "colab": {
          "base_uri": "https://localhost:8080/",
          "height": 34
        }
      },
      "cell_type": "code",
      "source": [
        "cd drive/Team Drives"
      ],
      "execution_count": 0,
      "outputs": [
        {
          "output_type": "stream",
          "text": [
            "/content/drive/Team Drives\n"
          ],
          "name": "stdout"
        }
      ]
    },
    {
      "metadata": {
        "id": "iWcD8G7cks1B",
        "colab_type": "code",
        "outputId": "3856c04a-d00e-4fd8-8099-19e9d97fc4d6",
        "colab": {
          "base_uri": "https://localhost:8080/",
          "height": 34
        }
      },
      "cell_type": "code",
      "source": [
        "cd ECENproject2"
      ],
      "execution_count": 0,
      "outputs": [
        {
          "output_type": "stream",
          "text": [
            "/content/drive/Team Drives/ECENproject2\n"
          ],
          "name": "stdout"
        }
      ]
    },
    {
      "metadata": {
        "id": "xUf5_GlfX4Mi",
        "colab_type": "code",
        "colab": {}
      },
      "cell_type": "code",
      "source": [
        "#### Importing the training images  ####\n",
        "# This needs Drupad's script for corroboration\n",
        "#--------------------------------------#\n",
        "#images = []\n",
        "#i = 0\n",
        "\n",
        "#images_list = glob.glob(\"stitched_pics/*.jpg\")\n",
        "#images = np.array([np.array(Image.open(name)) for name in images_list])\n",
        "\n",
        "# normalizing\n",
        "#images =/ 255\n",
        "\n",
        "# !!!! STILL NEED LABELS' VALUES !!!!\n",
        "#X_train, X_test, y_train, y_test = train_test_split(images, labels, test_size = 0.25)"
      ],
      "execution_count": 0,
      "outputs": []
    },
    {
      "metadata": {
        "id": "sM-oOyZhYaRN",
        "colab_type": "code",
        "colab": {}
      },
      "cell_type": "code",
      "source": [
        "####The Convolutional Neural Network for stitched images####\n",
        "#----------------------------------------------------------#\n",
        "\n",
        "# Still requires tweaking. Also keep it simple for faster forward\\backward propagations\n",
        "model = Sequential()\n",
        "model.add(Conv2D(32, (3, 3), input_shape= (360, 320, 3), activation='relu'))\n",
        "model.add(MaxPooling2D(pool_size=(2, 2)))\n",
        "model.add(Conv2D(64, (3, 3), activation='relu'))\n",
        "model.add(MaxPooling2D(pool_size=(2, 2)))\n",
        "model.add(Conv2D(64, (3, 3), activation='relu'))\n",
        "model.add(MaxPooling2D(pool_size=(2, 2)))\n",
        "model.add(Conv2D(64, (5, 5), activation='relu'))\n",
        "model.add(MaxPooling2D(pool_size=(2, 2)))\n",
        "model.add(Conv2D(64, (5, 5), activation='relu'))\n",
        "model.add(MaxPooling2D(pool_size=(2, 2)))\n",
        "model.add(Dropout(0.3))\n",
        "model.add(Flatten())\n",
        "model.add(Dense(500, activation='relu'))\n",
        "model.add(Dense(200, activation='relu'))\n",
        "model.add(Dense(2, activation='softmax'))"
      ],
      "execution_count": 0,
      "outputs": []
    },
    {
      "metadata": {
        "id": "XCU-c2sVZQlW",
        "colab_type": "code",
        "outputId": "fb100023-c968-49cc-c1cb-dece5452821e",
        "colab": {
          "base_uri": "https://localhost:8080/",
          "height": 646
        }
      },
      "cell_type": "code",
      "source": [
        "####       Running the CNN          ####\n",
        "#--------------------------------------#\n",
        "\n",
        "model.compile(\n",
        "    loss=\"sparse_categorical_crossentropy\",\n",
        "    optimizer=\"adam\",\n",
        "    metrics=[\"accuracy\"]\n",
        ")\n",
        "\n",
        "model.summary()\n",
        "\n",
        "#history = model.fit(X_train, y_train, epochs = 30, batch_size = 200, verbose = 2)\n",
        "\n",
        "#loss  = model.evaluate(X_test, y_test)\n",
        "#predictions = model.predict(X_test)\n",
        "\n",
        "#model.summary()\n"
      ],
      "execution_count": 0,
      "outputs": [
        {
          "output_type": "stream",
          "text": [
            "_________________________________________________________________\n",
            "Layer (type)                 Output Shape              Param #   \n",
            "=================================================================\n",
            "conv2d_1 (Conv2D)            (None, 358, 318, 32)      896       \n",
            "_________________________________________________________________\n",
            "max_pooling2d_1 (MaxPooling2 (None, 179, 159, 32)      0         \n",
            "_________________________________________________________________\n",
            "conv2d_2 (Conv2D)            (None, 177, 157, 64)      18496     \n",
            "_________________________________________________________________\n",
            "max_pooling2d_2 (MaxPooling2 (None, 88, 78, 64)        0         \n",
            "_________________________________________________________________\n",
            "conv2d_3 (Conv2D)            (None, 86, 76, 64)        36928     \n",
            "_________________________________________________________________\n",
            "max_pooling2d_3 (MaxPooling2 (None, 43, 38, 64)        0         \n",
            "_________________________________________________________________\n",
            "conv2d_4 (Conv2D)            (None, 39, 34, 64)        102464    \n",
            "_________________________________________________________________\n",
            "max_pooling2d_4 (MaxPooling2 (None, 19, 17, 64)        0         \n",
            "_________________________________________________________________\n",
            "conv2d_5 (Conv2D)            (None, 15, 13, 64)        102464    \n",
            "_________________________________________________________________\n",
            "max_pooling2d_5 (MaxPooling2 (None, 7, 6, 64)          0         \n",
            "_________________________________________________________________\n",
            "dropout_1 (Dropout)          (None, 7, 6, 64)          0         \n",
            "_________________________________________________________________\n",
            "flatten_1 (Flatten)          (None, 2688)              0         \n",
            "_________________________________________________________________\n",
            "dense_1 (Dense)              (None, 500)               1344500   \n",
            "_________________________________________________________________\n",
            "dense_2 (Dense)              (None, 200)               100200    \n",
            "_________________________________________________________________\n",
            "dense_3 (Dense)              (None, 2)                 402       \n",
            "=================================================================\n",
            "Total params: 1,706,350\n",
            "Trainable params: 1,706,350\n",
            "Non-trainable params: 0\n",
            "_________________________________________________________________\n"
          ],
          "name": "stdout"
        }
      ]
    },
    {
      "metadata": {
        "id": "AYe-2tdkctfd",
        "colab_type": "code",
        "outputId": "7be76bee-7bca-49d7-86cf-bcbc48531fe9",
        "colab": {
          "base_uri": "https://localhost:8080/",
          "height": 1020
        }
      },
      "cell_type": "code",
      "source": [
        "nb_epochs = 10\n",
        "batch_size = 15\n",
        "train_datagen = ImageDataGenerator(rescale=1./255,\n",
        "    shear_range=0.05,\n",
        "    zoom_range=0.05,\n",
        "    horizontal_flip=True,\n",
        "    validation_split=0.025) # set validation split\n",
        "\n",
        "train_generator = train_datagen.flow_from_directory(\n",
        "    'stitched_pic',\n",
        "    target_size=(360, 320),#width , height \n",
        "    batch_size=batch_size,\n",
        "    class_mode='binary',\n",
        "    subset='training') # set as training data\n",
        "\n",
        "validation_generator = train_datagen.flow_from_directory(\n",
        "    'stitched_pic', # same directory as training data\n",
        "    target_size=(360, 320),\n",
        "    batch_size=batch_size,\n",
        "    class_mode='binary',\n",
        "    subset='validation') # set as validation data\n",
        "\n",
        "model.fit_generator(\n",
        "    train_generator,\n",
        "    steps_per_epoch = train_generator.samples // batch_size,\n",
        "    validation_data = validation_generator, \n",
        "    validation_steps = validation_generator.samples // batch_size,\n",
        "    epochs = nb_epochs)\n",
        "\n",
        "model.save(\"stitched_result_4.h5\")"
      ],
      "execution_count": 0,
      "outputs": [
        {
          "output_type": "stream",
          "text": [
            "Found 3046 images belonging to 2 classes.\n",
            "Found 78 images belonging to 2 classes.\n",
            "Epoch 1/10\n",
            "203/203 [==============================] - 156s 768ms/step - loss: 0.6940 - acc: 0.5258 - val_loss: 0.6923 - val_acc: 0.5200\n",
            "Epoch 2/10\n",
            "203/203 [==============================] - 151s 743ms/step - loss: 0.6028 - acc: 0.6394 - val_loss: 0.4332 - val_acc: 0.6984\n",
            "Epoch 3/10\n",
            "203/203 [==============================] - 150s 741ms/step - loss: 0.1697 - acc: 0.9333 - val_loss: 0.1307 - val_acc: 0.9365\n",
            "Epoch 4/10\n",
            "203/203 [==============================] - 152s 748ms/step - loss: 0.0657 - acc: 0.9767 - val_loss: 0.2508 - val_acc: 0.9683\n",
            "Epoch 5/10\n",
            "203/203 [==============================] - 150s 741ms/step - loss: 0.0581 - acc: 0.9787 - val_loss: 0.0073 - val_acc: 1.0000\n",
            "Epoch 6/10\n",
            "203/203 [==============================] - 151s 742ms/step - loss: 0.0499 - acc: 0.9839 - val_loss: 0.0027 - val_acc: 1.0000\n",
            "Epoch 7/10\n",
            "203/203 [==============================] - 151s 744ms/step - loss: 0.0365 - acc: 0.9869 - val_loss: 0.0041 - val_acc: 1.0000\n",
            "Epoch 8/10\n",
            "203/203 [==============================] - 126s 623ms/step - loss: 0.0223 - acc: 0.9905 - val_loss: 2.0553e-04 - val_acc: 1.0000\n",
            "Epoch 9/10\n",
            "203/203 [==============================] - 92s 454ms/step - loss: 0.0331 - acc: 0.9888 - val_loss: 0.0076 - val_acc: 1.0000\n",
            "Epoch 10/10\n",
            "203/203 [==============================] - 92s 454ms/step - loss: 0.0154 - acc: 0.9947 - val_loss: 3.5884e-05 - val_acc: 1.0000\n"
          ],
          "name": "stdout"
        }
      ]
    }
  ]
}