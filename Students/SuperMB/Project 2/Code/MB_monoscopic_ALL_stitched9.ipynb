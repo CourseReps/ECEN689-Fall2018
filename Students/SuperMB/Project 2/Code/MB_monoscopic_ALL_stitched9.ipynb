{
  "nbformat": 4,
  "nbformat_minor": 0,
  "metadata": {
    "colab": {
      "name": "MB - monoscopic - ALL - stitched9.ipynb",
      "version": "0.3.2",
      "provenance": [],
      "collapsed_sections": []
    },
    "kernelspec": {
      "name": "python3",
      "display_name": "Python 3"
    },
    "accelerator": "GPU"
  },
  "cells": [
    {
      "metadata": {
        "id": "7U-LXv3kXnHA",
        "colab_type": "code",
        "outputId": "72696025-4675-456a-8e2d-ae9d695c8108",
        "colab": {
          "base_uri": "https://localhost:8080/",
          "height": 51
        }
      },
      "cell_type": "code",
      "source": [
        "from keras.layers import Activation, Dense, Dropout, Flatten\n",
        "from keras.layers.convolutional import Conv2D, MaxPooling2D\n",
        "from keras.preprocessing.image import ImageDataGenerator\n",
        "from sklearn.model_selection import train_test_split\n",
        "from keras.models import Sequential\n",
        "from google.colab import drive\n",
        "from google.colab import files\n",
        "import pandas as pd\n",
        "import numpy as np\n",
        "import glob\n",
        "\n",
        "# Make sure you have access to the images' folders\n",
        "drive.mount('/content/drive/')"
      ],
      "execution_count": 0,
      "outputs": [
        {
          "output_type": "stream",
          "text": [
            "Using TensorFlow backend.\n"
          ],
          "name": "stderr"
        },
        {
          "output_type": "stream",
          "text": [
            "Drive already mounted at /content/drive/; to attempt to forcibly remount, call drive.mount(\"/content/drive/\", force_remount=True).\n"
          ],
          "name": "stdout"
        }
      ]
    },
    {
      "metadata": {
        "id": "qflwCAMRkhyX",
        "colab_type": "code",
        "outputId": "923754ae-3ee1-487a-d15b-56f8b25dfd87",
        "colab": {
          "base_uri": "https://localhost:8080/",
          "height": 34
        }
      },
      "cell_type": "code",
      "source": [
        "cd drive/Team Drives"
      ],
      "execution_count": 0,
      "outputs": [
        {
          "output_type": "stream",
          "text": [
            "/content/drive/Team Drives\n"
          ],
          "name": "stdout"
        }
      ]
    },
    {
      "metadata": {
        "id": "iWcD8G7cks1B",
        "colab_type": "code",
        "outputId": "bc98e137-4746-446c-8ecf-a0a8541b5dfe",
        "colab": {
          "base_uri": "https://localhost:8080/",
          "height": 51
        }
      },
      "cell_type": "code",
      "source": [
        "cd ECENproject2"
      ],
      "execution_count": 0,
      "outputs": [
        {
          "output_type": "stream",
          "text": [
            "[Errno 2] No such file or directory: 'ECENproject2'\n",
            "/content/drive/Team Drives/ECENproject2\n"
          ],
          "name": "stdout"
        }
      ]
    },
    {
      "metadata": {
        "id": "sM-oOyZhYaRN",
        "colab_type": "code",
        "colab": {}
      },
      "cell_type": "code",
      "source": [
        "####The Convolutional Neural Network for stitched images####\n",
        "#----------------------------------------------------------#\n",
        "\n",
        "# Still requires tweaking. Also keep it simple for faster forward\\backward propagations\n",
        "model = Sequential()\n",
        "model.add(Conv2D(16, (3, 3), input_shape= (320, 180, 1), activation='relu'))\n",
        "model.add(MaxPooling2D(pool_size=(2, 2)))\n",
        "model.add(Conv2D(16, (3, 3), activation='relu'))\n",
        "model.add(MaxPooling2D(pool_size=(2, 2)))\n",
        "model.add(Conv2D(16, (3, 3), activation='relu'))\n",
        "model.add(MaxPooling2D(pool_size=(2, 2)))\n",
        "model.add(Dropout(0.3))\n",
        "model.add(Flatten())\n",
        "model.add(Dense(20, activation='relu'))\n",
        "model.add(Dense(2, activation='softmax'))"
      ],
      "execution_count": 0,
      "outputs": []
    },
    {
      "metadata": {
        "id": "XCU-c2sVZQlW",
        "colab_type": "code",
        "outputId": "381ca7b3-2f90-4170-ce14-03be4a908cbd",
        "colab": {
          "base_uri": "https://localhost:8080/",
          "height": 480
        }
      },
      "cell_type": "code",
      "source": [
        "####       Running the CNN          ####\n",
        "#--------------------------------------#\n",
        "\n",
        "model.compile(\n",
        "    loss=\"sparse_categorical_crossentropy\",\n",
        "    optimizer=\"adam\",\n",
        "    metrics=[\"accuracy\"]\n",
        ")\n",
        "\n",
        "model.summary()\n",
        "\n",
        "#history = model.fit(X_train, y_train, epochs = 30, batch_size = 200, verbose = 2)\n",
        "\n",
        "#loss  = model.evaluate(X_test, y_test)\n",
        "#predictions = model.predict(X_test)\n",
        "\n",
        "#model.summary()\n"
      ],
      "execution_count": 0,
      "outputs": [
        {
          "output_type": "stream",
          "text": [
            "_________________________________________________________________\n",
            "Layer (type)                 Output Shape              Param #   \n",
            "=================================================================\n",
            "conv2d_14 (Conv2D)           (None, 318, 178, 16)      160       \n",
            "_________________________________________________________________\n",
            "max_pooling2d_14 (MaxPooling (None, 159, 89, 16)       0         \n",
            "_________________________________________________________________\n",
            "conv2d_15 (Conv2D)           (None, 157, 87, 16)       2320      \n",
            "_________________________________________________________________\n",
            "max_pooling2d_15 (MaxPooling (None, 78, 43, 16)        0         \n",
            "_________________________________________________________________\n",
            "conv2d_16 (Conv2D)           (None, 76, 41, 16)        2320      \n",
            "_________________________________________________________________\n",
            "max_pooling2d_16 (MaxPooling (None, 38, 20, 16)        0         \n",
            "_________________________________________________________________\n",
            "dropout_4 (Dropout)          (None, 38, 20, 16)        0         \n",
            "_________________________________________________________________\n",
            "flatten_4 (Flatten)          (None, 12160)             0         \n",
            "_________________________________________________________________\n",
            "dense_9 (Dense)              (None, 20)                243220    \n",
            "_________________________________________________________________\n",
            "dense_10 (Dense)             (None, 2)                 42        \n",
            "=================================================================\n",
            "Total params: 248,062\n",
            "Trainable params: 248,062\n",
            "Non-trainable params: 0\n",
            "_________________________________________________________________\n"
          ],
          "name": "stdout"
        }
      ]
    },
    {
      "metadata": {
        "id": "AYe-2tdkctfd",
        "colab_type": "code",
        "outputId": "2a9e63e8-14bc-49a5-ed9a-6c122d8c8c87",
        "colab": {
          "base_uri": "https://localhost:8080/",
          "height": 1766
        }
      },
      "cell_type": "code",
      "source": [
        "nb_epochs = 50\n",
        "batch_size = 15\n",
        "train_datagen = ImageDataGenerator(\n",
        "    rescale=1./255,\n",
        "    shear_range=0.05,\n",
        "    zoom_range=0.05,\n",
        "    horizontal_flip=True,\n",
        "    validation_split=.05)\n",
        "\n",
        "train_generator = train_datagen.flow_from_directory(\n",
        "    'monoscopic',\n",
        "    target_size=(320, 180),#width , height \n",
        "    batch_size=batch_size,\n",
        "    color_mode='grayscale',\n",
        "    class_mode='binary',\n",
        "    subset='training') # set as training data\n",
        "\n",
        "validation_generator = train_datagen.flow_from_directory(\n",
        "    'monoscopic',\n",
        "    target_size=(320, 180),\n",
        "    batch_size=batch_size,\n",
        "    color_mode='grayscale',\n",
        "    class_mode='binary',\n",
        "    subset='validation') # set as validation data\n",
        "\n",
        "model.fit_generator(\n",
        "    train_generator,\n",
        "    steps_per_epoch = train_generator.samples // batch_size,\n",
        "    validation_data = validation_generator, \n",
        "    validation_steps = validation_generator.samples // batch_size,\n",
        "    epochs = nb_epochs)\n",
        "\n",
        "model.save(\"MB_monoscopic_unseen_stitched_result.h5\")"
      ],
      "execution_count": 0,
      "outputs": [
        {
          "output_type": "stream",
          "text": [
            "Found 2640 images belonging to 2 classes.\n",
            "Found 138 images belonging to 2 classes.\n",
            "Epoch 1/50\n",
            "176/176 [==============================] - 33s 190ms/step - loss: 0.4115 - acc: 0.7902 - val_loss: 0.3464 - val_acc: 0.8296\n",
            "Epoch 2/50\n",
            "176/176 [==============================] - 31s 177ms/step - loss: 0.1137 - acc: 0.9602 - val_loss: 0.5918 - val_acc: 0.6748\n",
            "Epoch 3/50\n",
            "176/176 [==============================] - 32s 184ms/step - loss: 0.0585 - acc: 0.9780 - val_loss: 0.6596 - val_acc: 0.7398\n",
            "Epoch 4/50\n",
            "176/176 [==============================] - 31s 178ms/step - loss: 0.0440 - acc: 0.9852 - val_loss: 0.3973 - val_acc: 0.8049\n",
            "Epoch 5/50\n",
            "176/176 [==============================] - 32s 182ms/step - loss: 0.0284 - acc: 0.9905 - val_loss: 0.7461 - val_acc: 0.7398\n",
            "Epoch 6/50\n",
            "176/176 [==============================] - 32s 180ms/step - loss: 0.0253 - acc: 0.9924 - val_loss: 0.9504 - val_acc: 0.7073\n",
            "Epoch 7/50\n",
            "176/176 [==============================] - 32s 182ms/step - loss: 0.0286 - acc: 0.9917 - val_loss: 1.1289 - val_acc: 0.6341\n",
            "Epoch 8/50\n",
            "176/176 [==============================] - 32s 184ms/step - loss: 0.0153 - acc: 0.9962 - val_loss: 0.8105 - val_acc: 0.7642\n",
            "Epoch 9/50\n",
            "176/176 [==============================] - 31s 177ms/step - loss: 0.0211 - acc: 0.9936 - val_loss: 1.0858 - val_acc: 0.6911\n",
            "Epoch 10/50\n",
            "176/176 [==============================] - 32s 184ms/step - loss: 0.0130 - acc: 0.9962 - val_loss: 0.6802 - val_acc: 0.7805\n",
            "Epoch 11/50\n",
            "176/176 [==============================] - 31s 175ms/step - loss: 0.0320 - acc: 0.9909 - val_loss: 1.1290 - val_acc: 0.6889\n",
            "Epoch 12/50\n",
            "176/176 [==============================] - 31s 179ms/step - loss: 0.0216 - acc: 0.9936 - val_loss: 2.2057 - val_acc: 0.6667\n",
            "Epoch 13/50\n",
            "176/176 [==============================] - 33s 185ms/step - loss: 0.0202 - acc: 0.9943 - val_loss: 0.6186 - val_acc: 0.8537\n",
            "Epoch 14/50\n",
            "176/176 [==============================] - 32s 179ms/step - loss: 0.0120 - acc: 0.9966 - val_loss: 2.3154 - val_acc: 0.6341\n",
            "Epoch 15/50\n",
            "176/176 [==============================] - 31s 178ms/step - loss: 0.0079 - acc: 0.9970 - val_loss: 0.7970 - val_acc: 0.7724\n",
            "Epoch 16/50\n",
            "176/176 [==============================] - 31s 177ms/step - loss: 0.0140 - acc: 0.9951 - val_loss: 0.6808 - val_acc: 0.7805\n",
            "Epoch 17/50\n",
            "176/176 [==============================] - 33s 186ms/step - loss: 0.0113 - acc: 0.9955 - val_loss: 0.4662 - val_acc: 0.8455\n",
            "Epoch 18/50\n",
            "176/176 [==============================] - 30s 173ms/step - loss: 0.0088 - acc: 0.9977 - val_loss: 0.8592 - val_acc: 0.8049\n",
            "Epoch 19/50\n",
            "176/176 [==============================] - 32s 179ms/step - loss: 0.0105 - acc: 0.9966 - val_loss: 2.8690 - val_acc: 0.6829\n",
            "Epoch 20/50\n",
            "176/176 [==============================] - 32s 184ms/step - loss: 0.0161 - acc: 0.9958 - val_loss: 1.7213 - val_acc: 0.6504\n",
            "Epoch 21/50\n",
            "176/176 [==============================] - 30s 170ms/step - loss: 0.0103 - acc: 0.9977 - val_loss: 1.3103 - val_acc: 0.7556\n",
            "Epoch 22/50\n",
            "176/176 [==============================] - 31s 177ms/step - loss: 0.0101 - acc: 0.9962 - val_loss: 0.8078 - val_acc: 0.8374\n",
            "Epoch 23/50\n",
            "176/176 [==============================] - 31s 175ms/step - loss: 0.0056 - acc: 0.9985 - val_loss: 0.7869 - val_acc: 0.7886\n",
            "Epoch 24/50\n",
            "176/176 [==============================] - 33s 187ms/step - loss: 0.0023 - acc: 0.9989 - val_loss: 2.0875 - val_acc: 0.6667\n",
            "Epoch 25/50\n",
            "176/176 [==============================] - 32s 180ms/step - loss: 0.0098 - acc: 0.9966 - val_loss: 0.9588 - val_acc: 0.7886\n",
            "Epoch 26/50\n",
            "176/176 [==============================] - 32s 182ms/step - loss: 0.0180 - acc: 0.9924 - val_loss: 0.9398 - val_acc: 0.7967\n",
            "Epoch 27/50\n",
            "176/176 [==============================] - 32s 183ms/step - loss: 0.0043 - acc: 0.9985 - val_loss: 1.0181 - val_acc: 0.8049\n",
            "Epoch 28/50\n",
            "176/176 [==============================] - 30s 170ms/step - loss: 0.0178 - acc: 0.9955 - val_loss: 0.5197 - val_acc: 0.8699\n",
            "Epoch 29/50\n",
            "176/176 [==============================] - 31s 176ms/step - loss: 0.0169 - acc: 0.9932 - val_loss: 0.6068 - val_acc: 0.8618\n",
            "Epoch 30/50\n",
            "176/176 [==============================] - 30s 172ms/step - loss: 0.0112 - acc: 0.9958 - val_loss: 2.0773 - val_acc: 0.7317\n",
            "Epoch 31/50\n",
            "176/176 [==============================] - 31s 179ms/step - loss: 0.0034 - acc: 0.9989 - val_loss: 0.9054 - val_acc: 0.8370\n",
            "Epoch 32/50\n",
            "176/176 [==============================] - 30s 171ms/step - loss: 0.0047 - acc: 0.9981 - val_loss: 2.0246 - val_acc: 0.7398\n",
            "Epoch 33/50\n",
            "176/176 [==============================] - 31s 174ms/step - loss: 0.0100 - acc: 0.9966 - val_loss: 1.4230 - val_acc: 0.6992\n",
            "Epoch 34/50\n",
            "176/176 [==============================] - 32s 183ms/step - loss: 0.0074 - acc: 0.9981 - val_loss: 1.2863 - val_acc: 0.7561\n",
            "Epoch 35/50\n",
            "176/176 [==============================] - 30s 171ms/step - loss: 0.0067 - acc: 0.9985 - val_loss: 0.4678 - val_acc: 0.8618\n",
            "Epoch 36/50\n",
            "176/176 [==============================] - 31s 178ms/step - loss: 0.0067 - acc: 0.9977 - val_loss: 1.3690 - val_acc: 0.7724\n",
            "Epoch 37/50\n",
            "176/176 [==============================] - 31s 178ms/step - loss: 0.0032 - acc: 0.9985 - val_loss: 1.2020 - val_acc: 0.7886\n",
            "Epoch 38/50\n",
            "176/176 [==============================] - 32s 182ms/step - loss: 0.0023 - acc: 0.9992 - val_loss: 0.7270 - val_acc: 0.8130\n",
            "Epoch 39/50\n",
            "176/176 [==============================] - 30s 171ms/step - loss: 1.8475e-04 - acc: 1.0000 - val_loss: 0.8123 - val_acc: 0.8455\n",
            "Epoch 40/50\n",
            "176/176 [==============================] - 31s 176ms/step - loss: 0.0077 - acc: 0.9970 - val_loss: 2.2532 - val_acc: 0.6423\n",
            "Epoch 41/50\n",
            "176/176 [==============================] - 31s 174ms/step - loss: 0.0173 - acc: 0.9943 - val_loss: 1.1429 - val_acc: 0.7704\n",
            "Epoch 42/50\n",
            "176/176 [==============================] - 30s 168ms/step - loss: 0.0162 - acc: 0.9943 - val_loss: 0.7901 - val_acc: 0.8374\n",
            "Epoch 43/50\n",
            "176/176 [==============================] - 31s 177ms/step - loss: 0.0077 - acc: 0.9985 - val_loss: 0.7996 - val_acc: 0.8293\n",
            "Epoch 44/50\n",
            "176/176 [==============================] - 31s 175ms/step - loss: 0.0090 - acc: 0.9973 - val_loss: 1.1234 - val_acc: 0.7724\n",
            "Epoch 45/50\n",
            "176/176 [==============================] - 31s 178ms/step - loss: 0.0080 - acc: 0.9981 - val_loss: 0.6052 - val_acc: 0.8862\n",
            "Epoch 46/50\n",
            "176/176 [==============================] - 30s 172ms/step - loss: 0.0014 - acc: 0.9996 - val_loss: 0.5148 - val_acc: 0.8455\n",
            "Epoch 47/50\n",
            "176/176 [==============================] - 31s 174ms/step - loss: 0.0249 - acc: 0.9932 - val_loss: 1.2459 - val_acc: 0.8049\n",
            "Epoch 48/50\n",
            "176/176 [==============================] - 32s 180ms/step - loss: 0.0050 - acc: 0.9981 - val_loss: 0.6185 - val_acc: 0.8455\n",
            "Epoch 49/50\n",
            "176/176 [==============================] - 30s 170ms/step - loss: 0.0059 - acc: 0.9989 - val_loss: 1.6179 - val_acc: 0.7886\n",
            "Epoch 50/50\n",
            "176/176 [==============================] - 30s 173ms/step - loss: 0.0015 - acc: 0.9996 - val_loss: 1.2286 - val_acc: 0.8049\n"
          ],
          "name": "stdout"
        }
      ]
    },
    {
      "metadata": {
        "id": "3CVAad_cPzsg",
        "colab_type": "text"
      },
      "cell_type": "markdown",
      "source": [
        "# GOOD MODELS"
      ]
    }
  ]
}