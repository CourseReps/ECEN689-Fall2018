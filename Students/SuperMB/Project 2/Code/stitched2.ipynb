{
  "nbformat": 4,
  "nbformat_minor": 0,
  "metadata": {
    "colab": {
      "name": "stitched2.ipynb",
      "version": "0.3.2",
      "provenance": [],
      "collapsed_sections": []
    },
    "kernelspec": {
      "name": "python3",
      "display_name": "Python 3"
    },
    "accelerator": "GPU"
  },
  "cells": [
    {
      "metadata": {
        "id": "7U-LXv3kXnHA",
        "colab_type": "code",
        "outputId": "48b3d886-0f62-4863-f3f6-9a52d8f45651",
        "colab": {
          "base_uri": "https://localhost:8080/",
          "height": 208
        }
      },
      "cell_type": "code",
      "source": [
        "from keras.layers import Activation, Dense, Dropout, Flatten\n",
        "from keras.layers.convolutional import Conv2D, MaxPooling2D\n",
        "from keras.preprocessing.image import ImageDataGenerator\n",
        "from sklearn.model_selection import train_test_split\n",
        "from keras.models import Sequential\n",
        "from google.colab import drive\n",
        "from google.colab import files\n",
        "import pandas as pd\n",
        "import numpy as np\n",
        "import glob\n",
        "\n",
        "# Make sure you have access to the images' folders\n",
        "drive.mount('/content/drive/')"
      ],
      "execution_count": 0,
      "outputs": [
        {
          "output_type": "stream",
          "text": [
            "Using TensorFlow backend.\n"
          ],
          "name": "stderr"
        },
        {
          "output_type": "stream",
          "text": [
            "Go to this URL in a browser: https://accounts.google.com/o/oauth2/auth?client_id=947318989803-6bn6qk8qdgf4n4g3pfee6491hc0brc4i.apps.googleusercontent.com&redirect_uri=urn%3Aietf%3Awg%3Aoauth%3A2.0%3Aoob&scope=email%20https%3A%2F%2Fwww.googleapis.com%2Fauth%2Fdocs.test%20https%3A%2F%2Fwww.googleapis.com%2Fauth%2Fdrive%20https%3A%2F%2Fwww.googleapis.com%2Fauth%2Fdrive.photos.readonly%20https%3A%2F%2Fwww.googleapis.com%2Fauth%2Fpeopleapi.readonly&response_type=code\n",
            "\n",
            "Enter your authorization code:\n",
            "··········\n",
            "Mounted at /content/drive/\n"
          ],
          "name": "stdout"
        }
      ]
    },
    {
      "metadata": {
        "id": "qflwCAMRkhyX",
        "colab_type": "code",
        "outputId": "b8822a55-8422-467b-ff8b-f2d9acf824c8",
        "colab": {
          "base_uri": "https://localhost:8080/",
          "height": 34
        }
      },
      "cell_type": "code",
      "source": [
        "cd drive/Team Drives"
      ],
      "execution_count": 0,
      "outputs": [
        {
          "output_type": "stream",
          "text": [
            "/content/drive/Team Drives\n"
          ],
          "name": "stdout"
        }
      ]
    },
    {
      "metadata": {
        "id": "iWcD8G7cks1B",
        "colab_type": "code",
        "outputId": "ed98d932-46ae-40f3-b6e1-947bd206412a",
        "colab": {
          "base_uri": "https://localhost:8080/",
          "height": 34
        }
      },
      "cell_type": "code",
      "source": [
        "cd ECENproject2"
      ],
      "execution_count": 0,
      "outputs": [
        {
          "output_type": "stream",
          "text": [
            "/content/drive/Team Drives/ECENproject2\n"
          ],
          "name": "stdout"
        }
      ]
    },
    {
      "metadata": {
        "id": "xUf5_GlfX4Mi",
        "colab_type": "code",
        "colab": {}
      },
      "cell_type": "code",
      "source": [
        "#### Importing the training images  ####\n",
        "# This needs Drupad's script for corroboration\n",
        "#--------------------------------------#\n",
        "#images = []\n",
        "#i = 0\n",
        "\n",
        "#images_list = glob.glob(\"stitched_pics/*.jpg\")\n",
        "#images = np.array([np.array(Image.open(name)) for name in images_list])\n",
        "\n",
        "# normalizing\n",
        "#images =/ 255\n",
        "\n",
        "# !!!! STILL NEED LABELS' VALUES !!!!\n",
        "#X_train, X_test, y_train, y_test = train_test_split(images, labels, test_size = 0.25)"
      ],
      "execution_count": 0,
      "outputs": []
    },
    {
      "metadata": {
        "id": "sM-oOyZhYaRN",
        "colab_type": "code",
        "colab": {}
      },
      "cell_type": "code",
      "source": [
        "####The Convolutional Neural Network for stitched images####\n",
        "#----------------------------------------------------------#\n",
        "\n",
        "# Still requires tweaking. Also keep it simple for faster forward\\backward propagations\n",
        "model = Sequential()\n",
        "model.add(Conv2D(32, (3, 3), input_shape= (360, 320, 3), activation='relu'))\n",
        "model.add(MaxPooling2D(pool_size=(2, 2)))\n",
        "model.add(Conv2D(64, (3, 3), activation='relu'))\n",
        "model.add(MaxPooling2D(pool_size=(2, 2)))\n",
        "model.add(Conv2D(64, (5, 5), activation='relu'))\n",
        "model.add(MaxPooling2D(pool_size=(2, 2)))\n",
        "model.add(Conv2D(64, (5, 5), activation='relu'))\n",
        "model.add(MaxPooling2D(pool_size=(2, 2)))\n",
        "model.add(Dropout(0.3))\n",
        "model.add(Flatten())\n",
        "model.add(Dense(500, activation='relu'))\n",
        "model.add(Dense(200, activation='relu'))\n",
        "model.add(Dense(2, activation='softmax'))"
      ],
      "execution_count": 0,
      "outputs": []
    },
    {
      "metadata": {
        "id": "XCU-c2sVZQlW",
        "colab_type": "code",
        "outputId": "e915b857-c249-496a-f4a5-fff84a22eb63",
        "colab": {
          "base_uri": "https://localhost:8080/",
          "height": 578
        }
      },
      "cell_type": "code",
      "source": [
        "####       Running the CNN          ####\n",
        "#--------------------------------------#\n",
        "\n",
        "model.compile(\n",
        "    loss=\"sparse_categorical_crossentropy\",\n",
        "    optimizer=\"adam\",\n",
        "    metrics=[\"accuracy\"]\n",
        ")\n",
        "\n",
        "model.summary()\n",
        "\n",
        "#history = model.fit(X_train, y_train, epochs = 30, batch_size = 200, verbose = 2)\n",
        "\n",
        "#loss  = model.evaluate(X_test, y_test)\n",
        "#predictions = model.predict(X_test)\n",
        "\n",
        "#model.summary()\n"
      ],
      "execution_count": 0,
      "outputs": [
        {
          "output_type": "stream",
          "text": [
            "_________________________________________________________________\n",
            "Layer (type)                 Output Shape              Param #   \n",
            "=================================================================\n",
            "conv2d_1 (Conv2D)            (None, 358, 318, 32)      896       \n",
            "_________________________________________________________________\n",
            "max_pooling2d_1 (MaxPooling2 (None, 179, 159, 32)      0         \n",
            "_________________________________________________________________\n",
            "conv2d_2 (Conv2D)            (None, 177, 157, 64)      18496     \n",
            "_________________________________________________________________\n",
            "max_pooling2d_2 (MaxPooling2 (None, 88, 78, 64)        0         \n",
            "_________________________________________________________________\n",
            "conv2d_3 (Conv2D)            (None, 84, 74, 64)        102464    \n",
            "_________________________________________________________________\n",
            "max_pooling2d_3 (MaxPooling2 (None, 42, 37, 64)        0         \n",
            "_________________________________________________________________\n",
            "conv2d_4 (Conv2D)            (None, 38, 33, 64)        102464    \n",
            "_________________________________________________________________\n",
            "max_pooling2d_4 (MaxPooling2 (None, 19, 16, 64)        0         \n",
            "_________________________________________________________________\n",
            "dropout_1 (Dropout)          (None, 19, 16, 64)        0         \n",
            "_________________________________________________________________\n",
            "flatten_1 (Flatten)          (None, 19456)             0         \n",
            "_________________________________________________________________\n",
            "dense_1 (Dense)              (None, 500)               9728500   \n",
            "_________________________________________________________________\n",
            "dense_2 (Dense)              (None, 200)               100200    \n",
            "_________________________________________________________________\n",
            "dense_3 (Dense)              (None, 2)                 402       \n",
            "=================================================================\n",
            "Total params: 10,053,422\n",
            "Trainable params: 10,053,422\n",
            "Non-trainable params: 0\n",
            "_________________________________________________________________\n"
          ],
          "name": "stdout"
        }
      ]
    },
    {
      "metadata": {
        "id": "AYe-2tdkctfd",
        "colab_type": "code",
        "outputId": "36a910a2-3dab-4f65-a59e-498561ff2386",
        "colab": {
          "base_uri": "https://localhost:8080/",
          "height": 1020
        }
      },
      "cell_type": "code",
      "source": [
        "nb_epochs = 10\n",
        "batch_size = 20\n",
        "train_datagen = ImageDataGenerator(rescale=1./255,\n",
        "    shear_range=0.2,\n",
        "    zoom_range=0.2,\n",
        "    horizontal_flip=True,\n",
        "    validation_split=0.025) # set validation split\n",
        "\n",
        "train_generator = train_datagen.flow_from_directory(\n",
        "    'stitched_pic',\n",
        "    target_size=(360, 320),#width , height \n",
        "    batch_size=batch_size,\n",
        "    class_mode='binary',\n",
        "    subset='training') # set as training data\n",
        "\n",
        "validation_generator = train_datagen.flow_from_directory(\n",
        "    'stitched_pic', # same directory as training data\n",
        "    target_size=(360, 320),\n",
        "    batch_size=batch_size,\n",
        "    class_mode='binary',\n",
        "    subset='validation') # set as validation data\n",
        "\n",
        "model.fit_generator(\n",
        "    train_generator,\n",
        "    steps_per_epoch = train_generator.samples // batch_size,\n",
        "    validation_data = validation_generator, \n",
        "    validation_steps = validation_generator.samples // batch_size,\n",
        "    epochs = nb_epochs)\n",
        "\n",
        "model.save(\"stitched_result_2.h5\")"
      ],
      "execution_count": 0,
      "outputs": [
        {
          "output_type": "stream",
          "text": [
            "Found 3046 images belonging to 2 classes.\n",
            "Found 78 images belonging to 2 classes.\n",
            "Epoch 1/10\n",
            "152/152 [==============================] - 1560s 10s/step - loss: 0.5680 - acc: 0.6664 - val_loss: 0.2504 - val_acc: 0.9167\n",
            "Epoch 2/10\n",
            "152/152 [==============================] - 95s 628ms/step - loss: 0.1840 - acc: 0.9286 - val_loss: 0.0912 - val_acc: 0.9655\n",
            "Epoch 3/10\n",
            "152/152 [==============================] - 93s 611ms/step - loss: 0.0817 - acc: 0.9714 - val_loss: 0.0077 - val_acc: 1.0000\n",
            "Epoch 4/10\n",
            "152/152 [==============================] - 93s 614ms/step - loss: 0.0687 - acc: 0.9753 - val_loss: 0.0675 - val_acc: 0.9828\n",
            "Epoch 5/10\n",
            "152/152 [==============================] - 93s 612ms/step - loss: 0.0483 - acc: 0.9806 - val_loss: 0.0096 - val_acc: 1.0000\n",
            "Epoch 6/10\n",
            "152/152 [==============================] - 93s 614ms/step - loss: 0.0589 - acc: 0.9785 - val_loss: 0.0149 - val_acc: 1.0000\n",
            "Epoch 7/10\n",
            "152/152 [==============================] - 93s 614ms/step - loss: 0.0395 - acc: 0.9862 - val_loss: 0.0015 - val_acc: 1.0000\n",
            "Epoch 8/10\n",
            "152/152 [==============================] - 93s 613ms/step - loss: 0.0265 - acc: 0.9911 - val_loss: 0.0055 - val_acc: 1.0000\n",
            "Epoch 9/10\n",
            "152/152 [==============================] - 93s 614ms/step - loss: 0.0323 - acc: 0.9875 - val_loss: 0.0230 - val_acc: 1.0000\n",
            "Epoch 10/10\n",
            "152/152 [==============================] - 93s 613ms/step - loss: 0.0321 - acc: 0.9907 - val_loss: 0.0053 - val_acc: 1.0000\n"
          ],
          "name": "stdout"
        }
      ]
    }
  ]
}