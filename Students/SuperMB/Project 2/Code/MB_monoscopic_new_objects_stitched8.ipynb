{
  "nbformat": 4,
  "nbformat_minor": 0,
  "metadata": {
    "colab": {
      "name": "MB - monoscopic - new objects - stitched8.ipynb",
      "version": "0.3.2",
      "provenance": [],
      "collapsed_sections": []
    },
    "kernelspec": {
      "name": "python3",
      "display_name": "Python 3"
    },
    "accelerator": "GPU"
  },
  "cells": [
    {
      "metadata": {
        "id": "7U-LXv3kXnHA",
        "colab_type": "code",
        "outputId": "1aeb50c3-dc3a-423c-ff54-bbdd5c692ac1",
        "colab": {
          "base_uri": "https://localhost:8080/",
          "height": 34
        }
      },
      "cell_type": "code",
      "source": [
        "from keras.layers import Activation, Dense, Dropout, Flatten\n",
        "from keras.layers.convolutional import Conv2D, MaxPooling2D\n",
        "from keras.preprocessing.image import ImageDataGenerator\n",
        "from sklearn.model_selection import train_test_split\n",
        "from keras.models import Sequential\n",
        "from google.colab import drive\n",
        "from google.colab import files\n",
        "import pandas as pd\n",
        "import numpy as np\n",
        "import glob\n",
        "\n",
        "# Make sure you have access to the images' folders\n",
        "drive.mount('/content/drive/')"
      ],
      "execution_count": 0,
      "outputs": [
        {
          "output_type": "stream",
          "text": [
            "Drive already mounted at /content/drive/; to attempt to forcibly remount, call drive.mount(\"/content/drive/\", force_remount=True).\n"
          ],
          "name": "stdout"
        }
      ]
    },
    {
      "metadata": {
        "id": "qflwCAMRkhyX",
        "colab_type": "code",
        "outputId": "7d8d8b45-d22e-499a-c144-2a0b2782b7c9",
        "colab": {
          "base_uri": "https://localhost:8080/",
          "height": 51
        }
      },
      "cell_type": "code",
      "source": [
        "cd drive/Team Drives"
      ],
      "execution_count": 0,
      "outputs": [
        {
          "output_type": "stream",
          "text": [
            "[Errno 2] No such file or directory: 'drive/Team Drives'\n",
            "/content/drive/Team Drives/ECENproject2\n"
          ],
          "name": "stdout"
        }
      ]
    },
    {
      "metadata": {
        "id": "iWcD8G7cks1B",
        "colab_type": "code",
        "outputId": "4e05e2b8-c5e5-48c2-d915-4fc2b36c82ae",
        "colab": {
          "base_uri": "https://localhost:8080/",
          "height": 51
        }
      },
      "cell_type": "code",
      "source": [
        "cd ECENproject2"
      ],
      "execution_count": 0,
      "outputs": [
        {
          "output_type": "stream",
          "text": [
            "[Errno 2] No such file or directory: 'ECENproject2'\n",
            "/content/drive/Team Drives/ECENproject2\n"
          ],
          "name": "stdout"
        }
      ]
    },
    {
      "metadata": {
        "id": "sM-oOyZhYaRN",
        "colab_type": "code",
        "colab": {}
      },
      "cell_type": "code",
      "source": [
        "####The Convolutional Neural Network for stitched images####\n",
        "#----------------------------------------------------------#\n",
        "\n",
        "# Still requires tweaking. Also keep it simple for faster forward\\backward propagations\n",
        "model = Sequential()\n",
        "model.add(Conv2D(32, (3, 3), input_shape= (320, 180, 1), activation='relu'))\n",
        "model.add(MaxPooling2D(pool_size=(2, 2)))\n",
        "model.add(Conv2D(64, (3, 3), activation='relu'))\n",
        "model.add(MaxPooling2D(pool_size=(2, 2)))\n",
        "model.add(Conv2D(64, (3, 3), activation='relu'))\n",
        "model.add(MaxPooling2D(pool_size=(2, 2)))\n",
        "model.add(Conv2D(64, (5, 5), activation='relu'))\n",
        "model.add(MaxPooling2D(pool_size=(2, 2)))\n",
        "model.add(Conv2D(64, (5, 5), activation='relu'))\n",
        "model.add(MaxPooling2D(pool_size=(2, 2)))\n",
        "model.add(Dropout(0.3))\n",
        "model.add(Flatten())\n",
        "model.add(Dense(500, activation='relu'))\n",
        "model.add(Dense(200, activation='relu'))\n",
        "model.add(Dense(2, activation='softmax'))"
      ],
      "execution_count": 0,
      "outputs": []
    },
    {
      "metadata": {
        "id": "XCU-c2sVZQlW",
        "colab_type": "code",
        "outputId": "c45817c2-e21f-4328-b24a-9973a43426e0",
        "colab": {
          "base_uri": "https://localhost:8080/",
          "height": 651
        }
      },
      "cell_type": "code",
      "source": [
        "####       Running the CNN          ####\n",
        "#--------------------------------------#\n",
        "\n",
        "model.compile(\n",
        "    loss=\"sparse_categorical_crossentropy\",\n",
        "    optimizer=\"adam\",\n",
        "    metrics=[\"accuracy\"]\n",
        ")\n",
        "\n",
        "model.summary()\n",
        "\n",
        "#history = model.fit(X_train, y_train, epochs = 30, batch_size = 200, verbose = 2)\n",
        "\n",
        "#loss  = model.evaluate(X_test, y_test)\n",
        "#predictions = model.predict(X_test)\n",
        "\n",
        "#model.summary()\n"
      ],
      "execution_count": 0,
      "outputs": [
        {
          "output_type": "stream",
          "text": [
            "_________________________________________________________________\n",
            "Layer (type)                 Output Shape              Param #   \n",
            "=================================================================\n",
            "conv2d_18 (Conv2D)           (None, 318, 178, 32)      320       \n",
            "_________________________________________________________________\n",
            "max_pooling2d_18 (MaxPooling (None, 159, 89, 32)       0         \n",
            "_________________________________________________________________\n",
            "conv2d_19 (Conv2D)           (None, 157, 87, 64)       18496     \n",
            "_________________________________________________________________\n",
            "max_pooling2d_19 (MaxPooling (None, 78, 43, 64)        0         \n",
            "_________________________________________________________________\n",
            "conv2d_20 (Conv2D)           (None, 76, 41, 64)        36928     \n",
            "_________________________________________________________________\n",
            "max_pooling2d_20 (MaxPooling (None, 38, 20, 64)        0         \n",
            "_________________________________________________________________\n",
            "conv2d_21 (Conv2D)           (None, 34, 16, 64)        102464    \n",
            "_________________________________________________________________\n",
            "max_pooling2d_21 (MaxPooling (None, 17, 8, 64)         0         \n",
            "_________________________________________________________________\n",
            "conv2d_22 (Conv2D)           (None, 13, 4, 64)         102464    \n",
            "_________________________________________________________________\n",
            "max_pooling2d_22 (MaxPooling (None, 6, 2, 64)          0         \n",
            "_________________________________________________________________\n",
            "dropout_6 (Dropout)          (None, 6, 2, 64)          0         \n",
            "_________________________________________________________________\n",
            "flatten_6 (Flatten)          (None, 768)               0         \n",
            "_________________________________________________________________\n",
            "dense_12 (Dense)             (None, 500)               384500    \n",
            "_________________________________________________________________\n",
            "dense_13 (Dense)             (None, 200)               100200    \n",
            "_________________________________________________________________\n",
            "dense_14 (Dense)             (None, 2)                 402       \n",
            "=================================================================\n",
            "Total params: 745,774\n",
            "Trainable params: 745,774\n",
            "Non-trainable params: 0\n",
            "_________________________________________________________________\n"
          ],
          "name": "stdout"
        }
      ]
    },
    {
      "metadata": {
        "id": "AYe-2tdkctfd",
        "colab_type": "code",
        "outputId": "8ad965bf-c780-47e7-91b4-4d5a3045b405",
        "colab": {
          "base_uri": "https://localhost:8080/",
          "height": 1766
        }
      },
      "cell_type": "code",
      "source": [
        "nb_epochs = 50\n",
        "batch_size = 15\n",
        "train_datagen = ImageDataGenerator(\n",
        "    rescale=1./255,\n",
        "    shear_range=0.05,\n",
        "    zoom_range=0.05,\n",
        "    horizontal_flip=True)\n",
        "\n",
        "test_datagen = ImageDataGenerator(\n",
        "    rescale=1./255,\n",
        "    shear_range=0.05,\n",
        "    zoom_range=0.05,\n",
        "    horizontal_flip=True)\n",
        "#     validation_split=.9) # set validation split\n",
        "\n",
        "train_generator = train_datagen.flow_from_directory(\n",
        "    'unseen_test_monoscopic/training',\n",
        "    target_size=(320, 180),#width , height \n",
        "    batch_size=batch_size,\n",
        "    color_mode='grayscale',\n",
        "    class_mode='binary')#,\n",
        "    #subset='training') # set as training data\n",
        "\n",
        "validation_generator = test_datagen.flow_from_directory(\n",
        "    'unseen_test_monoscopic/testing', # same directory as training data\n",
        "    target_size=(320, 180),\n",
        "    batch_size=batch_size,\n",
        "    color_mode='grayscale',\n",
        "    class_mode='binary')#,\n",
        "    #subset='validation') # set as validation data\n",
        "\n",
        "model.fit_generator(\n",
        "    train_generator,\n",
        "    steps_per_epoch = train_generator.samples // batch_size,\n",
        "    validation_data = validation_generator, \n",
        "    validation_steps = validation_generator.samples // batch_size,\n",
        "    epochs = nb_epochs)\n",
        "\n",
        "model.save(\"MB_monoscopic_unseen_stitched_result.h5\")"
      ],
      "execution_count": 0,
      "outputs": [
        {
          "output_type": "stream",
          "text": [
            "Found 2583 images belonging to 2 classes.\n",
            "Found 215 images belonging to 2 classes.\n",
            "Epoch 1/50\n",
            "172/172 [==============================] - 19s 113ms/step - loss: 0.5890 - acc: 0.6535 - val_loss: 0.6367 - val_acc: 0.5905\n",
            "Epoch 2/50\n",
            "172/172 [==============================] - 20s 117ms/step - loss: 0.1787 - acc: 0.9364 - val_loss: 0.8808 - val_acc: 0.7300\n",
            "Epoch 3/50\n",
            "172/172 [==============================] - 18s 107ms/step - loss: 0.0741 - acc: 0.9713 - val_loss: 0.6966 - val_acc: 0.7750\n",
            "Epoch 4/50\n",
            "172/172 [==============================] - 18s 107ms/step - loss: 0.0511 - acc: 0.9806 - val_loss: 2.4660 - val_acc: 0.6700\n",
            "Epoch 5/50\n",
            "172/172 [==============================] - 18s 106ms/step - loss: 0.0549 - acc: 0.9810 - val_loss: 1.6403 - val_acc: 0.6900\n",
            "Epoch 6/50\n",
            "172/172 [==============================] - 18s 106ms/step - loss: 0.0489 - acc: 0.9833 - val_loss: 1.0080 - val_acc: 0.7800\n",
            "Epoch 7/50\n",
            "172/172 [==============================] - 18s 106ms/step - loss: 0.0313 - acc: 0.9911 - val_loss: 0.9411 - val_acc: 0.8000\n",
            "Epoch 8/50\n",
            "172/172 [==============================] - 18s 106ms/step - loss: 0.0216 - acc: 0.9930 - val_loss: 2.2906 - val_acc: 0.7200\n",
            "Epoch 9/50\n",
            "172/172 [==============================] - 18s 107ms/step - loss: 0.0387 - acc: 0.9891 - val_loss: 1.6104 - val_acc: 0.7600\n",
            "Epoch 10/50\n",
            "172/172 [==============================] - 18s 107ms/step - loss: 0.0410 - acc: 0.9880 - val_loss: 0.4795 - val_acc: 0.9150\n",
            "Epoch 11/50\n",
            "172/172 [==============================] - 18s 106ms/step - loss: 0.0529 - acc: 0.9826 - val_loss: 1.0212 - val_acc: 0.7950\n",
            "Epoch 12/50\n",
            "172/172 [==============================] - 18s 106ms/step - loss: 0.0515 - acc: 0.9841 - val_loss: 1.0165 - val_acc: 0.8500\n",
            "Epoch 13/50\n",
            "172/172 [==============================] - 18s 106ms/step - loss: 0.0312 - acc: 0.9919 - val_loss: 0.5414 - val_acc: 0.8550\n",
            "Epoch 14/50\n",
            "172/172 [==============================] - 18s 106ms/step - loss: 0.0145 - acc: 0.9942 - val_loss: 0.4774 - val_acc: 0.9100\n",
            "Epoch 15/50\n",
            "172/172 [==============================] - 18s 107ms/step - loss: 0.0160 - acc: 0.9934 - val_loss: 0.7535 - val_acc: 0.7950\n",
            "Epoch 16/50\n",
            "172/172 [==============================] - 19s 111ms/step - loss: 0.0194 - acc: 0.9946 - val_loss: 0.9043 - val_acc: 0.8667\n",
            "Epoch 17/50\n",
            "172/172 [==============================] - 19s 109ms/step - loss: 0.0220 - acc: 0.9907 - val_loss: 0.6475 - val_acc: 0.9350\n",
            "Epoch 18/50\n",
            "172/172 [==============================] - 18s 107ms/step - loss: 0.0162 - acc: 0.9922 - val_loss: 0.7650 - val_acc: 0.9050\n",
            "Epoch 19/50\n",
            "172/172 [==============================] - 21s 119ms/step - loss: 0.0198 - acc: 0.9915 - val_loss: 0.4872 - val_acc: 0.9200\n",
            "Epoch 20/50\n",
            "172/172 [==============================] - 19s 108ms/step - loss: 0.0191 - acc: 0.9950 - val_loss: 0.8294 - val_acc: 0.9050\n",
            "Epoch 21/50\n",
            "172/172 [==============================] - 19s 108ms/step - loss: 0.0203 - acc: 0.9942 - val_loss: 0.6536 - val_acc: 0.9150\n",
            "Epoch 22/50\n",
            "172/172 [==============================] - 19s 109ms/step - loss: 0.0261 - acc: 0.9930 - val_loss: 0.2792 - val_acc: 0.9500\n",
            "Epoch 23/50\n",
            "172/172 [==============================] - 19s 110ms/step - loss: 0.0254 - acc: 0.9942 - val_loss: 2.4019 - val_acc: 0.7750\n",
            "Epoch 24/50\n",
            "172/172 [==============================] - 19s 109ms/step - loss: 0.0292 - acc: 0.9926 - val_loss: 0.3628 - val_acc: 0.9000\n",
            "Epoch 25/50\n",
            "172/172 [==============================] - 19s 109ms/step - loss: 0.0207 - acc: 0.9942 - val_loss: 0.6211 - val_acc: 0.8900\n",
            "Epoch 26/50\n",
            "172/172 [==============================] - 19s 110ms/step - loss: 0.0120 - acc: 0.9953 - val_loss: 1.0554 - val_acc: 0.8150\n",
            "Epoch 27/50\n",
            "172/172 [==============================] - 19s 109ms/step - loss: 0.0136 - acc: 0.9957 - val_loss: 0.3268 - val_acc: 0.9400\n",
            "Epoch 28/50\n",
            "172/172 [==============================] - 19s 108ms/step - loss: 0.0232 - acc: 0.9946 - val_loss: 2.8732 - val_acc: 0.6800\n",
            "Epoch 29/50\n",
            "172/172 [==============================] - 19s 109ms/step - loss: 0.0267 - acc: 0.9915 - val_loss: 1.4016 - val_acc: 0.8300\n",
            "Epoch 30/50\n",
            "172/172 [==============================] - 19s 109ms/step - loss: 0.0243 - acc: 0.9946 - val_loss: 0.4123 - val_acc: 0.8850\n",
            "Epoch 31/50\n",
            "172/172 [==============================] - 19s 108ms/step - loss: 0.0163 - acc: 0.9938 - val_loss: 0.4520 - val_acc: 0.9286\n",
            "Epoch 32/50\n",
            "172/172 [==============================] - 19s 109ms/step - loss: 0.0126 - acc: 0.9961 - val_loss: 0.3917 - val_acc: 0.9300\n",
            "Epoch 33/50\n",
            "172/172 [==============================] - 20s 114ms/step - loss: 0.0097 - acc: 0.9977 - val_loss: 0.3562 - val_acc: 0.9350\n",
            "Epoch 34/50\n",
            "172/172 [==============================] - 18s 107ms/step - loss: 0.0169 - acc: 0.9957 - val_loss: 0.9634 - val_acc: 0.8800\n",
            "Epoch 35/50\n",
            "172/172 [==============================] - 19s 113ms/step - loss: 0.0390 - acc: 0.9911 - val_loss: 0.4600 - val_acc: 0.9250\n",
            "Epoch 36/50\n",
            "172/172 [==============================] - 20s 115ms/step - loss: 0.0153 - acc: 0.9961 - val_loss: 0.5585 - val_acc: 0.8950\n",
            "Epoch 37/50\n",
            "172/172 [==============================] - 18s 107ms/step - loss: 0.0155 - acc: 0.9950 - val_loss: 0.3791 - val_acc: 0.8950\n",
            "Epoch 38/50\n",
            "172/172 [==============================] - 19s 109ms/step - loss: 0.0163 - acc: 0.9946 - val_loss: 0.8284 - val_acc: 0.7900\n",
            "Epoch 39/50\n",
            "172/172 [==============================] - 19s 111ms/step - loss: 0.0138 - acc: 0.9946 - val_loss: 0.3721 - val_acc: 0.9250\n",
            "Epoch 40/50\n",
            "172/172 [==============================] - 19s 109ms/step - loss: 0.0062 - acc: 0.9981 - val_loss: 0.8225 - val_acc: 0.8900\n",
            "Epoch 41/50\n",
            "172/172 [==============================] - 19s 109ms/step - loss: 0.0205 - acc: 0.9950 - val_loss: 1.6395 - val_acc: 0.8300\n",
            "Epoch 42/50\n",
            "172/172 [==============================] - 19s 110ms/step - loss: 0.0271 - acc: 0.9919 - val_loss: 0.6707 - val_acc: 0.8800\n",
            "Epoch 43/50\n",
            "172/172 [==============================] - 19s 111ms/step - loss: 0.0128 - acc: 0.9961 - val_loss: 1.2235 - val_acc: 0.8400\n",
            "Epoch 44/50\n",
            "172/172 [==============================] - 29s 169ms/step - loss: 0.0185 - acc: 0.9946 - val_loss: 0.5322 - val_acc: 0.8850\n",
            "Epoch 45/50\n",
            "172/172 [==============================] - 31s 178ms/step - loss: 0.0181 - acc: 0.9950 - val_loss: 1.3604 - val_acc: 0.7800\n",
            "Epoch 46/50\n",
            "172/172 [==============================] - 29s 169ms/step - loss: 0.0137 - acc: 0.9942 - val_loss: 0.9025 - val_acc: 0.8762\n",
            "Epoch 47/50\n",
            "172/172 [==============================] - 32s 184ms/step - loss: 0.0065 - acc: 0.9977 - val_loss: 0.7925 - val_acc: 0.9000\n",
            "Epoch 48/50\n",
            "172/172 [==============================] - 29s 170ms/step - loss: 0.0167 - acc: 0.9950 - val_loss: 0.2573 - val_acc: 0.9550\n",
            "Epoch 49/50\n",
            "172/172 [==============================] - 32s 184ms/step - loss: 0.0089 - acc: 0.9969 - val_loss: 0.9336 - val_acc: 0.9050\n",
            "Epoch 50/50\n",
            "172/172 [==============================] - 29s 170ms/step - loss: 0.0219 - acc: 0.9926 - val_loss: 0.5145 - val_acc: 0.8900\n"
          ],
          "name": "stdout"
        }
      ]
    },
    {
      "metadata": {
        "id": "3CVAad_cPzsg",
        "colab_type": "text"
      },
      "cell_type": "markdown",
      "source": [
        "# GOOD MODELS"
      ]
    },
    {
      "metadata": {
        "id": "igbkJFdSsd0a",
        "colab_type": "code",
        "colab": {}
      },
      "cell_type": "code",
      "source": [
        "# accuracy 99% & validation accuracy 75%\n",
        "model = Sequential()\n",
        "model.add(Conv2D(32, (3, 3), input_shape= (320, 180, 1), activation='relu'))\n",
        "model.add(MaxPooling2D(pool_size=(2, 2)))\n",
        "model.add(Conv2D(64, (3, 3), activation='relu'))\n",
        "model.add(MaxPooling2D(pool_size=(2, 2)))\n",
        "model.add(Conv2D(64, (3, 3), activation='relu'))\n",
        "model.add(MaxPooling2D(pool_size=(2, 2)))\n",
        "model.add(Conv2D(64, (5, 5), activation='relu'))\n",
        "model.add(MaxPooling2D(pool_size=(2, 2)))\n",
        "model.add(Conv2D(64, (5, 5), activation='relu'))\n",
        "model.add(MaxPooling2D(pool_size=(2, 2)))\n",
        "model.add(Dropout(0.3))\n",
        "model.add(Flatten())\n",
        "model.add(Dense(500, activation='relu'))\n",
        "model.add(Dense(200, activation='relu'))\n",
        "model.add(Dense(2, activation='softmax'))"
      ],
      "execution_count": 0,
      "outputs": []
    },
    {
      "metadata": {
        "id": "o-B7hOksrRk1",
        "colab_type": "code",
        "colab": {}
      },
      "cell_type": "code",
      "source": [
        "# accuracy 99% & validation accuracy 69%\n",
        "model = Sequential()\n",
        "model.add(Conv2D(32, (3, 3), input_shape= (320, 180, 1), activation='relu'))\n",
        "model.add(MaxPooling2D(pool_size=(2, 2)))\n",
        "model.add(Conv2D(64, (3, 3), activation='relu'))\n",
        "model.add(MaxPooling2D(pool_size=(2, 2)))\n",
        "model.add(Conv2D(64, (5, 5), activation='relu'))\n",
        "model.add(MaxPooling2D(pool_size=(2, 2)))\n",
        "model.add(Dropout(0.3))\n",
        "model.add(Flatten())\n",
        "model.add(Dense(20, activation='relu'))\n",
        "model.add(Dense(2, activation='softmax'))"
      ],
      "execution_count": 0,
      "outputs": []
    },
    {
      "metadata": {
        "id": "H7jO5vmwkveP",
        "colab_type": "code",
        "colab": {}
      },
      "cell_type": "code",
      "source": [
        "# accuracy 99% & validation accuracy 64.5% , only 65,647 parameters, same structure as steroscopic, much worse validation performance\n",
        "# couldn't get this structure to work on stereoscopic lately....\n",
        "model = Sequential()\n",
        "model.add(Conv2D(16, (3, 3), input_shape= (320, 180, 1), activation='relu'))\n",
        "model.add(MaxPooling2D(pool_size=(2, 2)))\n",
        "model.add(Conv2D(16, (3, 3), activation='relu'))\n",
        "model.add(MaxPooling2D(pool_size=(2, 2)))\n",
        "model.add(Conv2D(16, (3, 3), activation='relu'))\n",
        "model.add(MaxPooling2D(pool_size=(2, 2)))\n",
        "model.add(Dropout(0.3))\n",
        "model.add(Flatten())\n",
        "model.add(Dense(5, activation='relu'))\n",
        "model.add(Dense(5, activation='relu'))\n",
        "model.add(Dense(2, activation='softmax'))"
      ],
      "execution_count": 0,
      "outputs": []
    }
  ]
}