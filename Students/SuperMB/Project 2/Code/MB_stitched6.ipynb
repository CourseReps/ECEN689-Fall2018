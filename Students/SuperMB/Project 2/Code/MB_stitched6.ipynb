{
  "nbformat": 4,
  "nbformat_minor": 0,
  "metadata": {
    "colab": {
      "name": "MB - stitched6.ipynb",
      "version": "0.3.2",
      "provenance": [],
      "collapsed_sections": []
    },
    "kernelspec": {
      "name": "python3",
      "display_name": "Python 3"
    },
    "accelerator": "GPU"
  },
  "cells": [
    {
      "metadata": {
        "id": "7U-LXv3kXnHA",
        "colab_type": "code",
        "outputId": "e7a13314-ecc2-43e0-a4d2-e703df253904",
        "colab": {
          "base_uri": "https://localhost:8080/",
          "height": 140
        }
      },
      "cell_type": "code",
      "source": [
        "from keras.layers import Activation, Dense, Dropout, Flatten\n",
        "from keras.layers.convolutional import Conv2D, MaxPooling2D\n",
        "from keras.preprocessing.image import ImageDataGenerator\n",
        "from sklearn.model_selection import train_test_split\n",
        "from keras.models import Sequential\n",
        "from google.colab import drive\n",
        "from google.colab import files\n",
        "import pandas as pd\n",
        "import numpy as np\n",
        "import glob\n",
        "\n",
        "# Make sure you have access to the images' folders\n",
        "drive.mount('/content/drive/')"
      ],
      "execution_count": 0,
      "outputs": [
        {
          "output_type": "stream",
          "text": [
            "Using TensorFlow backend.\n"
          ],
          "name": "stderr"
        },
        {
          "output_type": "stream",
          "text": [
            "Go to this URL in a browser: https://accounts.google.com/o/oauth2/auth?client_id=947318989803-6bn6qk8qdgf4n4g3pfee6491hc0brc4i.apps.googleusercontent.com&redirect_uri=urn%3Aietf%3Awg%3Aoauth%3A2.0%3Aoob&scope=email%20https%3A%2F%2Fwww.googleapis.com%2Fauth%2Fdocs.test%20https%3A%2F%2Fwww.googleapis.com%2Fauth%2Fdrive%20https%3A%2F%2Fwww.googleapis.com%2Fauth%2Fdrive.photos.readonly%20https%3A%2F%2Fwww.googleapis.com%2Fauth%2Fpeopleapi.readonly&response_type=code\n",
            "\n",
            "Enter your authorization code:\n",
            "··········\n",
            "Mounted at /content/drive/\n"
          ],
          "name": "stdout"
        }
      ]
    },
    {
      "metadata": {
        "id": "qflwCAMRkhyX",
        "colab_type": "code",
        "outputId": "f4d3cdc4-f946-44bf-aebb-7aa7c7e22ac4",
        "colab": {
          "base_uri": "https://localhost:8080/",
          "height": 34
        }
      },
      "cell_type": "code",
      "source": [
        "cd drive/Team Drives"
      ],
      "execution_count": 0,
      "outputs": [
        {
          "output_type": "stream",
          "text": [
            "/content/drive/Team Drives\n"
          ],
          "name": "stdout"
        }
      ]
    },
    {
      "metadata": {
        "id": "iWcD8G7cks1B",
        "colab_type": "code",
        "outputId": "106689b3-aadb-47a0-ee68-6d357b7b5604",
        "colab": {
          "base_uri": "https://localhost:8080/",
          "height": 34
        }
      },
      "cell_type": "code",
      "source": [
        "cd ECENproject2"
      ],
      "execution_count": 0,
      "outputs": [
        {
          "output_type": "stream",
          "text": [
            "/content/drive/Team Drives/ECENproject2\n"
          ],
          "name": "stdout"
        }
      ]
    },
    {
      "metadata": {
        "id": "xUf5_GlfX4Mi",
        "colab_type": "code",
        "colab": {}
      },
      "cell_type": "code",
      "source": [
        "#### Importing the training images  ####\n",
        "# This needs Drupad's script for corroboration\n",
        "#--------------------------------------#\n",
        "#images = []\n",
        "#i = 0\n",
        "\n",
        "#images_list = glob.glob(\"stitched_pics/*.jpg\")\n",
        "#images = np.array([np.array(Image.open(name)) for name in images_list])\n",
        "\n",
        "# normalizing\n",
        "#images =/ 255\n",
        "\n",
        "# !!!! STILL NEED LABELS' VALUES !!!!\n",
        "#X_train, X_test, y_train, y_test = train_test_split(images, labels, test_size = 0.25)"
      ],
      "execution_count": 0,
      "outputs": []
    },
    {
      "metadata": {
        "id": "sM-oOyZhYaRN",
        "colab_type": "code",
        "colab": {}
      },
      "cell_type": "code",
      "source": [
        "####The Convolutional Neural Network for stitched images####\n",
        "#----------------------------------------------------------#\n",
        "\n",
        "# Still requires tweaking. Also keep it simple for faster forward\\backward propagations\n",
        "model = Sequential()\n",
        "model.add(Conv2D(32, (3, 3), input_shape= (360, 320, 3), activation='relu'))\n",
        "model.add(MaxPooling2D(pool_size=(2, 2)))\n",
        "model.add(Conv2D(64, (3, 3), activation='relu'))\n",
        "model.add(MaxPooling2D(pool_size=(2, 2)))\n",
        "model.add(Conv2D(64, (3, 3), activation='relu'))\n",
        "model.add(MaxPooling2D(pool_size=(2, 2)))\n",
        "model.add(Conv2D(64, (5, 5), activation='relu'))\n",
        "model.add(MaxPooling2D(pool_size=(2, 2)))\n",
        "model.add(Conv2D(64, (5, 5), activation='relu'))\n",
        "model.add(MaxPooling2D(pool_size=(2, 2)))\n",
        "model.add(Dropout(0.3))\n",
        "model.add(Flatten())\n",
        "model.add(Dense(500, activation='relu'))\n",
        "model.add(Dense(200, activation='relu'))\n",
        "model.add(Dense(2, activation='softmax'))"
      ],
      "execution_count": 0,
      "outputs": []
    },
    {
      "metadata": {
        "id": "XCU-c2sVZQlW",
        "colab_type": "code",
        "outputId": "2273a6e0-e6bc-47a7-cc3a-de7eb4c80585",
        "colab": {
          "base_uri": "https://localhost:8080/",
          "height": 651
        }
      },
      "cell_type": "code",
      "source": [
        "####       Running the CNN          ####\n",
        "#--------------------------------------#\n",
        "\n",
        "model.compile(\n",
        "    loss=\"sparse_categorical_crossentropy\",\n",
        "    optimizer=\"adam\",\n",
        "    metrics=[\"accuracy\"]\n",
        ")\n",
        "\n",
        "model.summary()\n",
        "\n",
        "#history = model.fit(X_train, y_train, epochs = 30, batch_size = 200, verbose = 2)\n",
        "\n",
        "#loss  = model.evaluate(X_test, y_test)\n",
        "#predictions = model.predict(X_test)\n",
        "\n",
        "#model.summary()\n"
      ],
      "execution_count": 0,
      "outputs": [
        {
          "output_type": "stream",
          "text": [
            "_________________________________________________________________\n",
            "Layer (type)                 Output Shape              Param #   \n",
            "=================================================================\n",
            "conv2d_1 (Conv2D)            (None, 358, 318, 32)      896       \n",
            "_________________________________________________________________\n",
            "max_pooling2d_1 (MaxPooling2 (None, 179, 159, 32)      0         \n",
            "_________________________________________________________________\n",
            "conv2d_2 (Conv2D)            (None, 177, 157, 64)      18496     \n",
            "_________________________________________________________________\n",
            "max_pooling2d_2 (MaxPooling2 (None, 88, 78, 64)        0         \n",
            "_________________________________________________________________\n",
            "conv2d_3 (Conv2D)            (None, 86, 76, 64)        36928     \n",
            "_________________________________________________________________\n",
            "max_pooling2d_3 (MaxPooling2 (None, 43, 38, 64)        0         \n",
            "_________________________________________________________________\n",
            "conv2d_4 (Conv2D)            (None, 39, 34, 64)        102464    \n",
            "_________________________________________________________________\n",
            "max_pooling2d_4 (MaxPooling2 (None, 19, 17, 64)        0         \n",
            "_________________________________________________________________\n",
            "conv2d_5 (Conv2D)            (None, 15, 13, 64)        102464    \n",
            "_________________________________________________________________\n",
            "max_pooling2d_5 (MaxPooling2 (None, 7, 6, 64)          0         \n",
            "_________________________________________________________________\n",
            "dropout_1 (Dropout)          (None, 7, 6, 64)          0         \n",
            "_________________________________________________________________\n",
            "flatten_1 (Flatten)          (None, 2688)              0         \n",
            "_________________________________________________________________\n",
            "dense_1 (Dense)              (None, 500)               1344500   \n",
            "_________________________________________________________________\n",
            "dense_2 (Dense)              (None, 200)               100200    \n",
            "_________________________________________________________________\n",
            "dense_3 (Dense)              (None, 2)                 402       \n",
            "=================================================================\n",
            "Total params: 1,706,350\n",
            "Trainable params: 1,706,350\n",
            "Non-trainable params: 0\n",
            "_________________________________________________________________\n"
          ],
          "name": "stdout"
        }
      ]
    },
    {
      "metadata": {
        "id": "AYe-2tdkctfd",
        "colab_type": "code",
        "outputId": "ceb939b9-4736-4d9c-fdaa-02742f72c2c0",
        "colab": {
          "base_uri": "https://localhost:8080/",
          "height": 394
        }
      },
      "cell_type": "code",
      "source": [
        "nb_epochs = 10\n",
        "batch_size = 15\n",
        "train_datagen = ImageDataGenerator(rescale=1./255,\n",
        "    shear_range=0.05,\n",
        "    zoom_range=0.05,\n",
        "    horizontal_flip=True,\n",
        "    validation_split=0.025) # set validation split\n",
        "\n",
        "train_generator = train_datagen.flow_from_directory(\n",
        "    'stitched_pic_with_far_objs',\n",
        "    target_size=(360, 320),#width , height \n",
        "    batch_size=batch_size,\n",
        "    class_mode='binary',\n",
        "    subset='training') # set as training data\n",
        "\n",
        "validation_generator = train_datagen.flow_from_directory(\n",
        "    'stitched_pic_with_far_objs', # same directory as training data\n",
        "    target_size=(360, 320),\n",
        "    batch_size=batch_size,\n",
        "    class_mode='binary',\n",
        "    subset='validation') # set as validation data\n",
        "\n",
        "model.fit_generator(\n",
        "    train_generator,\n",
        "    steps_per_epoch = train_generator.samples // batch_size,\n",
        "    validation_data = validation_generator, \n",
        "    validation_steps = validation_generator.samples // batch_size,\n",
        "    epochs = nb_epochs)\n",
        "\n",
        "model.save(\"stitched_result_5.h5\")"
      ],
      "execution_count": 0,
      "outputs": [
        {
          "output_type": "stream",
          "text": [
            "Found 2709 images belonging to 2 classes.\n",
            "Found 69 images belonging to 2 classes.\n",
            "Epoch 1/10\n",
            "180/180 [==============================] - 1446s 8s/step - loss: 0.6767 - acc: 0.5715 - val_loss: 0.5016 - val_acc: 0.8000\n",
            "Epoch 2/10\n",
            "180/180 [==============================] - 85s 471ms/step - loss: 0.2771 - acc: 0.8889 - val_loss: 0.8497 - val_acc: 0.7593\n",
            "Epoch 3/10\n",
            "180/180 [==============================] - 82s 456ms/step - loss: 0.1155 - acc: 0.9572 - val_loss: 0.5881 - val_acc: 0.7963\n",
            "Epoch 4/10\n",
            "180/180 [==============================] - 81s 452ms/step - loss: 0.0631 - acc: 0.9779 - val_loss: 1.7441 - val_acc: 0.6296\n",
            "Epoch 5/10\n",
            "180/180 [==============================] - 81s 451ms/step - loss: 0.0725 - acc: 0.9744 - val_loss: 0.4293 - val_acc: 0.8519\n",
            "Epoch 6/10\n",
            "180/180 [==============================] - 81s 452ms/step - loss: 0.0374 - acc: 0.9863 - val_loss: 0.7897 - val_acc: 0.7833\n",
            "Epoch 7/10\n",
            "180/180 [==============================] - 81s 451ms/step - loss: 0.0418 - acc: 0.9852 - val_loss: 1.9260 - val_acc: 0.6481\n",
            "Epoch 8/10\n",
            "180/180 [==============================] - 81s 453ms/step - loss: 0.0338 - acc: 0.9889 - val_loss: 0.9742 - val_acc: 0.8519\n",
            "Epoch 9/10\n",
            "180/180 [==============================] - 82s 453ms/step - loss: 0.0362 - acc: 0.9867 - val_loss: 0.2269 - val_acc: 0.8889\n",
            "Epoch 10/10\n",
            "180/180 [==============================] - 82s 453ms/step - loss: 0.0171 - acc: 0.9948 - val_loss: 0.6349 - val_acc: 0.9074\n"
          ],
          "name": "stdout"
        }
      ]
    }
  ]
}