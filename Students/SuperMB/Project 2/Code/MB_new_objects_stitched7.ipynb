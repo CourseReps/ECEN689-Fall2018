{
  "nbformat": 4,
  "nbformat_minor": 0,
  "metadata": {
    "colab": {
      "name": "MB - new objects - stitched7.ipynb",
      "version": "0.3.2",
      "provenance": [],
      "collapsed_sections": []
    },
    "kernelspec": {
      "name": "python3",
      "display_name": "Python 3"
    },
    "accelerator": "GPU"
  },
  "cells": [
    {
      "metadata": {
        "id": "7U-LXv3kXnHA",
        "colab_type": "code",
        "outputId": "364e4504-3246-4203-851a-3fab17030249",
        "colab": {
          "base_uri": "https://localhost:8080/",
          "height": 34
        }
      },
      "cell_type": "code",
      "source": [
        "from keras.layers import Activation, Dense, Dropout, Flatten\n",
        "from keras.layers.convolutional import Conv2D, MaxPooling2D\n",
        "from keras.preprocessing.image import ImageDataGenerator\n",
        "from sklearn.model_selection import train_test_split\n",
        "from keras.models import Sequential\n",
        "from google.colab import drive\n",
        "from google.colab import files\n",
        "import pandas as pd\n",
        "import numpy as np\n",
        "import glob\n",
        "\n",
        "# Make sure you have access to the images' folders\n",
        "drive.mount('/content/drive/')"
      ],
      "execution_count": 0,
      "outputs": [
        {
          "output_type": "stream",
          "text": [
            "Drive already mounted at /content/drive/; to attempt to forcibly remount, call drive.mount(\"/content/drive/\", force_remount=True).\n"
          ],
          "name": "stdout"
        }
      ]
    },
    {
      "metadata": {
        "id": "qflwCAMRkhyX",
        "colab_type": "code",
        "outputId": "26f36869-3687-47f7-a987-7ca0029ce36d",
        "colab": {
          "base_uri": "https://localhost:8080/",
          "height": 50
        }
      },
      "cell_type": "code",
      "source": [
        "cd drive/Team Drives"
      ],
      "execution_count": 0,
      "outputs": [
        {
          "output_type": "stream",
          "text": [
            "[Errno 2] No such file or directory: 'drive/Team Drives'\n",
            "/content/drive/Team Drives/ECENproject2\n"
          ],
          "name": "stdout"
        }
      ]
    },
    {
      "metadata": {
        "id": "iWcD8G7cks1B",
        "colab_type": "code",
        "outputId": "d4d9e6f0-2cd7-408f-a697-b1087f0f3569",
        "colab": {
          "base_uri": "https://localhost:8080/",
          "height": 51
        }
      },
      "cell_type": "code",
      "source": [
        "cd ECENproject2"
      ],
      "execution_count": 0,
      "outputs": [
        {
          "output_type": "stream",
          "text": [
            "[Errno 2] No such file or directory: 'ECENproject2'\n",
            "/content/drive/Team Drives/ECENproject2\n"
          ],
          "name": "stdout"
        }
      ]
    },
    {
      "metadata": {
        "id": "sM-oOyZhYaRN",
        "colab_type": "code",
        "colab": {}
      },
      "cell_type": "code",
      "source": [
        "####The Convolutional Neural Network for stitched images####\n",
        "#----------------------------------------------------------#\n",
        "\n",
        "# Still requires tweaking. Also keep it simple for faster forward\\backward propagations\n",
        "model = Sequential()\n",
        "model.add(Conv2D(32, (3, 3), input_shape= (640, 180, 1), activation='relu'))\n",
        "model.add(MaxPooling2D(pool_size=(2, 2)))\n",
        "model.add(Conv2D(64, (3, 3), activation='relu'))\n",
        "model.add(MaxPooling2D(pool_size=(2, 2)))\n",
        "model.add(Conv2D(64, (3, 3), activation='relu'))\n",
        "model.add(MaxPooling2D(pool_size=(2, 2)))\n",
        "model.add(Conv2D(64, (5, 5), activation='relu'))\n",
        "model.add(MaxPooling2D(pool_size=(2, 2)))\n",
        "model.add(Conv2D(64, (5, 5), activation='relu'))\n",
        "model.add(MaxPooling2D(pool_size=(2, 2)))\n",
        "model.add(Dropout(0.3))\n",
        "model.add(Flatten())\n",
        "model.add(Dense(500, activation='relu'))\n",
        "model.add(Dense(200, activation='relu'))\n",
        "model.add(Dense(2, activation='softmax'))"
      ],
      "execution_count": 0,
      "outputs": []
    },
    {
      "metadata": {
        "id": "XCU-c2sVZQlW",
        "colab_type": "code",
        "outputId": "033df5b3-4bab-4731-81b6-94b7b0c52977",
        "colab": {
          "base_uri": "https://localhost:8080/",
          "height": 638
        }
      },
      "cell_type": "code",
      "source": [
        "####       Running the CNN          ####\n",
        "#--------------------------------------#\n",
        "\n",
        "model.compile(\n",
        "    loss=\"sparse_categorical_crossentropy\",\n",
        "    optimizer=\"adam\",\n",
        "    metrics=[\"accuracy\"]\n",
        ")\n",
        "\n",
        "model.summary()\n"
      ],
      "execution_count": 0,
      "outputs": [
        {
          "output_type": "stream",
          "text": [
            "_________________________________________________________________\n",
            "Layer (type)                 Output Shape              Param #   \n",
            "=================================================================\n",
            "conv2d_22 (Conv2D)           (None, 638, 178, 32)      320       \n",
            "_________________________________________________________________\n",
            "max_pooling2d_22 (MaxPooling (None, 319, 89, 32)       0         \n",
            "_________________________________________________________________\n",
            "conv2d_23 (Conv2D)           (None, 317, 87, 64)       18496     \n",
            "_________________________________________________________________\n",
            "max_pooling2d_23 (MaxPooling (None, 158, 43, 64)       0         \n",
            "_________________________________________________________________\n",
            "conv2d_24 (Conv2D)           (None, 156, 41, 64)       36928     \n",
            "_________________________________________________________________\n",
            "max_pooling2d_24 (MaxPooling (None, 78, 20, 64)        0         \n",
            "_________________________________________________________________\n",
            "conv2d_25 (Conv2D)           (None, 74, 16, 64)        102464    \n",
            "_________________________________________________________________\n",
            "max_pooling2d_25 (MaxPooling (None, 37, 8, 64)         0         \n",
            "_________________________________________________________________\n",
            "conv2d_26 (Conv2D)           (None, 33, 4, 64)         102464    \n",
            "_________________________________________________________________\n",
            "max_pooling2d_26 (MaxPooling (None, 16, 2, 64)         0         \n",
            "_________________________________________________________________\n",
            "dropout_6 (Dropout)          (None, 16, 2, 64)         0         \n",
            "_________________________________________________________________\n",
            "flatten_6 (Flatten)          (None, 2048)              0         \n",
            "_________________________________________________________________\n",
            "dense_14 (Dense)             (None, 500)               1024500   \n",
            "_________________________________________________________________\n",
            "dense_15 (Dense)             (None, 200)               100200    \n",
            "_________________________________________________________________\n",
            "dense_16 (Dense)             (None, 2)                 402       \n",
            "=================================================================\n",
            "Total params: 1,385,774\n",
            "Trainable params: 1,385,774\n",
            "Non-trainable params: 0\n",
            "_________________________________________________________________\n"
          ],
          "name": "stdout"
        }
      ]
    },
    {
      "metadata": {
        "id": "AYe-2tdkctfd",
        "colab_type": "code",
        "outputId": "f57836d1-be03-453a-abe4-6f0445b935eb",
        "colab": {
          "base_uri": "https://localhost:8080/",
          "height": 1747
        }
      },
      "cell_type": "code",
      "source": [
        "nb_epochs = 50\n",
        "batch_size = 15\n",
        "train_datagen = ImageDataGenerator(\n",
        "    rescale=1./255,\n",
        "    shear_range=0.05,\n",
        "    zoom_range=0.05,\n",
        "    horizontal_flip=True)\n",
        "\n",
        "test_datagen = ImageDataGenerator(\n",
        "    rescale=1./255,\n",
        "    shear_range=0.05,\n",
        "    zoom_range=0.05,\n",
        "    horizontal_flip=True)\n",
        "#     validation_split=.9) # set validation split\n",
        "\n",
        "train_generator = train_datagen.flow_from_directory(\n",
        "    'unseen_test/training',\n",
        "    target_size=(640, 180),#width , height \n",
        "    batch_size=batch_size,\n",
        "    color_mode='grayscale',\n",
        "    class_mode='binary')#,\n",
        "    #subset='training') # set as training data\n",
        "\n",
        "validation_generator = test_datagen.flow_from_directory(\n",
        "    'unseen_test/testing', # same directory as training data\n",
        "    target_size=(640, 180),\n",
        "    batch_size=batch_size,\n",
        "    color_mode='grayscale',\n",
        "    class_mode='binary')#,\n",
        "    #subset='validation') # set as validation data\n",
        "\n",
        "model.fit_generator(\n",
        "    train_generator,\n",
        "    steps_per_epoch = train_generator.samples // batch_size,\n",
        "    validation_data = validation_generator, \n",
        "    validation_steps = validation_generator.samples // batch_size,\n",
        "    epochs = nb_epochs)"
      ],
      "execution_count": 0,
      "outputs": [
        {
          "output_type": "stream",
          "text": [
            "Found 2563 images belonging to 2 classes.\n",
            "Found 215 images belonging to 2 classes.\n",
            "Epoch 1/50\n",
            "170/170 [==============================] - 37s 219ms/step - loss: 0.5567 - acc: 0.6878 - val_loss: 1.5186 - val_acc: 0.5333\n",
            "Epoch 2/50\n",
            "170/170 [==============================] - 35s 205ms/step - loss: 0.2487 - acc: 0.9113 - val_loss: 1.2040 - val_acc: 0.7150\n",
            "Epoch 3/50\n",
            "170/170 [==============================] - 34s 202ms/step - loss: 0.1458 - acc: 0.9478 - val_loss: 0.9268 - val_acc: 0.7600\n",
            "Epoch 4/50\n",
            "170/170 [==============================] - 34s 198ms/step - loss: 0.1432 - acc: 0.9505 - val_loss: 1.2801 - val_acc: 0.7400\n",
            "Epoch 5/50\n",
            "170/170 [==============================] - 35s 208ms/step - loss: 0.1013 - acc: 0.9667 - val_loss: 0.5513 - val_acc: 0.8700\n",
            "Epoch 6/50\n",
            "170/170 [==============================] - 34s 201ms/step - loss: 0.0830 - acc: 0.9706 - val_loss: 0.7076 - val_acc: 0.8600\n",
            "Epoch 7/50\n",
            "170/170 [==============================] - 35s 204ms/step - loss: 0.0946 - acc: 0.9690 - val_loss: 0.7835 - val_acc: 0.8700\n",
            "Epoch 8/50\n",
            "170/170 [==============================] - 36s 210ms/step - loss: 0.0635 - acc: 0.9780 - val_loss: 0.4062 - val_acc: 0.9150\n",
            "Epoch 9/50\n",
            "170/170 [==============================] - 35s 205ms/step - loss: 0.0638 - acc: 0.9784 - val_loss: 1.7182 - val_acc: 0.7300\n",
            "Epoch 10/50\n",
            "170/170 [==============================] - 35s 204ms/step - loss: 0.0723 - acc: 0.9733 - val_loss: 0.7530 - val_acc: 0.8100\n",
            "Epoch 11/50\n",
            "170/170 [==============================] - 35s 205ms/step - loss: 0.0481 - acc: 0.9812 - val_loss: 1.2364 - val_acc: 0.7700\n",
            "Epoch 12/50\n",
            "170/170 [==============================] - 35s 205ms/step - loss: 0.0457 - acc: 0.9855 - val_loss: 1.3889 - val_acc: 0.8750\n",
            "Epoch 13/50\n",
            "170/170 [==============================] - 35s 207ms/step - loss: 0.0467 - acc: 0.9835 - val_loss: 1.0601 - val_acc: 0.7950\n",
            "Epoch 14/50\n",
            "170/170 [==============================] - 35s 206ms/step - loss: 0.0350 - acc: 0.9890 - val_loss: 0.6252 - val_acc: 0.8850\n",
            "Epoch 15/50\n",
            "170/170 [==============================] - 35s 203ms/step - loss: 0.0311 - acc: 0.9894 - val_loss: 0.6372 - val_acc: 0.9000\n",
            "Epoch 16/50\n",
            "170/170 [==============================] - 35s 205ms/step - loss: 0.0515 - acc: 0.9816 - val_loss: 1.2726 - val_acc: 0.8286\n",
            "Epoch 17/50\n",
            "170/170 [==============================] - 35s 208ms/step - loss: 0.0438 - acc: 0.9839 - val_loss: 0.9858 - val_acc: 0.8800\n",
            "Epoch 18/50\n",
            "170/170 [==============================] - 34s 203ms/step - loss: 0.0337 - acc: 0.9867 - val_loss: 0.9522 - val_acc: 0.8850\n",
            "Epoch 19/50\n",
            "170/170 [==============================] - 34s 202ms/step - loss: 0.0276 - acc: 0.9890 - val_loss: 0.4879 - val_acc: 0.8900\n",
            "Epoch 20/50\n",
            "170/170 [==============================] - 34s 201ms/step - loss: 0.0269 - acc: 0.9871 - val_loss: 0.9513 - val_acc: 0.8450\n",
            "Epoch 21/50\n",
            "170/170 [==============================] - 35s 204ms/step - loss: 0.0334 - acc: 0.9866 - val_loss: 0.4421 - val_acc: 0.8900\n",
            "Epoch 22/50\n",
            "170/170 [==============================] - 35s 204ms/step - loss: 0.0274 - acc: 0.9905 - val_loss: 0.3088 - val_acc: 0.9400\n",
            "Epoch 23/50\n",
            "170/170 [==============================] - 35s 204ms/step - loss: 0.0159 - acc: 0.9949 - val_loss: 0.6084 - val_acc: 0.9300\n",
            "Epoch 24/50\n",
            "170/170 [==============================] - 34s 203ms/step - loss: 0.0517 - acc: 0.9839 - val_loss: 0.7853 - val_acc: 0.8750\n",
            "Epoch 25/50\n",
            "170/170 [==============================] - 34s 202ms/step - loss: 0.0219 - acc: 0.9914 - val_loss: 1.0680 - val_acc: 0.9000\n",
            "Epoch 26/50\n",
            "170/170 [==============================] - 35s 206ms/step - loss: 0.0455 - acc: 0.9866 - val_loss: 0.3353 - val_acc: 0.9550\n",
            "Epoch 27/50\n",
            "170/170 [==============================] - 34s 200ms/step - loss: 0.0179 - acc: 0.9953 - val_loss: 0.9343 - val_acc: 0.8600\n",
            "Epoch 28/50\n",
            "170/170 [==============================] - 34s 200ms/step - loss: 0.0390 - acc: 0.9867 - val_loss: 0.2483 - val_acc: 0.9400\n",
            "Epoch 29/50\n",
            "170/170 [==============================] - 34s 200ms/step - loss: 0.0211 - acc: 0.9925 - val_loss: 0.6913 - val_acc: 0.9300\n",
            "Epoch 30/50\n",
            "170/170 [==============================] - 34s 202ms/step - loss: 0.0431 - acc: 0.9851 - val_loss: 0.6904 - val_acc: 0.8900\n",
            "Epoch 31/50\n",
            "170/170 [==============================] - 35s 205ms/step - loss: 0.0298 - acc: 0.9898 - val_loss: 1.0551 - val_acc: 0.8381\n",
            "Epoch 32/50\n",
            "170/170 [==============================] - 34s 202ms/step - loss: 0.0273 - acc: 0.9914 - val_loss: 0.6535 - val_acc: 0.9200\n",
            "Epoch 33/50\n",
            "170/170 [==============================] - 34s 201ms/step - loss: 0.0160 - acc: 0.9945 - val_loss: 0.7519 - val_acc: 0.8950\n",
            "Epoch 34/50\n",
            "170/170 [==============================] - 34s 201ms/step - loss: 0.0225 - acc: 0.9937 - val_loss: 0.5673 - val_acc: 0.8750\n",
            "Epoch 35/50\n",
            "170/170 [==============================] - 35s 208ms/step - loss: 0.0120 - acc: 0.9937 - val_loss: 0.9082 - val_acc: 0.8850\n",
            "Epoch 36/50\n",
            "170/170 [==============================] - 37s 218ms/step - loss: 0.0259 - acc: 0.9929 - val_loss: 0.7083 - val_acc: 0.8600\n",
            "Epoch 37/50\n",
            "170/170 [==============================] - 38s 221ms/step - loss: 0.0513 - acc: 0.9847 - val_loss: 0.8163 - val_acc: 0.8900\n",
            "Epoch 38/50\n",
            "170/170 [==============================] - 37s 220ms/step - loss: 0.0212 - acc: 0.9901 - val_loss: 1.4021 - val_acc: 0.8400\n",
            "Epoch 39/50\n",
            "170/170 [==============================] - 37s 220ms/step - loss: 0.0224 - acc: 0.9922 - val_loss: 0.2583 - val_acc: 0.9600\n",
            "Epoch 40/50\n",
            "170/170 [==============================] - 38s 221ms/step - loss: 0.0124 - acc: 0.9945 - val_loss: 1.1174 - val_acc: 0.8900\n",
            "Epoch 41/50\n",
            "170/170 [==============================] - 38s 222ms/step - loss: 0.0201 - acc: 0.9929 - val_loss: 0.7568 - val_acc: 0.9000\n",
            "Epoch 42/50\n",
            "170/170 [==============================] - 37s 220ms/step - loss: 0.0191 - acc: 0.9933 - val_loss: 1.3269 - val_acc: 0.7850\n",
            "Epoch 43/50\n",
            "170/170 [==============================] - 37s 220ms/step - loss: 0.0251 - acc: 0.9953 - val_loss: 0.4719 - val_acc: 0.9050\n",
            "Epoch 44/50\n",
            "170/170 [==============================] - 37s 220ms/step - loss: 0.0156 - acc: 0.9953 - val_loss: 1.2022 - val_acc: 0.8050\n",
            "Epoch 45/50\n",
            "170/170 [==============================] - 37s 219ms/step - loss: 0.0186 - acc: 0.9949 - val_loss: 0.5569 - val_acc: 0.8450\n",
            "Epoch 46/50\n",
            "170/170 [==============================] - 38s 221ms/step - loss: 0.0172 - acc: 0.9949 - val_loss: 1.1979 - val_acc: 0.8857\n",
            "Epoch 47/50\n",
            "170/170 [==============================] - 37s 220ms/step - loss: 0.0251 - acc: 0.9898 - val_loss: 0.4975 - val_acc: 0.8950\n",
            "Epoch 48/50\n",
            "170/170 [==============================] - 38s 221ms/step - loss: 0.0256 - acc: 0.9898 - val_loss: 0.7675 - val_acc: 0.9000\n",
            "Epoch 49/50\n",
            "170/170 [==============================] - 37s 219ms/step - loss: 0.0270 - acc: 0.9918 - val_loss: 1.1006 - val_acc: 0.8250\n",
            "Epoch 50/50\n",
            "170/170 [==============================] - 37s 220ms/step - loss: 0.0269 - acc: 0.9898 - val_loss: 1.8428 - val_acc: 0.7650\n"
          ],
          "name": "stdout"
        },
        {
          "output_type": "execute_result",
          "data": {
            "text/plain": [
              "<keras.callbacks.History at 0x7f5f13aa7d68>"
            ]
          },
          "metadata": {
            "tags": []
          },
          "execution_count": 26
        }
      ]
    },
    {
      "metadata": {
        "id": "3CVAad_cPzsg",
        "colab_type": "text"
      },
      "cell_type": "markdown",
      "source": [
        "# GOOD MODELS"
      ]
    },
    {
      "metadata": {
        "id": "hb7QJc1HP1bD",
        "colab_type": "code",
        "colab": {}
      },
      "cell_type": "code",
      "source": [
        "# accuracy & validation accuracy -> 98, high valiation -> 78 %\n",
        "model = Sequential()\n",
        "model.add(Conv2D(32, (3, 3), input_shape= (640, 180, 1), activation='relu'))\n",
        "model.add(MaxPooling2D(pool_size=(2, 2)))\n",
        "model.add(Conv2D(64, (3, 3), activation='relu'))\n",
        "model.add(MaxPooling2D(pool_size=(2, 2)))\n",
        "model.add(Conv2D(64, (3, 3), activation='relu'))\n",
        "model.add(MaxPooling2D(pool_size=(2, 2)))\n",
        "model.add(Conv2D(64, (5, 5), activation='relu'))\n",
        "model.add(MaxPooling2D(pool_size=(2, 2)))\n",
        "model.add(Conv2D(64, (5, 5), activation='relu'))\n",
        "model.add(MaxPooling2D(pool_size=(2, 2)))\n",
        "model.add(Dropout(0.3))\n",
        "model.add(Flatten())\n",
        "model.add(Dense(500, activation='relu'))\n",
        "model.add(Dense(200, activation='relu'))\n",
        "model.add(Dense(2, activation='softmax'))"
      ],
      "execution_count": 0,
      "outputs": []
    },
    {
      "metadata": {
        "id": "g4-ozk_PR5MD",
        "colab_type": "code",
        "colab": {}
      },
      "cell_type": "code",
      "source": [
        "# accuracy & validation accuracy -> 99, up to 75 %\n",
        "model = Sequential()\n",
        "model.add(Conv2D(32, (3, 3), input_shape= (640, 180, 1), activation='relu'))\n",
        "model.add(MaxPooling2D(pool_size=(2, 2)))\n",
        "model.add(Conv2D(64, (3, 3), activation='relu'))\n",
        "model.add(MaxPooling2D(pool_size=(2, 2)))\n",
        "model.add(Conv2D(64, (5, 5), activation='relu'))\n",
        "model.add(MaxPooling2D(pool_size=(2, 2)))\n",
        "model.add(Dropout(0.3))\n",
        "model.add(Flatten())\n",
        "model.add(Dense(20, activation='relu'))\n",
        "model.add(Dense(2, activation='softmax'))"
      ],
      "execution_count": 0,
      "outputs": []
    },
    {
      "metadata": {
        "id": "RveRPsMXT6HB",
        "colab_type": "code",
        "colab": {}
      },
      "cell_type": "code",
      "source": [
        "# accuracy & validation accuracy -> 98.8 to 100 %\n",
        "model = Sequential()\n",
        "model.add(Conv2D(32, (3, 3), input_shape= (640, 180, 1), activation='relu'))\n",
        "model.add(MaxPooling2D(pool_size=(3, 3)))\n",
        "model.add(Conv2D(64, (3, 3), activation='relu'))\n",
        "model.add(MaxPooling2D(pool_size=(3, 3)))\n",
        "model.add(Conv2D(64, (5, 5), activation='relu'))\n",
        "model.add(MaxPooling2D(pool_size=(3, 3)))\n",
        "model.add(Dropout(0.3))\n",
        "model.add(Flatten())\n",
        "model.add(Dense(20, activation='relu'))\n",
        "model.add(Dense(2, activation='softmax'))"
      ],
      "execution_count": 0,
      "outputs": []
    },
    {
      "metadata": {
        "id": "ZA8ESKWHcaGz",
        "colab_type": "code",
        "colab": {}
      },
      "cell_type": "code",
      "source": [
        "#much simpler network\n",
        "# accuracy 99% & validation accuracy 85 to 90% - BAD\n",
        "model = Sequential()\n",
        "model.add(Conv2D(32, (3, 3), input_shape= (640, 180, 1), activation='relu'))\n",
        "model.add(MaxPooling2D(pool_size=(4, 4)))\n",
        "model.add(Conv2D(64, (5, 5), activation='relu'))\n",
        "model.add(MaxPooling2D(pool_size=(4, 4)))\n",
        "model.add(Dropout(0.3))\n",
        "model.add(Flatten())\n",
        "model.add(Dense(20, activation='relu'))\n",
        "model.add(Dense(2, activation='softmax'))"
      ],
      "execution_count": 0,
      "outputs": []
    },
    {
      "metadata": {
        "id": "PJRMRNxmdolI",
        "colab_type": "code",
        "colab": {}
      },
      "cell_type": "code",
      "source": [
        "# accuracy & validation accuracy -> 98, high valiation -> 79%\n",
        "model = Sequential()\n",
        "model.add(Conv2D(16, (3, 3), input_shape= (640, 180, 1), activation='relu'))\n",
        "model.add(MaxPooling2D(pool_size=(2, 2)))\n",
        "model.add(Conv2D(16, (3, 3), activation='relu'))\n",
        "model.add(MaxPooling2D(pool_size=(2, 2)))\n",
        "model.add(Conv2D(16, (3, 3), activation='relu'))\n",
        "model.add(MaxPooling2D(pool_size=(2, 2)))\n",
        "model.add(Dropout(0.3))\n",
        "model.add(Flatten())\n",
        "model.add(Dense(20, activation='relu'))\n",
        "model.add(Dense(2, activation='softmax'))"
      ],
      "execution_count": 0,
      "outputs": []
    },
    {
      "metadata": {
        "id": "lXE5F-uJhrpb",
        "colab_type": "code",
        "colab": {}
      },
      "cell_type": "code",
      "source": [
        "# accuracy & validation accuracy -> 99 %, but validation % very jumpy\n",
        "model = Sequential()\n",
        "model.add(Conv2D(16, (3, 3), input_shape= (640, 180, 1), activation='relu'))\n",
        "model.add(MaxPooling2D(pool_size=(2, 2)))\n",
        "model.add(Conv2D(16, (3, 3), activation='relu'))\n",
        "model.add(MaxPooling2D(pool_size=(2, 2)))\n",
        "model.add(Conv2D(16, (3, 3), activation='relu'))\n",
        "model.add(MaxPooling2D(pool_size=(2, 2)))\n",
        "model.add(Dropout(0.3))\n",
        "model.add(Flatten())\n",
        "model.add(Dense(10, activation='relu'))\n",
        "model.add(Dense(2, activation='softmax'))"
      ],
      "execution_count": 0,
      "outputs": []
    },
    {
      "metadata": {
        "id": "H7jO5vmwkveP",
        "colab_type": "code",
        "colab": {}
      },
      "cell_type": "code",
      "source": [
        "# accuracy & validation accuracy -> 99+%, only 130,000 parameters!! GOOD MODEL\n",
        "model = Sequential()\n",
        "model.add(Conv2D(16, (3, 3), input_shape= (640, 180, 1), activation='relu'))\n",
        "model.add(MaxPooling2D(pool_size=(2, 2)))\n",
        "model.add(Conv2D(16, (3, 3), activation='relu'))\n",
        "model.add(MaxPooling2D(pool_size=(2, 2)))\n",
        "model.add(Conv2D(16, (3, 3), activation='relu'))\n",
        "model.add(MaxPooling2D(pool_size=(2, 2)))\n",
        "model.add(Dropout(0.3))\n",
        "model.add(Flatten())\n",
        "model.add(Dense(5, activation='relu'))\n",
        "model.add(Dense(5, activation='relu'))\n",
        "model.add(Dense(2, activation='softmax'))"
      ],
      "execution_count": 0,
      "outputs": []
    }
  ]
}