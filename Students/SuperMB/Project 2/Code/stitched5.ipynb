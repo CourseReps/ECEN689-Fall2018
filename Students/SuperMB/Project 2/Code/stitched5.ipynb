{
  "nbformat": 4,
  "nbformat_minor": 0,
  "metadata": {
    "colab": {
      "name": "stitched5.ipynb",
      "version": "0.3.2",
      "provenance": [],
      "collapsed_sections": []
    },
    "kernelspec": {
      "name": "python3",
      "display_name": "Python 3"
    },
    "accelerator": "GPU"
  },
  "cells": [
    {
      "metadata": {
        "id": "7U-LXv3kXnHA",
        "colab_type": "code",
        "outputId": "78a6835a-63da-4d3c-8d3e-274876f11f04",
        "colab": {
          "base_uri": "https://localhost:8080/",
          "height": 94
        }
      },
      "cell_type": "code",
      "source": [
        "from keras.layers import Activation, Dense, Dropout, Flatten\n",
        "from keras.layers.convolutional import Conv2D, MaxPooling2D\n",
        "from keras.preprocessing.image import ImageDataGenerator\n",
        "from sklearn.model_selection import train_test_split\n",
        "from keras.models import Sequential\n",
        "from google.colab import drive\n",
        "from google.colab import files\n",
        "import pandas as pd\n",
        "import numpy as np\n",
        "import glob\n",
        "\n",
        "# Make sure you have access to the images' folders\n",
        "drive.mount('/content/drive/')"
      ],
      "execution_count": 0,
      "outputs": [
        {
          "output_type": "stream",
          "text": [
            "Drive already mounted at /content/drive/; to attempt to forcibly remount, call drive.mount(\"/content/drive/\", force_remount=True).\n"
          ],
          "name": "stdout"
        }
      ]
    },
    {
      "metadata": {
        "id": "qflwCAMRkhyX",
        "colab_type": "code",
        "outputId": "ed0b5619-3358-4826-8bd8-561af6d8478f",
        "colab": {
          "base_uri": "https://localhost:8080/",
          "height": 34
        }
      },
      "cell_type": "code",
      "source": [
        "cd drive/Team Drives"
      ],
      "execution_count": 0,
      "outputs": [
        {
          "output_type": "stream",
          "text": [
            "/content/drive/Team Drives\n"
          ],
          "name": "stdout"
        }
      ]
    },
    {
      "metadata": {
        "id": "iWcD8G7cks1B",
        "colab_type": "code",
        "outputId": "ce9cb39b-afe2-4d52-ca6b-3ab782de86e7",
        "colab": {
          "base_uri": "https://localhost:8080/",
          "height": 34
        }
      },
      "cell_type": "code",
      "source": [
        "cd ECENproject2"
      ],
      "execution_count": 0,
      "outputs": [
        {
          "output_type": "stream",
          "text": [
            "/content/drive/Team Drives/ECENproject2\n"
          ],
          "name": "stdout"
        }
      ]
    },
    {
      "metadata": {
        "id": "xUf5_GlfX4Mi",
        "colab_type": "code",
        "colab": {}
      },
      "cell_type": "code",
      "source": [
        "#### Importing the training images  ####\n",
        "# This needs Drupad's script for corroboration\n",
        "#--------------------------------------#\n",
        "#images = []\n",
        "#i = 0\n",
        "\n",
        "#images_list = glob.glob(\"stitched_pics/*.jpg\")\n",
        "#images = np.array([np.array(Image.open(name)) for name in images_list])\n",
        "\n",
        "# normalizing\n",
        "#images =/ 255\n",
        "\n",
        "# !!!! STILL NEED LABELS' VALUES !!!!\n",
        "#X_train, X_test, y_train, y_test = train_test_split(images, labels, test_size = 0.25)"
      ],
      "execution_count": 0,
      "outputs": []
    },
    {
      "metadata": {
        "id": "sM-oOyZhYaRN",
        "colab_type": "code",
        "colab": {}
      },
      "cell_type": "code",
      "source": [
        "####The Convolutional Neural Network for stitched images####\n",
        "#----------------------------------------------------------#\n",
        "\n",
        "# Still requires tweaking. Also keep it simple for faster forward\\backward propagations\n",
        "model = Sequential()\n",
        "model.add(Conv2D(32, (3, 3), input_shape= (360, 320, 3), activation='relu'))\n",
        "model.add(MaxPooling2D(pool_size=(2, 2)))\n",
        "model.add(Conv2D(64, (3, 3), activation='relu'))\n",
        "model.add(MaxPooling2D(pool_size=(2, 2)))\n",
        "model.add(Conv2D(64, (3, 3), activation='relu'))\n",
        "model.add(MaxPooling2D(pool_size=(2, 2)))\n",
        "model.add(Conv2D(64, (5, 5), activation='relu'))\n",
        "model.add(MaxPooling2D(pool_size=(2, 2)))\n",
        "model.add(Conv2D(64, (5, 5), activation='relu'))\n",
        "model.add(MaxPooling2D(pool_size=(2, 2)))\n",
        "model.add(Dropout(0.3))\n",
        "model.add(Flatten())\n",
        "model.add(Dense(500, activation='relu'))\n",
        "model.add(Dense(200, activation='relu'))\n",
        "model.add(Dense(2, activation='softmax'))"
      ],
      "execution_count": 0,
      "outputs": []
    },
    {
      "metadata": {
        "id": "XCU-c2sVZQlW",
        "colab_type": "code",
        "outputId": "270e0e12-a5ec-42c4-8ee8-f2a3cf00f438",
        "colab": {
          "base_uri": "https://localhost:8080/",
          "height": 646
        }
      },
      "cell_type": "code",
      "source": [
        "####       Running the CNN          ####\n",
        "#--------------------------------------#\n",
        "\n",
        "model.compile(\n",
        "    loss=\"sparse_categorical_crossentropy\",\n",
        "    optimizer=\"adam\",\n",
        "    metrics=[\"accuracy\"]\n",
        ")\n",
        "\n",
        "model.summary()\n",
        "\n",
        "#history = model.fit(X_train, y_train, epochs = 30, batch_size = 200, verbose = 2)\n",
        "\n",
        "#loss  = model.evaluate(X_test, y_test)\n",
        "#predictions = model.predict(X_test)\n",
        "\n",
        "#model.summary()\n"
      ],
      "execution_count": 0,
      "outputs": [
        {
          "output_type": "stream",
          "text": [
            "_________________________________________________________________\n",
            "Layer (type)                 Output Shape              Param #   \n",
            "=================================================================\n",
            "conv2d_1 (Conv2D)            (None, 358, 318, 32)      896       \n",
            "_________________________________________________________________\n",
            "max_pooling2d_1 (MaxPooling2 (None, 179, 159, 32)      0         \n",
            "_________________________________________________________________\n",
            "conv2d_2 (Conv2D)            (None, 177, 157, 64)      18496     \n",
            "_________________________________________________________________\n",
            "max_pooling2d_2 (MaxPooling2 (None, 88, 78, 64)        0         \n",
            "_________________________________________________________________\n",
            "conv2d_3 (Conv2D)            (None, 86, 76, 64)        36928     \n",
            "_________________________________________________________________\n",
            "max_pooling2d_3 (MaxPooling2 (None, 43, 38, 64)        0         \n",
            "_________________________________________________________________\n",
            "conv2d_4 (Conv2D)            (None, 39, 34, 64)        102464    \n",
            "_________________________________________________________________\n",
            "max_pooling2d_4 (MaxPooling2 (None, 19, 17, 64)        0         \n",
            "_________________________________________________________________\n",
            "conv2d_5 (Conv2D)            (None, 15, 13, 64)        102464    \n",
            "_________________________________________________________________\n",
            "max_pooling2d_5 (MaxPooling2 (None, 7, 6, 64)          0         \n",
            "_________________________________________________________________\n",
            "dropout_1 (Dropout)          (None, 7, 6, 64)          0         \n",
            "_________________________________________________________________\n",
            "flatten_1 (Flatten)          (None, 2688)              0         \n",
            "_________________________________________________________________\n",
            "dense_1 (Dense)              (None, 500)               1344500   \n",
            "_________________________________________________________________\n",
            "dense_2 (Dense)              (None, 200)               100200    \n",
            "_________________________________________________________________\n",
            "dense_3 (Dense)              (None, 2)                 402       \n",
            "=================================================================\n",
            "Total params: 1,706,350\n",
            "Trainable params: 1,706,350\n",
            "Non-trainable params: 0\n",
            "_________________________________________________________________\n"
          ],
          "name": "stdout"
        }
      ]
    },
    {
      "metadata": {
        "id": "AYe-2tdkctfd",
        "colab_type": "code",
        "outputId": "72322b98-727c-4357-bf15-979639bd457a",
        "colab": {
          "base_uri": "https://localhost:8080/",
          "height": 1020
        }
      },
      "cell_type": "code",
      "source": [
        "nb_epochs = 15\n",
        "batch_size = 15\n",
        "train_datagen = ImageDataGenerator(rescale=1./255,\n",
        "    shear_range=0.01,\n",
        "    zoom_range=0.01,\n",
        "    horizontal_flip=True,\n",
        "    validation_split=0.025) # set validation split\n",
        "\n",
        "train_generator = train_datagen.flow_from_directory(\n",
        "    'stitched_pic',\n",
        "    target_size=(360, 320),#width , height \n",
        "    batch_size=batch_size,\n",
        "    class_mode='binary',\n",
        "    subset='training') # set as training data\n",
        "\n",
        "validation_generator = train_datagen.flow_from_directory(\n",
        "    'stitched_pic', # same directory as training data\n",
        "    target_size=(360, 320),\n",
        "    batch_size=batch_size,\n",
        "    class_mode='binary',\n",
        "    subset='validation') # set as validation data\n",
        "\n",
        "model.fit_generator(\n",
        "    train_generator,\n",
        "    steps_per_epoch = train_generator.samples // batch_size,\n",
        "    validation_data = validation_generator, \n",
        "    validation_steps = validation_generator.samples // batch_size,\n",
        "    epochs = nb_epochs)\n",
        "\n",
        "model.save(\"stitched_result_5.h5\")"
      ],
      "execution_count": 0,
      "outputs": [
        {
          "output_type": "stream",
          "text": [
            "Found 3046 images belonging to 2 classes.\n",
            "Found 78 images belonging to 2 classes.\n",
            "Epoch 1/15\n",
            "203/203 [==============================] - 96s 474ms/step - loss: 0.6422 - acc: 0.5819 - val_loss: 0.3604 - val_acc: 0.8267\n",
            "Epoch 2/15\n",
            "203/203 [==============================] - 92s 454ms/step - loss: 0.2240 - acc: 0.9080 - val_loss: 0.2960 - val_acc: 0.9048\n",
            "Epoch 3/15\n",
            "203/203 [==============================] - 93s 457ms/step - loss: 0.1112 - acc: 0.9609 - val_loss: 0.0213 - val_acc: 1.0000\n",
            "Epoch 4/15\n",
            "203/203 [==============================] - 92s 451ms/step - loss: 0.0484 - acc: 0.9855 - val_loss: 0.0098 - val_acc: 1.0000\n",
            "Epoch 5/15\n",
            "203/203 [==============================] - 92s 451ms/step - loss: 0.0351 - acc: 0.9875 - val_loss: 0.0160 - val_acc: 0.9841\n",
            "Epoch 6/15\n",
            "203/203 [==============================] - 92s 452ms/step - loss: 0.0281 - acc: 0.9895 - val_loss: 0.0046 - val_acc: 1.0000\n",
            "Epoch 7/15\n",
            "203/203 [==============================] - 92s 455ms/step - loss: 0.0331 - acc: 0.9908 - val_loss: 2.0069e-04 - val_acc: 1.0000\n",
            "Epoch 8/15\n",
            "203/203 [==============================] - 93s 457ms/step - loss: 0.0210 - acc: 0.9941 - val_loss: 3.3640e-04 - val_acc: 1.0000\n",
            "Epoch 9/15\n",
            "203/203 [==============================] - 93s 456ms/step - loss: 0.0309 - acc: 0.9921 - val_loss: 0.0157 - val_acc: 0.9841\n",
            "Epoch 10/15\n",
            "203/203 [==============================] - 93s 457ms/step - loss: 0.0078 - acc: 0.9967 - val_loss: 0.0031 - val_acc: 1.0000\n",
            "Epoch 11/15\n",
            "203/203 [==============================] - 93s 457ms/step - loss: 0.0159 - acc: 0.9954 - val_loss: 1.4759e-07 - val_acc: 1.0000\n",
            "Epoch 12/15\n",
            "203/203 [==============================] - 93s 457ms/step - loss: 0.0435 - acc: 0.9859 - val_loss: 0.0024 - val_acc: 1.0000\n",
            "Epoch 13/15\n",
            "203/203 [==============================] - 93s 458ms/step - loss: 0.0097 - acc: 0.9964 - val_loss: 1.3272e-06 - val_acc: 1.0000\n",
            "Epoch 14/15\n",
            "203/203 [==============================] - 93s 456ms/step - loss: 0.0059 - acc: 0.9977 - val_loss: 1.3419e-04 - val_acc: 1.0000\n",
            "Epoch 15/15\n",
            "203/203 [==============================] - 93s 456ms/step - loss: 0.0746 - acc: 0.9764 - val_loss: 0.3492 - val_acc: 0.8571\n"
          ],
          "name": "stdout"
        }
      ]
    }
  ]
}