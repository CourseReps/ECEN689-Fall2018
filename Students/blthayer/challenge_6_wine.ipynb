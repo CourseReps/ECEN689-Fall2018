{
  "nbformat": 4,
  "nbformat_minor": 0,
  "metadata": {
    "colab": {
      "name": "challenge_6_wine.ipynb",
      "version": "0.3.2",
      "provenance": []
    },
    "kernelspec": {
      "name": "python3",
      "display_name": "Python 3"
    }
  },
  "cells": [
    {
      "metadata": {
        "id": "P2Brd4QYaClF",
        "colab_type": "text"
      },
      "cell_type": "markdown",
      "source": [
        "## Imports"
      ]
    },
    {
      "metadata": {
        "id": "Pjct-uh6Zql6",
        "colab_type": "code",
        "colab": {}
      },
      "cell_type": "code",
      "source": [
        "# https://medium.com/@move37timm/using-kaggle-api-for-google-colaboratory-d18645f93648\n",
        "from googleapiclient.discovery import build\n",
        "import io, os\n",
        "from googleapiclient.http import MediaIoBaseDownload\n",
        "from google.colab import auth, files\n",
        "\n",
        "import pandas as pd\n",
        "from sklearn.model_selection import train_test_split\n",
        "from sklearn.decomposition import PCA\n",
        "from sklearn.preprocessing import StandardScaler\n",
        "import tensorflow as tf\n",
        "from tensorflow import keras\n",
        "import numpy as np\n",
        "import matplotlib.pyplot as plt"
      ],
      "execution_count": 0,
      "outputs": []
    },
    {
      "metadata": {
        "id": "dOl3amq5aEw9",
        "colab_type": "text"
      },
      "cell_type": "markdown",
      "source": [
        "## Get Data"
      ]
    },
    {
      "metadata": {
        "id": "F-upKY0GZvlG",
        "colab_type": "code",
        "colab": {
          "base_uri": "https://localhost:8080/",
          "height": 272
        },
        "outputId": "b311b0e0-acba-4012-af2f-0c205b0fde95"
      },
      "cell_type": "code",
      "source": [
        "# Get data from kaggle\n",
        "# https://medium.com/@move37timm/using-kaggle-api-for-google-colaboratory-d18645f93648\n",
        "!pip install kaggle\n",
        "\n",
        "# Copy + pasted from medium article:\n",
        "\n",
        "auth.authenticate_user()\n",
        "\n",
        "drive_service = build('drive', 'v3')\n",
        "results = drive_service.files().list(\n",
        "        q=\"name = 'kaggle.json'\", fields=\"files(id)\").execute()\n",
        "kaggle_api_key = results.get('files', [])\n",
        "\n",
        "# Had to change this from /content to /root.\n",
        "filename = \"/root/.kaggle/kaggle.json\"\n",
        "os.makedirs(os.path.dirname(filename), exist_ok=True)\n",
        "\n",
        "request = drive_service.files().get_media(fileId=kaggle_api_key[0]['id'])\n",
        "fh = io.FileIO(filename, 'wb')\n",
        "downloader = MediaIoBaseDownload(fh, request)\n",
        "done = False\n",
        "while done is False:\n",
        "    status, done = downloader.next_chunk()\n",
        "    print(\"Download %d%%.\" % int(status.progress() * 100))\n",
        "os.chmod(filename, 600)\n",
        "\n",
        "# API call from Kaggle\n",
        "!kaggle competitions download -c wine-quality-linear-regression-2\n"
      ],
      "execution_count": 108,
      "outputs": [
        {
          "output_type": "stream",
          "text": [
            "Requirement already satisfied: kaggle in /usr/local/lib/python3.6/dist-packages (1.5.0)\n",
            "Requirement already satisfied: python-dateutil in /usr/local/lib/python3.6/dist-packages (from kaggle) (2.5.3)\n",
            "Requirement already satisfied: certifi in /usr/local/lib/python3.6/dist-packages (from kaggle) (2018.10.15)\n",
            "Requirement already satisfied: python-slugify in /usr/local/lib/python3.6/dist-packages (from kaggle) (1.2.6)\n",
            "Requirement already satisfied: tqdm in /usr/local/lib/python3.6/dist-packages (from kaggle) (4.28.1)\n",
            "Requirement already satisfied: six>=1.10 in /usr/local/lib/python3.6/dist-packages (from kaggle) (1.11.0)\n",
            "Requirement already satisfied: requests in /usr/local/lib/python3.6/dist-packages (from kaggle) (2.18.4)\n",
            "Requirement already satisfied: urllib3<1.23.0,>=1.15 in /usr/local/lib/python3.6/dist-packages (from kaggle) (1.22)\n",
            "Requirement already satisfied: Unidecode>=0.04.16 in /usr/local/lib/python3.6/dist-packages (from python-slugify->kaggle) (1.0.22)\n",
            "Requirement already satisfied: idna<2.7,>=2.5 in /usr/local/lib/python3.6/dist-packages (from requests->kaggle) (2.6)\n",
            "Requirement already satisfied: chardet<3.1.0,>=3.0.2 in /usr/local/lib/python3.6/dist-packages (from requests->kaggle) (3.0.4)\n",
            "Download 100%.\n",
            "winequality-white-sample.csv: Skipping, found more recently modified local copy (use --force to force download)\n",
            "winequality-white-testing.csv: Skipping, found more recently modified local copy (use --force to force download)\n",
            "winequality-white-training.csv: Skipping, found more recently modified local copy (use --force to force download)\n"
          ],
          "name": "stdout"
        }
      ]
    },
    {
      "metadata": {
        "id": "PHps9kF2aHs9",
        "colab_type": "text"
      },
      "cell_type": "markdown",
      "source": [
        "## Read, Scale, and Split Data"
      ]
    },
    {
      "metadata": {
        "id": "aRIDo6GIaHQs",
        "colab_type": "code",
        "colab": {
          "base_uri": "https://localhost:8080/",
          "height": 1190
        },
        "outputId": "b4dc5a12-e036-4e12-d7e7-6fb2e87536e3"
      },
      "cell_type": "code",
      "source": [
        "SEED=23409\n",
        "# Grab data.\n",
        "df_train = pd.read_csv('/content/winequality-white-training.csv', index_col=0)\n",
        "df_test = pd.read_csv('/content/winequality-white-testing.csv', index_col=0)\n",
        "df_sample = pd.read_csv('/content/winequality-white-sample.csv', index_col=0)\n",
        "\n",
        "print(df_train.shape)\n",
        "print(df_test.shape)\n",
        "print(df_train.head(10))\n",
        "print(df_train.describe())\n",
        "\n",
        "#for f in df_train.columns.drop('quality'):\n",
        "#  fig, ax = plt.subplots(1, 1)\n",
        "#  ax.boxplot(df_train[f], whis=[1, 99])\n",
        "#  ax.set_title(f)\n",
        "\n",
        "# Extract features and labels\n",
        "x = df_train.drop('quality', axis=1).values\n",
        "y = df_train['quality'].values\n",
        "\n",
        "# Scale data\n",
        "scaler = StandardScaler()\n",
        "scaler.fit(x)\n",
        "x_scaled = scaler.transform(x)\n",
        "\n",
        "# Split data.\n",
        "x_train, x_test, y_train, y_test = train_test_split(x_scaled, y, test_size=0.25,\n",
        "                                                    random_state=SEED)"
      ],
      "execution_count": 109,
      "outputs": [
        {
          "output_type": "stream",
          "text": [
            "(3898, 12)\n",
            "(1000, 11)\n",
            "    fixed acidity  volatile acidity  citric acid  residual sugar  chlorides  \\\n",
            "Id                                                                            \n",
            "0             8.7              0.23         0.32           13.40      0.044   \n",
            "1             5.0              0.27         0.40            1.20      0.076   \n",
            "2             8.0              0.16         0.36            1.50      0.033   \n",
            "3             5.8              0.28         0.35            2.30      0.053   \n",
            "4             7.1              0.14         0.33            1.00      0.104   \n",
            "5             7.5              0.30         0.21            6.55      0.026   \n",
            "6             6.6              0.41         0.27           10.70      0.110   \n",
            "7             6.2              0.30         0.32            1.20      0.052   \n",
            "8             6.8              0.23         0.32            1.60      0.026   \n",
            "9             6.8              0.22         0.31            1.40      0.053   \n",
            "\n",
            "    free sulfur dioxide  total sulfur dioxide  density    pH  sulphates  \\\n",
            "Id                                                                        \n",
            "0                  35.0                 169.0  0.99975  3.12       0.47   \n",
            "1                  42.0                 124.0  0.99204  3.32       0.47   \n",
            "2                  14.0                 122.0  0.99410  3.20       0.39   \n",
            "3                  36.0                 114.0  0.99240  3.28       0.50   \n",
            "4                  20.0                  54.0  0.99057  3.19       0.64   \n",
            "5                  33.0                 143.0  0.99244  2.92       0.35   \n",
            "6                  20.0                 103.0  0.99672  3.08       0.41   \n",
            "7                  32.0                 185.0  0.99266  3.28       0.44   \n",
            "8                  43.0                 147.0  0.99040  3.29       0.54   \n",
            "9                  34.0                 114.0  0.99290  3.39       0.77   \n",
            "\n",
            "    alcohol  quality  \n",
            "Id                    \n",
            "0       8.8        7  \n",
            "1      10.1        6  \n",
            "2      10.3        4  \n",
            "3      10.2        4  \n",
            "4      11.5        6  \n",
            "5      11.1        5  \n",
            "6       9.0        6  \n",
            "7      10.1        5  \n",
            "8      12.5        6  \n",
            "9      10.6        6  \n",
            "       fixed acidity  volatile acidity  citric acid  residual sugar  \\\n",
            "count    3898.000000       3898.000000  3898.000000     3898.000000   \n",
            "mean        6.847524          0.277910     0.334477        6.353861   \n",
            "std         0.839842          0.100415     0.122307        5.097633   \n",
            "min         3.800000          0.080000     0.000000        0.600000   \n",
            "25%         6.300000          0.210000     0.270000        1.700000   \n",
            "50%         6.800000          0.260000     0.320000        5.100000   \n",
            "75%         7.300000          0.320000     0.390000        9.800000   \n",
            "max        11.800000          0.965000     1.660000       65.800000   \n",
            "\n",
            "         chlorides  free sulfur dioxide  total sulfur dioxide      density  \\\n",
            "count  3898.000000          3898.000000           3898.000000  3898.000000   \n",
            "mean      0.045715            35.352617            138.201001     0.994000   \n",
            "std       0.021816            16.993282             42.788058     0.003011   \n",
            "min       0.009000             2.000000              9.000000     0.987110   \n",
            "25%       0.036000            23.125000            108.000000     0.991700   \n",
            "50%       0.043000            34.000000            134.000000     0.993700   \n",
            "75%       0.050000            46.000000            167.000000     0.996090   \n",
            "max       0.346000           289.000000            440.000000     1.038980   \n",
            "\n",
            "                pH    sulphates      alcohol      quality  \n",
            "count  3898.000000  3898.000000  3898.000000  3898.000000  \n",
            "mean      3.188923     0.489818    10.524587     5.879682  \n",
            "std       0.151871     0.114832     1.225757     0.883308  \n",
            "min       2.720000     0.220000     8.000000     3.000000  \n",
            "25%       3.090000     0.410000     9.500000     5.000000  \n",
            "50%       3.180000     0.470000    10.400000     6.000000  \n",
            "75%       3.280000     0.550000    11.400000     6.000000  \n",
            "max       3.820000     1.080000    14.200000     9.000000  \n"
          ],
          "name": "stdout"
        }
      ]
    },
    {
      "metadata": {
        "id": "NntS2FuGhpSa",
        "colab_type": "text"
      },
      "cell_type": "markdown",
      "source": [
        "## Train and Test Network"
      ]
    },
    {
      "metadata": {
        "id": "piCvd1L1hpAB",
        "colab_type": "code",
        "colab": {
          "base_uri": "https://localhost:8080/",
          "height": 2363
        },
        "outputId": "25326373-ea7b-4191-b022-6d7f1ef0c94a"
      },
      "cell_type": "code",
      "source": [
        "# model = keras.Sequential([\n",
        "#   keras.layers.Dense(x.shape[1], input_shape=(x.shape[1],)),\n",
        "#   keras.layers.PReLU(),\n",
        "#   keras.layers.Dense(64),\n",
        "#   keras.layers.PReLU(),\n",
        "#   keras.layers.Dense(32),\n",
        "#   keras.layers.PReLU(),\n",
        "#   #keras.layers.Dense(x.shape[1], activation=tf.nn.relu),\n",
        "#   keras.layers.Dense(1)\n",
        "# ])\n",
        "\n",
        "model = keras.Sequential([\n",
        "  #keras.layers.Dense(x.shape[1], input_shape=(x.shape[1],)), # Linear activation\n",
        "  keras.layers.Dense(8, activation=tf.nn.relu, input_shape=(x.shape[1],)),\n",
        "  keras.layers.Dense(4, activation=tf.nn.relu),\n",
        "  #keras.layers.Dense(x.shape[1], activation=tf.nn.relu),\n",
        "  keras.layers.Dense(1)\n",
        "])\n",
        "\n",
        "optimizer = tf.train.RMSPropOptimizer(0.001)\n",
        "model.compile(loss='mse', optimizer=optimizer, metrics=['mse'])\n",
        "early_stop = keras.callbacks.EarlyStopping(monitor='val_mean_squared_error',\n",
        "                                           patience=7)\n",
        "\n",
        "model.fit(x_train, y_train, epochs=200, callbacks=[early_stop],\n",
        "          validation_data=(x_test, y_test))"
      ],
      "execution_count": 110,
      "outputs": [
        {
          "output_type": "stream",
          "text": [
            "Train on 2923 samples, validate on 975 samples\n",
            "Epoch 1/200\n",
            "2923/2923 [==============================] - 4s 1ms/step - loss: 35.2647 - mean_squared_error: 35.2647 - val_loss: 30.4623 - val_mean_squared_error: 30.4623\n",
            "Epoch 2/200\n",
            "2923/2923 [==============================] - 1s 256us/step - loss: 26.8649 - mean_squared_error: 26.8649 - val_loss: 22.1932 - val_mean_squared_error: 22.1932\n",
            "Epoch 3/200\n",
            "2923/2923 [==============================] - 1s 238us/step - loss: 18.4480 - mean_squared_error: 18.4480 - val_loss: 14.0245 - val_mean_squared_error: 14.0245\n",
            "Epoch 4/200\n",
            "2923/2923 [==============================] - 1s 240us/step - loss: 10.6449 - mean_squared_error: 10.6449 - val_loss: 7.3360 - val_mean_squared_error: 7.3360\n",
            "Epoch 5/200\n",
            "2923/2923 [==============================] - 1s 270us/step - loss: 5.4446 - mean_squared_error: 5.4446 - val_loss: 4.1463 - val_mean_squared_error: 4.1463\n",
            "Epoch 6/200\n",
            "2923/2923 [==============================] - 1s 307us/step - loss: 3.4473 - mean_squared_error: 3.4473 - val_loss: 2.9285 - val_mean_squared_error: 2.9285\n",
            "Epoch 7/200\n",
            "2923/2923 [==============================] - 1s 237us/step - loss: 2.5367 - mean_squared_error: 2.5367 - val_loss: 2.1773 - val_mean_squared_error: 2.1773\n",
            "Epoch 8/200\n",
            "2923/2923 [==============================] - 1s 252us/step - loss: 1.9726 - mean_squared_error: 1.9726 - val_loss: 1.7095 - val_mean_squared_error: 1.7095\n",
            "Epoch 9/200\n",
            "2923/2923 [==============================] - 1s 309us/step - loss: 1.6198 - mean_squared_error: 1.6198 - val_loss: 1.3949 - val_mean_squared_error: 1.3949\n",
            "Epoch 10/200\n",
            "2923/2923 [==============================] - 1s 229us/step - loss: 1.3776 - mean_squared_error: 1.3776 - val_loss: 1.1916 - val_mean_squared_error: 1.1916\n",
            "Epoch 11/200\n",
            "2923/2923 [==============================] - 1s 331us/step - loss: 1.2018 - mean_squared_error: 1.2018 - val_loss: 1.0412 - val_mean_squared_error: 1.0412\n",
            "Epoch 12/200\n",
            "2923/2923 [==============================] - 1s 225us/step - loss: 1.0650 - mean_squared_error: 1.0650 - val_loss: 0.9189 - val_mean_squared_error: 0.9189\n",
            "Epoch 13/200\n",
            "2923/2923 [==============================] - 1s 260us/step - loss: 0.9666 - mean_squared_error: 0.9666 - val_loss: 0.8431 - val_mean_squared_error: 0.8431\n",
            "Epoch 14/200\n",
            "2923/2923 [==============================] - 1s 231us/step - loss: 0.8851 - mean_squared_error: 0.8851 - val_loss: 0.7726 - val_mean_squared_error: 0.7726\n",
            "Epoch 15/200\n",
            "2923/2923 [==============================] - 1s 202us/step - loss: 0.8196 - mean_squared_error: 0.8196 - val_loss: 0.7196 - val_mean_squared_error: 0.7196\n",
            "Epoch 16/200\n",
            "2923/2923 [==============================] - 1s 232us/step - loss: 0.7685 - mean_squared_error: 0.7685 - val_loss: 0.6990 - val_mean_squared_error: 0.6990\n",
            "Epoch 17/200\n",
            "2923/2923 [==============================] - 1s 226us/step - loss: 0.7290 - mean_squared_error: 0.7290 - val_loss: 0.6492 - val_mean_squared_error: 0.6492\n",
            "Epoch 18/200\n",
            "2923/2923 [==============================] - 1s 271us/step - loss: 0.6993 - mean_squared_error: 0.6993 - val_loss: 0.6428 - val_mean_squared_error: 0.6428\n",
            "Epoch 19/200\n",
            "2923/2923 [==============================] - 1s 277us/step - loss: 0.6785 - mean_squared_error: 0.6785 - val_loss: 0.6071 - val_mean_squared_error: 0.6071\n",
            "Epoch 20/200\n",
            "2923/2923 [==============================] - 1s 328us/step - loss: 0.6600 - mean_squared_error: 0.6600 - val_loss: 0.5889 - val_mean_squared_error: 0.5889\n",
            "Epoch 21/200\n",
            "2923/2923 [==============================] - 1s 306us/step - loss: 0.6457 - mean_squared_error: 0.6457 - val_loss: 0.5837 - val_mean_squared_error: 0.5837\n",
            "Epoch 22/200\n",
            "2923/2923 [==============================] - 1s 287us/step - loss: 0.6338 - mean_squared_error: 0.6338 - val_loss: 0.5712 - val_mean_squared_error: 0.5712\n",
            "Epoch 23/200\n",
            "2923/2923 [==============================] - 1s 253us/step - loss: 0.6234 - mean_squared_error: 0.6234 - val_loss: 0.5702 - val_mean_squared_error: 0.5702\n",
            "Epoch 24/200\n",
            "2923/2923 [==============================] - 1s 322us/step - loss: 0.6155 - mean_squared_error: 0.6155 - val_loss: 0.5494 - val_mean_squared_error: 0.5494\n",
            "Epoch 25/200\n",
            "2923/2923 [==============================] - 1s 297us/step - loss: 0.6055 - mean_squared_error: 0.6055 - val_loss: 0.5446 - val_mean_squared_error: 0.5446\n",
            "Epoch 26/200\n",
            "2923/2923 [==============================] - 1s 232us/step - loss: 0.5984 - mean_squared_error: 0.5984 - val_loss: 0.5414 - val_mean_squared_error: 0.5414\n",
            "Epoch 27/200\n",
            "2923/2923 [==============================] - 1s 228us/step - loss: 0.5917 - mean_squared_error: 0.5917 - val_loss: 0.5430 - val_mean_squared_error: 0.5430\n",
            "Epoch 28/200\n",
            "2923/2923 [==============================] - 1s 232us/step - loss: 0.5852 - mean_squared_error: 0.5852 - val_loss: 0.5282 - val_mean_squared_error: 0.5282\n",
            "Epoch 29/200\n",
            "2923/2923 [==============================] - 1s 353us/step - loss: 0.5755 - mean_squared_error: 0.5755 - val_loss: 0.5277 - val_mean_squared_error: 0.5277\n",
            "Epoch 30/200\n",
            "2923/2923 [==============================] - 1s 245us/step - loss: 0.5711 - mean_squared_error: 0.5711 - val_loss: 0.5287 - val_mean_squared_error: 0.5287\n",
            "Epoch 31/200\n",
            "2923/2923 [==============================] - 1s 239us/step - loss: 0.5665 - mean_squared_error: 0.5665 - val_loss: 0.5232 - val_mean_squared_error: 0.5232\n",
            "Epoch 32/200\n",
            "2923/2923 [==============================] - 1s 271us/step - loss: 0.5594 - mean_squared_error: 0.5594 - val_loss: 0.5187 - val_mean_squared_error: 0.5187\n",
            "Epoch 33/200\n",
            "2923/2923 [==============================] - 1s 275us/step - loss: 0.5584 - mean_squared_error: 0.5584 - val_loss: 0.5142 - val_mean_squared_error: 0.5142\n",
            "Epoch 34/200\n",
            "2923/2923 [==============================] - 1s 252us/step - loss: 0.5535 - mean_squared_error: 0.5535 - val_loss: 0.5073 - val_mean_squared_error: 0.5073\n",
            "Epoch 35/200\n",
            "2923/2923 [==============================] - 1s 324us/step - loss: 0.5512 - mean_squared_error: 0.5512 - val_loss: 0.5038 - val_mean_squared_error: 0.5038\n",
            "Epoch 36/200\n",
            "2923/2923 [==============================] - 1s 241us/step - loss: 0.5480 - mean_squared_error: 0.5480 - val_loss: 0.5015 - val_mean_squared_error: 0.5015\n",
            "Epoch 37/200\n",
            "2923/2923 [==============================] - 1s 273us/step - loss: 0.5444 - mean_squared_error: 0.5444 - val_loss: 0.4969 - val_mean_squared_error: 0.4969\n",
            "Epoch 38/200\n",
            "2923/2923 [==============================] - 1s 259us/step - loss: 0.5409 - mean_squared_error: 0.5409 - val_loss: 0.5021 - val_mean_squared_error: 0.5021\n",
            "Epoch 39/200\n",
            "2923/2923 [==============================] - 1s 293us/step - loss: 0.5383 - mean_squared_error: 0.5383 - val_loss: 0.4921 - val_mean_squared_error: 0.4921\n",
            "Epoch 40/200\n",
            "2923/2923 [==============================] - 1s 284us/step - loss: 0.5369 - mean_squared_error: 0.5369 - val_loss: 0.4921 - val_mean_squared_error: 0.4921\n",
            "Epoch 41/200\n",
            "2923/2923 [==============================] - 1s 254us/step - loss: 0.5343 - mean_squared_error: 0.5343 - val_loss: 0.4907 - val_mean_squared_error: 0.4907\n",
            "Epoch 42/200\n",
            "2923/2923 [==============================] - 1s 305us/step - loss: 0.5315 - mean_squared_error: 0.5315 - val_loss: 0.4925 - val_mean_squared_error: 0.4925\n",
            "Epoch 43/200\n",
            "2923/2923 [==============================] - 1s 229us/step - loss: 0.5319 - mean_squared_error: 0.5319 - val_loss: 0.4915 - val_mean_squared_error: 0.4915\n",
            "Epoch 44/200\n",
            "2923/2923 [==============================] - 1s 273us/step - loss: 0.5288 - mean_squared_error: 0.5288 - val_loss: 0.4948 - val_mean_squared_error: 0.4948\n",
            "Epoch 45/200\n",
            "2923/2923 [==============================] - 1s 292us/step - loss: 0.5289 - mean_squared_error: 0.5289 - val_loss: 0.4913 - val_mean_squared_error: 0.4913\n",
            "Epoch 46/200\n",
            "2923/2923 [==============================] - 1s 281us/step - loss: 0.5260 - mean_squared_error: 0.5260 - val_loss: 0.4913 - val_mean_squared_error: 0.4913\n",
            "Epoch 47/200\n",
            "2923/2923 [==============================] - 1s 278us/step - loss: 0.5247 - mean_squared_error: 0.5247 - val_loss: 0.4872 - val_mean_squared_error: 0.4872\n",
            "Epoch 48/200\n",
            "2923/2923 [==============================] - 1s 304us/step - loss: 0.5236 - mean_squared_error: 0.5236 - val_loss: 0.4874 - val_mean_squared_error: 0.4874\n",
            "Epoch 49/200\n",
            "2923/2923 [==============================] - 1s 289us/step - loss: 0.5213 - mean_squared_error: 0.5213 - val_loss: 0.4921 - val_mean_squared_error: 0.4921\n",
            "Epoch 50/200\n",
            "2923/2923 [==============================] - 1s 214us/step - loss: 0.5219 - mean_squared_error: 0.5219 - val_loss: 0.4864 - val_mean_squared_error: 0.4864\n",
            "Epoch 51/200\n",
            "2923/2923 [==============================] - 1s 272us/step - loss: 0.5212 - mean_squared_error: 0.5212 - val_loss: 0.4850 - val_mean_squared_error: 0.4850\n",
            "Epoch 52/200\n",
            "2923/2923 [==============================] - 1s 242us/step - loss: 0.5187 - mean_squared_error: 0.5187 - val_loss: 0.4864 - val_mean_squared_error: 0.4864\n",
            "Epoch 53/200\n",
            "2923/2923 [==============================] - 1s 223us/step - loss: 0.5180 - mean_squared_error: 0.5180 - val_loss: 0.4863 - val_mean_squared_error: 0.4863\n",
            "Epoch 54/200\n",
            "2923/2923 [==============================] - 1s 239us/step - loss: 0.5178 - mean_squared_error: 0.5178 - val_loss: 0.4862 - val_mean_squared_error: 0.4862\n",
            "Epoch 55/200\n",
            "2923/2923 [==============================] - 1s 231us/step - loss: 0.5178 - mean_squared_error: 0.5178 - val_loss: 0.4858 - val_mean_squared_error: 0.4858\n",
            "Epoch 56/200\n",
            "2923/2923 [==============================] - 1s 257us/step - loss: 0.5162 - mean_squared_error: 0.5162 - val_loss: 0.4851 - val_mean_squared_error: 0.4851\n",
            "Epoch 57/200\n",
            "2923/2923 [==============================] - 1s 219us/step - loss: 0.5134 - mean_squared_error: 0.5134 - val_loss: 0.4846 - val_mean_squared_error: 0.4846\n",
            "Epoch 58/200\n",
            "2923/2923 [==============================] - 1s 228us/step - loss: 0.5155 - mean_squared_error: 0.5155 - val_loss: 0.4872 - val_mean_squared_error: 0.4872\n",
            "Epoch 59/200\n",
            "2923/2923 [==============================] - 1s 241us/step - loss: 0.5143 - mean_squared_error: 0.5143 - val_loss: 0.4949 - val_mean_squared_error: 0.4949\n",
            "Epoch 60/200\n",
            "2923/2923 [==============================] - 1s 234us/step - loss: 0.5139 - mean_squared_error: 0.5139 - val_loss: 0.4865 - val_mean_squared_error: 0.4865\n",
            "Epoch 61/200\n",
            "2923/2923 [==============================] - 1s 286us/step - loss: 0.5128 - mean_squared_error: 0.5128 - val_loss: 0.4829 - val_mean_squared_error: 0.4829\n",
            "Epoch 62/200\n",
            "2923/2923 [==============================] - 1s 268us/step - loss: 0.5128 - mean_squared_error: 0.5128 - val_loss: 0.4840 - val_mean_squared_error: 0.4840\n",
            "Epoch 63/200\n",
            "2923/2923 [==============================] - 1s 300us/step - loss: 0.5115 - mean_squared_error: 0.5115 - val_loss: 0.4865 - val_mean_squared_error: 0.4865\n",
            "Epoch 64/200\n",
            "2923/2923 [==============================] - 1s 272us/step - loss: 0.5122 - mean_squared_error: 0.5122 - val_loss: 0.4833 - val_mean_squared_error: 0.4833\n",
            "Epoch 65/200\n",
            "2923/2923 [==============================] - 1s 229us/step - loss: 0.5106 - mean_squared_error: 0.5106 - val_loss: 0.4866 - val_mean_squared_error: 0.4866\n",
            "Epoch 66/200\n",
            "2923/2923 [==============================] - 1s 253us/step - loss: 0.5111 - mean_squared_error: 0.5111 - val_loss: 0.4831 - val_mean_squared_error: 0.4831\n",
            "Epoch 67/200\n",
            "2923/2923 [==============================] - 1s 220us/step - loss: 0.5103 - mean_squared_error: 0.5103 - val_loss: 0.4868 - val_mean_squared_error: 0.4868\n",
            "Epoch 68/200\n",
            "2923/2923 [==============================] - 1s 279us/step - loss: 0.5095 - mean_squared_error: 0.5095 - val_loss: 0.4862 - val_mean_squared_error: 0.4862\n"
          ],
          "name": "stdout"
        },
        {
          "output_type": "execute_result",
          "data": {
            "text/plain": [
              "<tensorflow.python.keras.callbacks.History at 0x7f71aae9d588>"
            ]
          },
          "metadata": {
            "tags": []
          },
          "execution_count": 110
        }
      ]
    },
    {
      "metadata": {
        "id": "-wIGhBunoCBQ",
        "colab_type": "code",
        "colab": {
          "base_uri": "https://localhost:8080/",
          "height": 34
        },
        "outputId": "ce20ba41-dcbb-4b07-ebd6-3f15908afadd"
      },
      "cell_type": "code",
      "source": [
        "# 0.52: Two dense layers, 64 neurons each (0.71 Kaggle score)\n",
        "# 0.45: Add input layer, two dense, 64 neurons each (0.77 Kaggle score)\n",
        "# 0.48: Same as above, reduced to 32 neurons per layer\n",
        "# 0.45: Input layer, 32, 16\n",
        "# 0.47: Input layer, 32\n",
        "# 0.49: Input, 32, 16, 11\n",
        "# 0.49: Input layer, 32, 16, upped patience to 5\n",
        "# 0.48: Changed activations to PReLU, input, 32, 16, 1 (Kaggle score 0.754)\n",
        "# 0.54: PReLU, input, 64, 32, 1 (maybe worth submitting, wine_054)\n",
        "# 0.58: PReLU, input (linear), 64, 32, 1\n",
        "# 0.51: relu, input (linear), 64, 32, 1 (maybe worth submitting, wine_051)\n",
        "# 0.56: relu, input (linear), 32, 32, 1\n",
        "# 0.47: relu, no linear input, 32, 16, 1 (maybe worth submitting, wine_047)\n",
        "# 0.48: relu, no linear input, 16, 8, 1 (maybe worth submitting, wine_048)\n",
        "# 0.47: relu, no linear input, 8, 4, 1 (maybe worth submitting, wine_047_2)\n",
        "# 0.49: relu, no linear input, 8, 4, 1, patience for retrain @ 3 (wine_049)\n",
        "#       scored 0.75397 on Kaggle\n",
        "[loss, mse] = model.evaluate(x_test, y_test, verbose=0)\n",
        "\n",
        "print(\"Testing set Mean Squared Error: {:.2f}\".format(mse))"
      ],
      "execution_count": 111,
      "outputs": [
        {
          "output_type": "stream",
          "text": [
            "Testing set Mean Squared Error: 0.49\n"
          ],
          "name": "stdout"
        }
      ]
    },
    {
      "metadata": {
        "id": "rJWIMdYJi5oh",
        "colab_type": "text"
      },
      "cell_type": "markdown",
      "source": [
        "## Retrain, Predict, Write Output"
      ]
    },
    {
      "metadata": {
        "id": "7q3w3YnxiBSp",
        "colab_type": "code",
        "colab": {
          "base_uri": "https://localhost:8080/",
          "height": 663
        },
        "outputId": "3c959416-b3e0-454a-87f9-bf2c2de730f7"
      },
      "cell_type": "code",
      "source": [
        "early_stop = keras.callbacks.EarlyStopping(monitor='mean_squared_error',\n",
        "                                           patience=3)\n",
        "model.fit(x_scaled, y, epochs=200, callbacks=[early_stop])\n",
        "y_test = model.predict(scaler.transform(df_test.values))\n",
        "# print(y_test[0:5,:])\n",
        "df_sample['quality'] = y_test\n",
        "df_sample.to_csv('wine.csv')\n",
        "files.download('wine.csv')"
      ],
      "execution_count": 112,
      "outputs": [
        {
          "output_type": "stream",
          "text": [
            "Epoch 1/200\n",
            "3898/3898 [==============================] - 1s 238us/step - loss: 0.5043 - mean_squared_error: 0.5043\n",
            "Epoch 2/200\n",
            "3898/3898 [==============================] - 1s 244us/step - loss: 0.5019 - mean_squared_error: 0.5019\n",
            "Epoch 3/200\n",
            "3898/3898 [==============================] - 1s 197us/step - loss: 0.5011 - mean_squared_error: 0.5011\n",
            "Epoch 4/200\n",
            "3898/3898 [==============================] - 1s 216us/step - loss: 0.5000 - mean_squared_error: 0.5000\n",
            "Epoch 5/200\n",
            "3898/3898 [==============================] - 1s 223us/step - loss: 0.5001 - mean_squared_error: 0.5001\n",
            "Epoch 6/200\n",
            "3898/3898 [==============================] - 1s 261us/step - loss: 0.4997 - mean_squared_error: 0.4997\n",
            "Epoch 7/200\n",
            "3898/3898 [==============================] - 1s 159us/step - loss: 0.4987 - mean_squared_error: 0.4987\n",
            "Epoch 8/200\n",
            "3898/3898 [==============================] - 1s 213us/step - loss: 0.4969 - mean_squared_error: 0.4969\n",
            "Epoch 9/200\n",
            "3898/3898 [==============================] - 1s 216us/step - loss: 0.4987 - mean_squared_error: 0.4987\n",
            "Epoch 10/200\n",
            "3898/3898 [==============================] - 1s 166us/step - loss: 0.4972 - mean_squared_error: 0.4972\n",
            "Epoch 11/200\n",
            "3898/3898 [==============================] - 1s 198us/step - loss: 0.4968 - mean_squared_error: 0.4968\n",
            "Epoch 12/200\n",
            "3898/3898 [==============================] - 1s 185us/step - loss: 0.4972 - mean_squared_error: 0.4972\n",
            "Epoch 13/200\n",
            "3898/3898 [==============================] - 1s 241us/step - loss: 0.4964 - mean_squared_error: 0.4964\n",
            "Epoch 14/200\n",
            "3898/3898 [==============================] - 1s 192us/step - loss: 0.4961 - mean_squared_error: 0.4961\n",
            "Epoch 15/200\n",
            "3898/3898 [==============================] - 1s 226us/step - loss: 0.4950 - mean_squared_error: 0.4950\n",
            "Epoch 16/200\n",
            "3898/3898 [==============================] - 1s 165us/step - loss: 0.4942 - mean_squared_error: 0.4942\n",
            "Epoch 17/200\n",
            "3898/3898 [==============================] - 1s 211us/step - loss: 0.4949 - mean_squared_error: 0.4949\n",
            "Epoch 18/200\n",
            "3898/3898 [==============================] - 1s 203us/step - loss: 0.4954 - mean_squared_error: 0.4954\n",
            "Epoch 19/200\n",
            "3898/3898 [==============================] - 1s 197us/step - loss: 0.4960 - mean_squared_error: 0.4960\n"
          ],
          "name": "stdout"
        }
      ]
    }
  ]
}