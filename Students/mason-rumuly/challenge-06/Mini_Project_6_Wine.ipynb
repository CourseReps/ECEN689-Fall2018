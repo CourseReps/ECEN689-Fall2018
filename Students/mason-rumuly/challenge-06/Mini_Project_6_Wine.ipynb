{
  "nbformat": 4,
  "nbformat_minor": 0,
  "metadata": {
    "colab": {
      "name": "Mini Project 6 - Wine.ipynb",
      "version": "0.3.2",
      "provenance": [],
      "collapsed_sections": []
    },
    "kernelspec": {
      "name": "python3",
      "display_name": "Python 3"
    },
    "accelerator": "GPU"
  },
  "cells": [
    {
      "metadata": {
        "id": "oNgCXt590oVB",
        "colab_type": "text"
      },
      "cell_type": "markdown",
      "source": [
        "# Mini Project 6\n",
        "\n",
        "Exploring Neural Networks and Learning Google Collab\n",
        "\n",
        "## Wine Quality Regression"
      ]
    },
    {
      "metadata": {
        "id": "NuTvwB4z0WES",
        "colab_type": "code",
        "colab": {}
      },
      "cell_type": "code",
      "source": [
        "# imports and set-up for session\n",
        "\n",
        "import tensorflow as tf\n",
        "import pandas as pd\n",
        "import numpy as np\n",
        "import matplotlib.pyplot as plt\n",
        "\n",
        "from sklearn.model_selection import StratifiedShuffleSplit\n",
        "from sklearn.metrics import mean_squared_error"
      ],
      "execution_count": 0,
      "outputs": []
    },
    {
      "metadata": {
        "id": "Fx_CKkLK1Cwp",
        "colab_type": "text"
      },
      "cell_type": "markdown",
      "source": [
        "## Kaggle Setup and Load Files from API"
      ]
    },
    {
      "metadata": {
        "id": "kToFBJlM1Cce",
        "colab_type": "code",
        "colab": {
          "resources": {
            "http://localhost:8080/nbextensions/google.colab/files.js": {
              "data": "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",
              "ok": true,
              "headers": [
                [
                  "content-type",
                  "application/javascript"
                ]
              ],
              "status": 200,
              "status_text": "OK"
            }
          },
          "base_uri": "https://localhost:8080/",
          "height": 295
        },
        "outputId": "5f241d05-608d-45e7-9264-eafca5e1b896"
      },
      "cell_type": "code",
      "source": [
        "# Upload API key from local drive\n",
        "from google.colab import files\n",
        "files.upload()\n",
        "\n",
        "# Kaggle API install\n",
        "!pip install -q kaggle\n",
        "!mkdir -p ~/.kaggle\n",
        "!mv kaggle.json ~/.kaggle/\n",
        "!chmod 600 /root/.kaggle/kaggle.json\n",
        "\n",
        "# Download files\n",
        "!mkdir wine\n",
        "%cd wine\n",
        "!kaggle competitions download -c wine-quality-linear-regression-2\n",
        "!ls"
      ],
      "execution_count": 2,
      "outputs": [
        {
          "output_type": "display_data",
          "data": {
            "text/html": [
              "\n",
              "     <input type=\"file\" id=\"files-e7054f2d-f68d-4065-85b4-42a9890c6af1\" name=\"files[]\" multiple disabled />\n",
              "     <output id=\"result-e7054f2d-f68d-4065-85b4-42a9890c6af1\">\n",
              "      Upload widget is only available when the cell has been executed in the\n",
              "      current browser session. Please rerun this cell to enable.\n",
              "      </output>\n",
              "      <script src=\"/nbextensions/google.colab/files.js\"></script> "
            ],
            "text/plain": [
              "<IPython.core.display.HTML object>"
            ]
          },
          "metadata": {
            "tags": []
          }
        },
        {
          "output_type": "stream",
          "text": [
            "Saving kaggle.json to kaggle.json\n",
            "/content/wine\n",
            "Downloading winequality-white-sample.csv to /content/wine\n",
            "  0% 0.00/6.74k [00:00<?, ?B/s]\n",
            "100% 6.74k/6.74k [00:00<00:00, 4.65MB/s]\n",
            "Downloading winequality-white-testing.csv to /content/wine\n",
            "  0% 0.00/55.7k [00:00<?, ?B/s]\n",
            "100% 55.7k/55.7k [00:00<00:00, 39.9MB/s]\n",
            "Downloading winequality-white-training.csv to /content/wine\n",
            "  0% 0.00/227k [00:00<?, ?B/s]\n",
            "100% 227k/227k [00:00<00:00, 72.3MB/s]\n",
            "winequality-white-sample.csv   winequality-white-training.csv\n",
            "winequality-white-testing.csv\n"
          ],
          "name": "stdout"
        }
      ]
    },
    {
      "metadata": {
        "id": "q7-YhzCQ2JKb",
        "colab_type": "text"
      },
      "cell_type": "markdown",
      "source": [
        "## Load Training Set"
      ]
    },
    {
      "metadata": {
        "id": "0xaOQhQ70vla",
        "colab_type": "code",
        "colab": {}
      },
      "cell_type": "code",
      "source": [
        "training = pd.read_csv('winequality-white-training.csv', index_col=0).dropna()\n",
        "train_X = training.drop('quality',axis=1).values\n",
        "train_y = training['quality'].values"
      ],
      "execution_count": 0,
      "outputs": []
    },
    {
      "metadata": {
        "id": "i3jYj4N43daO",
        "colab_type": "code",
        "colab": {}
      },
      "cell_type": "code",
      "source": [
        "# normalize\n",
        "norm_fac = np.max(train_X, axis=0).reshape(1, -1)\n",
        "train_X /= norm_fac"
      ],
      "execution_count": 0,
      "outputs": []
    },
    {
      "metadata": {
        "id": "xovbfO4I36QT",
        "colab_type": "text"
      },
      "cell_type": "markdown",
      "source": [
        "## Define Tensorflow Network"
      ]
    },
    {
      "metadata": {
        "id": "W1jE-TO33-39",
        "colab_type": "code",
        "colab": {}
      },
      "cell_type": "code",
      "source": [
        "def make_model_regression(learning_rate=0.0001):\n",
        "  model = tf.keras.Sequential([\n",
        "    tf.keras.layers.GaussianNoise(0.1),\n",
        "    tf.keras.layers.Dense(640, activation=tf.nn.relu),\n",
        "    tf.keras.layers.Dense(640, activation=tf.nn.relu),\n",
        "    tf.keras.layers.GaussianDropout(0.1),\n",
        "    tf.keras.layers.Dense(160, activation=tf.nn.relu),\n",
        "    tf.keras.layers.Dense(160, activation=tf.nn.relu),\n",
        "    tf.keras.layers.GaussianDropout(0.1),\n",
        "    tf.keras.layers.Dense(40, activation=tf.nn.relu),\n",
        "    tf.keras.layers.Dense(40, activation=tf.nn.relu),\n",
        "#     tf.keras.layers.GaussianDropout(0.1),\n",
        "    tf.keras.layers.Dense(1, activation=tf.nn.relu)\n",
        "  ])\n",
        "  model.compile(\n",
        "    optimizer=tf.keras.optimizers.Nadam(lr=learning_rate),\n",
        "    loss='mean_squared_error'\n",
        "#     metrics=['accuracy']\n",
        "  )\n",
        "  return model"
      ],
      "execution_count": 0,
      "outputs": []
    },
    {
      "metadata": {
        "id": "6oAjA4K77tMP",
        "colab_type": "text"
      },
      "cell_type": "markdown",
      "source": [
        "## Validate Model"
      ]
    },
    {
      "metadata": {
        "id": "OsXNVh9Z78V1",
        "colab_type": "code",
        "colab": {}
      },
      "cell_type": "code",
      "source": [
        "def regression_cross_val_score(\n",
        "  estimator,\n",
        "  X,\n",
        "  y,\n",
        "  cv=10,\n",
        "  scoring=None,\n",
        "  fit_params={},\n",
        "  convert=lambda x:x\n",
        "):\n",
        "  # annealer\n",
        "  lr_annealing = tf.keras.callbacks.ReduceLROnPlateau(\n",
        "      monitor='loss', patience=3, factor=0.5, min_lr=0.000001)\n",
        "  \n",
        "  score = 0\n",
        "  for train, test in StratifiedShuffleSplit(cv).split(X,y):\n",
        "    model = estimator()\n",
        "    tf.random.set_random_seed(5)\n",
        "    model.fit(\n",
        "        X[train], \n",
        "        y[train], \n",
        "        validation_data=(X[test], y[test]),\n",
        "        callbacks=[lr_annealing],\n",
        "        **fit_params\n",
        "    )\n",
        "    s_part = mean_squared_error(y[test], convert(model.predict(X[test])))\n",
        "    print(np.sqrt(s_part))\n",
        "    score += s_part/cv\n",
        "  return np.sqrt(score)  # root mean square error"
      ],
      "execution_count": 0,
      "outputs": []
    },
    {
      "metadata": {
        "id": "sJM0eEBE-WeM",
        "colab_type": "code",
        "colab": {
          "base_uri": "https://localhost:8080/",
          "height": 109
        },
        "outputId": "82a3717e-f53a-4a5f-e818-377218221b29"
      },
      "cell_type": "code",
      "source": [
        "for lr in [1e-3]:\n",
        "  result = regression_cross_val_score(\n",
        "      lambda : make_model_regression(lr),\n",
        "      train_X,\n",
        "      train_y,\n",
        "      cv=4,\n",
        "      convert=lambda x : np.minimum(np.maximum(0, x), 10),  # restrict to valid range\n",
        "      fit_params={\n",
        "          'epochs':40,\n",
        "          'batch_size':64,\n",
        "          'verbose':0\n",
        "      }\n",
        "  )\n",
        "  print('lr', lr, ':', result)"
      ],
      "execution_count": 26,
      "outputs": [
        {
          "output_type": "stream",
          "text": [
            "0.7220789287426128\n",
            "0.6990262797866341\n",
            "0.7495910952064003\n",
            "5.934903278325344\n",
            "lr 0.001 : 3.0329440916482486\n"
          ],
          "name": "stdout"
        }
      ]
    },
    {
      "metadata": {
        "id": "LTQ8NOxNP13h",
        "colab_type": "text"
      },
      "cell_type": "markdown",
      "source": [
        "## Final Regression\n",
        "\n",
        "Train, predict, save"
      ]
    },
    {
      "metadata": {
        "id": "09SbF7-UQDvP",
        "colab_type": "code",
        "colab": {
          "base_uri": "https://localhost:8080/",
          "height": 35
        },
        "outputId": "50e72eff-3974-41cf-d847-b1463d0fb229"
      },
      "cell_type": "code",
      "source": [
        "test_X= pd.read_csv('winequality-white-testing.csv', index_col=0).values\n",
        "test_pred = pd.read_csv('winequality-white-sample.csv', index_col=0)\n",
        "print(test_X.shape, test_pred.shape)"
      ],
      "execution_count": 7,
      "outputs": [
        {
          "output_type": "stream",
          "text": [
            "(1000, 11) (1000, 1)\n"
          ],
          "name": "stdout"
        }
      ]
    },
    {
      "metadata": {
        "id": "agR13e5BQWu7",
        "colab_type": "code",
        "colab": {
          "base_uri": "https://localhost:8080/",
          "height": 1505
        },
        "outputId": "ceadf218-0d91-49b7-b3ae-bc510ea058fd"
      },
      "cell_type": "code",
      "source": [
        "search_bounds = range(0, train_y.shape[0])\n",
        "\n",
        "# annealer\n",
        "lr_annealing = tf.keras.callbacks.ReduceLROnPlateau(\n",
        "    monitor='loss', patience=3, factor=0.5, min_lr=0.000001)\n",
        "\n",
        "model = make_model_regression(1e-3)\n",
        "tf.random.set_random_seed(5)\n",
        "model.fit(\n",
        "    train_X[search_bounds], \n",
        "    train_y[search_bounds], \n",
        "    epochs=40, \n",
        "    callbacks=[lr_annealing]\n",
        ")"
      ],
      "execution_count": 27,
      "outputs": [
        {
          "output_type": "stream",
          "text": [
            "Epoch 1/40\n",
            "3898/3898 [==============================] - 8s 2ms/step - loss: 2.3480\n",
            "Epoch 2/40\n",
            "3898/3898 [==============================] - 1s 347us/step - loss: 0.7806\n",
            "Epoch 3/40\n",
            "3898/3898 [==============================] - 1s 349us/step - loss: 0.7343\n",
            "Epoch 4/40\n",
            "3898/3898 [==============================] - 1s 349us/step - loss: 0.7323\n",
            "Epoch 5/40\n",
            "3898/3898 [==============================] - 1s 348us/step - loss: 0.7692\n",
            "Epoch 6/40\n",
            "3898/3898 [==============================] - 1s 350us/step - loss: 0.6614\n",
            "Epoch 7/40\n",
            "3898/3898 [==============================] - 1s 343us/step - loss: 0.6977\n",
            "Epoch 8/40\n",
            "3898/3898 [==============================] - 1s 341us/step - loss: 0.6543\n",
            "Epoch 9/40\n",
            "3898/3898 [==============================] - 1s 346us/step - loss: 0.6131\n",
            "Epoch 10/40\n",
            "3898/3898 [==============================] - 1s 348us/step - loss: 0.6428\n",
            "Epoch 11/40\n",
            "3898/3898 [==============================] - 1s 343us/step - loss: 0.6214\n",
            "Epoch 12/40\n",
            "3898/3898 [==============================] - 4s 1ms/step - loss: 0.6241\n",
            "Epoch 13/40\n",
            "3898/3898 [==============================] - 1s 346us/step - loss: 0.5343\n",
            "Epoch 14/40\n",
            "3898/3898 [==============================] - 1s 346us/step - loss: 0.5336\n",
            "Epoch 15/40\n",
            "3898/3898 [==============================] - 1s 345us/step - loss: 0.5336\n",
            "Epoch 16/40\n",
            "3898/3898 [==============================] - 1s 344us/step - loss: 0.5280\n",
            "Epoch 17/40\n",
            "3898/3898 [==============================] - 1s 345us/step - loss: 0.5267\n",
            "Epoch 18/40\n",
            "3898/3898 [==============================] - 1s 349us/step - loss: 0.5285\n",
            "Epoch 19/40\n",
            "3898/3898 [==============================] - 1s 341us/step - loss: 0.5219\n",
            "Epoch 20/40\n",
            "3898/3898 [==============================] - 1s 343us/step - loss: 0.5280\n",
            "Epoch 21/40\n",
            "3898/3898 [==============================] - 1s 341us/step - loss: 0.5158\n",
            "Epoch 22/40\n",
            "3898/3898 [==============================] - 1s 342us/step - loss: 0.5252\n",
            "Epoch 23/40\n",
            "3898/3898 [==============================] - 1s 341us/step - loss: 0.5221\n",
            "Epoch 24/40\n",
            "3898/3898 [==============================] - 1s 347us/step - loss: 0.5215\n",
            "Epoch 25/40\n",
            "3898/3898 [==============================] - 1s 341us/step - loss: 0.5018\n",
            "Epoch 26/40\n",
            "3898/3898 [==============================] - 1s 340us/step - loss: 0.4985\n",
            "Epoch 27/40\n",
            "3898/3898 [==============================] - 1s 345us/step - loss: 0.4974\n",
            "Epoch 28/40\n",
            "3898/3898 [==============================] - 1s 337us/step - loss: 0.4979\n",
            "Epoch 29/40\n",
            "3898/3898 [==============================] - 1s 343us/step - loss: 0.4947\n",
            "Epoch 30/40\n",
            "3898/3898 [==============================] - 1s 342us/step - loss: 0.4932\n",
            "Epoch 31/40\n",
            "3898/3898 [==============================] - 1s 342us/step - loss: 0.4920\n",
            "Epoch 32/40\n",
            "3898/3898 [==============================] - 1s 346us/step - loss: 0.4936\n",
            "Epoch 33/40\n",
            "3898/3898 [==============================] - 1s 345us/step - loss: 0.4880\n",
            "Epoch 34/40\n",
            "3898/3898 [==============================] - 1s 346us/step - loss: 0.4919\n",
            "Epoch 35/40\n",
            "3898/3898 [==============================] - 1s 342us/step - loss: 0.4929\n",
            "Epoch 36/40\n",
            "3898/3898 [==============================] - 1s 342us/step - loss: 0.4856\n",
            "Epoch 37/40\n",
            "3898/3898 [==============================] - 1s 350us/step - loss: 0.4885\n",
            "Epoch 38/40\n",
            "3898/3898 [==============================] - 1s 343us/step - loss: 0.4891\n",
            "Epoch 39/40\n",
            "3898/3898 [==============================] - 1s 346us/step - loss: 0.4880\n",
            "Epoch 40/40\n",
            "3898/3898 [==============================] - 1s 348us/step - loss: 0.4773\n"
          ],
          "name": "stdout"
        },
        {
          "output_type": "execute_result",
          "data": {
            "text/plain": [
              "<tensorflow.python.keras.callbacks.History at 0x7f6ae0009630>"
            ]
          },
          "metadata": {
            "tags": []
          },
          "execution_count": 27
        }
      ]
    },
    {
      "metadata": {
        "id": "dh_3mABZQ2c8",
        "colab_type": "code",
        "colab": {}
      },
      "cell_type": "code",
      "source": [
        "pred = np.minimum(np.maximum(0, model.predict(test_X/norm_fac)), 10)"
      ],
      "execution_count": 0,
      "outputs": []
    },
    {
      "metadata": {
        "id": "y_8n2sUMVpo8",
        "colab_type": "code",
        "colab": {
          "base_uri": "https://localhost:8080/",
          "height": 54
        },
        "outputId": "a62b575e-3844-4881-c3fb-d3d71cb500cf"
      },
      "cell_type": "code",
      "source": [
        "test_pred['quality'] = pred\n",
        "test_pred.to_csv('wine-white-submission.csv', index=True)\n",
        "\n",
        "!ls\n",
        "files.download('wine-white-submission.csv')"
      ],
      "execution_count": 32,
      "outputs": [
        {
          "output_type": "stream",
          "text": [
            "winequality-white-sample.csv   winequality-white-training.csv\n",
            "winequality-white-testing.csv  wine-white-submission.csv\n"
          ],
          "name": "stdout"
        }
      ]
    }
  ]
}