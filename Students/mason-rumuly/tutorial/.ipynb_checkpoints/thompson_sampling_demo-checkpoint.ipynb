{
 "cells": [
  {
   "cell_type": "markdown",
   "metadata": {},
   "source": [
    "# Thompson Sampling Demo\n",
    "\n",
    "Outline:\n",
    "- 3-arm bandit\n",
    "- Randomly generate the three payout probabilities\n",
    "- Step through samples in ipython notebook\n",
    "- Show choice, distributions, and payout after each sample (and sampled values on distribution before)"
   ]
  },
  {
   "cell_type": "code",
   "execution_count": 105,
   "metadata": {},
   "outputs": [],
   "source": [
    "# Set up the notebook\n",
    "\n",
    "# Module imports\n",
    "import math\n",
    "import numpy as np\n",
    "import matplotlib.pyplot as plt\n",
    "from scipy.stats import beta\n",
    "\n",
    "# inline plot setup\n",
    "%matplotlib inline\n",
    "distribution_support = np.linspace(0, 1, 100)\n",
    "\n",
    "# Settings for problem\n",
    "n_arms = 3\n",
    "\n",
    "# Bandit Arm class\n",
    "class BanditArm(object):\n",
    "    def __init__(self, pay_prob):\n",
    "        self.pay_prob = pay_prob\n",
    "    \n",
    "    def __repr__(self):\n",
    "        return 'Bandit Arm({})'.format(self.pay_prob)\n",
    "    \n",
    "    def __str__(self):\n",
    "        return str(self.pay_prob)\n",
    "        \n",
    "    def pull(self):\n",
    "        return np.random.binomial(1, self.pay_prob)"
   ]
  },
  {
   "cell_type": "markdown",
   "metadata": {},
   "source": [
    "## Create Multi-Arm Bandit Problem"
   ]
  },
  {
   "cell_type": "code",
   "execution_count": 106,
   "metadata": {},
   "outputs": [
    {
     "name": "stdout",
     "output_type": "stream",
     "text": [
      "[Bandit Arm(0.7174677539093511), Bandit Arm(0.20259786316020245), Bandit Arm(0.316013622660575)]\n",
      "Arm 0 is best arm.\n"
     ]
    }
   ],
   "source": [
    "# Generate arms with payout probability\n",
    "multi_arm_bandit = [\n",
    "    BanditArm(*np.random.rand(1)) for _ in range(n_arms)\n",
    "]\n",
    "\n",
    "# Show results\n",
    "print(multi_arm_bandit)\n",
    "print('Arm {} is best arm.'.format(np.argmax([arm.pay_prob for arm in multi_arm_bandit])))"
   ]
  },
  {
   "cell_type": "markdown",
   "metadata": {},
   "source": [
    "## Initialize Thompson Sampling State"
   ]
  },
  {
   "cell_type": "code",
   "execution_count": 107,
   "metadata": {},
   "outputs": [],
   "source": [
    "# Choose the uniform prior parameter value\n",
    "prior = 1\n",
    "\n",
    "# Create beta-distribution parameter set\n",
    "knowledge = [\n",
    "    (prior, prior) for _ in multi_arm_bandit\n",
    "]"
   ]
  },
  {
   "cell_type": "markdown",
   "metadata": {},
   "source": [
    "## Run one iteration of Thompson Sampling"
   ]
  },
  {
   "cell_type": "code",
   "execution_count": 111,
   "metadata": {},
   "outputs": [
    {
     "name": "stdout",
     "output_type": "stream",
     "text": [
      "Sampled [0.567055930585709, 0.8710562949437615, 0.4742151279479233]\n",
      "Pulled arm 1\n",
      "Payout\n"
     ]
    },
    {
     "ename": "TypeError",
     "evalue": "can only concatenate tuple (not \"int\") to tuple",
     "output_type": "error",
     "traceback": [
      "\u001b[1;31m---------------------------------------------------------------------------\u001b[0m",
      "\u001b[1;31mTypeError\u001b[0m                                 Traceback (most recent call last)",
      "\u001b[1;32m<ipython-input-111-612715886f3a>\u001b[0m in \u001b[0;36m<module>\u001b[1;34m()\u001b[0m\n\u001b[0;32m     27\u001b[0m \u001b[1;33m\u001b[0m\u001b[0m\n\u001b[0;32m     28\u001b[0m \u001b[1;31m# update knowledge\u001b[0m\u001b[1;33m\u001b[0m\u001b[1;33m\u001b[0m\u001b[0m\n\u001b[1;32m---> 29\u001b[1;33m \u001b[0mknowledge\u001b[0m\u001b[1;33m[\u001b[0m\u001b[0mchoice\u001b[0m\u001b[1;33m]\u001b[0m \u001b[1;33m=\u001b[0m \u001b[1;33m(\u001b[0m\u001b[0mknowledge\u001b[0m\u001b[1;33m[\u001b[0m\u001b[1;36m0\u001b[0m\u001b[1;33m]\u001b[0m \u001b[1;33m+\u001b[0m \u001b[0mresult\u001b[0m\u001b[1;33m)\u001b[0m\u001b[1;33m,\u001b[0m \u001b[1;33m(\u001b[0m\u001b[0mknowledge\u001b[0m\u001b[1;33m[\u001b[0m\u001b[1;36m1\u001b[0m\u001b[1;33m]\u001b[0m \u001b[1;33m+\u001b[0m \u001b[1;36m1\u001b[0m \u001b[1;33m-\u001b[0m \u001b[0mresult\u001b[0m\u001b[1;33m)\u001b[0m\u001b[1;33m\u001b[0m\u001b[0m\n\u001b[0m\u001b[0;32m     30\u001b[0m \u001b[1;33m\u001b[0m\u001b[0m\n\u001b[0;32m     31\u001b[0m \u001b[1;31m# Show new distributions with expectations\u001b[0m\u001b[1;33m\u001b[0m\u001b[1;33m\u001b[0m\u001b[0m\n",
      "\u001b[1;31mTypeError\u001b[0m: can only concatenate tuple (not \"int\") to tuple"
     ]
    },
    {
     "data": {
      "image/png": "[encoded data removed]",
      "text/plain": [
       "<matplotlib.figure.Figure at 0x2b49418d358>"
      ]
     },
     "metadata": {
      "needs_background": "light"
     },
     "output_type": "display_data"
    }
   ],
   "source": [
    "# Sample distributions\n",
    "samples = [\n",
    "    np.random.beta(a, b) for a, b in knowledge\n",
    "]\n",
    "\n",
    "# Show existing 'prior' distributions with sample values and expectations\n",
    "plt.figure(figsize=(20, 20//n_arms))\n",
    "for i, k in enumerate(knowledge):\n",
    "    distribution = beta.pdf(distribution_support, *k)\n",
    "    limit = max(distribution)*1.1\n",
    "    \n",
    "    plt.subplot(1, n_arms, i + 1)\n",
    "    plt.plot(distribution_support, distribution, color = 'b', label = 'pdf')\n",
    "    plt.vlines(k[0]/(k[0]+k[1]), 0, limit, colors='k', label='expectation')\n",
    "    plt.vlines(samples[i], 0, limit, colors='y', label = 'sample')\n",
    "    plt.xlim(0, 1)\n",
    "    plt.ylim(0, limit)\n",
    "    plt.legend()\n",
    "plt.tight_layout()\n",
    "\n",
    "# Print samples, chosen arm, and result of pull\n",
    "choice = np.argmax(samples)\n",
    "result = multi_arm_bandit[choice].pull()\n",
    "print('Sampled', samples)\n",
    "print('Pulled arm', choice)\n",
    "print('Payout' if result == 1 else 'No payout')\n",
    "\n",
    "# update knowledge\n",
    "knowledge[choice] = (knowledge[choice][0] + result), (knowledge[choice][1] + 1 - result)\n",
    "\n",
    "# Show new distributions with expectations\n",
    "plt.figure(figsize=(20, 20//n_arms))\n",
    "for i, k in enumerate(knowledge):\n",
    "    distribution = beta.pdf(distribution_support, *k)\n",
    "    limit = max(distribution)*1.1\n",
    "    \n",
    "    plt.subplot(1, n_arms, i + 1)\n",
    "    plt.plot(distribution_support, distribution, color = 'b', label = 'pdf')\n",
    "    plt.vlines(k[0]/(k[0]+k[1]), 0, limit, colors='k', label='expectation')\n",
    "    plt.xlim(0, 1)\n",
    "    plt.ylim(0, limit)\n",
    "    plt.legend()\n",
    "plt.tight_layout()\n",
    "\n",
    "pass"
   ]
  },
  {
   "cell_type": "code",
   "execution_count": null,
   "metadata": {},
   "outputs": [],
   "source": []
  }
 ],
 "metadata": {
  "kernelspec": {
   "display_name": "Python 3",
   "language": "python",
   "name": "python3"
  },
  "language_info": {
   "codemirror_mode": {
    "name": "ipython",
    "version": 3
   },
   "file_extension": ".py",
   "mimetype": "text/x-python",
   "name": "python",
   "nbconvert_exporter": "python",
   "pygments_lexer": "ipython3",
   "version": "3.6.6"
  }
 },
 "nbformat": 4,
 "nbformat_minor": 2
}
