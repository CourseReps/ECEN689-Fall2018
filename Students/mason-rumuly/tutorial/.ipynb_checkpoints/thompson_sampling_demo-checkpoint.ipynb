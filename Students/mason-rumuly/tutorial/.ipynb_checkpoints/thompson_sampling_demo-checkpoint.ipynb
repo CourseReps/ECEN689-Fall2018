{
 "cells": [
  {
   "cell_type": "markdown",
   "metadata": {},
   "source": [
    "# Thompson Sampling Demo\n",
    "\n",
    "Outline:\n",
    "- 3-arm bandit\n",
    "- Randomly generate the three payout probabilities\n",
    "- Step through samples in ipython notebook\n",
    "- Show choice, distributions, and payout after each sample (and sampled values on distribution before)"
   ]
  },
  {
   "cell_type": "code",
   "execution_count": 146,
   "metadata": {},
   "outputs": [],
   "source": [
    "# Set up the notebook\n",
    "\n",
    "# Module imports\n",
    "import math\n",
    "import numpy as np\n",
    "import matplotlib.pyplot as plt\n",
    "from scipy.stats import beta\n",
    "\n",
    "# inline plot setup\n",
    "%matplotlib inline\n",
    "distribution_support = np.linspace(0, 1, 100)\n",
    "\n",
    "def preplot(knowledge, samples):\n",
    "    '''Show existing 'prior' distributions with sample values and expectations'''\n",
    "    plt.figure(figsize=(20, 20//len(knowledge)))\n",
    "    for i, k in enumerate(knowledge):\n",
    "        distribution = beta.pdf(distribution_support, *k)\n",
    "        limit = max(distribution)*1.1\n",
    "\n",
    "        plt.subplot(1, len(knowledge), i + 1)\n",
    "        plt.plot(distribution_support, distribution, color = 'b', label = 'pdf')\n",
    "        plt.vlines(k[0]/(k[0]+k[1]), 0, limit, colors='k', label='expectation')\n",
    "        plt.vlines(samples[i], 0, limit, colors='y', label = 'sample')\n",
    "        plt.xlim(0, 1)\n",
    "        plt.ylim(0, limit)\n",
    "        plt.legend()\n",
    "    plt.tight_layout()\n",
    "\n",
    "def postplot(knowledge):\n",
    "    '''Show new distributions with expectations'''\n",
    "    plt.figure(figsize=(20, 20//len(knowledge)))\n",
    "    for i, k in enumerate(knowledge):\n",
    "        distribution = beta.pdf(distribution_support, *k)\n",
    "        limit = max(distribution)*1.1\n",
    "\n",
    "        plt.subplot(1, len(knowledge), i + 1)\n",
    "        plt.plot(distribution_support, distribution, color = 'b', label = 'pdf')\n",
    "        plt.vlines(k[0]/(k[0]+k[1]), 0, limit, colors='k', label='expectation')\n",
    "        plt.xlim(0, 1)\n",
    "        plt.ylim(0, limit)\n",
    "        plt.legend()\n",
    "    plt.tight_layout()\n",
    "\n",
    "# Bandit Arm class\n",
    "class BanditArm(object):\n",
    "    def __init__(self, pay_prob):\n",
    "        self.pay_prob = pay_prob\n",
    "    \n",
    "    def __repr__(self):\n",
    "        return 'Bandit Arm({})'.format(self.pay_prob)\n",
    "    \n",
    "    def __str__(self):\n",
    "        return str(self.pay_prob)\n",
    "        \n",
    "    def pull(self):\n",
    "        return np.random.binomial(1, self.pay_prob)"
   ]
  },
  {
   "cell_type": "markdown",
   "metadata": {},
   "source": [
    "## Create Multi-Arm Bandit Problem"
   ]
  },
  {
   "cell_type": "code",
   "execution_count": 149,
   "metadata": {},
   "outputs": [
    {
     "name": "stdout",
     "output_type": "stream",
     "text": [
      "[Bandit Arm(0.1691898145298676), Bandit Arm(0.85932556579002), Bandit Arm(0.6465855589373012)]\n",
      "Arm 1 is best arm.\n"
     ]
    }
   ],
   "source": [
    "# Settings for problem\n",
    "n_arms = 3\n",
    "\n",
    "# Generate arms with payout probability\n",
    "multi_arm_bandit = [\n",
    "    BanditArm(*np.random.rand(1)) for _ in range(n_arms)\n",
    "]\n",
    "\n",
    "# Show results\n",
    "print(multi_arm_bandit)\n",
    "print('Arm {} is best arm.'.format(np.argmax([arm.pay_prob for arm in multi_arm_bandit])))"
   ]
  },
  {
   "cell_type": "markdown",
   "metadata": {},
   "source": [
    "## Initialize Thompson Sampling State"
   ]
  },
  {
   "cell_type": "code",
   "execution_count": 150,
   "metadata": {},
   "outputs": [],
   "source": [
    "# Choose the uniform prior parameter value\n",
    "prior = 1\n",
    "\n",
    "# Create beta-distribution parameter set\n",
    "knowledge = [\n",
    "    (prior, prior) for _ in multi_arm_bandit\n",
    "]\n",
    "\n",
    "# track number of samples taken\n",
    "ns = 0"
   ]
  },
  {
   "cell_type": "markdown",
   "metadata": {},
   "source": [
    "## Run one iteration of Thompson Sampling"
   ]
  },
  {
   "cell_type": "code",
   "execution_count": 145,
   "metadata": {},
   "outputs": [
    {
     "name": "stdout",
     "output_type": "stream",
     "text": [
      "Sampled [0.8137710835826795, 0.02467140887544721, 0.15855803650772082]\n",
      "Pulled arm 0\n",
      "No payout\n"
     ]
    },
    {
     "ename": "NameError",
     "evalue": "name 'postplot' is not defined",
     "output_type": "error",
     "traceback": [
      "\u001b[1;31m---------------------------------------------------------------------------\u001b[0m",
      "\u001b[1;31mNameError\u001b[0m                                 Traceback (most recent call last)",
      "\u001b[1;32m<ipython-input-145-aefe74cf94a9>\u001b[0m in \u001b[0;36m<module>\u001b[1;34m()\u001b[0m\n\u001b[0;32m     17\u001b[0m \u001b[0mns\u001b[0m \u001b[1;33m+=\u001b[0m \u001b[1;36m1\u001b[0m\u001b[1;33m\u001b[0m\u001b[0m\n\u001b[0;32m     18\u001b[0m \u001b[1;33m\u001b[0m\u001b[0m\n\u001b[1;32m---> 19\u001b[1;33m \u001b[0mpostplot\u001b[0m\u001b[1;33m(\u001b[0m\u001b[0mknowledge\u001b[0m\u001b[1;33m)\u001b[0m\u001b[1;33m\u001b[0m\u001b[0m\n\u001b[0m\u001b[0;32m     20\u001b[0m \u001b[1;33m\u001b[0m\u001b[0m\n\u001b[0;32m     21\u001b[0m \u001b[1;31m# prevent random bits of text\u001b[0m\u001b[1;33m\u001b[0m\u001b[1;33m\u001b[0m\u001b[0m\n",
      "\u001b[1;31mNameError\u001b[0m: name 'postplot' is not defined"
     ]
    },
    {
     "data": {
      "image/png": "[encoded data removed]",
      "text/plain": [
       "<matplotlib.figure.Figure at 0x2b495f6a358>"
      ]
     },
     "metadata": {
      "needs_background": "light"
     },
     "output_type": "display_data"
    }
   ],
   "source": [
    "# Sample distributions\n",
    "samples = [\n",
    "    np.random.beta(a, b) for a, b in knowledge\n",
    "]\n",
    "\n",
    "preplot(knowledge, samples)\n",
    "\n",
    "# Print samples, chosen arm, and result of pull\n",
    "choice = np.argmax(samples)\n",
    "result = multi_arm_bandit[choice].pull()\n",
    "print('Sampled', samples)\n",
    "print('Pulled arm', choice)\n",
    "print('Payout' if result == 1 else 'No payout')\n",
    "\n",
    "# update knowledge\n",
    "knowledge[choice] = (knowledge[choice][0] + result), (knowledge[choice][1] + 1 - result)\n",
    "ns += 1\n",
    "\n",
    "postplot(knowledge)\n",
    "\n",
    "# prevent random bits of text\n",
    "pass"
   ]
  },
  {
   "cell_type": "code",
   "execution_count": 122,
   "metadata": {},
   "outputs": [],
   "source": [
    "# sample 100 times"
   ]
  }
 ],
 "metadata": {
  "kernelspec": {
   "display_name": "Python 3",
   "language": "python",
   "name": "python3"
  },
  "language_info": {
   "codemirror_mode": {
    "name": "ipython",
    "version": 3
   },
   "file_extension": ".py",
   "mimetype": "text/x-python",
   "name": "python",
   "nbconvert_exporter": "python",
   "pygments_lexer": "ipython3",
   "version": "3.6.6"
  }
 },
 "nbformat": 4,
 "nbformat_minor": 2
}
