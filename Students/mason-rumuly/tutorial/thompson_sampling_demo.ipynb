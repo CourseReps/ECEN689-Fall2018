{
 "cells": [
  {
   "cell_type": "markdown",
   "metadata": {},
   "source": [
    "# Thompson Sampling Demo\n",
    "\n",
    "Outline:\n",
    "- 3-arm bandit\n",
    "- Randomly generate the three payout probabilities\n",
    "- Step through samples in ipython notebook\n",
    "- Show choice, distributions, and payout after each sample (and sampled values on distribution before)"
   ]
  },
  {
   "cell_type": "code",
   "execution_count": 1,
   "metadata": {},
   "outputs": [],
   "source": [
    "# Set up the notebook\n",
    "\n",
    "# Module imports\n",
    "import numpy as np\n",
    "import matplotlib.pyplot as plt\n",
    "\n",
    "# Inline plot setup\n",
    "%matplotlib inline\n",
    "\n",
    "# Settings for problem\n",
    "n_arms = 3\n",
    "\n",
    "# Bandit Arm class\n",
    "class BanditArm(object):\n",
    "    def __init__(self, pay_prob):\n",
    "        self.pay_prob = pay_prob\n",
    "        \n",
    "    def sample(self):\n",
    "        return np.random.binomial()"
   ]
  },
  {
   "cell_type": "markdown",
   "metadata": {},
   "source": [
    "## Create Multi-Arm Bandit Problem"
   ]
  },
  {
   "cell_type": "code",
   "execution_count": null,
   "metadata": {},
   "outputs": [],
   "source": [
    "# Generate arms with payout probability\n",
    "multi_arm_bandit = [\n",
    "    \n",
    "]"
   ]
  }
 ],
 "metadata": {
  "kernelspec": {
   "display_name": "Python 3",
   "language": "python",
   "name": "python3"
  },
  "language_info": {
   "codemirror_mode": {
    "name": "ipython",
    "version": 3
   },
   "file_extension": ".py",
   "mimetype": "text/x-python",
   "name": "python",
   "nbconvert_exporter": "python",
   "pygments_lexer": "ipython3",
   "version": "3.6.6"
  }
 },
 "nbformat": 4,
 "nbformat_minor": 2
}
