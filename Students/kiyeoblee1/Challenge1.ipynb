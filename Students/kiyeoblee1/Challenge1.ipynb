{
 "cells": [
  {
   "cell_type": "code",
   "execution_count": 4,
   "metadata": {},
   "outputs": [],
   "source": [
    "import pandas as pd\n",
    "import numpy as np\n",
    "\n",
    "student_identity = 'kiyeoblee'\n",
    "filename = '1challenge1activity_' + student_identity + '.csv'\n",
    "filenameToWrite = '1challenge1activity_' + student_identity + '.csv'\n",
    "sample_df = pd.read_csv('/Users/kiyeoblee/Desktop/Course work/ECEN689-Fall2018/Challenges/1Files/' + filename)\n",
    "\n",
    "list = []\n",
    "for row in range(sample_df.shape[0]):\n",
    "    array =  [sample_df['Sample 0'][row],sample_df['Sample 1'][row],\n",
    "        sample_df['Sample 2'][row],sample_df['Sample 3'][row],\n",
    "        sample_df['Sample 4'][row],sample_df['Sample 5'][row],\n",
    "        sample_df['Sample 6'][row],sample_df['Sample 7'][row],\n",
    "        sample_df['Sample 8'][row],sample_df['Sample 9'][row],\n",
    "        sample_df['Sample 10'][row],sample_df['Sample 11'][row]]\n",
    "    list.append([np.mean(array),np.var(array)])\n",
    "\n",
    "for row in range(sample_df.shape[0]):\n",
    "    sample_df.iloc[row, sample_df.columns.get_loc('Mean')] = list[row][0]\n",
    "    sample_df.iloc[row, sample_df.columns.get_loc('Variance')] = list[row][1]\n",
    "\n",
    "sample_df.to_csv(filename, sep=',', encoding='utf-8')\n"
   ]
  },
  {
   "cell_type": "code",
   "execution_count": null,
   "metadata": {},
   "outputs": [],
   "source": []
  }
 ],
 "metadata": {
  "kernelspec": {
   "display_name": "Python 3",
   "language": "python",
   "name": "python3"
  },
  "language_info": {
   "codemirror_mode": {
    "name": "ipython",
    "version": 3
   },
   "file_extension": ".py",
   "mimetype": "text/x-python",
   "name": "python",
   "nbconvert_exporter": "python",
   "pygments_lexer": "ipython3",
   "version": "3.6.0"
  }
 },
 "nbformat": 4,
 "nbformat_minor": 2
}
