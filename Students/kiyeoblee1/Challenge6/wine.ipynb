{
  "nbformat": 4,
  "nbformat_minor": 0,
  "metadata": {
    "colab": {
      "name": "Untitled1.ipynb",
      "version": "0.3.2",
      "provenance": [],
      "collapsed_sections": []
    },
    "kernelspec": {
      "name": "python3",
      "display_name": "Python 3"
    }
  },
  "cells": [
    {
      "metadata": {
        "id": "7O0DjotEi1-N",
        "colab_type": "code",
        "colab": {}
      },
      "cell_type": "code",
      "source": [
        "import io, os\n",
        "import pandas as pd\n",
        "from sklearn.model_selection import train_test_split\n",
        "from sklearn.decomposition import PCA\n",
        "from sklearn.preprocessing import StandardScaler\n",
        "import tensorflow as tf\n",
        "from tensorflow import keras\n",
        "import numpy as np\n",
        "import matplotlib.pyplot as plt"
      ],
      "execution_count": 0,
      "outputs": []
    },
    {
      "metadata": {
        "id": "hKOwV5c6i9vE",
        "colab_type": "code",
        "colab": {}
      },
      "cell_type": "code",
      "source": [
        "df_train = pd.read_csv('winequality-white-training.csv')\n",
        "df_test = pd.read_csv('winequality-white-testing.csv')\n",
        "df_sample = pd.read_csv('winequality-white-sample.csv', index_col=0)\n",
        "\n",
        "X = df_train.drop('quality', axis=1).values\n",
        "Y = df_train['quality'].values\n",
        "\n",
        "scaler = StandardScaler()\n",
        "scaler.fit(X)\n",
        "X_scaled = scaler.transform(X)\n",
        "\n",
        "X_train, X_test, Y_train, Y_test = train_test_split(X_scaled, Y, test_size=0.25)\n"
      ],
      "execution_count": 0,
      "outputs": []
    },
    {
      "metadata": {
        "id": "sZVQIJNEjAZ4",
        "colab_type": "code",
        "colab": {}
      },
      "cell_type": "code",
      "source": [
        "model = keras.Sequential([\n",
        "  keras.layers.Dense(2048, activation=tf.nn.relu, input_shape=(x.shape[1],)),\n",
        "  keras.layers.Dense(1024, activation=tf.nn.relu),\n",
        "  keras.layers.Dense(512, activation=tf.nn.relu),\n",
        "  keras.layers.Dense(256, activation=tf.nn.relu),\n",
        "  keras.layers.Dense(32, activation=tf.nn.relu),\n",
        "  keras.layers.Dense(1)\n",
        "])\n",
        "\n",
        "optimizer = tf.train.RMSPropOptimizer(1e-5)\n",
        "model.compile(loss='mean_squared_error', optimizer=optimizer, metrics=['mse'])\n",
        "\n",
        "model.fit(X_scaled, Y, epochs=100, validation_data=(X_test, Y_test))\n",
        "\n",
        "[loss, mse] = model.evaluate(X_test, Y_test, verbose=0)\n",
        "\n",
        "model.fit(X_scaled, Y, epochs=100)\n"
      ],
      "execution_count": 0,
      "outputs": []
    },
    {
      "metadata": {
        "id": "XtWbp7pVjOMF",
        "colab_type": "code",
        "colab": {}
      },
      "cell_type": "code",
      "source": [
        "y_test = model.predict(scaler.transform(df_test.values))\n",
        "df_sample['quality'] = y_test\n",
        "df_sample.to_csv('winequality_sample.csv')"
      ],
      "execution_count": 0,
      "outputs": []
    }
  ]
}