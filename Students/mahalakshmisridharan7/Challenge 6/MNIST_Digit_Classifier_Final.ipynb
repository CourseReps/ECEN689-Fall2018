{
 "cells": [
  {
   "cell_type": "code",
   "execution_count": 0,
   "metadata": {
    "colab": {},
    "colab_type": "code",
    "id": "qmzQX_X7esDL"
   },
   "outputs": [],
   "source": [
    "from keras import utils\n",
    "\n",
    "from keras.layers import Dense, Reshape, Conv2D, AveragePooling2D, Flatten\n",
    "from keras.models import Sequential\n",
    "from keras.optimizers import RMSprop\n",
    "\n",
    "import numpy as np\n",
    "import pandas as pd\n",
    "\n",
    "import tensorflow as tf"
   ]
  },
  {
   "cell_type": "code",
   "execution_count": 0,
   "metadata": {
    "colab": {},
    "colab_type": "code",
    "id": "gC2NSngHf8s4"
   },
   "outputs": [],
   "source": [
    "(x_train_mnist, y_train_mnist), (x_test_mnsit, y_test_mnist) = tf.keras.datasets.mnist.load_data()\n",
    "train_df1 = pd.read_csv(\"mnist_train.csv\")\n",
    "train_df1=train_df1.drop(train_df1.columns[0], axis=1)"
   ]
  },
  {
   "cell_type": "code",
   "execution_count": 7,
   "metadata": {
    "colab": {
     "base_uri": "https://localhost:8080/",
     "height": 244
    },
    "colab_type": "code",
    "id": "IrueFbqBhuPh",
    "outputId": "4e4a9f8f-2e38-4938-9ddf-30974197a12e"
   },
   "outputs": [
    {
     "data": {
      "text/html": [
       "<div>\n",
       "<style scoped>\n",
       "    .dataframe tbody tr th:only-of-type {\n",
       "        vertical-align: middle;\n",
       "    }\n",
       "\n",
       "    .dataframe tbody tr th {\n",
       "        vertical-align: top;\n",
       "    }\n",
       "\n",
       "    .dataframe thead th {\n",
       "        text-align: right;\n",
       "    }\n",
       "</style>\n",
       "<table border=\"1\" class=\"dataframe\">\n",
       "  <thead>\n",
       "    <tr style=\"text-align: right;\">\n",
       "      <th></th>\n",
       "      <th>Category</th>\n",
       "      <th>pixel0</th>\n",
       "      <th>pixel1</th>\n",
       "      <th>pixel2</th>\n",
       "      <th>pixel3</th>\n",
       "      <th>pixel4</th>\n",
       "      <th>pixel5</th>\n",
       "      <th>pixel6</th>\n",
       "      <th>pixel7</th>\n",
       "      <th>pixel8</th>\n",
       "      <th>...</th>\n",
       "      <th>pixel774</th>\n",
       "      <th>pixel775</th>\n",
       "      <th>pixel776</th>\n",
       "      <th>pixel777</th>\n",
       "      <th>pixel778</th>\n",
       "      <th>pixel779</th>\n",
       "      <th>pixel780</th>\n",
       "      <th>pixel781</th>\n",
       "      <th>pixel782</th>\n",
       "      <th>pixel783</th>\n",
       "    </tr>\n",
       "  </thead>\n",
       "  <tbody>\n",
       "    <tr>\n",
       "      <th>0</th>\n",
       "      <td>5</td>\n",
       "      <td>0</td>\n",
       "      <td>0</td>\n",
       "      <td>0</td>\n",
       "      <td>0</td>\n",
       "      <td>0</td>\n",
       "      <td>0</td>\n",
       "      <td>0</td>\n",
       "      <td>0</td>\n",
       "      <td>0</td>\n",
       "      <td>...</td>\n",
       "      <td>0</td>\n",
       "      <td>0</td>\n",
       "      <td>0</td>\n",
       "      <td>0</td>\n",
       "      <td>0</td>\n",
       "      <td>0</td>\n",
       "      <td>0</td>\n",
       "      <td>0</td>\n",
       "      <td>0</td>\n",
       "      <td>0</td>\n",
       "    </tr>\n",
       "    <tr>\n",
       "      <th>1</th>\n",
       "      <td>0</td>\n",
       "      <td>0</td>\n",
       "      <td>0</td>\n",
       "      <td>0</td>\n",
       "      <td>0</td>\n",
       "      <td>0</td>\n",
       "      <td>0</td>\n",
       "      <td>0</td>\n",
       "      <td>0</td>\n",
       "      <td>0</td>\n",
       "      <td>...</td>\n",
       "      <td>0</td>\n",
       "      <td>0</td>\n",
       "      <td>0</td>\n",
       "      <td>0</td>\n",
       "      <td>0</td>\n",
       "      <td>0</td>\n",
       "      <td>0</td>\n",
       "      <td>0</td>\n",
       "      <td>0</td>\n",
       "      <td>0</td>\n",
       "    </tr>\n",
       "    <tr>\n",
       "      <th>2</th>\n",
       "      <td>4</td>\n",
       "      <td>0</td>\n",
       "      <td>0</td>\n",
       "      <td>0</td>\n",
       "      <td>0</td>\n",
       "      <td>0</td>\n",
       "      <td>0</td>\n",
       "      <td>0</td>\n",
       "      <td>0</td>\n",
       "      <td>0</td>\n",
       "      <td>...</td>\n",
       "      <td>0</td>\n",
       "      <td>0</td>\n",
       "      <td>0</td>\n",
       "      <td>0</td>\n",
       "      <td>0</td>\n",
       "      <td>0</td>\n",
       "      <td>0</td>\n",
       "      <td>0</td>\n",
       "      <td>0</td>\n",
       "      <td>0</td>\n",
       "    </tr>\n",
       "    <tr>\n",
       "      <th>3</th>\n",
       "      <td>1</td>\n",
       "      <td>0</td>\n",
       "      <td>0</td>\n",
       "      <td>0</td>\n",
       "      <td>0</td>\n",
       "      <td>0</td>\n",
       "      <td>0</td>\n",
       "      <td>0</td>\n",
       "      <td>0</td>\n",
       "      <td>0</td>\n",
       "      <td>...</td>\n",
       "      <td>0</td>\n",
       "      <td>0</td>\n",
       "      <td>0</td>\n",
       "      <td>0</td>\n",
       "      <td>0</td>\n",
       "      <td>0</td>\n",
       "      <td>0</td>\n",
       "      <td>0</td>\n",
       "      <td>0</td>\n",
       "      <td>0</td>\n",
       "    </tr>\n",
       "    <tr>\n",
       "      <th>4</th>\n",
       "      <td>9</td>\n",
       "      <td>0</td>\n",
       "      <td>0</td>\n",
       "      <td>0</td>\n",
       "      <td>0</td>\n",
       "      <td>0</td>\n",
       "      <td>0</td>\n",
       "      <td>0</td>\n",
       "      <td>0</td>\n",
       "      <td>0</td>\n",
       "      <td>...</td>\n",
       "      <td>0</td>\n",
       "      <td>0</td>\n",
       "      <td>0</td>\n",
       "      <td>0</td>\n",
       "      <td>0</td>\n",
       "      <td>0</td>\n",
       "      <td>0</td>\n",
       "      <td>0</td>\n",
       "      <td>0</td>\n",
       "      <td>0</td>\n",
       "    </tr>\n",
       "  </tbody>\n",
       "</table>\n",
       "<p>5 rows × 785 columns</p>\n",
       "</div>"
      ],
      "text/plain": [
       "   Category  pixel0  pixel1  pixel2  pixel3  pixel4  pixel5  pixel6  pixel7  \\\n",
       "0         5       0       0       0       0       0       0       0       0   \n",
       "1         0       0       0       0       0       0       0       0       0   \n",
       "2         4       0       0       0       0       0       0       0       0   \n",
       "3         1       0       0       0       0       0       0       0       0   \n",
       "4         9       0       0       0       0       0       0       0       0   \n",
       "\n",
       "   pixel8    ...     pixel774  pixel775  pixel776  pixel777  pixel778  \\\n",
       "0       0    ...            0         0         0         0         0   \n",
       "1       0    ...            0         0         0         0         0   \n",
       "2       0    ...            0         0         0         0         0   \n",
       "3       0    ...            0         0         0         0         0   \n",
       "4       0    ...            0         0         0         0         0   \n",
       "\n",
       "   pixel779  pixel780  pixel781  pixel782  pixel783  \n",
       "0         0         0         0         0         0  \n",
       "1         0         0         0         0         0  \n",
       "2         0         0         0         0         0  \n",
       "3         0         0         0         0         0  \n",
       "4         0         0         0         0         0  \n",
       "\n",
       "[5 rows x 785 columns]"
      ]
     },
     "execution_count": 7,
     "metadata": {
      "tags": []
     },
     "output_type": "execute_result"
    }
   ],
   "source": [
    "train_df1.head()"
   ]
  },
  {
   "cell_type": "code",
   "execution_count": 0,
   "metadata": {
    "colab": {},
    "colab_type": "code",
    "id": "vifkczCphqEE"
   },
   "outputs": [],
   "source": [
    "y_train1 = np.array(train_df1.iloc[:, 0])\n",
    "y_train2 = np.array(y_test_mnist)\n",
    "y_train3 = np.array(y_train_mnist)"
   ]
  },
  {
   "cell_type": "code",
   "execution_count": 0,
   "metadata": {
    "colab": {},
    "colab_type": "code",
    "id": "iIoRJvoMiTWK"
   },
   "outputs": [],
   "source": [
    "x_train1 = np.array(train_df1.iloc[:, 1:])\n",
    "x_train2 = np.array(x_test_mnsit)\n",
    "x_train3 = np.array(x_train_mnist)"
   ]
  },
  {
   "cell_type": "code",
   "execution_count": 17,
   "metadata": {
    "colab": {
     "base_uri": "https://localhost:8080/",
     "height": 122
    },
    "colab_type": "code",
    "id": "iYpby8Xiiq5i",
    "outputId": "b0b88001-c42e-48a5-ff0a-261cfbeccf0a"
   },
   "outputs": [
    {
     "name": "stdout",
     "output_type": "stream",
     "text": [
      "(60000, 784)\n",
      "(10000, 28, 28)\n",
      "(60000, 28, 28)\n",
      "(60000,)\n",
      "(10000,)\n",
      "(60000,)\n"
     ]
    }
   ],
   "source": [
    "print(x_train1.shape)\n",
    "print(x_train2.shape)\n",
    "print(x_train3.shape)\n",
    "\n",
    "print(y_train1.shape)\n",
    "print(y_train2.shape)\n",
    "print(y_train3.shape)\n"
   ]
  },
  {
   "cell_type": "code",
   "execution_count": 0,
   "metadata": {
    "colab": {},
    "colab_type": "code",
    "id": "FttslJDziiLT"
   },
   "outputs": [],
   "source": [
    "#x_train = np.row_stack((x_train1,x_train2, x_train3))\n",
    "#y_train = np.append(np.append(y_train1,y_train2), y_train3)\n",
    "x_train=x_train1\n",
    "y_train=y_train1"
   ]
  },
  {
   "cell_type": "code",
   "execution_count": 21,
   "metadata": {
    "colab": {
     "base_uri": "https://localhost:8080/",
     "height": 244
    },
    "colab_type": "code",
    "id": "nwghxCD4kYHt",
    "outputId": "6596954c-6ee4-4717-8cd3-191aac0e18ee"
   },
   "outputs": [
    {
     "data": {
      "text/html": [
       "<div>\n",
       "<style scoped>\n",
       "    .dataframe tbody tr th:only-of-type {\n",
       "        vertical-align: middle;\n",
       "    }\n",
       "\n",
       "    .dataframe tbody tr th {\n",
       "        vertical-align: top;\n",
       "    }\n",
       "\n",
       "    .dataframe thead th {\n",
       "        text-align: right;\n",
       "    }\n",
       "</style>\n",
       "<table border=\"1\" class=\"dataframe\">\n",
       "  <thead>\n",
       "    <tr style=\"text-align: right;\">\n",
       "      <th></th>\n",
       "      <th>pixel0</th>\n",
       "      <th>pixel1</th>\n",
       "      <th>pixel2</th>\n",
       "      <th>pixel3</th>\n",
       "      <th>pixel4</th>\n",
       "      <th>pixel5</th>\n",
       "      <th>pixel6</th>\n",
       "      <th>pixel7</th>\n",
       "      <th>pixel8</th>\n",
       "      <th>pixel9</th>\n",
       "      <th>...</th>\n",
       "      <th>pixel774</th>\n",
       "      <th>pixel775</th>\n",
       "      <th>pixel776</th>\n",
       "      <th>pixel777</th>\n",
       "      <th>pixel778</th>\n",
       "      <th>pixel779</th>\n",
       "      <th>pixel780</th>\n",
       "      <th>pixel781</th>\n",
       "      <th>pixel782</th>\n",
       "      <th>pixel783</th>\n",
       "    </tr>\n",
       "  </thead>\n",
       "  <tbody>\n",
       "    <tr>\n",
       "      <th>0</th>\n",
       "      <td>0</td>\n",
       "      <td>0</td>\n",
       "      <td>0</td>\n",
       "      <td>0</td>\n",
       "      <td>0</td>\n",
       "      <td>0</td>\n",
       "      <td>0</td>\n",
       "      <td>0</td>\n",
       "      <td>0</td>\n",
       "      <td>0</td>\n",
       "      <td>...</td>\n",
       "      <td>0</td>\n",
       "      <td>0</td>\n",
       "      <td>0</td>\n",
       "      <td>0</td>\n",
       "      <td>0</td>\n",
       "      <td>0</td>\n",
       "      <td>0</td>\n",
       "      <td>0</td>\n",
       "      <td>0</td>\n",
       "      <td>0</td>\n",
       "    </tr>\n",
       "    <tr>\n",
       "      <th>1</th>\n",
       "      <td>0</td>\n",
       "      <td>0</td>\n",
       "      <td>0</td>\n",
       "      <td>0</td>\n",
       "      <td>0</td>\n",
       "      <td>0</td>\n",
       "      <td>0</td>\n",
       "      <td>0</td>\n",
       "      <td>0</td>\n",
       "      <td>0</td>\n",
       "      <td>...</td>\n",
       "      <td>0</td>\n",
       "      <td>0</td>\n",
       "      <td>0</td>\n",
       "      <td>0</td>\n",
       "      <td>0</td>\n",
       "      <td>0</td>\n",
       "      <td>0</td>\n",
       "      <td>0</td>\n",
       "      <td>0</td>\n",
       "      <td>0</td>\n",
       "    </tr>\n",
       "    <tr>\n",
       "      <th>2</th>\n",
       "      <td>0</td>\n",
       "      <td>0</td>\n",
       "      <td>0</td>\n",
       "      <td>0</td>\n",
       "      <td>0</td>\n",
       "      <td>0</td>\n",
       "      <td>0</td>\n",
       "      <td>0</td>\n",
       "      <td>0</td>\n",
       "      <td>0</td>\n",
       "      <td>...</td>\n",
       "      <td>0</td>\n",
       "      <td>0</td>\n",
       "      <td>0</td>\n",
       "      <td>0</td>\n",
       "      <td>0</td>\n",
       "      <td>0</td>\n",
       "      <td>0</td>\n",
       "      <td>0</td>\n",
       "      <td>0</td>\n",
       "      <td>0</td>\n",
       "    </tr>\n",
       "    <tr>\n",
       "      <th>3</th>\n",
       "      <td>0</td>\n",
       "      <td>0</td>\n",
       "      <td>0</td>\n",
       "      <td>0</td>\n",
       "      <td>0</td>\n",
       "      <td>0</td>\n",
       "      <td>0</td>\n",
       "      <td>0</td>\n",
       "      <td>0</td>\n",
       "      <td>0</td>\n",
       "      <td>...</td>\n",
       "      <td>0</td>\n",
       "      <td>0</td>\n",
       "      <td>0</td>\n",
       "      <td>0</td>\n",
       "      <td>0</td>\n",
       "      <td>0</td>\n",
       "      <td>0</td>\n",
       "      <td>0</td>\n",
       "      <td>0</td>\n",
       "      <td>0</td>\n",
       "    </tr>\n",
       "    <tr>\n",
       "      <th>4</th>\n",
       "      <td>0</td>\n",
       "      <td>0</td>\n",
       "      <td>0</td>\n",
       "      <td>0</td>\n",
       "      <td>0</td>\n",
       "      <td>0</td>\n",
       "      <td>0</td>\n",
       "      <td>0</td>\n",
       "      <td>0</td>\n",
       "      <td>0</td>\n",
       "      <td>...</td>\n",
       "      <td>0</td>\n",
       "      <td>0</td>\n",
       "      <td>0</td>\n",
       "      <td>0</td>\n",
       "      <td>0</td>\n",
       "      <td>0</td>\n",
       "      <td>0</td>\n",
       "      <td>0</td>\n",
       "      <td>0</td>\n",
       "      <td>0</td>\n",
       "    </tr>\n",
       "  </tbody>\n",
       "</table>\n",
       "<p>5 rows × 784 columns</p>\n",
       "</div>"
      ],
      "text/plain": [
       "   pixel0  pixel1  pixel2  pixel3  pixel4  pixel5  pixel6  pixel7  pixel8  \\\n",
       "0       0       0       0       0       0       0       0       0       0   \n",
       "1       0       0       0       0       0       0       0       0       0   \n",
       "2       0       0       0       0       0       0       0       0       0   \n",
       "3       0       0       0       0       0       0       0       0       0   \n",
       "4       0       0       0       0       0       0       0       0       0   \n",
       "\n",
       "   pixel9    ...     pixel774  pixel775  pixel776  pixel777  pixel778  \\\n",
       "0       0    ...            0         0         0         0         0   \n",
       "1       0    ...            0         0         0         0         0   \n",
       "2       0    ...            0         0         0         0         0   \n",
       "3       0    ...            0         0         0         0         0   \n",
       "4       0    ...            0         0         0         0         0   \n",
       "\n",
       "   pixel779  pixel780  pixel781  pixel782  pixel783  \n",
       "0         0         0         0         0         0  \n",
       "1         0         0         0         0         0  \n",
       "2         0         0         0         0         0  \n",
       "3         0         0         0         0         0  \n",
       "4         0         0         0         0         0  \n",
       "\n",
       "[5 rows x 784 columns]"
      ]
     },
     "execution_count": 21,
     "metadata": {
      "tags": []
     },
     "output_type": "execute_result"
    }
   ],
   "source": [
    "test_df = pd.read_csv(\"mnist_test.csv\")\n",
    "test_df=test_df.drop(test_df.columns[0], axis=1)\n",
    "test_df.head()\n"
   ]
  },
  {
   "cell_type": "code",
   "execution_count": 0,
   "metadata": {
    "colab": {},
    "colab_type": "code",
    "id": "KQ_WxUnxkqR9"
   },
   "outputs": [],
   "source": [
    "x_test = np.array(test_df)"
   ]
  },
  {
   "cell_type": "code",
   "execution_count": 0,
   "metadata": {
    "colab": {},
    "colab_type": "code",
    "id": "RYLXtxNQkuWc"
   },
   "outputs": [],
   "source": [
    "n_samples_train = x_train.shape[0]\n",
    "n_samples_test = x_test.shape[0]"
   ]
  },
  {
   "cell_type": "code",
   "execution_count": 0,
   "metadata": {
    "colab": {},
    "colab_type": "code",
    "id": "7fTAN1D7kxhj"
   },
   "outputs": [],
   "source": [
    "def inttofloat(x):\n",
    "    x = x / 255\n",
    "    return x"
   ]
  },
  {
   "cell_type": "code",
   "execution_count": 0,
   "metadata": {
    "colab": {},
    "colab_type": "code",
    "id": "SfGW4ncck1n5"
   },
   "outputs": [],
   "source": [
    "def output(prediction):\n",
    "    df_predict = {\"Id\":range(1, n_samples_test+1), \"Category\":prediction}\n",
    "    df_predict = pd.DataFrame(df_predict)\n",
    "    columnsTitles=[\"Id\",\"Category\"]\n",
    "    df_predict=df_predict.reindex(columns=columnsTitles)\n",
    "    df_predict.to_csv(\"MNIST_kaggle_solution_2.csv\", index = False)"
   ]
  },
  {
   "cell_type": "code",
   "execution_count": 0,
   "metadata": {
    "colab": {},
    "colab_type": "code",
    "id": "hWjGBZdok4Wz"
   },
   "outputs": [],
   "source": [
    "x_train = inttofloat(x_train)\n",
    "x_test = inttofloat(x_test)"
   ]
  },
  {
   "cell_type": "code",
   "execution_count": 0,
   "metadata": {
    "colab": {},
    "colab_type": "code",
    "id": "JZdh-HF2k7tw"
   },
   "outputs": [],
   "source": [
    "model = Sequential()\n",
    "y_train = utils.to_categorical(y_train, num_classes=10)"
   ]
  },
  {
   "cell_type": "code",
   "execution_count": 28,
   "metadata": {
    "colab": {
     "base_uri": "https://localhost:8080/",
     "height": 195
    },
    "colab_type": "code",
    "id": "wZl3jRkSk-dJ",
    "outputId": "6c6f045f-d5d3-4129-9659-a49d2f134673"
   },
   "outputs": [
    {
     "name": "stdout",
     "output_type": "stream",
     "text": [
      "WARNING:tensorflow:From /usr/local/lib/python3.6/dist-packages/tensorflow/python/framework/op_def_library.py:263: colocate_with (from tensorflow.python.framework.ops) is deprecated and will be removed in a future version.\n",
      "Instructions for updating:\n",
      "Colocations handled automatically by placer.\n"
     ]
    },
    {
     "name": "stderr",
     "output_type": "stream",
     "text": [
      "/usr/local/lib/python3.6/dist-packages/ipykernel_launcher.py:7: UserWarning: Update your `Dense` call to the Keras 2 API: `Dense(activation=\"relu\", units=1000)`\n",
      "  import sys\n",
      "/usr/local/lib/python3.6/dist-packages/ipykernel_launcher.py:8: UserWarning: Update your `Dense` call to the Keras 2 API: `Dense(activation=\"relu\", units=100)`\n",
      "  \n",
      "/usr/local/lib/python3.6/dist-packages/ipykernel_launcher.py:9: UserWarning: Update your `Dense` call to the Keras 2 API: `Dense(activation=\"softmax\", units=10)`\n",
      "  if __name__ == '__main__':\n"
     ]
    }
   ],
   "source": [
    "model.add(Reshape(target_shape=(1, 28, 28), input_shape=(784,)))\n",
    "model.add(Conv2D(kernel_size=(3, 3), filters=32, padding=\"same\", data_format=\"channels_first\", kernel_initializer=\"uniform\", use_bias=False))\n",
    "model.add(AveragePooling2D(pool_size=(2, 2), data_format=\"channels_first\"))\n",
    "model.add(Conv2D(kernel_size=(3, 3), filters=64, padding=\"same\", data_format=\"channels_first\", kernel_initializer=\"uniform\", use_bias=False))\n",
    "model.add(AveragePooling2D(pool_size=(2, 2), data_format=\"channels_first\"))\n",
    "model.add(Flatten())\n",
    "model.add(Dense(output_dim=1000, activation='relu'))\n",
    "model.add(Dense(output_dim=100, activation='relu'))\n",
    "model.add(Dense(output_dim=10, activation='softmax'))"
   ]
  },
  {
   "cell_type": "code",
   "execution_count": 0,
   "metadata": {
    "colab": {},
    "colab_type": "code",
    "id": "uxK7uOIhlE_s"
   },
   "outputs": [],
   "source": [
    "rmsprop = RMSprop(lr=0.0005)\n",
    "model.compile(loss='binary_crossentropy', optimizer=rmsprop, metrics=['accuracy'])"
   ]
  },
  {
   "cell_type": "code",
   "execution_count": 30,
   "metadata": {
    "colab": {
     "base_uri": "https://localhost:8080/",
     "height": 2202
    },
    "colab_type": "code",
    "id": "BiwWh7tGlJMH",
    "outputId": "88db9dcb-4000-45c4-d837-3dbd98acf7cc"
   },
   "outputs": [
    {
     "name": "stdout",
     "output_type": "stream",
     "text": [
      "WARNING:tensorflow:From /usr/local/lib/python3.6/dist-packages/tensorflow/python/ops/math_ops.py:2801: to_int32 (from tensorflow.python.ops.math_ops) is deprecated and will be removed in a future version.\n",
      "Instructions for updating:\n",
      "Use tf.cast instead.\n",
      "Epoch 1/60\n",
      "60000/60000 [==============================] - 158s 3ms/step - loss: 0.0383 - acc: 0.9869\n",
      "Epoch 2/60\n",
      "60000/60000 [==============================] - 157s 3ms/step - loss: 0.0159 - acc: 0.9947\n",
      "Epoch 3/60\n",
      "60000/60000 [==============================] - 157s 3ms/step - loss: 0.0117 - acc: 0.9961\n",
      "Epoch 4/60\n",
      "60000/60000 [==============================] - 157s 3ms/step - loss: 0.0090 - acc: 0.9970\n",
      "Epoch 5/60\n",
      "60000/60000 [==============================] - 157s 3ms/step - loss: 0.0074 - acc: 0.9976\n",
      "Epoch 6/60\n",
      "60000/60000 [==============================] - 156s 3ms/step - loss: 0.0059 - acc: 0.9980\n",
      "Epoch 7/60\n",
      "60000/60000 [==============================] - 156s 3ms/step - loss: 0.0050 - acc: 0.9983\n",
      "Epoch 8/60\n",
      "60000/60000 [==============================] - 156s 3ms/step - loss: 0.0044 - acc: 0.9986\n",
      "Epoch 9/60\n",
      "60000/60000 [==============================] - 159s 3ms/step - loss: 0.0036 - acc: 0.9988\n",
      "Epoch 10/60\n",
      "60000/60000 [==============================] - 155s 3ms/step - loss: 0.0032 - acc: 0.9989\n",
      "Epoch 11/60\n",
      "60000/60000 [==============================] - 157s 3ms/step - loss: 0.0029 - acc: 0.9991\n",
      "Epoch 12/60\n",
      "60000/60000 [==============================] - 156s 3ms/step - loss: 0.0023 - acc: 0.9993\n",
      "Epoch 13/60\n",
      "60000/60000 [==============================] - 274s 5ms/step - loss: 0.0021 - acc: 0.9994\n",
      "Epoch 14/60\n",
      "60000/60000 [==============================] - 277s 5ms/step - loss: 0.0018 - acc: 0.9995\n",
      "Epoch 15/60\n",
      "60000/60000 [==============================] - 277s 5ms/step - loss: 0.0018 - acc: 0.9995\n",
      "Epoch 16/60\n",
      "60000/60000 [==============================] - 173s 3ms/step - loss: 0.0016 - acc: 0.9995\n",
      "Epoch 17/60\n",
      "60000/60000 [==============================] - 156s 3ms/step - loss: 0.0014 - acc: 0.9996\n",
      "Epoch 18/60\n",
      "60000/60000 [==============================] - 155s 3ms/step - loss: 0.0014 - acc: 0.9996\n",
      "Epoch 19/60\n",
      "60000/60000 [==============================] - 156s 3ms/step - loss: 0.0012 - acc: 0.9997\n",
      "Epoch 20/60\n",
      "60000/60000 [==============================] - 156s 3ms/step - loss: 0.0013 - acc: 0.9997\n",
      "Epoch 21/60\n",
      "60000/60000 [==============================] - 157s 3ms/step - loss: 0.0011 - acc: 0.9997\n",
      "Epoch 22/60\n",
      "60000/60000 [==============================] - 191s 3ms/step - loss: 9.3402e-04 - acc: 0.9997\n",
      "Epoch 23/60\n",
      "60000/60000 [==============================] - 269s 4ms/step - loss: 0.0013 - acc: 0.9997\n",
      "Epoch 24/60\n",
      "60000/60000 [==============================] - 269s 4ms/step - loss: 0.0012 - acc: 0.9998\n",
      "Epoch 25/60\n",
      "60000/60000 [==============================] - 254s 4ms/step - loss: 6.9172e-04 - acc: 0.9998\n",
      "Epoch 26/60\n",
      "60000/60000 [==============================] - 159s 3ms/step - loss: 7.8552e-04 - acc: 0.9998\n",
      "Epoch 27/60\n",
      "60000/60000 [==============================] - 160s 3ms/step - loss: 8.5352e-04 - acc: 0.9998\n",
      "Epoch 28/60\n",
      "60000/60000 [==============================] - 161s 3ms/step - loss: 7.8119e-04 - acc: 0.9998\n",
      "Epoch 29/60\n",
      "60000/60000 [==============================] - 160s 3ms/step - loss: 7.2243e-04 - acc: 0.9998\n",
      "Epoch 30/60\n",
      "60000/60000 [==============================] - 158s 3ms/step - loss: 7.4738e-04 - acc: 0.9998\n",
      "Epoch 31/60\n",
      "60000/60000 [==============================] - 157s 3ms/step - loss: 6.4523e-04 - acc: 0.9998\n",
      "Epoch 32/60\n",
      "60000/60000 [==============================] - 157s 3ms/step - loss: 6.9683e-04 - acc: 0.9998\n",
      "Epoch 33/60\n",
      "60000/60000 [==============================] - 156s 3ms/step - loss: 4.3367e-04 - acc: 0.9999\n",
      "Epoch 34/60\n",
      "60000/60000 [==============================] - 156s 3ms/step - loss: 7.0518e-04 - acc: 0.9999\n",
      "Epoch 35/60\n",
      "60000/60000 [==============================] - 156s 3ms/step - loss: 5.7097e-04 - acc: 0.9999\n",
      "Epoch 36/60\n",
      "60000/60000 [==============================] - 156s 3ms/step - loss: 4.0264e-04 - acc: 0.9999\n",
      "Epoch 37/60\n",
      "60000/60000 [==============================] - 156s 3ms/step - loss: 8.3380e-04 - acc: 0.9999\n",
      "Epoch 38/60\n",
      "60000/60000 [==============================] - 157s 3ms/step - loss: 4.6817e-04 - acc: 0.9999\n",
      "Epoch 39/60\n",
      "60000/60000 [==============================] - 156s 3ms/step - loss: 6.4489e-04 - acc: 0.9999\n",
      "Epoch 40/60\n",
      "60000/60000 [==============================] - 157s 3ms/step - loss: 4.7739e-04 - acc: 0.9999\n",
      "Epoch 41/60\n",
      "60000/60000 [==============================] - 189s 3ms/step - loss: 4.4086e-04 - acc: 0.9999\n",
      "Epoch 42/60\n",
      "60000/60000 [==============================] - 270s 4ms/step - loss: 4.4174e-04 - acc: 0.9999\n",
      "Epoch 43/60\n",
      "60000/60000 [==============================] - 270s 4ms/step - loss: 3.6996e-04 - acc: 0.9999\n",
      "Epoch 44/60\n",
      "60000/60000 [==============================] - 250s 4ms/step - loss: 6.1164e-04 - acc: 0.9999\n",
      "Epoch 45/60\n",
      "60000/60000 [==============================] - 156s 3ms/step - loss: 4.7394e-04 - acc: 0.9999\n",
      "Epoch 46/60\n",
      "60000/60000 [==============================] - 156s 3ms/step - loss: 3.7126e-04 - acc: 0.9999\n",
      "Epoch 47/60\n",
      "60000/60000 [==============================] - 155s 3ms/step - loss: 3.4095e-04 - acc: 0.9999\n",
      "Epoch 48/60\n",
      "60000/60000 [==============================] - 156s 3ms/step - loss: 5.6428e-04 - acc: 0.9999\n",
      "Epoch 49/60\n",
      "60000/60000 [==============================] - 156s 3ms/step - loss: 5.1020e-04 - acc: 0.9999\n",
      "Epoch 50/60\n",
      "60000/60000 [==============================] - 156s 3ms/step - loss: 6.2847e-04 - acc: 0.9999\n",
      "Epoch 51/60\n",
      "60000/60000 [==============================] - 156s 3ms/step - loss: 2.3998e-04 - acc: 0.9999\n",
      "Epoch 52/60\n",
      "60000/60000 [==============================] - 156s 3ms/step - loss: 5.2970e-04 - acc: 0.9999\n",
      "Epoch 53/60\n",
      "60000/60000 [==============================] - 155s 3ms/step - loss: 2.5562e-04 - acc: 0.9999\n",
      "Epoch 54/60\n",
      "60000/60000 [==============================] - 156s 3ms/step - loss: 5.9678e-04 - acc: 0.9999\n",
      "Epoch 55/60\n",
      "60000/60000 [==============================] - 155s 3ms/step - loss: 5.8568e-04 - acc: 0.9999\n",
      "Epoch 56/60\n",
      "60000/60000 [==============================] - 156s 3ms/step - loss: 6.0168e-04 - acc: 0.9999\n",
      "Epoch 57/60\n",
      "60000/60000 [==============================] - 157s 3ms/step - loss: 3.7575e-04 - acc: 0.9999\n",
      "Epoch 58/60\n",
      "60000/60000 [==============================] - 158s 3ms/step - loss: 3.5699e-04 - acc: 0.9999\n",
      "Epoch 59/60\n",
      "60000/60000 [==============================] - 157s 3ms/step - loss: 3.7875e-04 - acc: 0.9999\n",
      "Epoch 60/60\n",
      "60000/60000 [==============================] - 156s 3ms/step - loss: 3.3314e-04 - acc: 0.9999\n"
     ]
    }
   ],
   "source": [
    "model.fit(x_train, y_train, epochs=60, batch_size=64)\n",
    "prediction = model.predict_classes(x_test)"
   ]
  },
  {
   "cell_type": "code",
   "execution_count": 0,
   "metadata": {
    "colab": {},
    "colab_type": "code",
    "id": "NkWuzPtblL-l"
   },
   "outputs": [],
   "source": [
    "output(prediction)"
   ]
  },
  {
   "cell_type": "code",
   "execution_count": 0,
   "metadata": {
    "colab": {},
    "colab_type": "code",
    "id": "iYAIb_xQNtdH"
   },
   "outputs": [],
   "source": [
    "from google.colab import files\n",
    "files.download('MNIST_kaggle_solution_2.csv')"
   ]
  }
 ],
 "metadata": {
  "colab": {
   "collapsed_sections": [],
   "name": "MNIST Digit Classifier Attempt 2.ipynb",
   "provenance": [],
   "version": "0.3.2"
  },
  "kernelspec": {
   "display_name": "Python 3",
   "language": "python",
   "name": "python3"
  },
  "language_info": {
   "codemirror_mode": {
    "name": "ipython",
    "version": 3
   },
   "file_extension": ".py",
   "mimetype": "text/x-python",
   "name": "python",
   "nbconvert_exporter": "python",
   "pygments_lexer": "ipython3",
   "version": "3.6.5"
  }
 },
 "nbformat": 4,
 "nbformat_minor": 1
}
