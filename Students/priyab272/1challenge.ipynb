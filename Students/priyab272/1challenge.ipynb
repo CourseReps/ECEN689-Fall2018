{
 "cells": [
  {
   "cell_type": "markdown",
   "metadata": {},
   "source": [
    "# Challenge 1\n",
    "\n",
    "## Reading Materials\n",
    "\n",
    "### Required Reading\n",
    "Due: September 6, 2018\n",
    "\n",
    " * Understanding Machine Learning from Theory to Algorithms, S. Shalev-Shwartz and S. Ben-David\n",
    "   * **Chapter 1**: A gentle start\n",
    "   * **Chapter 9**: Linear predictors\n",
    "   \n",
    "\n",
    "### [Kaggle Tutorials](https://www.kaggle.com/learn/overview)\n",
    "Due: September 6, 2018\n",
    "\n",
    " * __Complete__ [Python course](https://www.kaggle.com/learn/python), if needed\n",
    " * __Complete__ [Pandas course](https://www.kaggle.com/learn/pandas), if needed\n",
    "\n",
    "\n",
    "## Activity 1\n",
    "Due: September 6, 2018\n",
    "\n",
    "In Activity 1, you are tasked with estimating the mean and variance of a series of data sets, two parameters for every row.\n",
    "Each student has their own file, and should work in place.\n",
    "```python\n",
    "student_identity = 'netid'\n",
    "filename = '1challenge1activity_' + student_identity + '.csv'\n",
    "```\n",
    "\n",
    "### Deliverables\n",
    " 1. Fill column ```Mean``` and ```Variance```.\n",
    " 2. Commit your change on Git.\n",
    "\n",
    "### Metric\n",
    " * Average $L_2$ norm between the true and estimated parameters."
   ]
  },
  {
   "cell_type": "code",
   "execution_count": 25,
   "metadata": {},
   "outputs": [
    {
     "name": "stdout",
     "output_type": "stream",
     "text": [
      "   Unnamed: 0  Mean  Variance  Sample 0  Sample 1  Sample 2  Sample 3  \\\n",
      "0           0   NaN       NaN  0.642928 -0.770573 -0.546879  0.151754   \n",
      "1           1   NaN       NaN  2.285042  0.965400  2.556950  1.849162   \n",
      "\n",
      "   Sample 4  Sample 5  Sample 6  Sample 7  Sample 8  Sample 9  Sample 10  \\\n",
      "0 -0.101507 -0.544645  0.102061 -1.049577 -0.501906  1.262002  -0.297466   \n",
      "1  0.969270  0.879341 -0.083342  1.347974 -0.519771  0.769888  -0.003072   \n",
      "\n",
      "   Sample 11  \n",
      "0  -0.117012  \n",
      "1   0.630251  \n"
     ]
    }
   ],
   "source": [
    "import pandas as pd\n",
    "import numpy as np\n",
    "\n",
    "student_identity = 'priyab272'\n",
    "filename = '1challenge1activity_' + student_identity + '.csv'\n",
    "sample_df = pd.read_csv('../../Challenges/1Files/' + filename)\n",
    "\n",
    "print(sample_df.head(2))"
   ]
  },
  {
   "cell_type": "code",
   "execution_count": 14,
   "metadata": {
    "collapsed": true
   },
   "outputs": [],
   "source": [
    "#Find mean and store in column 1\n",
    "sample_df.loc[:,'Mean'] = sample_df.loc[:,'Sample 0':].mean(axis=1)"
   ]
  },
  {
   "cell_type": "code",
   "execution_count": 13,
   "metadata": {
    "collapsed": true
   },
   "outputs": [],
   "source": [
    "#Find variance and store in column 2\n",
    "sample_df.loc[:,'Variance'] = sample_df.loc[:,'Sample 0':].var(axis=1)"
   ]
  },
  {
   "cell_type": "code",
   "execution_count": 18,
   "metadata": {
    "collapsed": true
   },
   "outputs": [],
   "source": [
    "sample_df.loc[:,'Mean':].to_csv(path_or_buf='1Files/' + filename)"
   ]
  },
  {
   "cell_type": "code",
   "execution_count": 19,
   "metadata": {},
   "outputs": [
    {
     "name": "stdout",
     "output_type": "stream",
     "text": [
      "   Unnamed: 0      Mean  Variance  Sample 0  Sample 1  Sample 2  Sample 3  \\\n",
      "0           0 -0.147568  0.403058  0.642928 -0.770573 -0.546879  0.151754   \n",
      "1           1  0.970591  0.873006  2.285042  0.965400  2.556950  1.849162   \n",
      "\n",
      "   Sample 4  Sample 5  Sample 6  Sample 7  Sample 8  Sample 9  Sample 10  \\\n",
      "0 -0.101507 -0.544645  0.102061 -1.049577 -0.501906  1.262002  -0.297466   \n",
      "1  0.969270  0.879341 -0.083342  1.347974 -0.519771  0.769888  -0.003072   \n",
      "\n",
      "   Sample 11  \n",
      "0  -0.117012  \n",
      "1   0.630251  \n"
     ]
    }
   ],
   "source": []
  }
 ],
 "metadata": {
  "kernelspec": {
   "display_name": "Python 3",
   "language": "python",
   "name": "python3"
  },
  "language_info": {
   "codemirror_mode": {
    "name": "ipython",
    "version": 3
   },
   "file_extension": ".py",
   "mimetype": "text/x-python",
   "name": "python",
   "nbconvert_exporter": "python",
   "pygments_lexer": "ipython3",
   "version": "3.6.3"
  }
 },
 "nbformat": 4,
 "nbformat_minor": 2
}
