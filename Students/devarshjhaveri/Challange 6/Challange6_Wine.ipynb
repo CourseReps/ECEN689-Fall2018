{
  "nbformat": 4,
  "nbformat_minor": 0,
  "metadata": {
    "colab": {
      "name": "Project6Wine_1.ipynb",
      "version": "0.3.2",
      "provenance": []
    },
    "kernelspec": {
      "name": "python3",
      "display_name": "Python 3"
    }
  },
  "cells": [
    {
      "metadata": {
        "id": "JTDUUYnAi_tg",
        "colab_type": "code",
        "colab": {}
      },
      "cell_type": "code",
      "source": [
        "import tensorflow as tf\n",
        "import keras\n",
        "import pandas as pd\n",
        "import numpy as np\n",
        "from google.colab import files\n",
        "from sklearn.preprocessing import OneHotEncoder, StandardScaler\n",
        "from keras.models import Sequential\n",
        "from keras.layers import Dense, Activation, Dropout, Flatten, Conv2D, MaxPooling2D, BatchNormalization\n",
        "from keras.optimizers import SGD, Adam\n",
        "from keras.utils import to_categorical, np_utils\n",
        "from keras.preprocessing.image import ImageDataGenerator\n",
        "from keras.callbacks import LearningRateScheduler\n",
        "from sklearn.model_selection import KFold"
      ],
      "execution_count": 0,
      "outputs": []
    },
    {
      "metadata": {
        "id": "Dn8SXtHDVApi",
        "colab_type": "code",
        "colab": {}
      },
      "cell_type": "code",
      "source": [
        "from sklearn.metrics import mean_squared_error"
      ],
      "execution_count": 0,
      "outputs": []
    },
    {
      "metadata": {
        "id": "6CA3EWkSjXsP",
        "colab_type": "code",
        "colab": {}
      },
      "cell_type": "code",
      "source": [
        "uploaded = files.upload()"
      ],
      "execution_count": 0,
      "outputs": []
    },
    {
      "metadata": {
        "id": "aWAmhcAMmkwd",
        "colab_type": "code",
        "colab": {}
      },
      "cell_type": "code",
      "source": [
        "train_df = pd.read_csv('winequality-white-training.csv')\n",
        "test_df = pd.read_csv('winequality-white-testing.csv')\n",
        "submission_df = pd.read_csv('winequality-white-sample.csv')"
      ],
      "execution_count": 0,
      "outputs": []
    },
    {
      "metadata": {
        "id": "g4wII-r8nBTj",
        "colab_type": "code",
        "colab": {}
      },
      "cell_type": "code",
      "source": [
        "X = train_df.iloc[:,1:12].values\n",
        "Y = train_df.iloc[:,12].values\n",
        "X_test = test_df.iloc[:,1:12]"
      ],
      "execution_count": 0,
      "outputs": []
    },
    {
      "metadata": {
        "id": "tPJoH7umDaiO",
        "colab_type": "code",
        "colab": {}
      },
      "cell_type": "code",
      "source": [
        "scaler = StandardScaler()\n",
        "X = scaler.fit_transform(X)\n",
        "X_test = scaler.fit_transform(X_test)"
      ],
      "execution_count": 0,
      "outputs": []
    },
    {
      "metadata": {
        "id": "_b_3x8ox9sZu",
        "colab_type": "code",
        "colab": {
          "base_uri": "https://localhost:8080/",
          "height": 102
        },
        "outputId": "107a63fd-1b05-42bb-a2d7-81e4ad78a680"
      },
      "cell_type": "code",
      "source": [
        "#ADAM\n",
        "kfold = KFold(n_splits=5, shuffle=True, random_state=1)\n",
        "cvscores = []\n",
        "for train, test in kfold.split(X_train, Y_train):\n",
        "  # create model\n",
        "\tmodel = Sequential()\n",
        "\tmodel.add(Dense(11, input_dim=11, activation='relu'))\n",
        "\tmodel.add(Dense(6, activation='relu'))\n",
        "\tmodel.add(Dense(1, activation='linear'))\n",
        "\t# Compile model\n",
        "\tmodel.compile(loss='mean_squared_error', optimizer='adam',)\n",
        "\t# Fit the model\n",
        "\tmodel.fit(X[train], Y[train], epochs=100, batch_size=10, verbose=0)\n",
        "\t# evaluate the model\n",
        "\trmse = np.sqrt(model.evaluate(X[test], Y[test], verbose=0))\n",
        "\tprint(\"%s: %.8f\" % (\"RMSE\", rmse))"
      ],
      "execution_count": 81,
      "outputs": [
        {
          "output_type": "stream",
          "text": [
            "RMSE: 0.72347480\n",
            "RMSE: 0.67121961\n",
            "RMSE: 0.76331612\n",
            "RMSE: 0.70403236\n",
            "RMSE: 0.72688426\n"
          ],
          "name": "stdout"
        }
      ]
    },
    {
      "metadata": {
        "id": "vMz7WT2pJLFN",
        "colab_type": "code",
        "colab": {
          "base_uri": "https://localhost:8080/",
          "height": 187
        },
        "outputId": "a0e5f1af-b236-4da5-c61f-9323f3603967"
      },
      "cell_type": "code",
      "source": [
        "kfold = KFold(n_splits=5, shuffle=True, random_state=1)\n",
        "cvscores = []\n",
        "for train, test in kfold.split(X, Y):\n",
        "  train_x, test_x = X[train], X[test]\n",
        "  train_y, test_y = Y[train], Y[test]\n",
        "  #create model\n",
        "  model = Sequential()\n",
        "  model.add(Dense(11, input_dim=11, activation='relu'))\n",
        "  model.add(Dense(6, activation='relu'))\n",
        "  model.add(Dense(1, activation='linear'))\n",
        "  # Compile model\n",
        "  sgd = SGD(lr=0.001)\n",
        "  model.compile(loss='mean_squared_error', optimizer=sgd)\n",
        "  # Fit the model\n",
        "  model.fit(train_x, train_y, epochs=150, verbose=0)\n",
        "  # evaluate the model\n",
        "  y_pred = model.predict(test_x)\n",
        "  rmse = np.sqrt(mean_squared_error(y_pred, test_y))\n",
        "  print(\"%s: %.8f\" % (\"RMSE\", rmse))"
      ],
      "execution_count": 167,
      "outputs": [
        {
          "output_type": "stream",
          "text": [
            "Hello\n",
            "RMSE: 0.73546323\n",
            "Hello\n",
            "RMSE: 0.68654488\n",
            "Hello\n",
            "RMSE: 0.75671748\n",
            "Hello\n",
            "RMSE: 0.72702447\n",
            "Hello\n",
            "RMSE: 0.72640282\n"
          ],
          "name": "stdout"
        }
      ]
    },
    {
      "metadata": {
        "id": "sl8oT485BxqX",
        "colab_type": "code",
        "colab": {
          "base_uri": "https://localhost:8080/",
          "height": 187
        },
        "outputId": "ba0a2f0b-16c7-431f-f144-e56235638c8d"
      },
      "cell_type": "code",
      "source": [
        "Y_pred = model.predict(X_test)\n",
        "print(y_pred.shape)\n",
        "print(y_pred[1:10])"
      ],
      "execution_count": 127,
      "outputs": [
        {
          "output_type": "stream",
          "text": [
            "(1000, 1)\n",
            "[[6.381049 ]\n",
            " [5.7181377]\n",
            " [6.2531147]\n",
            " [5.7412605]\n",
            " [6.9681754]\n",
            " [5.0416927]\n",
            " [5.135924 ]\n",
            " [4.7411876]\n",
            " [5.721387 ]]\n"
          ],
          "name": "stdout"
        }
      ]
    },
    {
      "metadata": {
        "id": "tIsrAREFGxYT",
        "colab_type": "code",
        "colab": {}
      },
      "cell_type": "code",
      "source": [
        "submission_df[\"quality\"] = Y_pred"
      ],
      "execution_count": 0,
      "outputs": []
    },
    {
      "metadata": {
        "id": "pvgXOTU-G6-I",
        "colab_type": "code",
        "colab": {}
      },
      "cell_type": "code",
      "source": [
        "submission_df.to_csv('winequality-white-sample-pred1_SGD.csv',index=False)"
      ],
      "execution_count": 0,
      "outputs": []
    },
    {
      "metadata": {
        "id": "mz_5jps2TA4Y",
        "colab_type": "code",
        "colab": {}
      },
      "cell_type": "code",
      "source": [
        "files.download('winequality-white-sample-pred_SGD.csv')"
      ],
      "execution_count": 0,
      "outputs": []
    }
  ]
}