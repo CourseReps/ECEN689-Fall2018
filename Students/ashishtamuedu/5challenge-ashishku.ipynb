{
 "cells": [
  {
   "cell_type": "markdown",
   "metadata": {},
   "source": [
    "# Challenge 5\n",
    "\n",
    "## Reading Materials\n",
    "\n",
    "### Required Reading\n",
    "\n",
    "\n",
    "## Activity 1\n",
    "Due: September 6, 2018\n",
    "\n",
    "In Activity 1, you are tasked with building a binary classifier based on SVM.\n",
    "Each student has their own files, and should work in place.\n",
    "```python\n",
    "student_identity = 'netid'\n",
    "training = '5challenge_training_' + student_identity + '.csv'\n",
    "testing = '5challenge_testing_' + student_identity + '.csv'\n",
    "```\n",
    "\n",
    "### Deliverables\n",
    " 1. Fill column ```Class``` in the testing file.\n",
    " 2. Commit your change on Git.\n",
    " 3. Describe the Kernel you used for your SVM. Plot the decision region juxtaposed with the training set.\n"
   ]
  },
  {
   "cell_type": "code",
   "execution_count": 1,
   "metadata": {},
   "outputs": [
    {
     "name": "stdout",
     "output_type": "stream",
     "text": [
      "   Unnamed: 0  Class  Feature 0  Feature 1\n",
      "0           0      1   1.137832   1.317101\n",
      "1           1      1   0.318304  -0.312743\n",
      "2           2      0  -0.307529   0.650840\n",
      "3           3      0  -0.221490   0.706659\n",
      "4           4      1   0.998161  -0.886530\n"
     ]
    },
    {
     "data": {
      "text/plain": [
       "<Figure size 640x480 with 1 Axes>"
      ]
     },
     "metadata": {},
     "output_type": "display_data"
    }
   ],
   "source": [
    "import pandas as pd\n",
    "import numpy as np\n",
    "import matplotlib.pyplot as plt\n",
    "\n",
    "student_identity = 'ashishku'\n",
    "\n",
    "filenameToRead = '5challenge_training_' + student_identity + '.csv'\n",
    "training_df = pd.read_csv('5Files/' + filenameToRead)\n",
    "\n",
    "print(training_df.head())\n",
    "\n",
    "X1 = training_df[['Feature 0', 'Feature 1']].values\n",
    "Y1 = training_df[['Class']].values\n",
    "colors=np.array(training_df['Class'])\n",
    "\n",
    "plt.scatter(X1[:, 0], X1[:, 1], marker='o', c=colors, s=25, edgecolor='k')\n",
    "plt.show()\n"
   ]
  },
  {
   "cell_type": "code",
   "execution_count": 2,
   "metadata": {},
   "outputs": [],
   "source": [
    "training_df=training_df.drop(['Unnamed: 0'],axis=1)"
   ]
  },
  {
   "cell_type": "code",
   "execution_count": 3,
   "metadata": {},
   "outputs": [],
   "source": [
    "training_df['Feature 0'] = pd.to_numeric(training_df['Feature 0'], errors='coerce')\n",
    "training_df['Feature 1'] = pd.to_numeric(training_df['Feature 1'], errors='coerce')"
   ]
  },
  {
   "cell_type": "code",
   "execution_count": 4,
   "metadata": {},
   "outputs": [],
   "source": [
    "from sklearn import svm\n",
    "from sklearn.linear_model import LinearRegression\n",
    "from sklearn.model_selection import train_test_split\n",
    "from sklearn.svm import SVC\n",
    "y=training_df['Class']\n",
    "X=training_df[['Feature 0','Feature 1']].values\n",
    "#X_train, X_test, y_train, y_test = train_test_split(X, y, train_size=0.75, random_state=0)"
   ]
  },
  {
   "cell_type": "code",
   "execution_count": 5,
   "metadata": {},
   "outputs": [],
   "source": [
    "# use all the tarining set for training\n",
    "X_train = X \n",
    "X_test = X\n",
    "y_train = y\n",
    "y_test = y"
   ]
  },
  {
   "cell_type": "code",
   "execution_count": 6,
   "metadata": {},
   "outputs": [
    {
     "name": "stdout",
     "output_type": "stream",
     "text": [
      "best C =  5601\n",
      "best model =  rbf\n",
      "best score =  0.885\n",
      "best gamma =  0.1\n"
     ]
    }
   ],
   "source": [
    "best_score=0\n",
    "best_C = 0\n",
    "model = \"X\"\n",
    "best_gamma=0.0\n",
    "for c in range(1,10000,100):\n",
    "# Fit regression model\n",
    "\n",
    "    from sklearn.metrics import accuracy_score   \n",
    "    svr_lin = SVC(kernel='linear', C=c)\n",
    "    svr_poly = SVC(kernel='poly', C=c, degree=2)\n",
    "    \n",
    "    y_lin = svr_lin.fit(X_train, y_train).predict(X_test)\n",
    "    y_poly = svr_poly.fit(X_train, y_train).predict(X_test)\n",
    "    for g in [0.0001,0.001,.01,.1]:\n",
    "        svr_rbf = SVC(kernel='rbf', C=c, gamma=g)\n",
    "        y_rbf = svr_rbf.fit(X_train, y_train).predict(X_test)\n",
    "        #print (\" gamma = \", g)\n",
    "        #print (\" For C = \", c)\n",
    "        #print (\" RBF:Accuracy on test data = \", accuracy_score(y_test,y_rbf))\n",
    "        if (best_score < accuracy_score(y_test,y_rbf)):\n",
    "            best_C = c\n",
    "            model = \"rbf\"\n",
    "            best_gamma = g\n",
    "            best_score = accuracy_score(y_test,y_rbf)\n",
    "    #print (\" LIN:Accuracy on test data = \", accuracy_score(y_test,y_lin))\n",
    "    if (best_score < accuracy_score(y_test,y_lin)):\n",
    "        best_C = c\n",
    "        model = \"linear\"\n",
    "        best_score = accuracy_score(y_test,y_lin)    \n",
    "    #print (\" POL:Accuracy on test data = \", accuracy_score(y_test,y_poly))\n",
    "    if (best_score < accuracy_score(y_test,y_lin)):\n",
    "        best_C = c\n",
    "        model = \"poly\"\n",
    "        best_score = accuracy_score(y_test,y_poly) \n",
    "\n",
    "print (\"best C = \", best_C)\n",
    "print (\"best model = \", model)\n",
    "print (\"best score = \", best_score)\n",
    "print (\"best gamma = \", best_gamma)\n"
   ]
  },
  {
   "cell_type": "code",
   "execution_count": 7,
   "metadata": {},
   "outputs": [],
   "source": [
    "testingfile = '5challenge_testing_' + student_identity + '.csv'\n",
    "testing_df = pd.read_csv('5Files/' + testingfile)\n",
    "X_test=testing_df[['Feature 0','Feature 1']].values\n",
    "best_model = SVC(kernel= model, C=best_C, gamma= best_gamma)\n",
    "class_pred = best_model.fit(X_train, y_train).predict(X_test)"
   ]
  },
  {
   "cell_type": "markdown",
   "metadata": {},
   "source": [
    "\n",
    "    \n"
   ]
  },
  {
   "cell_type": "code",
   "execution_count": 8,
   "metadata": {},
   "outputs": [
    {
     "data": {
      "image/png": "[encoded data removed]",
      "text/plain": [
       "<Figure size 432x288 with 1 Axes>"
      ]
     },
     "metadata": {},
     "output_type": "display_data"
    }
   ],
   "source": [
    "def make_meshgrid(x, y, h=.02):\n",
    "    \"\"\"Create a mesh of points to plot in\n",
    "\n",
    "    Parameters\n",
    "    ----------\n",
    "    x: data to base x-axis meshgrid on\n",
    "    y: data to base y-axis meshgrid on\n",
    "    h: stepsize for meshgrid, optional\n",
    "\n",
    "    Returns\n",
    "    -------\n",
    "    xx, yy : ndarray\n",
    "    \"\"\"\n",
    "    x_min, x_max = x.min() - 1, x.max() + 1\n",
    "    y_min, y_max = y.min() - 1, y.max() + 1\n",
    "    xx, yy = np.meshgrid(np.arange(x_min, x_max, h),\n",
    "                         np.arange(y_min, y_max, h))\n",
    "    return xx, yy\n",
    "\n",
    "\n",
    "def plot_contours(ax, clf, xx, yy, **params):\n",
    "    \"\"\"Plot the decision boundaries for a classifier.\n",
    "\n",
    "    Parameters\n",
    "    ----------\n",
    "    ax: matplotlib axes object\n",
    "    clf: a classifier\n",
    "    xx: meshgrid ndarray\n",
    "    yy: meshgrid ndarray\n",
    "    params: dictionary of params to pass to contourf, optional\n",
    "    \"\"\"\n",
    "    Z = clf.predict(np.c_[xx.ravel(), yy.ravel()])\n",
    "    Z = Z.reshape(xx.shape)\n",
    "    out = ax.contourf(xx, yy, Z, **params)\n",
    "    return out\n",
    "# title for the plots\n",
    "titles = ('SVM with RBF kernel')\n",
    "# Set-up 1x1 grid for plotting.\n",
    "fig, sub = plt.subplots(1, 1)\n",
    "plt.subplots_adjust(wspace=0.4, hspace=0.4)\n",
    "\n",
    "X0, X1 = X_train[:, 0], X_train[:, 1]\n",
    "xx, yy = make_meshgrid(X0, X1)\n",
    "ax=sub\n",
    "#for title, ax in zip(titles, sub.flatten()):\n",
    "plot_contours(ax, best_model, xx, yy,cmap=plt.cm.RdBu, alpha=0.8)\n",
    "ax.scatter(X0, X1, c=y_train, cmap=plt.cm.coolwarm, s=20, edgecolors='k')\n",
    "ax.set_xlim(xx.min(), xx.max())\n",
    "ax.set_ylim(yy.min(), yy.max())\n",
    "ax.set_xlabel('Feature 0')\n",
    "ax.set_ylabel('Feature 1')\n",
    "ax.set_xticks(())\n",
    "ax.set_yticks(())\n",
    "ax.set_title(titles)\n",
    "plt.show()"
   ]
  },
  {
   "cell_type": "markdown",
   "metadata": {},
   "source": [
    "## Analysis on model used and Data set\n",
    "    \n",
    "    1. Data set used has almost equal number of class 0 and 1\n",
    "    2. Feature scaling is not needed as Feature 0 and 1 are within a small range\n",
    "    3. Number of features is n=2 and training set is m=200.\n",
    "    4. So linear and Gaussian RBF makes the right fit as m>n\n",
    "    5. If RBF is used the gamma and C needs to be set for best accuracy for validation set\n",
    "    6. As per model and parameters search RBF with C = 5601 and gamma = 0.1 as optimum values is the best kernel.\n",
    "    "
   ]
  },
  {
   "cell_type": "code",
   "execution_count": 9,
   "metadata": {},
   "outputs": [],
   "source": [
    "testing_df['Class']=class_pred"
   ]
  },
  {
   "cell_type": "code",
   "execution_count": 10,
   "metadata": {},
   "outputs": [],
   "source": [
    "testing_df=testing_df.drop(['Unnamed: 0'],axis=1)\n"
   ]
  },
  {
   "cell_type": "code",
   "execution_count": 11,
   "metadata": {},
   "outputs": [],
   "source": [
    "testing_df.to_csv(testingfile)"
   ]
  },
  {
   "cell_type": "code",
   "execution_count": null,
   "metadata": {},
   "outputs": [],
   "source": []
  }
 ],
 "metadata": {
  "kernelspec": {
   "display_name": "Python 3",
   "language": "python",
   "name": "python3"
  },
  "language_info": {
   "codemirror_mode": {
    "name": "ipython",
    "version": 3
   },
   "file_extension": ".py",
   "mimetype": "text/x-python",
   "name": "python",
   "nbconvert_exporter": "python",
   "pygments_lexer": "ipython3",
   "version": "3.6.5"
  }
 },
 "nbformat": 4,
 "nbformat_minor": 2
}
