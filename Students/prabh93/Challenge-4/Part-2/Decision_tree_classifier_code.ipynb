{
 "cells": [
  {
   "cell_type": "code",
   "execution_count": 17,
   "metadata": {},
   "outputs": [],
   "source": [
    "import numpy as np\n",
    "import pandas as pd\n",
    "from sklearn import tree\n",
    "\n",
    "\n",
    "file1_path ='/Users/shirishpandagare/IndustrialEngineering/ECEN_689/Challenge_4/Part2/winequality-combined-training.csv'\n",
    "file2_path ='/Users/shirishpandagare/IndustrialEngineering/ECEN_689/Challenge_4/Part2/winequality-combined-testing.csv'\n",
    "file3_path ='/Users/shirishpandagare/IndustrialEngineering/ECEN_689/Challenge_4/Part2/winequality-combined-sample.csv'\n",
    "file4_path ='/Users/shirishpandagare/IndustrialEngineering/ECEN_689/Challenge_4/Part2/winequality-combined-coefficient.csv'\n",
    "file5_path ='/Users/shirishpandagare/IndustrialEngineering/ECEN_689/Challenge_4/Part2/winequality-combined-intercept.csv'\n",
    "\n",
    "wine_train = pd.read_csv(file1_path).drop(['Id'], axis =1)\n",
    "wine_test = pd.read_csv(file2_path).drop(['Id'], axis=1)\n",
    "wine_final = pd.read_csv(file3_path)\n",
    "\n",
    "X_train = wine_train.drop(['type'], axis=1)\n",
    "Y_train = wine_train.type\n",
    "X_test = wine_test"
   ]
  },
  {
   "cell_type": "code",
   "execution_count": 19,
   "metadata": {},
   "outputs": [],
   "source": [
    "clf = tree.DecisionTreeClassifier()\n",
    "clf = clf.fit(X_train, Y_train)\n",
    "clf.get_params"
   ]
  },
  {
   "cell_type": "code",
   "execution_count": 21,
   "metadata": {},
   "outputs": [],
   "source": [
    "wine_final.type = clf.predict(X_test)\n",
    "wine_final.to_csv(file3_path)"
   ]
  },
  {
   "cell_type": "code",
   "execution_count": 23,
   "metadata": {},
   "outputs": [],
   "source": []
  },
  {
   "cell_type": "code",
   "execution_count": 24,
   "metadata": {},
   "outputs": [],
   "source": []
  },
  {
   "cell_type": "code",
   "execution_count": null,
   "metadata": {},
   "outputs": [],
   "source": []
  }
 ],
 "metadata": {
  "kernelspec": {
   "display_name": "Python 3",
   "language": "python",
   "name": "python3"
  },
  "language_info": {
   "codemirror_mode": {
    "name": "ipython",
    "version": 3
   },
   "file_extension": ".py",
   "mimetype": "text/x-python",
   "name": "python",
   "nbconvert_exporter": "python",
   "pygments_lexer": "ipython3",
   "version": "3.6.5"
  }
 },
 "nbformat": 4,
 "nbformat_minor": 2
}
