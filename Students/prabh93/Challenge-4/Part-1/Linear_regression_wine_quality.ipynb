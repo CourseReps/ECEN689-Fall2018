{
 "cells": [
  {
   "cell_type": "code",
   "execution_count": 1,
   "metadata": {},
   "outputs": [],
   "source": [
    "import numpy as np\n",
    "import pandas as pd\n",
    "from sklearn import linear_model\n",
    "from sklearn.linear_model import LinearRegression\n",
    "\n",
    "file1_path ='/Users/shirishpandagare/IndustrialEngineering/ECEN_689/Challenge_4/Part1/winequality-white-training.csv'\n",
    "file2_path ='/Users/shirishpandagare/IndustrialEngineering/ECEN_689/Challenge_4/Part1/winequality-white-testing.csv'\n",
    "file3_path ='/Users/shirishpandagare/IndustrialEngineering/ECEN_689/Challenge_4/Part1/winequality-white-solution.csv'\n",
    "file4_path ='/Users/shirishpandagare/IndustrialEngineering/ECEN_689/Challenge_4/Part1/winequality-white-coefficient.csv'\n",
    "file5_path ='/Users/shirishpandagare/IndustrialEngineering/ECEN_689/Challenge_4/Part1/winequality-white-intercept.csv'\n",
    "\n",
    "#Importing training and test dataset\n",
    "wine_train_df = pd.read_csv(file1_path).drop(['Id'], axis =1)\n",
    "wine_test_df = pd.read_csv(file2_path).drop(['Id'], axis =1)\n",
    "wine_solution_df = pd.read_csv(file3_path)\n",
    "#dividing the features and \n",
    "X_train = wine_train_df[['fixed acidity', 'volatile acidity', 'citric acid', 'residual sugar', 'chlorides','free sulfur dioxide','total sulfur dioxide','density','pH','sulphates','alcohol']]\n",
    "Y_train = wine_train_df.quality\n",
    "X_test = wine_test_df"
   ]
  },
  {
   "cell_type": "code",
   "execution_count": 2,
   "metadata": {},
   "outputs": [],
   "source": [
    "reg = linear_model.LinearRegression()\n",
    "reg.fit(X_train, Y_train)\n",
    "wine_white_LinearReg_coef = pd.DataFrame(reg.coef_)\n",
    "intercept = reg.intercept_\n",
    "\n",
    "wine_white_LinearReg_coef.to_csv(file4_path)\n",
    "#intercept.to_csv(file5_path)\n"
   ]
  },
  {
   "cell_type": "code",
   "execution_count": 3,
   "metadata": {},
   "outputs": [],
   "source": [
    "wine_solution_df.quality = reg.predict(X_test)\n",
    "wine_solution_df.to_csv(file3_path)"
   ]
  },
  {
   "cell_type": "code",
   "execution_count": 46,
   "metadata": {},
   "outputs": [],
   "source": []
  },
  {
   "cell_type": "code",
   "execution_count": 47,
   "metadata": {},
   "outputs": [],
   "source": []
  },
  {
   "cell_type": "code",
   "execution_count": null,
   "metadata": {},
   "outputs": [],
   "source": []
  }
 ],
 "metadata": {
  "kernelspec": {
   "display_name": "Python 3",
   "language": "python",
   "name": "python3"
  },
  "language_info": {
   "codemirror_mode": {
    "name": "ipython",
    "version": 3
   },
   "file_extension": ".py",
   "mimetype": "text/x-python",
   "name": "python",
   "nbconvert_exporter": "python",
   "pygments_lexer": "ipython3",
   "version": "3.6.5"
  }
 },
 "nbformat": 4,
 "nbformat_minor": 2
}
