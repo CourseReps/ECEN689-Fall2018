{
 "cells": [
  {
   "cell_type": "code",
   "execution_count": 2,
   "metadata": {},
   "outputs": [],
   "source": [
    "import pandas as pd\n",
    "import numpy as np\n",
    "import sklearn\n",
    "from sklearn.linear_model import Lasso\n",
    "from sklearn.metrics import mean_squared_error"
   ]
  },
  {
   "cell_type": "code",
   "execution_count": 3,
   "metadata": {},
   "outputs": [],
   "source": [
    "#Data loading \n",
    "train_data = pd.read_csv('D:\\\\Semester-3\\\\ECEN 689\\\\Challenge 3\\\\population_training.csv', encoding='cp1252')\n",
    "test_data = pd.read_csv('D:\\\\Semester-3\\\\ECEN 689\\\\Challenge 3\\\\population_testing.csv', encoding='cp1252')"
   ]
  },
  {
   "cell_type": "code",
   "execution_count": 4,
   "metadata": {},
   "outputs": [
    {
     "name": "stdout",
     "output_type": "stream",
     "text": [
      "  Country Name     1960     1961     1962     1963     1964     1965  \\\n",
      "0        Aruba    54211    55438    56225    56695    57032    57360   \n",
      "1  Afghanistan  8996351  9166764  9345868  9533954  9731361  9938414   \n",
      "2       Angola  5643182  5753024  5866061  5980417  6093321  6203299   \n",
      "3      Albania  1608800  1659800  1711319  1762621  1814135  1864791   \n",
      "4      Andorra    13411    14375    15370    16412    17469    18549   \n",
      "\n",
      "       1966      1967      1968    ...         1990      1991      1992  \\\n",
      "0     57715     58055     58386    ...        62149     64622     68235   \n",
      "1  10152331  10372630  10604346    ...     12249114  12993657  13981231   \n",
      "2   6309770   6414995   6523791    ...     12171441  12553446  12968345   \n",
      "3   1914573   1965598   2022272    ...      3286542   3266790   3247039   \n",
      "4     19647     20758     21890    ...        54509     56671     58888   \n",
      "\n",
      "       1993      1994      1995      1996      1997      1998      1999  \n",
      "0     72504     76700     80324     83200     85451     87277     89005  \n",
      "1  15095099  16172719  17099541  17822884  18381605  18863999  19403676  \n",
      "2  13403734  13841301  14268994  14682284  15088981  15504318  15949766  \n",
      "3   3227287   3207536   3187784   3168033   3148281   3128530   3108778  \n",
      "4     60971     62677     63850     64360     64327     64142     64370  \n",
      "\n",
      "[5 rows x 41 columns]\n"
     ]
    }
   ],
   "source": [
    "print(train_data.head(5))"
   ]
  },
  {
   "cell_type": "code",
   "execution_count": 5,
   "metadata": {},
   "outputs": [],
   "source": [
    "names = list(train_data['Country Name'].values)"
   ]
  },
  {
   "cell_type": "code",
   "execution_count": 6,
   "metadata": {},
   "outputs": [
    {
     "name": "stdout",
     "output_type": "stream",
     "text": [
      "['Aruba', 'Afghanistan', 'Angola', 'Albania', 'Andorra', 'Arab World', 'United Arab Emirates', 'Argentina', 'Armenia', 'American Samoa', 'Antigua and Barbuda', 'Australia', 'Austria', 'Azerbaijan', 'Burundi', 'Belgium', 'Benin', 'Burkina Faso', 'Bangladesh', 'Bulgaria', 'Bahrain', 'Bahamas, The', 'Bosnia and Herzegovina', 'Belarus', 'Belize', 'Bermuda', 'Bolivia', 'Brazil', 'Barbados', 'Brunei Darussalam', 'Bhutan', 'Botswana', 'Central African Republic', 'Canada', 'Central Europe and the Baltics', 'Switzerland', 'Channel Islands', 'Chile', 'China', \"Cote d'Ivoire\", 'Cameroon', 'Congo, Dem. Rep.', 'Congo, Rep.', 'Colombia', 'Comoros', 'Cabo Verde', 'Costa Rica', 'Caribbean small states', 'Cuba', 'Curacao', 'Cayman Islands', 'Cyprus', 'Czech Republic', 'Germany', 'Djibouti', 'Dominica', 'Denmark', 'Dominican Republic', 'Algeria', 'East Asia & Pacific (excluding high income)', 'Early-demographic dividend', 'East Asia & Pacific', 'Europe & Central Asia (excluding high income)', 'Europe & Central Asia', 'Ecuador', 'Egypt, Arab Rep.', 'Euro area', 'Spain', 'Estonia', 'Ethiopia', 'European Union', 'Fragile and conflict affected situations', 'Finland', 'Fiji', 'France', 'Faroe Islands', 'Micronesia, Fed. Sts.', 'Gabon', 'United Kingdom', 'Georgia', 'Ghana', 'Gibraltar', 'Guinea', 'Gambia, The', 'Guinea-Bissau', 'Equatorial Guinea', 'Greece', 'Grenada', 'Greenland', 'Guatemala', 'Guam', 'Guyana', 'High income', 'Hong Kong SAR, China', 'Honduras', 'Heavily indebted poor countries (HIPC)', 'Croatia', 'Haiti', 'Hungary', 'IBRD only', 'IDA & IBRD total', 'IDA total', 'IDA blend', 'Indonesia', 'IDA only', 'Isle of Man', 'India', 'Ireland', 'Iran, Islamic Rep.', 'Iraq', 'Iceland', 'Israel', 'Italy', 'Jamaica', 'Jordan', 'Japan', 'Kazakhstan', 'Kenya', 'Kyrgyz Republic', 'Cambodia', 'Kiribati', 'St. Kitts and Nevis', 'Korea, Rep.', 'Latin America & Caribbean (excluding high income)', 'Lao PDR', 'Lebanon', 'Liberia', 'Libya', 'St. Lucia', 'Latin America & Caribbean', 'Least developed countries: UN classification', 'Low income', 'Liechtenstein', 'Sri Lanka', 'Lower middle income', 'Low & middle income', 'Lesotho', 'Late-demographic dividend', 'Lithuania', 'Luxembourg', 'Latvia', 'Macao SAR, China', 'St. Martin (French part)', 'Morocco', 'Monaco', 'Moldova', 'Madagascar', 'Maldives', 'Middle East & North Africa', 'Mexico', 'Marshall Islands', 'Middle income', 'Macedonia, FYR', 'Mali', 'Malta', 'Myanmar', 'Middle East & North Africa (excluding high income)', 'Montenegro', 'Mongolia', 'Northern Mariana Islands', 'Mozambique', 'Mauritania', 'Mauritius', 'Malawi', 'Malaysia', 'North America', 'Namibia', 'New Caledonia', 'Niger', 'Nigeria', 'Nicaragua', 'Netherlands', 'Norway', 'Nepal', 'Nauru', 'New Zealand', 'OECD members', 'Oman', 'Other small states', 'Pakistan', 'Panama', 'Peru', 'Philippines', 'Palau', 'Papua New Guinea', 'Poland', 'Pre-demographic dividend', 'Puerto Rico', 'Korea, Dem. People’s Rep.', 'Portugal', 'Paraguay', 'Pacific island small states', 'Post-demographic dividend', 'French Polynesia', 'Qatar', 'Romania', 'Russian Federation', 'Rwanda', 'South Asia', 'Saudi Arabia', 'Sudan', 'Senegal', 'Singapore', 'Solomon Islands', 'Sierra Leone', 'El Salvador', 'San Marino', 'Somalia', 'Sub-Saharan Africa (excluding high income)', 'South Sudan', 'Sub-Saharan Africa', 'Small states', 'Sao Tome and Principe', 'Suriname', 'Slovak Republic', 'Slovenia', 'Sweden', 'Swaziland', 'Seychelles', 'Syrian Arab Republic', 'Turks and Caicos Islands', 'Chad', 'East Asia & Pacific (IDA & IBRD countries)', 'Europe & Central Asia (IDA & IBRD countries)', 'Togo', 'Thailand', 'Tajikistan', 'Turkmenistan', 'Latin America & the Caribbean (IDA & IBRD countries)', 'Timor-Leste', 'Middle East & North Africa (IDA & IBRD countries)', 'Tonga', 'South Asia (IDA & IBRD)', 'Sub-Saharan Africa (IDA & IBRD countries)', 'Trinidad and Tobago', 'Tunisia', 'Turkey', 'Tuvalu', 'Tanzania', 'Uganda', 'Ukraine', 'Upper middle income', 'Uruguay', 'United States', 'Uzbekistan', 'St. Vincent and the Grenadines', 'Venezuela, RB', 'British Virgin Islands', 'Virgin Islands (U.S.)', 'Vietnam', 'Vanuatu', 'World', 'Samoa', 'Kosovo', 'Yemen, Rep.', 'South Africa', 'Zambia', 'Zimbabwe']\n"
     ]
    }
   ],
   "source": [
    "print(names)"
   ]
  },
  {
   "cell_type": "code",
   "execution_count": null,
   "metadata": {},
   "outputs": [],
   "source": []
  },
  {
   "cell_type": "code",
   "execution_count": 56,
   "metadata": {},
   "outputs": [
    {
     "name": "stdout",
     "output_type": "stream",
     "text": [
      "(258, 41)\n"
     ]
    }
   ],
   "source": [
    "#Checking Data Dimensions\n",
    "print(train_data.shape)"
   ]
  },
  {
   "cell_type": "code",
   "execution_count": 57,
   "metadata": {},
   "outputs": [],
   "source": [
    "#Dropping the ID Column\n",
    "test_data_ = test_data['Country Name']\n",
    "train_data.drop(['Country Name'], axis=1, inplace=True)\n",
    "test_data.drop(['Country Name'], axis=1, inplace=True)"
   ]
  },
  {
   "cell_type": "code",
   "execution_count": 58,
   "metadata": {},
   "outputs": [
    {
     "data": {
      "text/html": [
       "<div>\n",
       "<style scoped>\n",
       "    .dataframe tbody tr th:only-of-type {\n",
       "        vertical-align: middle;\n",
       "    }\n",
       "\n",
       "    .dataframe tbody tr th {\n",
       "        vertical-align: top;\n",
       "    }\n",
       "\n",
       "    .dataframe thead th {\n",
       "        text-align: right;\n",
       "    }\n",
       "</style>\n",
       "<table border=\"1\" class=\"dataframe\">\n",
       "  <thead>\n",
       "    <tr style=\"text-align: right;\">\n",
       "      <th></th>\n",
       "      <th>1960</th>\n",
       "      <th>1961</th>\n",
       "      <th>1962</th>\n",
       "      <th>1963</th>\n",
       "      <th>1964</th>\n",
       "      <th>1965</th>\n",
       "      <th>1966</th>\n",
       "      <th>1967</th>\n",
       "      <th>1968</th>\n",
       "      <th>1969</th>\n",
       "      <th>...</th>\n",
       "      <th>1990</th>\n",
       "      <th>1991</th>\n",
       "      <th>1992</th>\n",
       "      <th>1993</th>\n",
       "      <th>1994</th>\n",
       "      <th>1995</th>\n",
       "      <th>1996</th>\n",
       "      <th>1997</th>\n",
       "      <th>1998</th>\n",
       "      <th>1999</th>\n",
       "    </tr>\n",
       "  </thead>\n",
       "  <tbody>\n",
       "    <tr>\n",
       "      <th>0</th>\n",
       "      <td>54211</td>\n",
       "      <td>55438</td>\n",
       "      <td>56225</td>\n",
       "      <td>56695</td>\n",
       "      <td>57032</td>\n",
       "      <td>57360</td>\n",
       "      <td>57715</td>\n",
       "      <td>58055</td>\n",
       "      <td>58386</td>\n",
       "      <td>58726</td>\n",
       "      <td>...</td>\n",
       "      <td>62149</td>\n",
       "      <td>64622</td>\n",
       "      <td>68235</td>\n",
       "      <td>72504</td>\n",
       "      <td>76700</td>\n",
       "      <td>80324</td>\n",
       "      <td>83200</td>\n",
       "      <td>85451</td>\n",
       "      <td>87277</td>\n",
       "      <td>89005</td>\n",
       "    </tr>\n",
       "    <tr>\n",
       "      <th>1</th>\n",
       "      <td>8996351</td>\n",
       "      <td>9166764</td>\n",
       "      <td>9345868</td>\n",
       "      <td>9533954</td>\n",
       "      <td>9731361</td>\n",
       "      <td>9938414</td>\n",
       "      <td>10152331</td>\n",
       "      <td>10372630</td>\n",
       "      <td>10604346</td>\n",
       "      <td>10854428</td>\n",
       "      <td>...</td>\n",
       "      <td>12249114</td>\n",
       "      <td>12993657</td>\n",
       "      <td>13981231</td>\n",
       "      <td>15095099</td>\n",
       "      <td>16172719</td>\n",
       "      <td>17099541</td>\n",
       "      <td>17822884</td>\n",
       "      <td>18381605</td>\n",
       "      <td>18863999</td>\n",
       "      <td>19403676</td>\n",
       "    </tr>\n",
       "    <tr>\n",
       "      <th>2</th>\n",
       "      <td>5643182</td>\n",
       "      <td>5753024</td>\n",
       "      <td>5866061</td>\n",
       "      <td>5980417</td>\n",
       "      <td>6093321</td>\n",
       "      <td>6203299</td>\n",
       "      <td>6309770</td>\n",
       "      <td>6414995</td>\n",
       "      <td>6523791</td>\n",
       "      <td>6642632</td>\n",
       "      <td>...</td>\n",
       "      <td>12171441</td>\n",
       "      <td>12553446</td>\n",
       "      <td>12968345</td>\n",
       "      <td>13403734</td>\n",
       "      <td>13841301</td>\n",
       "      <td>14268994</td>\n",
       "      <td>14682284</td>\n",
       "      <td>15088981</td>\n",
       "      <td>15504318</td>\n",
       "      <td>15949766</td>\n",
       "    </tr>\n",
       "    <tr>\n",
       "      <th>3</th>\n",
       "      <td>1608800</td>\n",
       "      <td>1659800</td>\n",
       "      <td>1711319</td>\n",
       "      <td>1762621</td>\n",
       "      <td>1814135</td>\n",
       "      <td>1864791</td>\n",
       "      <td>1914573</td>\n",
       "      <td>1965598</td>\n",
       "      <td>2022272</td>\n",
       "      <td>2081695</td>\n",
       "      <td>...</td>\n",
       "      <td>3286542</td>\n",
       "      <td>3266790</td>\n",
       "      <td>3247039</td>\n",
       "      <td>3227287</td>\n",
       "      <td>3207536</td>\n",
       "      <td>3187784</td>\n",
       "      <td>3168033</td>\n",
       "      <td>3148281</td>\n",
       "      <td>3128530</td>\n",
       "      <td>3108778</td>\n",
       "    </tr>\n",
       "    <tr>\n",
       "      <th>4</th>\n",
       "      <td>13411</td>\n",
       "      <td>14375</td>\n",
       "      <td>15370</td>\n",
       "      <td>16412</td>\n",
       "      <td>17469</td>\n",
       "      <td>18549</td>\n",
       "      <td>19647</td>\n",
       "      <td>20758</td>\n",
       "      <td>21890</td>\n",
       "      <td>23058</td>\n",
       "      <td>...</td>\n",
       "      <td>54509</td>\n",
       "      <td>56671</td>\n",
       "      <td>58888</td>\n",
       "      <td>60971</td>\n",
       "      <td>62677</td>\n",
       "      <td>63850</td>\n",
       "      <td>64360</td>\n",
       "      <td>64327</td>\n",
       "      <td>64142</td>\n",
       "      <td>64370</td>\n",
       "    </tr>\n",
       "  </tbody>\n",
       "</table>\n",
       "<p>5 rows × 40 columns</p>\n",
       "</div>"
      ],
      "text/plain": [
       "      1960     1961     1962     1963     1964     1965      1966      1967  \\\n",
       "0    54211    55438    56225    56695    57032    57360     57715     58055   \n",
       "1  8996351  9166764  9345868  9533954  9731361  9938414  10152331  10372630   \n",
       "2  5643182  5753024  5866061  5980417  6093321  6203299   6309770   6414995   \n",
       "3  1608800  1659800  1711319  1762621  1814135  1864791   1914573   1965598   \n",
       "4    13411    14375    15370    16412    17469    18549     19647     20758   \n",
       "\n",
       "       1968      1969    ...         1990      1991      1992      1993  \\\n",
       "0     58386     58726    ...        62149     64622     68235     72504   \n",
       "1  10604346  10854428    ...     12249114  12993657  13981231  15095099   \n",
       "2   6523791   6642632    ...     12171441  12553446  12968345  13403734   \n",
       "3   2022272   2081695    ...      3286542   3266790   3247039   3227287   \n",
       "4     21890     23058    ...        54509     56671     58888     60971   \n",
       "\n",
       "       1994      1995      1996      1997      1998      1999  \n",
       "0     76700     80324     83200     85451     87277     89005  \n",
       "1  16172719  17099541  17822884  18381605  18863999  19403676  \n",
       "2  13841301  14268994  14682284  15088981  15504318  15949766  \n",
       "3   3207536   3187784   3168033   3148281   3128530   3108778  \n",
       "4     62677     63850     64360     64327     64142     64370  \n",
       "\n",
       "[5 rows x 40 columns]"
      ]
     },
     "execution_count": 58,
     "metadata": {},
     "output_type": "execute_result"
    }
   ],
   "source": [
    "train_data.head()"
   ]
  },
  {
   "cell_type": "code",
   "execution_count": 51,
   "metadata": {},
   "outputs": [],
   "source": [
    "train_data.drop([0], axis=0, inplace=True)\n",
    "test_data.drop([0], axis=0, inplace=True)"
   ]
  },
  {
   "cell_type": "code",
   "execution_count": 52,
   "metadata": {},
   "outputs": [
    {
     "data": {
      "text/html": [
       "<div>\n",
       "<style scoped>\n",
       "    .dataframe tbody tr th:only-of-type {\n",
       "        vertical-align: middle;\n",
       "    }\n",
       "\n",
       "    .dataframe tbody tr th {\n",
       "        vertical-align: top;\n",
       "    }\n",
       "\n",
       "    .dataframe thead th {\n",
       "        text-align: right;\n",
       "    }\n",
       "</style>\n",
       "<table border=\"1\" class=\"dataframe\">\n",
       "  <thead>\n",
       "    <tr style=\"text-align: right;\">\n",
       "      <th></th>\n",
       "      <th>1960</th>\n",
       "      <th>1961</th>\n",
       "      <th>1962</th>\n",
       "      <th>1963</th>\n",
       "      <th>1964</th>\n",
       "      <th>1965</th>\n",
       "      <th>1966</th>\n",
       "      <th>1967</th>\n",
       "      <th>1968</th>\n",
       "      <th>1969</th>\n",
       "      <th>...</th>\n",
       "      <th>1990</th>\n",
       "      <th>1991</th>\n",
       "      <th>1992</th>\n",
       "      <th>1993</th>\n",
       "      <th>1994</th>\n",
       "      <th>1995</th>\n",
       "      <th>1996</th>\n",
       "      <th>1997</th>\n",
       "      <th>1998</th>\n",
       "      <th>1999</th>\n",
       "    </tr>\n",
       "  </thead>\n",
       "  <tbody>\n",
       "    <tr>\n",
       "      <th>1</th>\n",
       "      <td>8996351</td>\n",
       "      <td>9166764</td>\n",
       "      <td>9345868</td>\n",
       "      <td>9533954</td>\n",
       "      <td>9731361</td>\n",
       "      <td>9938414</td>\n",
       "      <td>10152331</td>\n",
       "      <td>10372630</td>\n",
       "      <td>10604346</td>\n",
       "      <td>10854428</td>\n",
       "      <td>...</td>\n",
       "      <td>12249114</td>\n",
       "      <td>12993657</td>\n",
       "      <td>13981231</td>\n",
       "      <td>15095099</td>\n",
       "      <td>16172719</td>\n",
       "      <td>17099541</td>\n",
       "      <td>17822884</td>\n",
       "      <td>18381605</td>\n",
       "      <td>18863999</td>\n",
       "      <td>19403676</td>\n",
       "    </tr>\n",
       "    <tr>\n",
       "      <th>2</th>\n",
       "      <td>5643182</td>\n",
       "      <td>5753024</td>\n",
       "      <td>5866061</td>\n",
       "      <td>5980417</td>\n",
       "      <td>6093321</td>\n",
       "      <td>6203299</td>\n",
       "      <td>6309770</td>\n",
       "      <td>6414995</td>\n",
       "      <td>6523791</td>\n",
       "      <td>6642632</td>\n",
       "      <td>...</td>\n",
       "      <td>12171441</td>\n",
       "      <td>12553446</td>\n",
       "      <td>12968345</td>\n",
       "      <td>13403734</td>\n",
       "      <td>13841301</td>\n",
       "      <td>14268994</td>\n",
       "      <td>14682284</td>\n",
       "      <td>15088981</td>\n",
       "      <td>15504318</td>\n",
       "      <td>15949766</td>\n",
       "    </tr>\n",
       "    <tr>\n",
       "      <th>3</th>\n",
       "      <td>1608800</td>\n",
       "      <td>1659800</td>\n",
       "      <td>1711319</td>\n",
       "      <td>1762621</td>\n",
       "      <td>1814135</td>\n",
       "      <td>1864791</td>\n",
       "      <td>1914573</td>\n",
       "      <td>1965598</td>\n",
       "      <td>2022272</td>\n",
       "      <td>2081695</td>\n",
       "      <td>...</td>\n",
       "      <td>3286542</td>\n",
       "      <td>3266790</td>\n",
       "      <td>3247039</td>\n",
       "      <td>3227287</td>\n",
       "      <td>3207536</td>\n",
       "      <td>3187784</td>\n",
       "      <td>3168033</td>\n",
       "      <td>3148281</td>\n",
       "      <td>3128530</td>\n",
       "      <td>3108778</td>\n",
       "    </tr>\n",
       "    <tr>\n",
       "      <th>4</th>\n",
       "      <td>13411</td>\n",
       "      <td>14375</td>\n",
       "      <td>15370</td>\n",
       "      <td>16412</td>\n",
       "      <td>17469</td>\n",
       "      <td>18549</td>\n",
       "      <td>19647</td>\n",
       "      <td>20758</td>\n",
       "      <td>21890</td>\n",
       "      <td>23058</td>\n",
       "      <td>...</td>\n",
       "      <td>54509</td>\n",
       "      <td>56671</td>\n",
       "      <td>58888</td>\n",
       "      <td>60971</td>\n",
       "      <td>62677</td>\n",
       "      <td>63850</td>\n",
       "      <td>64360</td>\n",
       "      <td>64327</td>\n",
       "      <td>64142</td>\n",
       "      <td>64370</td>\n",
       "    </tr>\n",
       "    <tr>\n",
       "      <th>5</th>\n",
       "      <td>92490932</td>\n",
       "      <td>95044497</td>\n",
       "      <td>97682294</td>\n",
       "      <td>100411076</td>\n",
       "      <td>103239902</td>\n",
       "      <td>106174988</td>\n",
       "      <td>109230593</td>\n",
       "      <td>112406932</td>\n",
       "      <td>115680165</td>\n",
       "      <td>119016542</td>\n",
       "      <td>...</td>\n",
       "      <td>224735446</td>\n",
       "      <td>230829868</td>\n",
       "      <td>235037179</td>\n",
       "      <td>241286091</td>\n",
       "      <td>247435930</td>\n",
       "      <td>255029671</td>\n",
       "      <td>260843462</td>\n",
       "      <td>266575075</td>\n",
       "      <td>272235146</td>\n",
       "      <td>277962869</td>\n",
       "    </tr>\n",
       "  </tbody>\n",
       "</table>\n",
       "<p>5 rows × 40 columns</p>\n",
       "</div>"
      ],
      "text/plain": [
       "       1960      1961      1962       1963       1964       1965       1966  \\\n",
       "1   8996351   9166764   9345868    9533954    9731361    9938414   10152331   \n",
       "2   5643182   5753024   5866061    5980417    6093321    6203299    6309770   \n",
       "3   1608800   1659800   1711319    1762621    1814135    1864791    1914573   \n",
       "4     13411     14375     15370      16412      17469      18549      19647   \n",
       "5  92490932  95044497  97682294  100411076  103239902  106174988  109230593   \n",
       "\n",
       "        1967       1968       1969    ...           1990       1991  \\\n",
       "1   10372630   10604346   10854428    ...       12249114   12993657   \n",
       "2    6414995    6523791    6642632    ...       12171441   12553446   \n",
       "3    1965598    2022272    2081695    ...        3286542    3266790   \n",
       "4      20758      21890      23058    ...          54509      56671   \n",
       "5  112406932  115680165  119016542    ...      224735446  230829868   \n",
       "\n",
       "        1992       1993       1994       1995       1996       1997  \\\n",
       "1   13981231   15095099   16172719   17099541   17822884   18381605   \n",
       "2   12968345   13403734   13841301   14268994   14682284   15088981   \n",
       "3    3247039    3227287    3207536    3187784    3168033    3148281   \n",
       "4      58888      60971      62677      63850      64360      64327   \n",
       "5  235037179  241286091  247435930  255029671  260843462  266575075   \n",
       "\n",
       "        1998       1999  \n",
       "1   18863999   19403676  \n",
       "2   15504318   15949766  \n",
       "3    3128530    3108778  \n",
       "4      64142      64370  \n",
       "5  272235146  277962869  \n",
       "\n",
       "[5 rows x 40 columns]"
      ]
     },
     "execution_count": 52,
     "metadata": {},
     "output_type": "execute_result"
    }
   ],
   "source": [
    "train_data.head()"
   ]
  },
  {
   "cell_type": "code",
   "execution_count": 59,
   "metadata": {},
   "outputs": [],
   "source": [
    "#Returns the DataFrame values without the axes labels\n",
    "population_training_df = train_data.values\n",
    "population_testing_df = test_data.values"
   ]
  },
  {
   "cell_type": "code",
   "execution_count": 60,
   "metadata": {},
   "outputs": [
    {
     "name": "stdout",
     "output_type": "stream",
     "text": [
      "(258, 40)\n"
     ]
    }
   ],
   "source": [
    "print(population_training_df.shape)"
   ]
  },
  {
   "cell_type": "code",
   "execution_count": 61,
   "metadata": {},
   "outputs": [],
   "source": [
    "population_training_df = population_training_df.transpose()\n",
    "population_testing_df = population_testing_df.transpose()"
   ]
  },
  {
   "cell_type": "code",
   "execution_count": 62,
   "metadata": {},
   "outputs": [
    {
     "name": "stdout",
     "output_type": "stream",
     "text": [
      "(40, 258)\n",
      "(17, 258)\n"
     ]
    }
   ],
   "source": [
    "print(population_training_df.shape)\n",
    "print(population_testing_df.shape)"
   ]
  },
  {
   "cell_type": "code",
   "execution_count": 63,
   "metadata": {},
   "outputs": [],
   "source": [
    "#Segregating the first row from the other rows in training and testing\n",
    "x_training = population_training_df[1:]\n",
    "y_training = population_training_df[0]\n",
    "\n",
    "x_testing = population_testing_df[1:]\n",
    "y_testing = population_testing_df[0]"
   ]
  },
  {
   "cell_type": "code",
   "execution_count": 64,
   "metadata": {},
   "outputs": [],
   "source": [
    "#Taking transpose of the df\n",
    "x_training = x_training.transpose()\n",
    "\n",
    "x_testing = x_testing.transpose()"
   ]
  },
  {
   "cell_type": "code",
   "execution_count": 65,
   "metadata": {},
   "outputs": [
    {
     "name": "stdout",
     "output_type": "stream",
     "text": [
      "(258, 39)\n"
     ]
    }
   ],
   "source": [
    "print(x_training.shape)\n"
   ]
  },
  {
   "cell_type": "code",
   "execution_count": 66,
   "metadata": {},
   "outputs": [
    {
     "data": {
      "text/plain": [
       "array([5.00000000e+09, 2.32079442e+08, 1.07721735e+07, 5.00000000e+05,\n",
       "       2.32079442e+04, 1.07721735e+03, 5.00000000e+01, 2.32079442e+00,\n",
       "       1.07721735e-01, 5.00000000e-03])"
      ]
     },
     "execution_count": 66,
     "metadata": {},
     "output_type": "execute_result"
    }
   ],
   "source": [
    "#Defining multiple alpha's for Lasso Regression\n",
    "#alphas = 10**np.linspace(10,-2,7)*0.5\n",
    "alphas = 10**np.linspace(10,-2,10)*0.5\n",
    "alphas"
   ]
  },
  {
   "cell_type": "code",
   "execution_count": 68,
   "metadata": {},
   "outputs": [
    {
     "name": "stdout",
     "output_type": "stream",
     "text": [
      "0\n"
     ]
    },
    {
     "ename": "ValueError",
     "evalue": "shapes (258,17) and (40,) not aligned: 17 (dim 1) != 40 (dim 0)",
     "output_type": "error",
     "traceback": [
      "\u001b[1;31m---------------------------------------------------------------------------\u001b[0m",
      "\u001b[1;31mValueError\u001b[0m                                Traceback (most recent call last)",
      "\u001b[1;32m<ipython-input-68-dc44bd718192>\u001b[0m in \u001b[0;36m<module>\u001b[1;34m()\u001b[0m\n\u001b[0;32m     22\u001b[0m         \u001b[0mregressor\u001b[0m\u001b[1;33m.\u001b[0m\u001b[0mset_params\u001b[0m\u001b[1;33m(\u001b[0m\u001b[0malpha\u001b[0m \u001b[1;33m=\u001b[0m \u001b[0ma\u001b[0m\u001b[1;33m)\u001b[0m\u001b[1;33m\u001b[0m\u001b[0m\n\u001b[0;32m     23\u001b[0m         \u001b[0mregressor\u001b[0m\u001b[1;33m.\u001b[0m\u001b[0mfit\u001b[0m\u001b[1;33m(\u001b[0m\u001b[0mx_training\u001b[0m\u001b[1;33m,\u001b[0m \u001b[0my_training\u001b[0m\u001b[1;33m)\u001b[0m\u001b[1;33m\u001b[0m\u001b[0m\n\u001b[1;32m---> 24\u001b[1;33m         \u001b[0mprediction\u001b[0m \u001b[1;33m=\u001b[0m \u001b[0mregressor\u001b[0m\u001b[1;33m.\u001b[0m\u001b[0mpredict\u001b[0m\u001b[1;33m(\u001b[0m\u001b[0mx_testing\u001b[0m\u001b[1;33m)\u001b[0m\u001b[1;33m\u001b[0m\u001b[0m\n\u001b[0m\u001b[0;32m     25\u001b[0m         \u001b[0merror\u001b[0m \u001b[1;33m=\u001b[0m \u001b[0mmean_squared_error\u001b[0m\u001b[1;33m(\u001b[0m\u001b[0mprediction\u001b[0m\u001b[1;33m,\u001b[0m\u001b[0my_testing\u001b[0m\u001b[1;33m)\u001b[0m\u001b[1;33m\u001b[0m\u001b[0m\n\u001b[0;32m     26\u001b[0m         \u001b[0mcount\u001b[0m \u001b[1;33m=\u001b[0m \u001b[0mnp\u001b[0m\u001b[1;33m.\u001b[0m\u001b[0mcount_nonzero\u001b[0m\u001b[1;33m(\u001b[0m\u001b[0mregressor\u001b[0m\u001b[1;33m.\u001b[0m\u001b[0mcoef_\u001b[0m\u001b[1;33m)\u001b[0m\u001b[1;33m\u001b[0m\u001b[0m\n",
      "\u001b[1;32m~\\Anaconda3\\lib\\site-packages\\sklearn\\linear_model\\base.py\u001b[0m in \u001b[0;36mpredict\u001b[1;34m(self, X)\u001b[0m\n\u001b[0;32m    254\u001b[0m             \u001b[0mReturns\u001b[0m \u001b[0mpredicted\u001b[0m \u001b[0mvalues\u001b[0m\u001b[1;33m.\u001b[0m\u001b[1;33m\u001b[0m\u001b[0m\n\u001b[0;32m    255\u001b[0m         \"\"\"\n\u001b[1;32m--> 256\u001b[1;33m         \u001b[1;32mreturn\u001b[0m \u001b[0mself\u001b[0m\u001b[1;33m.\u001b[0m\u001b[0m_decision_function\u001b[0m\u001b[1;33m(\u001b[0m\u001b[0mX\u001b[0m\u001b[1;33m)\u001b[0m\u001b[1;33m\u001b[0m\u001b[0m\n\u001b[0m\u001b[0;32m    257\u001b[0m \u001b[1;33m\u001b[0m\u001b[0m\n\u001b[0;32m    258\u001b[0m     \u001b[0m_preprocess_data\u001b[0m \u001b[1;33m=\u001b[0m \u001b[0mstaticmethod\u001b[0m\u001b[1;33m(\u001b[0m\u001b[0m_preprocess_data\u001b[0m\u001b[1;33m)\u001b[0m\u001b[1;33m\u001b[0m\u001b[0m\n",
      "\u001b[1;32m~\\Anaconda3\\lib\\site-packages\\sklearn\\linear_model\\coordinate_descent.py\u001b[0m in \u001b[0;36m_decision_function\u001b[1;34m(self, X)\u001b[0m\n\u001b[0;32m    789\u001b[0m                                    dense_output=True) + self.intercept_\n\u001b[0;32m    790\u001b[0m         \u001b[1;32melse\u001b[0m\u001b[1;33m:\u001b[0m\u001b[1;33m\u001b[0m\u001b[0m\n\u001b[1;32m--> 791\u001b[1;33m             \u001b[1;32mreturn\u001b[0m \u001b[0msuper\u001b[0m\u001b[1;33m(\u001b[0m\u001b[0mElasticNet\u001b[0m\u001b[1;33m,\u001b[0m \u001b[0mself\u001b[0m\u001b[1;33m)\u001b[0m\u001b[1;33m.\u001b[0m\u001b[0m_decision_function\u001b[0m\u001b[1;33m(\u001b[0m\u001b[0mX\u001b[0m\u001b[1;33m)\u001b[0m\u001b[1;33m\u001b[0m\u001b[0m\n\u001b[0m\u001b[0;32m    792\u001b[0m \u001b[1;33m\u001b[0m\u001b[0m\n\u001b[0;32m    793\u001b[0m \u001b[1;33m\u001b[0m\u001b[0m\n",
      "\u001b[1;32m~\\Anaconda3\\lib\\site-packages\\sklearn\\linear_model\\base.py\u001b[0m in \u001b[0;36m_decision_function\u001b[1;34m(self, X)\u001b[0m\n\u001b[0;32m    239\u001b[0m         \u001b[0mX\u001b[0m \u001b[1;33m=\u001b[0m \u001b[0mcheck_array\u001b[0m\u001b[1;33m(\u001b[0m\u001b[0mX\u001b[0m\u001b[1;33m,\u001b[0m \u001b[0maccept_sparse\u001b[0m\u001b[1;33m=\u001b[0m\u001b[1;33m[\u001b[0m\u001b[1;34m'csr'\u001b[0m\u001b[1;33m,\u001b[0m \u001b[1;34m'csc'\u001b[0m\u001b[1;33m,\u001b[0m \u001b[1;34m'coo'\u001b[0m\u001b[1;33m]\u001b[0m\u001b[1;33m)\u001b[0m\u001b[1;33m\u001b[0m\u001b[0m\n\u001b[0;32m    240\u001b[0m         return safe_sparse_dot(X, self.coef_.T,\n\u001b[1;32m--> 241\u001b[1;33m                                dense_output=True) + self.intercept_\n\u001b[0m\u001b[0;32m    242\u001b[0m \u001b[1;33m\u001b[0m\u001b[0m\n\u001b[0;32m    243\u001b[0m     \u001b[1;32mdef\u001b[0m \u001b[0mpredict\u001b[0m\u001b[1;33m(\u001b[0m\u001b[0mself\u001b[0m\u001b[1;33m,\u001b[0m \u001b[0mX\u001b[0m\u001b[1;33m)\u001b[0m\u001b[1;33m:\u001b[0m\u001b[1;33m\u001b[0m\u001b[0m\n",
      "\u001b[1;32m~\\Anaconda3\\lib\\site-packages\\sklearn\\utils\\extmath.py\u001b[0m in \u001b[0;36msafe_sparse_dot\u001b[1;34m(a, b, dense_output)\u001b[0m\n\u001b[0;32m    138\u001b[0m         \u001b[1;32mreturn\u001b[0m \u001b[0mret\u001b[0m\u001b[1;33m\u001b[0m\u001b[0m\n\u001b[0;32m    139\u001b[0m     \u001b[1;32melse\u001b[0m\u001b[1;33m:\u001b[0m\u001b[1;33m\u001b[0m\u001b[0m\n\u001b[1;32m--> 140\u001b[1;33m         \u001b[1;32mreturn\u001b[0m \u001b[0mnp\u001b[0m\u001b[1;33m.\u001b[0m\u001b[0mdot\u001b[0m\u001b[1;33m(\u001b[0m\u001b[0ma\u001b[0m\u001b[1;33m,\u001b[0m \u001b[0mb\u001b[0m\u001b[1;33m)\u001b[0m\u001b[1;33m\u001b[0m\u001b[0m\n\u001b[0m\u001b[0;32m    141\u001b[0m \u001b[1;33m\u001b[0m\u001b[0m\n\u001b[0;32m    142\u001b[0m \u001b[1;33m\u001b[0m\u001b[0m\n",
      "\u001b[1;31mValueError\u001b[0m: shapes (258,17) and (40,) not aligned: 17 (dim 1) != 40 (dim 0)"
     ]
    }
   ],
   "source": [
    "coef_final = []\n",
    "regressor = Lasso(fit_intercept=True, normalize=True)\n",
    "coefs = []\n",
    "pred_list=[]\n",
    "\n",
    "\n",
    "for i in range(0,258):\n",
    "    print(i)\n",
    "    y_training = list(population_training_df[population_training_df.index==i].values.transpose())\n",
    "    x = population_training_df\n",
    "    name1 = list(x[x.index==i].values)\n",
    "    x.name1=0\n",
    "    x_training=population_training_df[population_training_df.index != i].values\n",
    "    \n",
    "    y_testing =  list(population_testing_df[population_testing_df.index==i].values.transpose())\n",
    "    t = np.array(population_testing_df)\n",
    "    name2 = t.columns[i]\n",
    "    t.name2=0\n",
    "    x_testing = np.array(t)\n",
    "    mini = float('inf')\n",
    "    \n",
    "    for a in alphas:\n",
    "        regressor.set_params(alpha = a)\n",
    "        regressor.fit(x_training, y_training)\n",
    "        prediction = regressor.predict(x_testing)\n",
    "        error = mean_squared_error(prediction,y_testing)\n",
    "        count = np.count_nonzero(regressor.coef_)\n",
    "        if count == 5:\n",
    "            if error < mini:\n",
    "                coef = regressor.coef_\n",
    "                mini = error\n",
    "                prediction = regressor.predict(x_testing)\n",
    "\n",
    "    coef_final.append(coefs) \n",
    "    pred_list.append(prediction)\n",
    "    "
   ]
  },
  {
   "cell_type": "code",
   "execution_count": 14,
   "metadata": {},
   "outputs": [
    {
     "name": "stdout",
     "output_type": "stream",
     "text": [
      "(258, 0)\n"
     ]
    }
   ],
   "source": [
    "coef_array = np.array(coef_final)\n",
    "\n",
    "print(coef_array.shape)\n"
   ]
  },
  {
   "cell_type": "code",
   "execution_count": 15,
   "metadata": {},
   "outputs": [
    {
     "name": "stdout",
     "output_type": "stream",
     "text": [
      "(258, 17)\n"
     ]
    }
   ],
   "source": [
    "pred_array = np.array(pred_list)\n",
    "print(pred_array.shape)"
   ]
  },
  {
   "cell_type": "code",
   "execution_count": 16,
   "metadata": {},
   "outputs": [
    {
     "name": "stdout",
     "output_type": "stream",
     "text": [
      "(17, 258)\n"
     ]
    }
   ],
   "source": [
    "df = pd.DataFrame(data=pred_array)\n",
    "df = df.transpose()\n",
    "print(df.shape)\n"
   ]
  },
  {
   "cell_type": "code",
   "execution_count": 18,
   "metadata": {},
   "outputs": [],
   "source": [
    "df.to_csv('Kaggle_Team6_2.csv')\n"
   ]
  }
 ],
 "metadata": {
  "kernelspec": {
   "display_name": "Python 3",
   "language": "python",
   "name": "python3"
  },
  "language_info": {
   "codemirror_mode": {
    "name": "ipython",
    "version": 3
   },
   "file_extension": ".py",
   "mimetype": "text/x-python",
   "name": "python",
   "nbconvert_exporter": "python",
   "pygments_lexer": "ipython3",
   "version": "3.6.4"
  }
 },
 "nbformat": 4,
 "nbformat_minor": 2
}
