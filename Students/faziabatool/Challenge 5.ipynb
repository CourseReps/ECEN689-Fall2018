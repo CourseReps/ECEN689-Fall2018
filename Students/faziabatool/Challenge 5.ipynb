{
 "cells": [
  {
   "cell_type": "code",
   "execution_count": null,
   "metadata": {},
   "outputs": [],
   "source": [
    "import pandas as pd\n",
    "import numpy as np\n",
    "import matplotlib.pyplot as plt\n",
    "from sklearn import svm\n",
    "from mlxtend.plotting import plot_decision_regions\n",
    "from sklearn.model_selection import GridSearchCV\n",
    "from sklearn.model_selection import StratifiedShuffleSplit\n",
    "\n",
    "student_identity = 'faziabatool'\n",
    "training = '5challenge_training_' + student_identity + '.csv'\n",
    "testing = '5challenge_testing_' + student_identity + '.csv'\n",
    "\n",
    "filenameToRead = '5challenge_training_' + student_identity + '.csv'\n",
    "training_df = pd.read_csv('5Files/' + filenameToRead)\n",
    "testing_df = pd.read_csv('5Files/' + '5challenge_testing_faziabatool.csv' )\n",
    "print(training_df.head())\n",
    "\n",
    "X1 = training_df[['Feature 0', 'Feature 1']].values\n",
    "Y1 = training_df[['Class']].values\n",
    "plt.scatter(X1[:, 0], X1[:, 1],c=Y1.ravel().tolist(), marker='o',s=25, edgecolor='k')\n",
    "\n",
    "\n",
    "plt.show()"
   ]
  },
  {
   "cell_type": "code",
   "execution_count": null,
   "metadata": {},
   "outputs": [],
   "source": [
    "filenameToRead = '5challenge_testing_' + student_identity + '.csv'\n",
    "testing_df = pd.read_csv('5Files/' + filenameToRead)\n",
    "\n",
    "print(testing_df.head())\n",
    "\n",
    "X2 = pd.DataFrame(testing_df[['Feature 0', 'Feature 1']].values)\n",
    "Y2 = pd.DataFrame(testing_df[['Class']].values)"
   ]
  },
  {
   "cell_type": "code",
   "execution_count": null,
   "metadata": {},
   "outputs": [],
   "source": [
    "clf1 = svm.SVC(kernel='linear', gamma=100)\n",
    "clf1.fit(X1, Y1)\n",
    "print(clf1.score(X1,Y1))\n"
   ]
  },
  {
   "cell_type": "code",
   "execution_count": null,
   "metadata": {},
   "outputs": [],
   "source": [
    "clf2 = svm.SVC(kernel='poly', gamma=100)\n",
    "clf2.fit(X1, Y1)\n",
    "print(clf.score(X1,Y1))"
   ]
  },
  {
   "cell_type": "code",
   "execution_count": null,
   "metadata": {},
   "outputs": [],
   "source": [
    "\n",
    "clf3 = svm.SVC(kernel='rbf', gamma=100)\n",
    "clf3.fit(X1, Y1)\n",
    "print(clf.score(X1,Y1))"
   ]
  },
  {
   "cell_type": "code",
   "execution_count": null,
   "metadata": {},
   "outputs": [],
   "source": [
    "\n",
    "plot_decision_regions(X=X1,y=Y1,clf= clf1)\n",
    "plt.xlabel('Feature 0',size=20)\n",
    "plt.ylabel('Feature 1',size=20)\n",
    "plt.title('Linear SVM',size=20)"
   ]
  },
  {
   "cell_type": "code",
   "execution_count": null,
   "metadata": {},
   "outputs": [],
   "source": [
    "\n",
    "plot_decision_regions(X=X1,y=Y1,clf=clf2)\n",
    "plt.xlabel('Feature 0',size=20)\n",
    "plt.ylabel('Feature 1',size=20)\n",
    "plt.title('RBF SVM',size=20)"
   ]
  },
  {
   "cell_type": "code",
   "execution_count": null,
   "metadata": {},
   "outputs": [],
   "source": [
    "\n",
    "Prediction = clf2.predict(X_test)\n",
    "testing_df['Class'] = Prediction\n",
    "testing_df = testing_df.drop(testing_df.columns[0], axis = 1)"
   ]
  },
  {
   "cell_type": "code",
   "execution_count": null,
   "metadata": {},
   "outputs": [],
   "source": [
    "testing_df.to_csv(\"5challenge_testing_faziabatool.csv\",index = 0)\n",
    "testing_df"
   ]
  },
  {
   "cell_type": "code",
   "execution_count": null,
   "metadata": {},
   "outputs": [],
   "source": []
  },
  {
   "cell_type": "code",
   "execution_count": null,
   "metadata": {},
   "outputs": [],
   "source": []
  },
  {
   "cell_type": "code",
   "execution_count": null,
   "metadata": {},
   "outputs": [],
   "source": []
  },
  {
   "cell_type": "code",
   "execution_count": null,
   "metadata": {},
   "outputs": [],
   "source": []
  },
  {
   "cell_type": "code",
   "execution_count": null,
   "metadata": {},
   "outputs": [],
   "source": []
  },
  {
   "cell_type": "code",
   "execution_count": null,
   "metadata": {},
   "outputs": [],
   "source": []
  },
  {
   "cell_type": "code",
   "execution_count": null,
   "metadata": {},
   "outputs": [],
   "source": []
  },
  {
   "cell_type": "code",
   "execution_count": null,
   "metadata": {},
   "outputs": [],
   "source": []
  }
 ],
 "metadata": {
  "kernelspec": {
   "display_name": "Python 3",
   "language": "python",
   "name": "python3"
  },
  "language_info": {
   "codemirror_mode": {
    "name": "ipython",
    "version": 3
   },
   "file_extension": ".py",
   "mimetype": "text/x-python",
   "name": "python",
   "nbconvert_exporter": "python",
   "pygments_lexer": "ipython3",
   "version": "3.6.5"
  }
 },
 "nbformat": 4,
 "nbformat_minor": 2
}
