{
  "nbformat": 4,
  "nbformat_minor": 0,
  "metadata": {
    "colab": {
      "name": "Wine Quality Updated.ipynb",
      "version": "0.3.2",
      "provenance": []
    },
    "kernelspec": {
      "name": "python3",
      "display_name": "Python 3"
    }
  },
  "cells": [
    {
      "metadata": {
        "id": "cQXYQoJU6gHj",
        "colab_type": "code",
        "outputId": "a64b1f7a-b499-47f3-f7cc-d060fef7c30b",
        "colab": {
          "resources": {
            "http://localhost:8080/nbextensions/google.colab/files.js": {
              "data": "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",
              "ok": true,
              "headers": [
                [
                  "content-type",
                  "application/javascript"
                ]
              ],
              "status": 200,
              "status_text": ""
            }
          },
          "base_uri": "https://localhost:8080/",
          "height": 89
        }
      },
      "cell_type": "code",
      "source": [
        "# Importing files\n",
        "\n",
        "from google.colab import files\n",
        "\n",
        "uploaded = files.upload()\n",
        "\n",
        "for fn in uploaded.keys():\n",
        "  print('User uploaded file \"{name}\" with length {length} bytes'.format(\n",
        "      name=fn, length=len(uploaded[fn])))"
      ],
      "execution_count": 0,
      "outputs": [
        {
          "output_type": "display_data",
          "data": {
            "text/html": [
              "\n",
              "     <input type=\"file\" id=\"files-cefa5ac3-a23f-4d5f-a97b-a01dba21b9c9\" name=\"files[]\" multiple disabled />\n",
              "     <output id=\"result-cefa5ac3-a23f-4d5f-a97b-a01dba21b9c9\">\n",
              "      Upload widget is only available when the cell has been executed in the\n",
              "      current browser session. Please rerun this cell to enable.\n",
              "      </output>\n",
              "      <script src=\"/nbextensions/google.colab/files.js\"></script> "
            ],
            "text/plain": [
              "<IPython.core.display.HTML object>"
            ]
          },
          "metadata": {
            "tags": []
          }
        },
        {
          "output_type": "stream",
          "text": [
            "Saving winequality-white-sample.csv to winequality-white-sample.csv\n",
            "User uploaded file \"winequality-white-sample.csv\" with length 6900 bytes\n"
          ],
          "name": "stdout"
        }
      ]
    },
    {
      "metadata": {
        "id": "oCCfREpN9FBz",
        "colab_type": "code",
        "colab": {}
      },
      "cell_type": "code",
      "source": [
        "import pandas as pd\n",
        "import numpy as np\n",
        "from keras.models import Sequential\n",
        "from keras import optimizers\n",
        "from keras.layers import Dense\n",
        "from keras.wrappers.scikit_learn import KerasRegressor\n",
        "from sklearn.preprocessing import StandardScaler\n",
        "from sklearn.metrics import mean_squared_error, r2_score\n",
        "from math import sqrt"
      ],
      "execution_count": 0,
      "outputs": []
    },
    {
      "metadata": {
        "id": "mBWg9sCU76UA",
        "colab_type": "code",
        "colab": {}
      },
      "cell_type": "code",
      "source": [
        "training_df = pd.read_csv('winequality-white-training.csv')"
      ],
      "execution_count": 0,
      "outputs": []
    },
    {
      "metadata": {
        "id": "4Z5U_oC7_Szj",
        "colab_type": "code",
        "colab": {}
      },
      "cell_type": "code",
      "source": [
        "wine_train_df = training_df.drop(['Id'], axis =1)"
      ],
      "execution_count": 0,
      "outputs": []
    },
    {
      "metadata": {
        "id": "Sy6oOkbp_ojL",
        "colab_type": "code",
        "colab": {}
      },
      "cell_type": "code",
      "source": [
        "X_train = wine_train_df[['fixed acidity', 'volatile acidity', 'citric acid', 'residual sugar', 'chlorides','free sulfur dioxide','total sulfur dioxide','density','pH','sulphates','alcohol']]\n",
        "Y_train = wine_train_df.quality"
      ],
      "execution_count": 0,
      "outputs": []
    },
    {
      "metadata": {
        "id": "qhKrHhWO_xU2",
        "colab_type": "code",
        "colab": {}
      },
      "cell_type": "code",
      "source": [
        "wine_test_df = pd.read_csv('winequality-white-testing.csv').drop(['Id'], axis =1)\n",
        "X_test = wine_test_df"
      ],
      "execution_count": 0,
      "outputs": []
    },
    {
      "metadata": {
        "id": "V2EsH6MsiXC5",
        "colab_type": "code",
        "colab": {}
      },
      "cell_type": "code",
      "source": [
        "def base_model():\n",
        "  model = Sequential()\n",
        "  model.add(Dense(11, input_dim=11, kernel_initializer='normal', activation='relu'))\n",
        "  model.add(Dense(6, kernel_initializer='normal', activation='relu'))\n",
        "  model.add(Dense(1, kernel_initializer='normal',activation='linear'))\n",
        "  sgd = optimizers.SGD(lr=0.01, decay=1e-6, momentum=0.9, nesterov=True)\n",
        "  model.compile(loss='mean_squared_error', optimizer=sgd)\n",
        "  #model.compile(loss='mean_squared_error', optimizer='adam')\n",
        "  return model"
      ],
      "execution_count": 0,
      "outputs": []
    },
    {
      "metadata": {
        "id": "rC0O_3DxArG_",
        "colab_type": "code",
        "colab": {}
      },
      "cell_type": "code",
      "source": [
        "estimator = KerasRegressor(build_fn=base_model, epochs=100, batch_size=50, verbose=1)"
      ],
      "execution_count": 0,
      "outputs": []
    },
    {
      "metadata": {
        "id": "gYnoDApPCh4h",
        "colab_type": "code",
        "colab": {}
      },
      "cell_type": "code",
      "source": [
        "scale = StandardScaler()\n",
        "X_train = scale.fit_transform(X_train)\n",
        "X_test = scale.fit_transform(X_test)"
      ],
      "execution_count": 0,
      "outputs": []
    },
    {
      "metadata": {
        "id": "kPBMNBKtjcsh",
        "colab_type": "code",
        "outputId": "f5c5f7cc-5254-4dd9-f4ae-01410f36557b",
        "colab": {
          "base_uri": "https://localhost:8080/",
          "height": 3434
        }
      },
      "cell_type": "code",
      "source": [
        "estimator.fit(X_train,Y_train)"
      ],
      "execution_count": 0,
      "outputs": [
        {
          "output_type": "stream",
          "text": [
            "Epoch 1/100\n",
            "3898/3898 [==============================] - 0s 59us/step - loss: 3.5262\n",
            "Epoch 2/100\n",
            "3898/3898 [==============================] - 0s 22us/step - loss: 0.7651\n",
            "Epoch 3/100\n",
            "3898/3898 [==============================] - 0s 20us/step - loss: 0.6133\n",
            "Epoch 4/100\n",
            "3898/3898 [==============================] - 0s 20us/step - loss: 0.5335\n",
            "Epoch 5/100\n",
            "3898/3898 [==============================] - 0s 20us/step - loss: 0.5312\n",
            "Epoch 6/100\n",
            "3898/3898 [==============================] - 0s 21us/step - loss: 0.5243\n",
            "Epoch 7/100\n",
            "3898/3898 [==============================] - 0s 22us/step - loss: 0.5187\n",
            "Epoch 8/100\n",
            "3898/3898 [==============================] - 0s 20us/step - loss: 0.5148\n",
            "Epoch 9/100\n",
            "3898/3898 [==============================] - 0s 21us/step - loss: 0.5142\n",
            "Epoch 10/100\n",
            "3898/3898 [==============================] - 0s 21us/step - loss: 0.5067\n",
            "Epoch 11/100\n",
            "3898/3898 [==============================] - 0s 21us/step - loss: 0.5060\n",
            "Epoch 12/100\n",
            "3898/3898 [==============================] - 0s 26us/step - loss: 0.5024\n",
            "Epoch 13/100\n",
            "3898/3898 [==============================] - 0s 21us/step - loss: 0.4993\n",
            "Epoch 14/100\n",
            "3898/3898 [==============================] - 0s 20us/step - loss: 0.4973\n",
            "Epoch 15/100\n",
            "3898/3898 [==============================] - 0s 21us/step - loss: 0.4959\n",
            "Epoch 16/100\n",
            "3898/3898 [==============================] - 0s 20us/step - loss: 0.4944\n",
            "Epoch 17/100\n",
            "3898/3898 [==============================] - 0s 22us/step - loss: 0.4910\n",
            "Epoch 18/100\n",
            "3898/3898 [==============================] - 0s 21us/step - loss: 0.4914\n",
            "Epoch 19/100\n",
            "3898/3898 [==============================] - 0s 21us/step - loss: 0.4889\n",
            "Epoch 20/100\n",
            "3898/3898 [==============================] - 0s 22us/step - loss: 0.4871\n",
            "Epoch 21/100\n",
            "3898/3898 [==============================] - 0s 22us/step - loss: 0.4878\n",
            "Epoch 22/100\n",
            "3898/3898 [==============================] - 0s 21us/step - loss: 0.4914\n",
            "Epoch 23/100\n",
            "3898/3898 [==============================] - 0s 21us/step - loss: 0.4857\n",
            "Epoch 24/100\n",
            "3898/3898 [==============================] - 0s 22us/step - loss: 0.4856\n",
            "Epoch 25/100\n",
            "3898/3898 [==============================] - 0s 22us/step - loss: 0.4867\n",
            "Epoch 26/100\n",
            "3898/3898 [==============================] - 0s 20us/step - loss: 0.4836\n",
            "Epoch 27/100\n",
            "3898/3898 [==============================] - 0s 20us/step - loss: 0.4839\n",
            "Epoch 28/100\n",
            "3898/3898 [==============================] - 0s 22us/step - loss: 0.4845\n",
            "Epoch 29/100\n",
            "3898/3898 [==============================] - 0s 22us/step - loss: 0.4822\n",
            "Epoch 30/100\n",
            "3898/3898 [==============================] - 0s 21us/step - loss: 0.4810\n",
            "Epoch 31/100\n",
            "3898/3898 [==============================] - 0s 21us/step - loss: 0.4836\n",
            "Epoch 32/100\n",
            "3898/3898 [==============================] - 0s 23us/step - loss: 0.4815\n",
            "Epoch 33/100\n",
            "3898/3898 [==============================] - 0s 23us/step - loss: 0.4804\n",
            "Epoch 34/100\n",
            "3898/3898 [==============================] - 0s 21us/step - loss: 0.4798\n",
            "Epoch 35/100\n",
            "3898/3898 [==============================] - 0s 21us/step - loss: 0.4799\n",
            "Epoch 36/100\n",
            "3898/3898 [==============================] - 0s 22us/step - loss: 0.4802\n",
            "Epoch 37/100\n",
            "3898/3898 [==============================] - 0s 21us/step - loss: 0.4791\n",
            "Epoch 38/100\n",
            "3898/3898 [==============================] - 0s 24us/step - loss: 0.4755\n",
            "Epoch 39/100\n",
            "3898/3898 [==============================] - 0s 21us/step - loss: 0.4767\n",
            "Epoch 40/100\n",
            "3898/3898 [==============================] - 0s 21us/step - loss: 0.4780\n",
            "Epoch 41/100\n",
            "3898/3898 [==============================] - 0s 22us/step - loss: 0.4761\n",
            "Epoch 42/100\n",
            "3898/3898 [==============================] - 0s 23us/step - loss: 0.4789\n",
            "Epoch 43/100\n",
            "3898/3898 [==============================] - 0s 21us/step - loss: 0.4766\n",
            "Epoch 44/100\n",
            "3898/3898 [==============================] - 0s 21us/step - loss: 0.4747\n",
            "Epoch 45/100\n",
            "3898/3898 [==============================] - 0s 20us/step - loss: 0.4764\n",
            "Epoch 46/100\n",
            "3898/3898 [==============================] - 0s 21us/step - loss: 0.4731\n",
            "Epoch 47/100\n",
            "3898/3898 [==============================] - 0s 22us/step - loss: 0.4719\n",
            "Epoch 48/100\n",
            "3898/3898 [==============================] - 0s 22us/step - loss: 0.4727\n",
            "Epoch 49/100\n",
            "3898/3898 [==============================] - 0s 21us/step - loss: 0.4748\n",
            "Epoch 50/100\n",
            "3898/3898 [==============================] - 0s 20us/step - loss: 0.4712\n",
            "Epoch 51/100\n",
            "3898/3898 [==============================] - 0s 22us/step - loss: 0.4715\n",
            "Epoch 52/100\n",
            "3898/3898 [==============================] - 0s 23us/step - loss: 0.4712\n",
            "Epoch 53/100\n",
            "3898/3898 [==============================] - 0s 21us/step - loss: 0.4722\n",
            "Epoch 54/100\n",
            "3898/3898 [==============================] - 0s 21us/step - loss: 0.4697\n",
            "Epoch 55/100\n",
            "3898/3898 [==============================] - 0s 22us/step - loss: 0.4683\n",
            "Epoch 56/100\n",
            "3898/3898 [==============================] - 0s 23us/step - loss: 0.4691\n",
            "Epoch 57/100\n",
            "3898/3898 [==============================] - 0s 21us/step - loss: 0.4666\n",
            "Epoch 58/100\n",
            "3898/3898 [==============================] - 0s 21us/step - loss: 0.4685\n",
            "Epoch 59/100\n",
            "3898/3898 [==============================] - 0s 22us/step - loss: 0.4652\n",
            "Epoch 60/100\n",
            "3898/3898 [==============================] - 0s 22us/step - loss: 0.4657\n",
            "Epoch 61/100\n",
            "3898/3898 [==============================] - 0s 22us/step - loss: 0.4635\n",
            "Epoch 62/100\n",
            "3898/3898 [==============================] - 0s 22us/step - loss: 0.4645\n",
            "Epoch 63/100\n",
            "3898/3898 [==============================] - 0s 22us/step - loss: 0.4637\n",
            "Epoch 64/100\n",
            "3898/3898 [==============================] - 0s 21us/step - loss: 0.4631\n",
            "Epoch 65/100\n",
            "3898/3898 [==============================] - 0s 22us/step - loss: 0.4635\n",
            "Epoch 66/100\n",
            "3898/3898 [==============================] - 0s 21us/step - loss: 0.4615\n",
            "Epoch 67/100\n",
            "3898/3898 [==============================] - 0s 23us/step - loss: 0.4628\n",
            "Epoch 68/100\n",
            "3898/3898 [==============================] - 0s 21us/step - loss: 0.4598\n",
            "Epoch 69/100\n",
            "3898/3898 [==============================] - 0s 22us/step - loss: 0.4595\n",
            "Epoch 70/100\n",
            "3898/3898 [==============================] - 0s 22us/step - loss: 0.4602\n",
            "Epoch 71/100\n",
            "3898/3898 [==============================] - 0s 24us/step - loss: 0.4589\n",
            "Epoch 72/100\n",
            "3898/3898 [==============================] - 0s 21us/step - loss: 0.4585\n",
            "Epoch 73/100\n",
            "3898/3898 [==============================] - 0s 22us/step - loss: 0.4584\n",
            "Epoch 74/100\n",
            "3898/3898 [==============================] - 0s 21us/step - loss: 0.4588\n",
            "Epoch 75/100\n",
            "3898/3898 [==============================] - 0s 20us/step - loss: 0.4578\n",
            "Epoch 76/100\n",
            "3898/3898 [==============================] - 0s 22us/step - loss: 0.4547\n",
            "Epoch 77/100\n",
            "3898/3898 [==============================] - 0s 22us/step - loss: 0.4575\n",
            "Epoch 78/100\n",
            "3898/3898 [==============================] - 0s 22us/step - loss: 0.4538\n",
            "Epoch 79/100\n",
            "3898/3898 [==============================] - 0s 21us/step - loss: 0.4543\n",
            "Epoch 80/100\n",
            "3898/3898 [==============================] - 0s 21us/step - loss: 0.4512\n",
            "Epoch 81/100\n",
            "3898/3898 [==============================] - 0s 20us/step - loss: 0.4526\n",
            "Epoch 82/100\n",
            "3898/3898 [==============================] - 0s 21us/step - loss: 0.4546\n",
            "Epoch 83/100\n",
            "3898/3898 [==============================] - 0s 21us/step - loss: 0.4526\n",
            "Epoch 84/100\n",
            "3898/3898 [==============================] - 0s 20us/step - loss: 0.4525\n",
            "Epoch 85/100\n",
            "3898/3898 [==============================] - 0s 21us/step - loss: 0.4534\n",
            "Epoch 86/100\n",
            "3898/3898 [==============================] - 0s 21us/step - loss: 0.4528\n",
            "Epoch 87/100\n",
            "3898/3898 [==============================] - 0s 20us/step - loss: 0.4524\n",
            "Epoch 88/100\n",
            "3898/3898 [==============================] - 0s 21us/step - loss: 0.4512\n",
            "Epoch 89/100\n",
            "3898/3898 [==============================] - 0s 21us/step - loss: 0.4504\n",
            "Epoch 90/100\n",
            "3898/3898 [==============================] - 0s 20us/step - loss: 0.4493\n",
            "Epoch 91/100\n",
            "3898/3898 [==============================] - 0s 22us/step - loss: 0.4523\n",
            "Epoch 92/100\n",
            "3898/3898 [==============================] - 0s 21us/step - loss: 0.4480\n",
            "Epoch 93/100\n",
            "3898/3898 [==============================] - 0s 21us/step - loss: 0.4495\n",
            "Epoch 94/100\n",
            "3898/3898 [==============================] - 0s 20us/step - loss: 0.4536\n",
            "Epoch 95/100\n",
            "3898/3898 [==============================] - 0s 23us/step - loss: 0.4493\n",
            "Epoch 96/100\n",
            "3898/3898 [==============================] - 0s 21us/step - loss: 0.4497\n",
            "Epoch 97/100\n",
            "3898/3898 [==============================] - 0s 21us/step - loss: 0.4501\n",
            "Epoch 98/100\n",
            "3898/3898 [==============================] - 0s 21us/step - loss: 0.4482\n",
            "Epoch 99/100\n",
            "3898/3898 [==============================] - 0s 23us/step - loss: 0.4505\n",
            "Epoch 100/100\n",
            "3898/3898 [==============================] - 0s 21us/step - loss: 0.4470\n"
          ],
          "name": "stdout"
        },
        {
          "output_type": "execute_result",
          "data": {
            "text/plain": [
              "<keras.callbacks.History at 0x7f1c79122c18>"
            ]
          },
          "metadata": {
            "tags": []
          },
          "execution_count": 31
        }
      ]
    },
    {
      "metadata": {
        "id": "Lt2BTq_a9ALA",
        "colab_type": "code",
        "outputId": "871cb1d8-65d9-4f93-e742-cf2371dc6fd2",
        "colab": {
          "base_uri": "https://localhost:8080/",
          "height": 34
        }
      },
      "cell_type": "code",
      "source": [
        "t = estimator.predict(X_train)"
      ],
      "execution_count": 0,
      "outputs": [
        {
          "output_type": "stream",
          "text": [
            "3898/3898 [==============================] - 0s 21us/step\n"
          ],
          "name": "stdout"
        }
      ]
    },
    {
      "metadata": {
        "id": "RBfzzNHR8ysj",
        "colab_type": "code",
        "outputId": "ae5d845d-a558-4c6d-872b-3d3f9002697d",
        "colab": {
          "base_uri": "https://localhost:8080/",
          "height": 34
        }
      },
      "cell_type": "code",
      "source": [
        "rms = sqrt(mean_squared_error(Y_train, t))\n",
        "rms"
      ],
      "execution_count": 0,
      "outputs": [
        {
          "output_type": "execute_result",
          "data": {
            "text/plain": [
              "0.6773866746943533"
            ]
          },
          "metadata": {
            "tags": []
          },
          "execution_count": 34
        }
      ]
    },
    {
      "metadata": {
        "id": "Bc6_M9qmkr-f",
        "colab_type": "code",
        "outputId": "e72319d5-de5f-48bd-f68b-1561f2a78f0b",
        "colab": {
          "base_uri": "https://localhost:8080/",
          "height": 34
        }
      },
      "cell_type": "code",
      "source": [
        "res = estimator.predict(X_test)"
      ],
      "execution_count": 0,
      "outputs": [
        {
          "output_type": "stream",
          "text": [
            "1000/1000 [==============================] - 0s 19us/step\n"
          ],
          "name": "stdout"
        }
      ]
    },
    {
      "metadata": {
        "id": "6u7I1-T4dJZ-",
        "colab_type": "code",
        "outputId": "dd536a61-dc0e-4fb0-9116-3d00354dbbd3",
        "colab": {
          "base_uri": "https://localhost:8080/",
          "height": 2856
        }
      },
      "cell_type": "code",
      "source": [
        "res"
      ],
      "execution_count": 0,
      "outputs": [
        {
          "output_type": "execute_result",
          "data": {
            "text/plain": [
              "array([6.4136124, 6.3929343, 5.584241 , 6.7294226, 5.2921476, 7.3300524,\n",
              "       5.4780784, 5.1303844, 5.063286 , 6.003501 , 5.864408 , 7.153711 ,\n",
              "       6.283133 , 6.41283  , 5.290557 , 5.6594076, 5.4589705, 7.906011 ,\n",
              "       5.320757 , 5.744296 , 6.606029 , 7.138288 , 6.81142  , 6.904805 ,\n",
              "       5.5935683, 5.09851  , 5.885079 , 5.7213545, 6.262026 , 5.772343 ,\n",
              "       6.3883667, 5.32626  , 5.970324 , 5.5463457, 7.253581 , 5.7260923,\n",
              "       5.346337 , 5.3333263, 6.6584826, 7.1435943, 6.2830887, 5.5154057,\n",
              "       6.2413554, 5.4783764, 6.234636 , 6.702452 , 5.8099823, 6.2164216,\n",
              "       7.0858564, 5.692416 , 5.484714 , 6.2273746, 5.4170337, 6.9386635,\n",
              "       4.1699657, 6.331784 , 5.904531 , 6.2973604, 5.4885354, 5.620237 ,\n",
              "       6.0369816, 6.3657312, 6.413678 , 6.3899903, 5.963694 , 6.0789595,\n",
              "       5.9521685, 6.936507 , 6.0477605, 6.8112526, 6.1112876, 6.4190807,\n",
              "       6.3889303, 5.489562 , 5.3655157, 6.4745975, 5.4993095, 5.6717052,\n",
              "       5.561338 , 5.421775 , 5.487256 , 6.193106 , 6.361613 , 5.6873474,\n",
              "       6.5703464, 5.648729 , 7.4394407, 6.4796734, 5.381856 , 6.09521  ,\n",
              "       5.511543 , 6.3007083, 5.787513 , 5.429832 , 6.4424405, 5.5296516,\n",
              "       6.455181 , 5.5263224, 6.726244 , 5.2526317, 6.8005266, 5.559611 ,\n",
              "       5.231841 , 6.6730237, 6.651766 , 6.013951 , 5.2739363, 5.8564568,\n",
              "       6.244291 , 5.580257 , 7.0884233, 5.239437 , 6.282285 , 5.4478545,\n",
              "       5.2034674, 6.2591143, 6.464091 , 5.9357204, 5.7500057, 6.4190807,\n",
              "       7.013846 , 7.520712 , 6.675686 , 6.132161 , 5.087393 , 5.3421936,\n",
              "       5.9086866, 6.882185 , 5.312044 , 6.834908 , 6.4794865, 5.716865 ,\n",
              "       5.591064 , 6.6214905, 6.3022895, 5.807599 , 5.7941446, 5.4594426,\n",
              "       6.211163 , 5.5574856, 5.313714 , 6.165279 , 6.17021  , 5.5427837,\n",
              "       6.995715 , 6.320323 , 6.2755976, 5.935642 , 6.6512604, 5.941669 ,\n",
              "       6.5677447, 5.2989993, 5.5995007, 6.5011864, 5.3311768, 7.0682573,\n",
              "       6.4460196, 5.4207745, 5.5436616, 5.9883933, 6.3978367, 6.6953177,\n",
              "       5.5532517, 7.0012536, 5.036302 , 5.751708 , 7.406721 , 5.4461308,\n",
              "       5.2957373, 5.465205 , 5.438015 , 6.1246266, 5.474465 , 6.0757327,\n",
              "       5.733936 , 7.170126 , 5.8785996, 7.1231704, 5.5287547, 5.397877 ,\n",
              "       6.1619205, 5.3756895, 5.9333954, 6.3882465, 5.4128428, 6.0482244,\n",
              "       6.331784 , 5.3202777, 5.455812 , 5.449155 , 6.2770386, 5.330512 ,\n",
              "       7.1741357, 6.047845 , 5.6879387, 5.605729 , 5.52675  , 5.4374785,\n",
              "       6.269138 , 5.338387 , 5.5070615, 5.428308 , 5.5935683, 6.4461145,\n",
              "       6.2362075, 5.287071 , 5.6702037, 5.9258833, 5.068999 , 6.357818 ,\n",
              "       5.4890203, 6.2035723, 5.818177 , 6.2992516, 6.214615 , 5.8319373,\n",
              "       5.251267 , 5.3566136, 6.521681 , 7.0701914, 5.467516 , 5.9906697,\n",
              "       5.9107385, 5.3016367, 5.9667664, 6.3490844, 6.241599 , 5.3619995,\n",
              "       6.3513694, 5.7791524, 6.3711367, 5.6926885, 5.2076216, 6.3038325,\n",
              "       6.3248844, 6.178836 , 6.095227 , 6.2214217, 5.8854656, 5.2930193,\n",
              "       6.0929418, 4.9816537, 5.5249634, 5.4612303, 5.41021  , 5.408958 ,\n",
              "       6.037114 , 6.2392616, 5.91372  , 5.5925264, 5.6951313, 5.405201 ,\n",
              "       6.7833276, 6.6787157, 5.4424524, 6.319868 , 5.8356395, 6.080787 ,\n",
              "       6.6337233, 5.4858756, 6.377146 , 6.34702  , 5.5876374, 5.720675 ,\n",
              "       5.8864865, 6.691483 , 5.5371857, 6.7967353, 6.3618264, 7.914709 ,\n",
              "       6.826881 , 6.267092 , 5.497427 , 6.9289103, 5.9266224, 6.2362723,\n",
              "       6.211393 , 6.3784785, 6.415094 , 6.29905  , 7.241332 , 5.3828683,\n",
              "       6.49282  , 5.5402594, 5.4972954, 6.901042 , 6.1083755, 7.1696005,\n",
              "       6.5870214, 7.0245695, 5.7693605, 6.499982 , 6.0185947, 6.3624883,\n",
              "       7.4018035, 6.170539 , 7.127624 , 4.7679415, 7.0200834, 5.955133 ,\n",
              "       5.6236453, 6.1879506, 6.006364 , 5.1426744, 5.4662156, 5.9266224,\n",
              "       5.5782075, 6.108028 , 6.7089376, 6.421957 , 5.4552417, 5.860199 ,\n",
              "       6.136937 , 5.7476344, 6.8963203, 4.9219093, 5.482919 , 5.337074 ,\n",
              "       7.2418833, 5.383912 , 5.5160017, 6.38068  , 6.526964 , 6.3583937,\n",
              "       6.8319902, 6.6563153, 6.227963 , 5.435883 , 5.5935783, 5.570172 ,\n",
              "       5.3142533, 5.139845 , 5.4797335, 5.865889 , 5.960164 , 5.727872 ,\n",
              "       5.8825393, 5.4725323, 5.174043 , 6.2412705, 6.7326527, 7.1435943,\n",
              "       6.194936 , 5.4231277, 5.3787575, 5.560899 , 6.8118463, 5.89898  ,\n",
              "       6.008893 , 5.9778867, 5.01135  , 5.664317 , 6.429443 , 5.5693936,\n",
              "       5.636489 , 6.598456 , 6.0698304, 5.241949 , 5.2277637, 5.5231247,\n",
              "       5.3443537, 5.9660006, 6.421193 , 5.9667664, 5.6188307, 4.8543606,\n",
              "       6.1376166, 5.3539386, 7.0638747, 7.1435943, 5.125782 , 6.3695173,\n",
              "       7.01447  , 7.3793945, 5.4064903, 6.165425 , 6.148988 , 6.715511 ,\n",
              "       5.5139875, 5.468915 , 5.670409 , 6.6297255, 6.34642  , 5.3965626,\n",
              "       4.7889323, 5.351789 , 5.7408   , 6.537688 , 6.878979 , 5.6076565,\n",
              "       7.0139623, 6.0326643, 6.354505 , 7.0016613, 5.7903023, 5.0921326,\n",
              "       7.877462 , 6.8526125, 7.081857 , 5.7114196, 4.4471903, 6.0949664,\n",
              "       7.361665 , 6.2194543, 7.158072 , 5.8490863, 5.4676723, 5.8222957,\n",
              "       6.387444 , 5.54076  , 5.4967084, 6.4404507, 5.6946387, 5.3897257,\n",
              "       6.649533 , 5.528107 , 5.1493244, 5.673728 , 5.9770026, 6.9886537,\n",
              "       6.133653 , 6.6048927, 5.758825 , 5.37727  , 5.0918775, 6.2179317,\n",
              "       6.1209946, 6.6619725, 6.6439657, 5.486171 , 6.5483127, 6.0364804,\n",
              "       6.026907 , 6.7751265, 5.951873 , 6.2925982, 5.211601 , 5.4589515,\n",
              "       6.5085664, 6.1023335, 5.5562277, 5.334763 , 5.645769 , 6.35517  ,\n",
              "       5.5382752, 6.037114 , 5.3998766, 6.5702214, 6.4011197, 5.5225687,\n",
              "       6.209311 , 6.00031  , 5.74844  , 6.4136124, 6.6706443, 5.4594426,\n",
              "       6.3829274, 6.773193 , 6.225759 , 6.4266706, 5.2876487, 5.710354 ,\n",
              "       6.178914 , 6.4907713, 6.69964  , 6.653172 , 5.1807942, 5.554705 ,\n",
              "       6.3618264, 6.5145874, 5.5949154, 5.419866 , 5.7168865, 6.037114 ,\n",
              "       5.462426 , 6.0537806, 5.460757 , 6.207949 , 6.5454187, 4.9405456,\n",
              "       6.678809 , 5.2739363, 5.3842044, 6.616592 , 5.7536516, 6.1198077,\n",
              "       6.207315 , 6.626698 , 5.554016 , 5.3061976, 5.6050205, 6.1761827,\n",
              "       5.4926224, 5.9772224, 5.362332 , 6.9252443, 5.5066133, 5.662599 ,\n",
              "       5.7633386, 6.1426086, 6.090442 , 5.4869146, 5.9029255, 6.4777064,\n",
              "       5.480121 , 6.1163845, 6.416542 , 5.9878745, 5.565749 , 6.125002 ,\n",
              "       5.672826 , 5.501506 , 5.781547 , 5.547315 , 5.435061 , 5.585539 ,\n",
              "       5.8086767, 5.603653 , 6.4079876, 6.116381 , 5.4630084, 6.292146 ,\n",
              "       6.0525084, 6.2013035, 5.4119635, 5.8018055, 6.56733  , 5.905314 ,\n",
              "       5.3742533, 5.6950808, 6.2841883, 6.145536 , 5.834413 , 6.778192 ,\n",
              "       5.224873 , 5.7113523, 6.418085 , 6.0788927, 7.0336056, 6.111379 ,\n",
              "       5.600208 , 6.692058 , 5.4448442, 6.403107 , 5.6948233, 6.426544 ,\n",
              "       7.090407 , 5.267966 , 5.289901 , 5.351789 , 6.3624883, 6.153212 ,\n",
              "       5.3668714, 5.846066 , 5.611052 , 5.8286014, 5.7504644, 6.9753475,\n",
              "       6.3760204, 5.716344 , 5.515728 , 5.631602 , 5.6681905, 5.6738105,\n",
              "       6.4271173, 5.972371 , 4.2421846, 6.223168 , 6.1866226, 6.135752 ,\n",
              "       7.1718216, 5.964888 , 6.39496  , 5.87696  , 6.526954 , 5.9443793,\n",
              "       7.130487 , 4.9751806, 5.347339 , 5.723857 , 6.4928613, 5.5003166,\n",
              "       6.0280266, 5.7965636, 5.5247006, 4.904999 , 7.0792203, 6.8369203,\n",
              "       5.289784 , 5.4594426, 6.3624883, 6.207315 , 5.9595823, 5.485383 ,\n",
              "       6.2570357, 5.5755258, 6.0305862, 6.1935678, 6.33134  , 5.8152266,\n",
              "       6.5870214, 5.559611 , 5.4315057, 6.5209265, 5.750476 , 5.5439777,\n",
              "       5.982212 , 5.559291 , 5.727872 , 6.7189856, 6.467386 , 6.137142 ,\n",
              "       6.563242 , 6.0660963, 5.5135775, 6.3807817, 5.515757 , 6.640273 ,\n",
              "       6.7832847, 6.2194815, 5.6636825, 5.4107366, 5.8137226, 6.8258934,\n",
              "       5.8427324, 6.2405677, 5.015912 , 5.594425 , 5.7116756, 7.090608 ,\n",
              "       6.4796834, 6.9932337, 5.5651965, 6.6220837, 5.3218203, 6.460741 ,\n",
              "       5.8541937, 6.1035614, 6.6730237, 5.926872 , 6.237685 , 6.266988 ,\n",
              "       5.8018055, 6.4187036, 5.3218203, 6.2925177, 6.2662826, 5.4606104,\n",
              "       5.914078 , 5.5452247, 6.651399 , 6.400018 , 5.8496103, 6.3297496,\n",
              "       5.0964336, 6.526841 , 6.2654786, 5.5949154, 5.105546 , 6.2713633,\n",
              "       6.99806  , 5.470746 , 5.6926885, 5.193775 , 6.413212 , 6.1668935,\n",
              "       6.1404624, 5.7905817, 6.9275637, 6.0895185, 5.228235 , 5.8367085,\n",
              "       6.3638463, 5.7736   , 7.1435943, 5.4654136, 5.456126 , 5.4831147,\n",
              "       6.6778393, 6.663953 , 5.5358396, 6.497129 , 5.915863 , 5.8047714,\n",
              "       6.337922 , 5.459625 , 5.2900877, 7.1582584, 6.1171126, 6.274857 ,\n",
              "       5.978415 , 6.4009132, 5.038912 , 6.2211123, 5.35956  , 6.826881 ,\n",
              "       5.3610168, 5.098563 , 6.42531  , 6.1596513, 5.1430016, 6.0960245,\n",
              "       6.843059 , 6.146117 , 6.326849 , 5.7822433, 6.459978 , 5.317062 ,\n",
              "       6.157157 , 4.293204 , 7.128649 , 6.570217 , 5.5071874, 5.7463775,\n",
              "       6.100951 , 5.1229734, 7.232226 , 6.047435 , 5.9025865, 6.8790627,\n",
              "       7.241332 , 4.868744 , 5.4303865, 5.940954 , 5.775396 , 6.5009866,\n",
              "       5.8912168, 5.305838 , 6.466969 , 6.558754 , 7.386348 , 5.46447  ,\n",
              "       5.9135227, 5.7536516, 6.363491 , 6.1377807, 6.498921 , 6.380622 ,\n",
              "       5.2749825, 5.6921844, 6.9509788, 6.4415865, 5.8046107, 6.526964 ,\n",
              "       5.956176 , 7.1956244, 7.1435943, 5.960971 , 6.8527703, 5.312044 ,\n",
              "       7.2612643, 7.467818 , 6.0516286, 7.0001945, 7.819887 , 6.39496  ,\n",
              "       5.300225 , 5.972446 , 6.4812756, 5.485851 , 5.706935 , 6.607024 ,\n",
              "       5.7193036, 5.7081285, 6.5716343, 5.5049677, 6.4437885, 7.004364 ,\n",
              "       6.961393 , 5.080539 , 6.2789507, 7.3450203, 5.767335 , 6.0487947,\n",
              "       5.3894687, 6.307067 , 5.3746715, 6.470277 , 5.558532 , 6.323218 ,\n",
              "       6.9679456, 5.4914107, 5.871526 , 5.998273 , 6.310882 , 5.4670405,\n",
              "       6.788083 , 6.0391755, 5.4267   , 6.7102313, 7.198172 , 5.916981 ,\n",
              "       5.879607 , 5.4807262, 5.9025865, 6.3618264, 5.372492 , 5.6252713,\n",
              "       6.4512577, 5.9537625, 5.3810973, 5.441444 , 6.09298  , 6.9752584,\n",
              "       5.5443153, 5.1522074, 6.3313975, 5.981812 , 5.55294  , 5.8182383,\n",
              "       4.9980297, 6.050585 , 6.425083 , 7.370361 , 6.09521  , 7.1972294,\n",
              "       6.2770386, 6.8674364, 5.4326158, 6.4906282, 6.134779 , 6.9509788,\n",
              "       6.5758986, 6.9339557, 6.2362723, 5.724612 , 5.0489063, 6.104123 ,\n",
              "       5.5583053, 5.2753816, 6.2362337, 5.5395284, 5.339918 , 6.0044174,\n",
              "       5.570488 , 6.0337105, 5.3880763, 5.7237387, 6.439334 , 5.4553037,\n",
              "       6.2119927, 6.4190807, 5.4927325, 5.9319267, 5.184741 , 5.4450836,\n",
              "       5.552037 , 6.4912806, 5.458132 , 6.4796834, 5.8293366, 6.293144 ,\n",
              "       6.574726 , 4.986088 , 5.354923 , 5.4501157, 5.6235228, 6.1577253,\n",
              "       6.542156 , 5.4655514, 6.6863084, 5.663347 , 6.809872 , 5.6831875,\n",
              "       5.2019997, 6.431264 , 6.300787 , 7.0347066, 5.4447813, 5.181898 ,\n",
              "       6.319868 , 6.174548 , 5.446578 , 6.398051 , 6.0427494, 5.674121 ,\n",
              "       7.0139623, 6.362312 , 5.3415537, 5.521886 , 7.0139623, 5.432764 ,\n",
              "       6.668168 , 6.1086307, 5.6884866, 7.3174357, 6.5118723, 5.75205  ,\n",
              "       6.9835134, 5.3082886, 5.539481 , 6.5874734, 5.9073243, 6.1885023,\n",
              "       5.8229113, 4.9454417, 6.0522127, 6.2950597, 5.62738  , 7.009551 ,\n",
              "       6.0482244, 6.3807697, 5.5229764, 5.7030783, 7.114397 , 6.984269 ,\n",
              "       5.6678195, 5.862622 , 5.5869646, 6.3086014, 5.514211 , 5.388521 ,\n",
              "       5.603653 , 5.5135775, 5.3460927, 6.0090237, 6.3702865, 5.3207426,\n",
              "       6.718496 , 5.733414 , 6.375201 , 6.0553966, 5.076509 , 6.9662004,\n",
              "       6.255353 , 6.0653763, 6.7055883, 6.1660604, 5.5050817, 5.8589535,\n",
              "       5.6500273, 6.5965343, 5.7596946, 6.321453 , 7.39915  , 6.03514  ,\n",
              "       6.0937533, 6.257939 , 6.1886854, 5.8875256, 5.388421 , 5.273062 ,\n",
              "       5.3581696, 7.4972706, 5.5317535, 5.2054815, 5.127463 , 5.684226 ,\n",
              "       6.687256 , 5.6572547, 6.203732 , 6.3837886, 5.960595 , 5.5830765,\n",
              "       4.937468 , 6.141676 , 5.9943576, 5.9092216, 7.04796  , 6.3673005,\n",
              "       6.7664804, 5.762182 , 5.1863213, 5.3472066, 5.986844 , 6.835641 ,\n",
              "       6.619953 , 6.3670163, 6.0826287, 5.880776 , 5.349369 , 6.5734453,\n",
              "       5.6035323, 6.9679456, 5.9150033, 5.613096 , 6.8093696, 5.7509522,\n",
              "       6.3366804, 5.3847404, 6.664034 , 6.247095 , 7.02668  , 5.5833263,\n",
              "       6.400218 , 5.414127 , 5.4972515, 5.9406724, 5.4425325, 5.447342 ,\n",
              "       4.9080625, 7.133753 , 6.206669 , 5.8430247, 6.770895 , 5.7927504,\n",
              "       5.907487 , 5.6947837, 5.4651103, 5.503952 ], dtype=float32)"
            ]
          },
          "metadata": {
            "tags": []
          },
          "execution_count": 36
        }
      ]
    },
    {
      "metadata": {
        "id": "L1rlfcL1lZcB",
        "colab_type": "code",
        "colab": {}
      },
      "cell_type": "code",
      "source": [
        "sample_df = pd.read_csv('winequality-white-sample.csv')"
      ],
      "execution_count": 0,
      "outputs": []
    },
    {
      "metadata": {
        "id": "L0AsSKEhlG33",
        "colab_type": "code",
        "colab": {}
      },
      "cell_type": "code",
      "source": [
        "d = {'quality':pd.Series(res)}\n",
        "wine = pd.concat([sample_df.iloc[:,0:1],pd.DataFrame(d)], axis = 1)\n",
        "wine. to_csv('wine2.csv',index=False)\n",
        "from google.colab import files\n",
        "files.download('wine2.csv')"
      ],
      "execution_count": 0,
      "outputs": []
    }
  ]
}