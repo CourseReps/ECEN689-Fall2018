{
  "nbformat": 4,
  "nbformat_minor": 0,
  "metadata": {
    "colab": {
      "name": "Challenge 6 - MNIST Final.ipynb",
      "version": "0.3.2",
      "provenance": [],
      "collapsed_sections": []
    },
    "kernelspec": {
      "name": "python3",
      "display_name": "Python 3"
    }
  },
  "cells": [
    {
      "metadata": {
        "id": "IqU-WbbruNfG",
        "colab_type": "code",
        "colab": {}
      },
      "cell_type": "code",
      "source": [
        "# Importing files \n",
        "\n",
        "from google.colab import files\n",
        "\n",
        "uploaded = files.upload()\n",
        "\n",
        "for fn in uploaded.keys():\n",
        "  print('User uploaded file \"{name}\" with length {length} bytes'.format(\n",
        "      name=fn, length=len(uploaded[fn])))"
      ],
      "execution_count": 0,
      "outputs": []
    },
    {
      "metadata": {
        "id": "DjWGkZDCvmnz",
        "colab_type": "code",
        "colab": {}
      },
      "cell_type": "code",
      "source": [
        "import pandas as pd\n",
        "import numpy as np\n",
        "from numpy import array\n",
        "#import tensorflow as tf\n",
        "import keras\n",
        "import pandas as pd\n",
        "from sklearn.preprocessing import OneHotEncoder\n",
        "from keras.models import Sequential\n",
        "from keras.layers import Dense, Activation, Dropout, Flatten, Conv2D, MaxPooling2D\n",
        "from keras.optimizers import SGD, Adam\n",
        "from keras.utils import to_categorical"
      ],
      "execution_count": 0,
      "outputs": []
    },
    {
      "metadata": {
        "id": "WTkNS0MXwprS",
        "colab_type": "code",
        "colab": {}
      },
      "cell_type": "code",
      "source": [
        "training_df = pd.read_csv('mnist_train.csv')\n",
        "training_df.shape"
      ],
      "execution_count": 0,
      "outputs": []
    },
    {
      "metadata": {
        "id": "TyybGlvORVt7",
        "colab_type": "code",
        "colab": {}
      },
      "cell_type": "code",
      "source": [
        "x_train = training_df.iloc[:,2:786]\n",
        "x_train.shape"
      ],
      "execution_count": 0,
      "outputs": []
    },
    {
      "metadata": {
        "id": "yuQ5Zku5SYkD",
        "colab_type": "code",
        "colab": {}
      },
      "cell_type": "code",
      "source": [
        "y_train = training_df.iloc[:,1]\n",
        "y_train.shape"
      ],
      "execution_count": 0,
      "outputs": []
    },
    {
      "metadata": {
        "id": "UqCflNBdOQ9S",
        "colab_type": "code",
        "colab": {}
      },
      "cell_type": "code",
      "source": [
        "testing_df = pd.read_csv('mnist_test.csv')\n",
        "testing_df.shape"
      ],
      "execution_count": 0,
      "outputs": []
    },
    {
      "metadata": {
        "id": "uCdKZXt_Sr0N",
        "colab_type": "code",
        "colab": {}
      },
      "cell_type": "code",
      "source": [
        "x_test = testing_df.iloc[:,1:785]\n",
        "x_test.shape"
      ],
      "execution_count": 0,
      "outputs": []
    },
    {
      "metadata": {
        "id": "x1C194MG8T2K",
        "colab_type": "code",
        "colab": {}
      },
      "cell_type": "code",
      "source": [
        "train_label = y_train\n",
        "train_label = np.array(train_label).reshape(-1, 1)\n",
        "encoded_label = to_categorical(train_label)"
      ],
      "execution_count": 0,
      "outputs": []
    },
    {
      "metadata": {
        "id": "KYfVLXuo82yn",
        "colab_type": "code",
        "colab": {}
      },
      "cell_type": "code",
      "source": [
        "train_feat = np.array(x_train)/255\n",
        "data = train_feat.reshape((train_feat.shape[0], 28, 28, 1))"
      ],
      "execution_count": 0,
      "outputs": []
    },
    {
      "metadata": {
        "id": "tir-K0hiP8-Z",
        "colab_type": "code",
        "colab": {}
      },
      "cell_type": "code",
      "source": [
        "model = Sequential() \n",
        "model.add(Conv2D(32, (5,5), activation='relu', input_shape=(28,28,1)))\n",
        "model.add(Conv2D(32, (5,5), activation='relu'))\n",
        "model.add(MaxPooling2D((2,2)))\n",
        "model.add(Conv2D(32, (3,3), activation='relu'))\n",
        "model.add(Flatten())\n",
        "model.add(Dense(units=256, activation='relu'))\n",
        "model.add(Dropout(0.1))\n",
        "model.add(Dense(units=10))\n",
        "model.add(Activation('softmax'))\n",
        "keras.initializers.TruncatedNormal(mean=0.0, stddev=0.05, seed=None)\n",
        "model.compile(optimizer='rmsprop', loss='categorical_crossentropy', metrics=['accuracy'])"
      ],
      "execution_count": 0,
      "outputs": []
    },
    {
      "metadata": {
        "id": "zxIsOkZ99QhR",
        "colab_type": "code",
        "colab": {
          "base_uri": "https://localhost:8080/",
          "height": 1394
        },
        "outputId": "c234bea5-fd95-48a8-e5e1-238c01b08050"
      },
      "cell_type": "code",
      "source": [
        "model.fit(data, encoded_label,  batch_size=200, epochs=40, verbose=1)"
      ],
      "execution_count": 127,
      "outputs": [
        {
          "output_type": "stream",
          "text": [
            "Epoch 1/40\n",
            "60000/60000 [==============================] - 187s 3ms/step - loss: 0.0052 - acc: 0.9983\n",
            "Epoch 2/40\n",
            "60000/60000 [==============================] - 186s 3ms/step - loss: 0.0054 - acc: 0.9985\n",
            "Epoch 3/40\n",
            "60000/60000 [==============================] - 187s 3ms/step - loss: 0.0044 - acc: 0.9988\n",
            "Epoch 4/40\n",
            "60000/60000 [==============================] - 186s 3ms/step - loss: 0.0053 - acc: 0.9985\n",
            "Epoch 5/40\n",
            "60000/60000 [==============================] - 186s 3ms/step - loss: 0.0037 - acc: 0.9989\n",
            "Epoch 6/40\n",
            "60000/60000 [==============================] - 185s 3ms/step - loss: 0.0034 - acc: 0.9991\n",
            "Epoch 7/40\n",
            "60000/60000 [==============================] - 185s 3ms/step - loss: 0.0035 - acc: 0.9991\n",
            "Epoch 8/40\n",
            "60000/60000 [==============================] - 185s 3ms/step - loss: 0.0029 - acc: 0.9992\n",
            "Epoch 9/40\n",
            "60000/60000 [==============================] - 185s 3ms/step - loss: 0.0042 - acc: 0.9987\n",
            "Epoch 10/40\n",
            "60000/60000 [==============================] - 186s 3ms/step - loss: 0.0020 - acc: 0.9994\n",
            "Epoch 11/40\n",
            "60000/60000 [==============================] - 186s 3ms/step - loss: 0.0035 - acc: 0.9991\n",
            "Epoch 12/40\n",
            "60000/60000 [==============================] - 189s 3ms/step - loss: 0.0031 - acc: 0.9993\n",
            "Epoch 13/40\n",
            "60000/60000 [==============================] - 187s 3ms/step - loss: 0.0031 - acc: 0.9993\n",
            "Epoch 14/40\n",
            "60000/60000 [==============================] - 186s 3ms/step - loss: 0.0040 - acc: 0.9990\n",
            "Epoch 15/40\n",
            "60000/60000 [==============================] - 185s 3ms/step - loss: 0.0029 - acc: 0.9993\n",
            "Epoch 16/40\n",
            "60000/60000 [==============================] - 185s 3ms/step - loss: 0.0030 - acc: 0.9993\n",
            "Epoch 17/40\n",
            "60000/60000 [==============================] - 183s 3ms/step - loss: 0.0028 - acc: 0.9993\n",
            "Epoch 18/40\n",
            "60000/60000 [==============================] - 183s 3ms/step - loss: 0.0025 - acc: 0.9995\n",
            "Epoch 19/40\n",
            "60000/60000 [==============================] - 184s 3ms/step - loss: 0.0027 - acc: 0.9994\n",
            "Epoch 20/40\n",
            "60000/60000 [==============================] - 184s 3ms/step - loss: 0.0036 - acc: 0.9992\n",
            "Epoch 21/40\n",
            "60000/60000 [==============================] - 184s 3ms/step - loss: 0.0022 - acc: 0.9995\n",
            "Epoch 22/40\n",
            "60000/60000 [==============================] - 184s 3ms/step - loss: 0.0021 - acc: 0.9996\n",
            "Epoch 23/40\n",
            "60000/60000 [==============================] - 183s 3ms/step - loss: 0.0024 - acc: 0.9994\n",
            "Epoch 24/40\n",
            "60000/60000 [==============================] - 183s 3ms/step - loss: 0.0034 - acc: 0.9993\n",
            "Epoch 25/40\n",
            "60000/60000 [==============================] - 182s 3ms/step - loss: 0.0031 - acc: 0.9994\n",
            "Epoch 26/40\n",
            "60000/60000 [==============================] - 183s 3ms/step - loss: 0.0022 - acc: 0.9994\n",
            "Epoch 27/40\n",
            "60000/60000 [==============================] - 181s 3ms/step - loss: 0.0032 - acc: 0.9995\n",
            "Epoch 28/40\n",
            "60000/60000 [==============================] - 183s 3ms/step - loss: 0.0022 - acc: 0.9996\n",
            "Epoch 29/40\n",
            "60000/60000 [==============================] - 183s 3ms/step - loss: 0.0023 - acc: 0.9994\n",
            "Epoch 30/40\n",
            "60000/60000 [==============================] - 182s 3ms/step - loss: 0.0022 - acc: 0.9995\n",
            "Epoch 31/40\n",
            "60000/60000 [==============================] - 186s 3ms/step - loss: 0.0020 - acc: 0.9996\n",
            "Epoch 32/40\n",
            "60000/60000 [==============================] - 183s 3ms/step - loss: 0.0019 - acc: 0.9996\n",
            "Epoch 33/40\n",
            "60000/60000 [==============================] - 189s 3ms/step - loss: 0.0037 - acc: 0.9993\n",
            "Epoch 34/40\n",
            "60000/60000 [==============================] - 189s 3ms/step - loss: 0.0018 - acc: 0.9996\n",
            "Epoch 35/40\n",
            "60000/60000 [==============================] - 189s 3ms/step - loss: 0.0026 - acc: 0.9995\n",
            "Epoch 36/40\n",
            "60000/60000 [==============================] - 192s 3ms/step - loss: 0.0026 - acc: 0.9995\n",
            "Epoch 37/40\n",
            "60000/60000 [==============================] - 191s 3ms/step - loss: 0.0014 - acc: 0.9997\n",
            "Epoch 38/40\n",
            "60000/60000 [==============================] - 190s 3ms/step - loss: 0.0029 - acc: 0.9996\n",
            "Epoch 39/40\n",
            "60000/60000 [==============================] - 192s 3ms/step - loss: 0.0037 - acc: 0.9994\n",
            "Epoch 40/40\n",
            "60000/60000 [==============================] - 192s 3ms/step - loss: 0.0042 - acc: 0.9993\n"
          ],
          "name": "stdout"
        },
        {
          "output_type": "execute_result",
          "data": {
            "text/plain": [
              "<keras.callbacks.History at 0x7fcdd634aba8>"
            ]
          },
          "metadata": {
            "tags": []
          },
          "execution_count": 127
        }
      ]
    },
    {
      "metadata": {
        "id": "4vWq27q3aYQs",
        "colab_type": "code",
        "colab": {
          "base_uri": "https://localhost:8080/",
          "height": 34
        },
        "outputId": "f3eae865-7e19-4f5f-df7b-ba633aa57315"
      },
      "cell_type": "code",
      "source": [
        "test_feat = np.array(x_test)/255\n",
        "test_data = test_feat.reshape((test_feat.shape[0], 28, 28, 1))\n",
        "test_data.shape"
      ],
      "execution_count": 129,
      "outputs": [
        {
          "output_type": "execute_result",
          "data": {
            "text/plain": [
              "(10000, 28, 28, 1)"
            ]
          },
          "metadata": {
            "tags": []
          },
          "execution_count": 129
        }
      ]
    },
    {
      "metadata": {
        "id": "v-VgGS-1kanz",
        "colab_type": "code",
        "colab": {}
      },
      "cell_type": "code",
      "source": [
        "predictions = model.predict(np.array(test_data)).argmax(axis=1)\n",
        "predictions"
      ],
      "execution_count": 0,
      "outputs": []
    },
    {
      "metadata": {
        "id": "hVPJdbuI1POE",
        "colab_type": "code",
        "colab": {}
      },
      "cell_type": "code",
      "source": [
        "d = {'category':pd.Series(predictions)}\n",
        "final = pd.concat([testing_df.iloc[:,0:1],pd.DataFrame(d)], axis = 1)\n",
        "final. to_csv('final6.csv',index=False)\n",
        "from google.colab import files\n",
        "files.download('final6.csv')"
      ],
      "execution_count": 0,
      "outputs": []
    }
  ]
}