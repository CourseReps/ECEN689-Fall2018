{
 "cells": [
  {
   "cell_type": "code",
   "execution_count": 26,
   "metadata": {},
   "outputs": [],
   "source": [
    "import numpy as np\n",
    "import statsmodels.api as sm\n",
    "import pandas as pd \n",
    "import sklearn.cross_validation as cv\n",
    "from sklearn.linear_model import LassoCV,RidgeCV,LinearRegression,SGDRegressor\n",
    "from sklearn.linear_model import Lasso\n",
    "from sklearn.metrics import mean_squared_error\n",
    "import os \n",
    "import statsmodels.formula.api as sm"
   ]
  },
  {
   "cell_type": "code",
   "execution_count": 14,
   "metadata": {
    "collapsed": true
   },
   "outputs": [],
   "source": [
    "## Setting up path file\n",
    "os.chdir(r\"C:\\Users\\siddh\\Desktop\\analytics\\ECEN 689\\Challenge4 Wine\")"
   ]
  },
  {
   "cell_type": "code",
   "execution_count": 15,
   "metadata": {
    "collapsed": true
   },
   "outputs": [],
   "source": [
    "## Read in files\n",
    "df_train = pd.read_csv(\"winequality-white-training.csv\").drop(['Id'],axis = 1)\n",
    "df_test = pd.read_csv(\"winequality-white-testing.csv\").drop(['Id'],axis = 1)\n",
    "df_test2 = pd.read_csv(\"winequality-red-testing.csv\").drop(['Id'],axis = 1)"
   ]
  },
  {
   "cell_type": "code",
   "execution_count": 16,
   "metadata": {
    "collapsed": true
   },
   "outputs": [],
   "source": [
    "def pred_target(df,colname):\n",
    "    X = df.drop([colname],axis = 1)\n",
    "    Y = df[colname]\n",
    "    return X,Y"
   ]
  },
  {
   "cell_type": "code",
   "execution_count": 17,
   "metadata": {
    "collapsed": true
   },
   "outputs": [],
   "source": [
    "X_train,Y_train = pred_target(df_train,\"quality\")\n",
    "X_test = df_test\n",
    "x_val = df_test2"
   ]
  },
  {
   "cell_type": "code",
   "execution_count": 77,
   "metadata": {
    "collapsed": true
   },
   "outputs": [],
   "source": [
    "## Cross validation with Lasso - approach 1 to predict white wine quality \n",
    "alphas = np.logspace(-4, 2, 2000)\n",
    "scores = np.empty_like(alphas)\n",
    "\n",
    "lassocv = LassoCV(alphas = alphas ,cv = 5, max_iter = 1000000,fit_intercept=False)\n",
    "lassocv.fit(X_train, Y_train)\n",
    "\n",
    "lasso = Lasso(fit_intercept = False,max_iter = 1000000)\n",
    "lasso.set_params(alpha=lassocv.alpha_)\n",
    "lasso.fit(X_train, Y_train)\n",
    "\n",
    "predictions = lasso.predict(X_test)\n",
    "predictions = pd.DataFrame(predictions,columns = [\"quality\"])\n",
    "predictions.to_csv(\"linreg_pred_white2.csv\")"
   ]
  },
  {
   "cell_type": "code",
   "execution_count": 11,
   "metadata": {},
   "outputs": [
    {
     "name": "stdout",
     "output_type": "stream",
     "text": [
      "                            OLS Regression Results                            \n",
      "==============================================================================\n",
      "Dep. Variable:                quality   R-squared:                       0.984\n",
      "Model:                            OLS   Adj. R-squared:                  0.984\n",
      "Method:                 Least Squares   F-statistic:                 2.146e+04\n",
      "Date:                Tue, 16 Oct 2018   Prob (F-statistic):               0.00\n",
      "Time:                        14:03:45   Log-Likelihood:                -4444.5\n",
      "No. Observations:                3898   AIC:                             8911.\n",
      "Df Residuals:                    3887   BIC:                             8980.\n",
      "Df Model:                          11                                         \n",
      "Covariance Type:            nonrobust                                         \n",
      "========================================================================================\n",
      "                           coef    std err          t      P>|t|      [0.025      0.975]\n",
      "----------------------------------------------------------------------------------------\n",
      "fixed acidity           -0.0522      0.017     -3.065      0.002      -0.086      -0.019\n",
      "volatile acidity        -1.9370      0.128    -15.078      0.000      -2.189      -1.685\n",
      "citric acid             -0.0189      0.107     -0.176      0.860      -0.229       0.191\n",
      "residual sugar           0.0236      0.003      8.152      0.000       0.018       0.029\n",
      "chlorides               -1.1574      0.608     -1.904      0.057      -2.349       0.035\n",
      "free sulfur dioxide      0.0046      0.001      4.886      0.000       0.003       0.006\n",
      "total sulfur dioxide    -0.0009      0.000     -2.078      0.038      -0.002   -4.86e-05\n",
      "density                  1.9986      0.397      5.037      0.000       1.221       2.776\n",
      "pH                       0.2140      0.093      2.290      0.022       0.031       0.397\n",
      "sulphates                0.4167      0.109      3.837      0.000       0.204       0.630\n",
      "alcohol                  0.3580      0.013     28.570      0.000       0.333       0.383\n",
      "==============================================================================\n",
      "Omnibus:                       96.659   Durbin-Watson:                   2.014\n",
      "Prob(Omnibus):                  0.000   Jarque-Bera (JB):              219.980\n",
      "Skew:                           0.067   Prob(JB):                     1.71e-48\n",
      "Kurtosis:                       4.156   Cond. No.                     7.68e+03\n",
      "==============================================================================\n",
      "\n",
      "Warnings:\n",
      "[1] Standard Errors assume that the covariance matrix of the errors is correctly specified.\n",
      "[2] The condition number is large, 7.68e+03. This might indicate that there are\n",
      "strong multicollinearity or other numerical problems.\n"
     ]
    }
   ],
   "source": [
    "#X_train = sm.add_constant(X_train) # adding a constant\n",
    "## Printing out p values to find predictor p values \n",
    "model = sm.OLS(Y_train, X_train).fit()\n",
    "predictions = model.predict(X_train) \n",
    "\n",
    "print_model = model.summary()\n",
    "print(print_model)"
   ]
  },
  {
   "cell_type": "code",
   "execution_count": 20,
   "metadata": {},
   "outputs": [],
   "source": [
    "## OLS Regression - Approach 2 \"Used for Submission\"\n",
    "lr = LinearRegression(fit_intercept=True)\n",
    "lr.fit(X_train,Y_train)\n",
    "new_pred = lr.predict(X_test)\n",
    "new_pred = pd.DataFrame(new_pred,columns = [\"quality\"])\n",
    "new_pred.to_csv(\"linreg_pred_white_with_inter.csv\")"
   ]
  },
  {
   "cell_type": "code",
   "execution_count": 21,
   "metadata": {
    "collapsed": true
   },
   "outputs": [],
   "source": [
    "## Predict red wine rating with white coefficients\n",
    "predictions1 = lr.predict(x_val)\n",
    "predictions1 = pd.DataFrame(predictions1,columns = [\"quality\"])\n",
    "predictions1.to_csv(\"linreg_pred_white_red_3.csv\")"
   ]
  },
  {
   "cell_type": "code",
   "execution_count": 24,
   "metadata": {},
   "outputs": [],
   "source": [
    "coefficients = pd.DataFrame(lr.coef_)\n",
    "coefficients.to_csv(\"White_wine_coefficients_1.csv\")"
   ]
  },
  {
   "cell_type": "code",
   "execution_count": 39,
   "metadata": {},
   "outputs": [],
   "source": [
    "## SGD Regressor - Approach 3\n",
    "sg = SGDRegressor(alpha = 0.000001) ##Thumb rule, source:\"http://sdsawtelle.github.io/blog/output/week2-andrew-ng-machine-learning-with-python.html\n",
    "sg.max_iter = np.ceil(np.ceil(10**6 / len(Y_train.values)))\n",
    "sg.fit(X_train.values,Y_train.values)\n",
    "sgd_white = sg.predict(X_test.values)"
   ]
  },
  {
   "cell_type": "code",
   "execution_count": 40,
   "metadata": {},
   "outputs": [],
   "source": [
    "## Predict Red with white wine coeffients from SGD\n",
    "sgd_white_red = sg.predict(x_val)\n",
    "predictions_red_sgd = pd.DataFrame(sgd_white_red,columns = ['quality'])\n",
    "predictions_red_sgd.to_csv(\"linreg_pred_white_red_sgd.csv\")"
   ]
  }
 ],
 "metadata": {
  "kernelspec": {
   "display_name": "Python 3",
   "language": "python",
   "name": "python3"
  },
  "language_info": {
   "codemirror_mode": {
    "name": "ipython",
    "version": 3
   },
   "file_extension": ".py",
   "mimetype": "text/x-python",
   "name": "python",
   "nbconvert_exporter": "python",
   "pygments_lexer": "ipython3",
   "version": "3.6.3"
  }
 },
 "nbformat": 4,
 "nbformat_minor": 2
}
