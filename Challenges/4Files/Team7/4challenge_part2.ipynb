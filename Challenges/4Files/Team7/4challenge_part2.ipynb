{
 "cells": [
  {
   "cell_type": "markdown",
   "metadata": {},
   "source": [
    "## Activity 4 (Part 2): Wine Quality Decision Tree\n",
    "Due: October 16, 2018\n",
    "\n",
    "The goal of this activity is to explore a decision tree to classify the type of wine (red or white).\n",
    "\n",
    "\n",
    "### Decision Tree\n",
    "\n",
    "A decision tree is a decision support tool that uses a tree-like graph or model of decisions and their possible consequences, including chance event outcomes, resource costs, and utility.\n",
    "\n",
    "\n",
    "### Data\n",
    "\n",
    "This challenge uses a combined and cleaned up version of `winequality-red.csv` and `winequality-white.csv`.\n",
    "The 11 input variables are as follows.\n",
    "\n",
    " 1. Fixed acidity\n",
    " 2. Volatile acidity\n",
    " 3. Citric acid\n",
    " 4. Residual sugar\n",
    " 5. Chlorides\n",
    " 6. Free sulfur dioxide\n",
    " 7. Total sulfur dioxide\n",
    " 8. Density\n",
    " 9. pH\n",
    " 10. Sulphates\n",
    " 11. Alcohol\n",
    "\n",
    "The output variable is the type of wine (0 – white; 1 – red).\n",
    "\n",
    "\n",
    "### Evaluation\n",
    "\n",
    "In terms of machine learning and pattern classification, the labels of a set of random observations can be divided into 2 or more classes. Each observation is called an instance and the class it belongs to is the label. The empirical error rate of the data distribution is the percentage an instance is misclassified by a classifier that knows the true class probabilities given the predictors.\n",
    "\n",
    "\n",
    "### File Descriptions\n",
    "\n",
    " * winequality-combined-training.csv - Training set\n",
    " * winequality-combined-testing.csv - Test set\n",
    " * winequality-combined-sample.csv - Sample submission\n",
    "\n",
    "\n",
    "### Deliverables (Part 2)\n",
    "\n",
    "User submissions are evaluated by comparing their submission CSV to the ground truth solution CSV with respect to categorization accuracy.\n",
    "\n",
    "Documents to be submitted are as follows.\n",
    "\n",
    "__Kaggle__: Every team should enter the Kaggle competition and submit a classification file in the Kaggle format, as specified in `winequality-combined-sample.csv`.\n",
    "\n",
    "__GitHub__: Every team should commit and push files.\n",
    " 1. A classification file for the test set.\n",
    "   * `ECEN689-Fall2018 -> Challenges -> 4Files -> Team## -> winequality-combined-solution.csv`\n",
    " 2. Jupyter notebook code or Python code within the same `Team##` directory."
   ]
  },
  {
   "cell_type": "code",
   "execution_count": 2,
   "metadata": {},
   "outputs": [
    {
     "name": "stdout",
     "output_type": "stream",
     "text": [
      "(5097, 13)\n",
      "(1400, 12)\n",
      "(1400, 2)\n"
     ]
    }
   ],
   "source": [
    "import pandas as pd\n",
    "import numpy as np\n",
    "\n",
    "winequality_combined_training_df = pd.read_csv('4Files/winequality-combined-training.csv')\n",
    "print(winequality_combined_training_df.shape)\n",
    "\n",
    "winequality_combined_testing_df = pd.read_csv('4Files/winequality-combined-testing.csv')\n",
    "print(winequality_combined_testing_df.shape)\n",
    "\n",
    "winequality_combined_prediction_df = pd.read_csv('4Files/winequality-combined-sample.csv')\n",
    "print(winequality_combined_prediction_df.shape)"
   ]
  },
  {
   "cell_type": "code",
   "execution_count": 3,
   "metadata": {},
   "outputs": [
    {
     "name": "stdout",
     "output_type": "stream",
     "text": [
      "(5097, 11)\n",
      "(5097,)\n",
      "(1400, 11)\n"
     ]
    }
   ],
   "source": [
    "from sklearn.model_selection import train_test_split\n",
    "#train, test = train_test_split(winequality_combined_training_df, test_size=0.1)\n",
    "#train_input = train.drop(['type','Id'], axis=1)\n",
    "#train_target = train.loc[:,'type']\n",
    "#test_input = test.drop(['type','Id'], axis=1)\n",
    "#test_target  = test.loc[:,'type']\n",
    "train_input = winequality_combined_training_df.drop(['type','Id'], axis=1)\n",
    "train_target = winequality_combined_training_df.loc[:,'type']\n",
    "test_input = winequality_combined_testing_df.drop(['Id'], axis=1)\n",
    "#test_target  = test.loc[:,'type']\n",
    "print (train_input.shape)\n",
    "print (train_target.shape)\n",
    "print (test_input.shape)\n",
    "#print (test_target.shape)"
   ]
  },
  {
   "cell_type": "code",
   "execution_count": 4,
   "metadata": {},
   "outputs": [],
   "source": [
    "from sklearn.ensemble import RandomForestClassifier\n",
    "model = RandomForestClassifier(n_estimators=100,criterion='gini')\n",
    "model.fit(train_input, train_target)\n",
    "test_target = model.predict(test_input)\n",
    "df=pd.DataFrame(data=winequality_combined_prediction_df)\n",
    "df['type']=test_target\n",
    "df.to_csv(\"4Files/Team7/winequality-combined-solution.csv\",index=False)"
   ]
  },
  {
   "cell_type": "code",
   "execution_count": null,
   "metadata": {},
   "outputs": [],
   "source": []
  }
 ],
 "metadata": {
  "kernelspec": {
   "display_name": "Python 3",
   "language": "python",
   "name": "python3"
  },
  "language_info": {
   "codemirror_mode": {
    "name": "ipython",
    "version": 3
   },
   "file_extension": ".py",
   "mimetype": "text/x-python",
   "name": "python",
   "nbconvert_exporter": "python",
   "pygments_lexer": "ipython3",
   "version": "3.6.5"
  }
 },
 "nbformat": 4,
 "nbformat_minor": 2
}
