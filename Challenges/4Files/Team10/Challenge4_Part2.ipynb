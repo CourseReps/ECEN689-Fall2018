{
 "cells": [
  {
   "cell_type": "code",
   "execution_count": 14,
   "metadata": {},
   "outputs": [],
   "source": [
    "import numpy as np\n",
    "import pandas as pd\n",
    "from sklearn.tree import DecisionTreeClassifier\n",
    "from sklearn.model_selection import train_test_split\n",
    "from sklearn.metrics import mean_squared_error\n",
    "from math import sqrt\n",
    "from sklearn.pipeline import Pipeline\n",
    "from sklearn.decomposition import PCA\n",
    "from sklearn.model_selection import GridSearchCV\n",
    "from sklearn.metrics import accuracy_score\n",
    "from sklearn.ensemble import RandomForestClassifier"
   ]
  },
  {
   "cell_type": "code",
   "execution_count": 15,
   "metadata": {},
   "outputs": [],
   "source": [
    "def split_trainingData(predictors,target,train_percentage):\n",
    "    \"\"\"\n",
    "    Split the dataset with train_percentage\n",
    "    :param dataset:\n",
    "    :param train_percentage:\n",
    "    :param feature_headers:\n",
    "    :param target_header:\n",
    "    :return: train_x, test_x, train_y, test_y\n",
    "    \"\"\"\n",
    " \n",
    "    # Split dataset into train and test dataset\n",
    "    X_train, X_test, Y_train, Y_test = train_test_split(predictors, target, train_size=train_percentage)\n",
    "    return X_train, X_test, Y_train, Y_test"
   ]
  },
  {
   "cell_type": "code",
   "execution_count": 16,
   "metadata": {},
   "outputs": [],
   "source": [
    "def predictors_target(data_Train):\n",
    "    \"\"\"\n",
    "    Split the predictors from target values in training dataset\n",
    "    \n",
    "    :param training Dataset\n",
    "    \"\"\"\n",
    "    \n",
    "    predictors = data_Train.iloc[:,1:12]\n",
    "    target = data_Train.iloc[:,12]\n",
    "    \n",
    "    return predictors, target\n",
    "    "
   ]
  },
  {
   "cell_type": "code",
   "execution_count": 17,
   "metadata": {},
   "outputs": [],
   "source": [
    "def predictors_test(data_Test):\n",
    "    \"\"\"\n",
    "    Get the predictors in testing dataset\n",
    "    \n",
    "    :param testing Dataset\n",
    "    \"\"\"\n",
    "    \n",
    "    tsetPredictors = data_Test.iloc[:,1:12]\n",
    "    \n",
    "    return tsetPredictors"
   ]
  },
  {
   "cell_type": "code",
   "execution_count": 18,
   "metadata": {},
   "outputs": [],
   "source": [
    "def random_forest_classifier(features, target):\n",
    "    \"\"\"\n",
    "    To train the random forest classifier with features and target data\n",
    "    :param features:\n",
    "    :param target:\n",
    "    :return: trained random forest classifier\n",
    "    \"\"\"\n",
    "\n",
    "    \n",
    "    param_grid = [\n",
    "    {\n",
    "        'n_estimators':list(range(50,510,50)),\n",
    "        #'max_depth': list(range(50,160,10))\n",
    "    }]\n",
    "    \n",
    "    grid = GridSearchCV(RandomForestClassifier(),cv=5, n_jobs=1, param_grid=param_grid, verbose=0, scoring='accuracy')\n",
    "    grid.fit(features,target)\n",
    "    results = pd.DataFrame(grid.cv_results_)\n",
    "    results.sort_values(by='rank_test_score', inplace=True)\n",
    "    results.head(5)\n",
    "    optimised_random_forest = grid.best_estimator_\n",
    "    return grid"
   ]
  },
  {
   "cell_type": "code",
   "execution_count": 19,
   "metadata": {},
   "outputs": [],
   "source": [
    "def writeCSV(ID,data,outputFile):\n",
    "    \"\"\"\n",
    "    Write to a csv file\n",
    "    \n",
    "    :param ID -->id column \n",
    "    :param data -->data to write on a csv file\n",
    "    :param outputFile --> output file name to write data\n",
    "    \"\"\"\n",
    "    \n",
    "    df=pd.DataFrame()\n",
    "    df['Id']=ID\n",
    "    df['type']=data\n",
    "    df.to_csv(outputFile,index=0)"
   ]
  },
  {
   "cell_type": "code",
   "execution_count": 20,
   "metadata": {},
   "outputs": [
    {
     "name": "stderr",
     "output_type": "stream",
     "text": [
      "C:\\Users\\Ali\\Anaconda3\\lib\\site-packages\\sklearn\\model_selection\\_split.py:2026: FutureWarning: From version 0.21, test_size will always complement train_size unless both are specified.\n",
      "  FutureWarning)\n",
      "C:\\Users\\Ali\\Anaconda3\\lib\\site-packages\\sklearn\\utils\\deprecation.py:122: FutureWarning: You are accessing a training score ('split0_train_score'), which will not be available by default any more in 0.21. If you need training scores, please set return_train_score=True\n",
      "  warnings.warn(*warn_args, **warn_kwargs)\n",
      "C:\\Users\\Ali\\Anaconda3\\lib\\site-packages\\sklearn\\utils\\deprecation.py:122: FutureWarning: You are accessing a training score ('split1_train_score'), which will not be available by default any more in 0.21. If you need training scores, please set return_train_score=True\n",
      "  warnings.warn(*warn_args, **warn_kwargs)\n",
      "C:\\Users\\Ali\\Anaconda3\\lib\\site-packages\\sklearn\\utils\\deprecation.py:122: FutureWarning: You are accessing a training score ('split2_train_score'), which will not be available by default any more in 0.21. If you need training scores, please set return_train_score=True\n",
      "  warnings.warn(*warn_args, **warn_kwargs)\n",
      "C:\\Users\\Ali\\Anaconda3\\lib\\site-packages\\sklearn\\utils\\deprecation.py:122: FutureWarning: You are accessing a training score ('split3_train_score'), which will not be available by default any more in 0.21. If you need training scores, please set return_train_score=True\n",
      "  warnings.warn(*warn_args, **warn_kwargs)\n",
      "C:\\Users\\Ali\\Anaconda3\\lib\\site-packages\\sklearn\\utils\\deprecation.py:122: FutureWarning: You are accessing a training score ('split4_train_score'), which will not be available by default any more in 0.21. If you need training scores, please set return_train_score=True\n",
      "  warnings.warn(*warn_args, **warn_kwargs)\n",
      "C:\\Users\\Ali\\Anaconda3\\lib\\site-packages\\sklearn\\utils\\deprecation.py:122: FutureWarning: You are accessing a training score ('mean_train_score'), which will not be available by default any more in 0.21. If you need training scores, please set return_train_score=True\n",
      "  warnings.warn(*warn_args, **warn_kwargs)\n",
      "C:\\Users\\Ali\\Anaconda3\\lib\\site-packages\\sklearn\\utils\\deprecation.py:122: FutureWarning: You are accessing a training score ('std_train_score'), which will not be available by default any more in 0.21. If you need training scores, please set return_train_score=True\n",
      "  warnings.warn(*warn_args, **warn_kwargs)\n"
     ]
    },
    {
     "name": "stdout",
     "output_type": "stream",
     "text": [
      "@@@@@@@@@@@@@@@@@@ RandomForestClassifier(bootstrap=True, class_weight=None, criterion='gini',\n",
      "            max_depth=None, max_features='auto', max_leaf_nodes=None,\n",
      "            min_impurity_decrease=0.0, min_impurity_split=None,\n",
      "            min_samples_leaf=1, min_samples_split=2,\n",
      "            min_weight_fraction_leaf=0.0, n_estimators=150, n_jobs=1,\n",
      "            oob_score=False, random_state=None, verbose=0,\n",
      "            warm_start=False)\n",
      "$$$$$$$$$$$$$$$$$$ 0.9933774834437086\n",
      "***************** 0.9950980392156863\n"
     ]
    },
    {
     "name": "stderr",
     "output_type": "stream",
     "text": [
      "C:\\Users\\Ali\\Anaconda3\\lib\\site-packages\\sklearn\\utils\\deprecation.py:122: FutureWarning: You are accessing a training score ('split0_train_score'), which will not be available by default any more in 0.21. If you need training scores, please set return_train_score=True\n",
      "  warnings.warn(*warn_args, **warn_kwargs)\n",
      "C:\\Users\\Ali\\Anaconda3\\lib\\site-packages\\sklearn\\utils\\deprecation.py:122: FutureWarning: You are accessing a training score ('split1_train_score'), which will not be available by default any more in 0.21. If you need training scores, please set return_train_score=True\n",
      "  warnings.warn(*warn_args, **warn_kwargs)\n",
      "C:\\Users\\Ali\\Anaconda3\\lib\\site-packages\\sklearn\\utils\\deprecation.py:122: FutureWarning: You are accessing a training score ('split2_train_score'), which will not be available by default any more in 0.21. If you need training scores, please set return_train_score=True\n",
      "  warnings.warn(*warn_args, **warn_kwargs)\n",
      "C:\\Users\\Ali\\Anaconda3\\lib\\site-packages\\sklearn\\utils\\deprecation.py:122: FutureWarning: You are accessing a training score ('split3_train_score'), which will not be available by default any more in 0.21. If you need training scores, please set return_train_score=True\n",
      "  warnings.warn(*warn_args, **warn_kwargs)\n",
      "C:\\Users\\Ali\\Anaconda3\\lib\\site-packages\\sklearn\\utils\\deprecation.py:122: FutureWarning: You are accessing a training score ('split4_train_score'), which will not be available by default any more in 0.21. If you need training scores, please set return_train_score=True\n",
      "  warnings.warn(*warn_args, **warn_kwargs)\n",
      "C:\\Users\\Ali\\Anaconda3\\lib\\site-packages\\sklearn\\utils\\deprecation.py:122: FutureWarning: You are accessing a training score ('mean_train_score'), which will not be available by default any more in 0.21. If you need training scores, please set return_train_score=True\n",
      "  warnings.warn(*warn_args, **warn_kwargs)\n",
      "C:\\Users\\Ali\\Anaconda3\\lib\\site-packages\\sklearn\\utils\\deprecation.py:122: FutureWarning: You are accessing a training score ('std_train_score'), which will not be available by default any more in 0.21. If you need training scores, please set return_train_score=True\n",
      "  warnings.warn(*warn_args, **warn_kwargs)\n"
     ]
    },
    {
     "data": {
      "image/png": "[encoded data removed]",
      "text/plain": [
       "<Figure size 432x288 with 1 Axes>"
      ]
     },
     "metadata": {},
     "output_type": "display_data"
    }
   ],
   "source": [
    "# Main Function\n",
    "def main():\n",
    "    \"\"\"\n",
    "    Main function\n",
    "    :return:\n",
    "    \"\"\"\n",
    "    # Load the csv file into pandas dataframe\n",
    "    data_Samp=pd.read_csv(\"C:/Users/Ali/Documents/GitHub/ECEN689-Fall2018/Challenges/4Files/winequality-combined-sample.csv\")\n",
    "    data_Train=pd.read_csv(\"C:/Users/Ali/Documents/GitHub/ECEN689-Fall2018/Challenges/4Files/winequality-combined-training.csv\")\n",
    "    data_Test=pd.read_csv(\"C:/Users/Ali/Documents/GitHub/ECEN689-Fall2018/Challenges/4Files/winequality-combined-testing.csv\")\n",
    "    \n",
    "    # Split Data for Predictors and Target\n",
    "    predictors,target= predictors_target(data_Train)\n",
    "    \n",
    "    # Split Training data into train and test datasets\n",
    "    X_train, X_test, Y_train, Y_test= split_trainingData(predictors, target, 0.8)\n",
    "   \n",
    "    # Training a model. Change the Function Name for the model you want\n",
    "    trained_model= random_forest_classifier(X_train,Y_train)\n",
    "    print(\"@@@@@@@@@@@@@@@@@@\",trained_model.best_estimator_)\n",
    "    print(\"$$$$$$$$$$$$$$$$$$\",trained_model.best_score_)\n",
    "    \n",
    "    # Prediction on Validation Data\n",
    "    Y_pred= trained_model.predict(X_test)\n",
    "    \n",
    "    # Calculating Accuracy on Validation data set\n",
    "    score = accuracy_score(Y_test,Y_pred)\n",
    "    print(\"*****************\",score)\n",
    "    \n",
    "    # Prediction on Test Data\n",
    "    X_train=data_Train.iloc[:,1:12]\n",
    "    Y_train=data_Train.iloc[:,12]\n",
    "    testPredictors=predictors_test(data_Test)\n",
    "\n",
    "    trained_model= random_forest_classifier(X_train,Y_train)\n",
    "    trained_model.fit(X_train,Y_train)\n",
    "    importances = trained_model.best_estimator_.feature_importances_\n",
    "    Y_pred_test= trained_model.predict(testPredictors)\n",
    "    \n",
    "    #Plotting Important features of classifier\n",
    "    (pd.Series(trained_model.best_estimator_.feature_importances_, index=X_train.columns).plot(kind='barh'))\n",
    "    \n",
    "    # Writing to a csv file\n",
    "    outputFile='winequality-combined-solution_V5.csv'\n",
    "    writeCSV(data_Test['Id'],Y_pred_test,outputFile)\n",
    "    \n",
    "    \n",
    "    \n",
    "if __name__ == \"__main__\":\n",
    "    main()"
   ]
  }
 ],
 "metadata": {
  "kernelspec": {
   "display_name": "Python 3",
   "language": "python",
   "name": "python3"
  },
  "language_info": {
   "codemirror_mode": {
    "name": "ipython",
    "version": 3
   },
   "file_extension": ".py",
   "mimetype": "text/x-python",
   "name": "python",
   "nbconvert_exporter": "python",
   "pygments_lexer": "ipython3",
   "version": "3.6.5"
  }
 },
 "nbformat": 4,
 "nbformat_minor": 2
}
