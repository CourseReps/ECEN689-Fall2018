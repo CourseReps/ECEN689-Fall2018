{
 "cells": [
  {
   "cell_type": "code",
   "execution_count": 9,
   "metadata": {},
   "outputs": [
    {
     "name": "stdout",
     "output_type": "stream",
     "text": [
      "(5097, 12)\n",
      "(1400, 11)\n",
      "(1400, 1)\n"
     ]
    }
   ],
   "source": [
    "import pandas as pd\n",
    "import numpy as np\n",
    "from sklearn.preprocessing import StandardScaler\n",
    "from math import sqrt\n",
    "\n",
    "winequality_combined_training_df = pd.read_csv('/Users/devarshjhaveri/Desktop/Courses/ecen689/Challange_4/4Files/winequality-combined-training.csv',index_col=0)\n",
    "print(winequality_combined_training_df.shape)\n",
    "\n",
    "winequality_combined_testing_df = pd.read_csv('/Users/devarshjhaveri/Desktop/Courses/ecen689/Challange_4/4Files/winequality-combined-testing.csv',index_col=0)\n",
    "print(winequality_combined_testing_df.shape)\n",
    "\n",
    "winequality_combined_prediction_df = pd.read_csv('/Users/devarshjhaveri/Desktop/Courses/ecen689/Challange_4/4Files/winequality-combined-sample.csv',index_col=0)\n",
    "print(winequality_combined_prediction_df.shape)"
   ]
  },
  {
   "cell_type": "code",
   "execution_count": 2,
   "metadata": {
    "collapsed": true
   },
   "outputs": [],
   "source": [
    "#Setting the Training X and Y\n",
    "train = winequality_combined_training_df\n",
    "X = winequality_combined_training_df.iloc[:,0:11].values\n",
    "Y = winequality_combined_training_df.iloc[:,11].values\n",
    "\n",
    "#Standardize the training set\n",
    "scaler = StandardScaler()\n",
    "X_scaled = scaler.fit_transform(X)"
   ]
  },
  {
   "cell_type": "code",
   "execution_count": 3,
   "metadata": {
    "collapsed": true
   },
   "outputs": [],
   "source": [
    "from sklearn import tree"
   ]
  },
  {
   "cell_type": "code",
   "execution_count": 4,
   "metadata": {
    "collapsed": true
   },
   "outputs": [],
   "source": [
    "clf = tree.DecisionTreeClassifier()\n",
    "clf = clf.fit(X, Y)"
   ]
  },
  {
   "cell_type": "code",
   "execution_count": 5,
   "metadata": {},
   "outputs": [
    {
     "data": {
      "text/plain": [
       "(1400, 11)"
      ]
     },
     "execution_count": 5,
     "metadata": {},
     "output_type": "execute_result"
    }
   ],
   "source": [
    "X_test= winequality_combined_testing_df.values\n",
    "X_test.shape"
   ]
  },
  {
   "cell_type": "code",
   "execution_count": 6,
   "metadata": {
    "collapsed": true
   },
   "outputs": [],
   "source": [
    "Y_pred = clf.predict(X_test)"
   ]
  },
  {
   "cell_type": "code",
   "execution_count": 7,
   "metadata": {
    "collapsed": true
   },
   "outputs": [],
   "source": [
    "from sklearn.model_selection import KFold\n",
    "from sklearn.metrics import mean_squared_error"
   ]
  },
  {
   "cell_type": "code",
   "execution_count": 30,
   "metadata": {},
   "outputs": [
    {
     "name": "stdout",
     "output_type": "stream",
     "text": [
      "RMSE : 0.1328422328310143 Score : 0.982352941176\n",
      "RMSE : 0.10846522890932808 Score : 0.988235294118\n",
      "RMSE : 0.09397972345149579 Score : 0.99116781158\n",
      "RMSE : 0.12530629793532772 Score : 0.984298331698\n",
      "RMSE : 0.12132730126960727 Score : 0.985279685967\n",
      "Average Score : 0.986266812908\n"
     ]
    }
   ],
   "source": [
    "kf = KFold(n_splits=5, shuffle=True, random_state=0)\n",
    "score_total = 0\n",
    "\n",
    "for train_index, test_index in kf.split(X):\n",
    "    train_x, test_x = X[train_index], X[test_index]\n",
    "    train_y, test_y = Y[train_index], Y[test_index]\n",
    "    \n",
    "    clf = tree.DecisionTreeClassifier()\n",
    "    clf = clf.fit(train_x,train_y)\n",
    "    y_pred = clf.predict(test_x)\n",
    "    rmse = sqrt(mean_squared_error(y_pred, test_y))\n",
    "    score = clf.score(test_x,test_y)\n",
    "    score_total += score\n",
    "    print(\"RMSE :\", rmse, \"Score :\" , score)\n",
    "\n",
    "print(\"Average Score :\",score_total/5)"
   ]
  },
  {
   "cell_type": "code",
   "execution_count": 11,
   "metadata": {
    "collapsed": true
   },
   "outputs": [],
   "source": [
    "#Random Forest Classifer\n",
    "from sklearn.ensemble import RandomForestClassifier"
   ]
  },
  {
   "cell_type": "code",
   "execution_count": 12,
   "metadata": {},
   "outputs": [
    {
     "name": "stdout",
     "output_type": "stream",
     "text": [
      "RMSE : 0.09393364366277242 Score : 0.991176470588\n",
      "RMSE : 0.05423261445466404 Score : 0.997058823529\n",
      "RMSE : 0.07004835004805858 Score : 0.995093228656\n",
      "RMSE : 0.07004835004805858 Score : 0.995093228656\n",
      "RMSE : 0.06265314896766386 Score : 0.996074582924\n"
     ]
    }
   ],
   "source": [
    "kf = KFold(n_splits=5, shuffle=True, random_state=2)\n",
    "\n",
    "for train_index, test_index in kf.split(X):\n",
    "    train_x, test_x = X[train_index], X[test_index]\n",
    "    train_y, test_y = Y[train_index], Y[test_index]\n",
    "    \n",
    "    clf_random = RandomForestClassifier(n_estimators=1000)\n",
    "    clf_random = clf_random.fit(train_x,train_y)\n",
    "    y_pred = clf_random.predict(test_x)\n",
    "    rmse = sqrt(mean_squared_error(y_pred, test_y))\n",
    "    rmse_total = \n",
    "    print(\"RMSE :\", rmse, \"Score :\" , clf_random.score(test_x,test_y))"
   ]
  },
  {
   "cell_type": "code",
   "execution_count": 13,
   "metadata": {
    "collapsed": true
   },
   "outputs": [],
   "source": [
    "clf_random = RandomForestClassifier(n_estimators=1000,random_state=0)\n",
    "clf_random = clf_random.fit(X,Y)"
   ]
  },
  {
   "cell_type": "code",
   "execution_count": 14,
   "metadata": {},
   "outputs": [
    {
     "data": {
      "text/plain": [
       "(1400,)"
      ]
     },
     "execution_count": 14,
     "metadata": {},
     "output_type": "execute_result"
    }
   ],
   "source": [
    "y_pred_random = clf_random.predict(X_test)\n",
    "y_pred_random.shape"
   ]
  },
  {
   "cell_type": "code",
   "execution_count": 15,
   "metadata": {
    "collapsed": true
   },
   "outputs": [],
   "source": [
    "winequality_combined_prediction_df[\"type\"] = Y_pred"
   ]
  },
  {
   "cell_type": "code",
   "execution_count": 16,
   "metadata": {
    "collapsed": true
   },
   "outputs": [],
   "source": [
    "df1 = winequality_combined_prediction_df"
   ]
  },
  {
   "cell_type": "code",
   "execution_count": 20,
   "metadata": {
    "collapsed": true
   },
   "outputs": [],
   "source": [
    "df1.to_csv('winequality-combined-solution.csv') "
   ]
  },
  {
   "cell_type": "code",
   "execution_count": 19,
   "metadata": {},
   "outputs": [
    {
     "data": {
      "text/plain": [
       "array([ 0.00689939,  0.05315343,  0.00183102,  0.00584803,  0.20664773,\n",
       "        0.00102995,  0.6673182 ,  0.02308021,  0.01074369,  0.0170134 ,\n",
       "        0.00643495])"
      ]
     },
     "execution_count": 19,
     "metadata": {},
     "output_type": "execute_result"
    }
   ],
   "source": [
    "clf.feature_importances_"
   ]
  },
  {
   "cell_type": "markdown",
   "metadata": {},
   "source": [
    "###### The 2 most important features are \"Total Sulfur Dioxide\" and \"Chlorides\""
   ]
  },
  {
   "cell_type": "code",
   "execution_count": null,
   "metadata": {
    "collapsed": true
   },
   "outputs": [],
   "source": []
  }
 ],
 "metadata": {
  "kernelspec": {
   "display_name": "Python 3",
   "language": "python",
   "name": "python3"
  },
  "language_info": {
   "codemirror_mode": {
    "name": "ipython",
    "version": 3
   },
   "file_extension": ".py",
   "mimetype": "text/x-python",
   "name": "python",
   "nbconvert_exporter": "python",
   "pygments_lexer": "ipython3",
   "version": "3.6.3"
  }
 },
 "nbformat": 4,
 "nbformat_minor": 2
}
