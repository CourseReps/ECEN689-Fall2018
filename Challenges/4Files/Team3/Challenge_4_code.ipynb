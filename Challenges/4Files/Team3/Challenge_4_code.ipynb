{
 "cells": [
  {
   "cell_type": "markdown",
   "metadata": {},
   "source": [
    "# PART 1: - Wine Quality Linear Regression "
   ]
  },
  {
   "cell_type": "code",
   "execution_count": 1,
   "metadata": {},
   "outputs": [],
   "source": [
    "import numpy as np\n",
    "import pandas as pd\n",
    "from sklearn import linear_model\n",
    "from sklearn.linear_model import LinearRegression\n",
    "\n",
    "file1_path ='/Users/shirishpandagare/IndustrialEngineering/ECEN_689/Challenge_4/Part1/LR/With_intercept/winequality-white-training.csv'\n",
    "file2_path ='/Users/shirishpandagare/IndustrialEngineering/ECEN_689/Challenge_4/Part1/LR/With_intercept/winequality-white-testing.csv'\n",
    "file3_path ='/Users/shirishpandagare/IndustrialEngineering/ECEN_689/Challenge_4/Part1/LR/With_intercept/winequality-white-solution.csv'\n",
    "file4_path ='/Users/shirishpandagare/IndustrialEngineering/ECEN_689/Challenge_4/Part1/LR/With_intercept/winequality-white-parameters.csv'\n",
    "file5_path ='/Users/shirishpandagare/IndustrialEngineering/ECEN_689/Challenge_4/Part1/LR/With_intercept/winequality-white-intercept.csv'"
   ]
  },
  {
   "cell_type": "code",
   "execution_count": 2,
   "metadata": {},
   "outputs": [],
   "source": [
    "#Importing training and test dataset\n",
    "wine_train_df = pd.read_csv(file1_path).drop(['Id'], axis =1)\n",
    "wine_test_df = pd.read_csv(file2_path).drop(['Id'], axis =1)\n",
    "wine_solution_df = pd.read_csv(file3_path)\n",
    "Wine_coef = pd.read_csv(file4_path)\n",
    "\n",
    "#Dividing the \n",
    "X_train = wine_train_df[['fixed acidity', 'volatile acidity', 'citric acid', 'residual sugar', 'chlorides','free sulfur dioxide','total sulfur dioxide','density','pH','sulphates','alcohol']]\n",
    "Y_train = wine_train_df.quality\n",
    "X_test = wine_test_df"
   ]
  },
  {
   "cell_type": "code",
   "execution_count": 3,
   "metadata": {},
   "outputs": [
    {
     "data": {
      "text/plain": [
       "LinearRegression(copy_X=True, fit_intercept=True, n_jobs=1, normalize=False)"
      ]
     },
     "execution_count": 3,
     "metadata": {},
     "output_type": "execute_result"
    }
   ],
   "source": [
    "#Linear Regression\n",
    "\n",
    "reg = linear_model.LinearRegression(fit_intercept=True)\n",
    "reg.fit(X_train, Y_train)"
   ]
  },
  {
   "cell_type": "code",
   "execution_count": 4,
   "metadata": {},
   "outputs": [],
   "source": [
    "# Prediction on Test Data \n",
    "\n",
    "pred = pd.DataFrame(reg.predict(X_test))\n",
    "wine_solution_df.quality = pred\n",
    "wine_solution_df.to_csv(file3_path, index = False)"
   ]
  },
  {
   "cell_type": "code",
   "execution_count": 5,
   "metadata": {},
   "outputs": [],
   "source": [
    "#Parameters \n",
    "\n",
    "parameters = pd.DataFrame([np.append(reg.intercept_,reg.coef_)])\n",
    "P_T = parameters.T\n",
    "Wine_coef.parameter = P_T\n",
    "Wine_coef.to_csv(file4_path, index = False)"
   ]
  },
  {
   "cell_type": "markdown",
   "metadata": {},
   "source": [
    "# Part 2 : - Wine Quality Decision Tree"
   ]
  },
  {
   "cell_type": "markdown",
   "metadata": {},
   "source": [
    "#Using Random Forest as a Decision tree to predict the types of wine"
   ]
  },
  {
   "cell_type": "code",
   "execution_count": 6,
   "metadata": {},
   "outputs": [
    {
     "name": "stderr",
     "output_type": "stream",
     "text": [
      "/anaconda3/envs/ECEN689/lib/python3.6/site-packages/sklearn/ensemble/weight_boosting.py:29: DeprecationWarning: numpy.core.umath_tests is an internal NumPy module and should not be imported. It will be removed in a future NumPy release.\n",
      "  from numpy.core.umath_tests import inner1d\n"
     ]
    }
   ],
   "source": [
    "import numpy as np\n",
    "import pandas as pd\n",
    "from sklearn import tree\n",
    "from sklearn.ensemble import RandomForestClassifier\n",
    "from sklearn.datasets import make_classification\n",
    "from sklearn.metrics import confusion_matrix\n",
    "\n",
    "file1_path ='/Users/shirishpandagare/IndustrialEngineering/ECEN_689/Challenge_4/Part2/Random_forest/winequality-combined-training.csv'\n",
    "file2_path ='/Users/shirishpandagare/IndustrialEngineering/ECEN_689/Challenge_4/Part2/Random_forest/winequality-combined-testing.csv'\n",
    "file3_path ='/Users/shirishpandagare/IndustrialEngineering/ECEN_689/Challenge_4/Part2/Random_forest/winequality-combined-sample_RF.csv'"
   ]
  },
  {
   "cell_type": "code",
   "execution_count": 7,
   "metadata": {},
   "outputs": [],
   "source": [
    "#Dividing the features and predictors \n",
    "wine_train = pd.read_csv(file1_path).drop(['Id'], axis =1)\n",
    "wine_test = pd.read_csv(file2_path).drop(['Id'], axis=1)\n",
    "wine_final = pd.read_csv(file3_path)\n",
    "\n",
    "X_train = wine_train.drop(['type'], axis=1)\n",
    "Y_train = wine_train.type\n",
    "X_test = wine_test"
   ]
  },
  {
   "cell_type": "code",
   "execution_count": 8,
   "metadata": {},
   "outputs": [
    {
     "data": {
      "text/plain": [
       "RandomForestClassifier(bootstrap=True, class_weight=None, criterion='gini',\n",
       "            max_depth=None, max_features='auto', max_leaf_nodes=None,\n",
       "            min_impurity_decrease=0.0, min_impurity_split=None,\n",
       "            min_samples_leaf=1, min_samples_split=2,\n",
       "            min_weight_fraction_leaf=0.0, n_estimators=1000, n_jobs=1,\n",
       "            oob_score=False, random_state=0, verbose=0, warm_start=False)"
      ]
     },
     "execution_count": 8,
     "metadata": {},
     "output_type": "execute_result"
    }
   ],
   "source": [
    "clf = RandomForestClassifier(n_estimators=1000,random_state=0)\n",
    "clf.fit(X_train,Y_train)"
   ]
  },
  {
   "cell_type": "code",
   "execution_count": 9,
   "metadata": {},
   "outputs": [],
   "source": [
    "wine_final.type = clf.predict(X_test)\n",
    "wine_final.to_csv(file3_path, index =False)"
   ]
  },
  {
   "cell_type": "code",
   "execution_count": 10,
   "metadata": {},
   "outputs": [
    {
     "data": {
      "text/plain": [
       "0.9998038061604866"
      ]
     },
     "execution_count": 10,
     "metadata": {},
     "output_type": "execute_result"
    }
   ],
   "source": [
    "clf.score(X_train,Y_train)"
   ]
  },
  {
   "cell_type": "markdown",
   "metadata": {},
   "source": [
    "# Part 3: - Predicting Red Wine Quality Linear Regression (Trained on White Wine Dataset)"
   ]
  },
  {
   "cell_type": "code",
   "execution_count": 11,
   "metadata": {},
   "outputs": [],
   "source": [
    "import numpy as np\n",
    "import pandas as pd\n",
    "from sklearn import linear_model\n",
    "from sklearn.linear_model import LinearRegression\n",
    "\n",
    "file1_path ='/Users/shirishpandagare/IndustrialEngineering/ECEN_689/Challenge_4/Part3/winequality-white-training.csv'\n",
    "file2_path ='/Users/shirishpandagare/IndustrialEngineering/ECEN_689/Challenge_4/Part3/winequality-red-testing.csv'\n",
    "file3_path ='/Users/shirishpandagare/IndustrialEngineering/ECEN_689/Challenge_4/Part3/winequality-red-training.csv'\n",
    "file4_path ='/Users/shirishpandagare/IndustrialEngineering/ECEN_689/Challenge_4/Part3/LR/winequality-red-solution.csv'"
   ]
  },
  {
   "cell_type": "code",
   "execution_count": 12,
   "metadata": {},
   "outputs": [],
   "source": [
    "#Importing training and test dataset\n",
    "wine_train_df = pd.read_csv(file1_path).drop(['Id'], axis =1)\n",
    "wine_test_df = pd.read_csv(file2_path).drop(['Id'], axis =1)\n",
    "wine_solution_df = pd.read_csv(file4_path)\n",
    "\n",
    "\n",
    "X_train = wine_train_df[['fixed acidity', 'volatile acidity', 'citric acid', 'residual sugar', 'chlorides','free sulfur dioxide','total sulfur dioxide','density','pH','sulphates','alcohol']]\n",
    "Y_train = wine_train_df.quality\n",
    "X_test = wine_test_df"
   ]
  },
  {
   "cell_type": "code",
   "execution_count": 13,
   "metadata": {},
   "outputs": [
    {
     "data": {
      "text/plain": [
       "LinearRegression(copy_X=True, fit_intercept=True, n_jobs=1, normalize=False)"
      ]
     },
     "execution_count": 13,
     "metadata": {},
     "output_type": "execute_result"
    }
   ],
   "source": [
    "#Linear Regression\n",
    "reg = linear_model.LinearRegression(fit_intercept=True)\n",
    "reg.fit(X_train, Y_train)"
   ]
  },
  {
   "cell_type": "code",
   "execution_count": 14,
   "metadata": {},
   "outputs": [],
   "source": [
    "# Prediction on Test Data \n",
    "pred = pd.DataFrame(reg.predict(X_test))\n",
    "wine_solution_df.quality = pred\n",
    "wine_solution_df.to_csv(file4_path, index = False)"
   ]
  },
  {
   "cell_type": "code",
   "execution_count": null,
   "metadata": {},
   "outputs": [],
   "source": []
  },
  {
   "cell_type": "code",
   "execution_count": null,
   "metadata": {},
   "outputs": [],
   "source": []
  }
 ],
 "metadata": {
  "kernelspec": {
   "display_name": "Python 3",
   "language": "python",
   "name": "python3"
  },
  "language_info": {
   "codemirror_mode": {
    "name": "ipython",
    "version": 3
   },
   "file_extension": ".py",
   "mimetype": "text/x-python",
   "name": "python",
   "nbconvert_exporter": "python",
   "pygments_lexer": "ipython3",
   "version": "3.6.6"
  }
 },
 "nbformat": 4,
 "nbformat_minor": 2
}
