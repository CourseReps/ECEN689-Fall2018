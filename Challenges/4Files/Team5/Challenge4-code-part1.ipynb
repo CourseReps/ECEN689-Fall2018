{
 "cells": [
  {
   "cell_type": "markdown",
   "metadata": {},
   "source": [
    "## Importing the libraries"
   ]
  },
  {
   "cell_type": "code",
   "execution_count": 56,
   "metadata": {},
   "outputs": [],
   "source": [
    "import pandas as pd\n",
    "import numpy as np\n",
    "from sklearn import datasets, linear_model, ensemble\n",
    "from sklearn.metrics import mean_squared_error, confusion_matrix\n",
    "from sklearn.model_selection import cross_validate, ShuffleSplit, GridSearchCV\n",
    "from math import sqrt"
   ]
  },
  {
   "cell_type": "markdown",
   "metadata": {},
   "source": [
    "## Importing the Data"
   ]
  },
  {
   "cell_type": "code",
   "execution_count": 57,
   "metadata": {},
   "outputs": [
    {
     "name": "stdout",
     "output_type": "stream",
     "text": [
      "(3898, 13)\n",
      "(1000, 12)\n"
     ]
    }
   ],
   "source": [
    "winequality_white_training_df = pd.read_csv('ECEN689-Fall2018/Challenges/4Files/winequality-white-training.csv')\n",
    "print(winequality_white_training_df.shape)\n",
    "winequality_white_testing_df = pd.read_csv('ECEN689-Fall2018/Challenges/4Files/winequality-white-testing.csv')\n",
    "print(winequality_white_testing_df.shape)"
   ]
  },
  {
   "cell_type": "code",
   "execution_count": 58,
   "metadata": {},
   "outputs": [],
   "source": [
    "y_train = winequality_white_training_df.quality\n",
    "x_train = winequality_white_training_df.iloc[:,1:12]\n",
    "x_test = winequality_white_testing_df.iloc[:,1:12]"
   ]
  },
  {
   "cell_type": "markdown",
   "metadata": {},
   "source": [
    "## Linear Regression using Gradient Descent. We have bulid a vectorized implementation of Gradient Descent Algorithm "
   ]
  },
  {
   "cell_type": "code",
   "execution_count": 59,
   "metadata": {},
   "outputs": [],
   "source": [
    "def linear_regression(X, y, epochs, learning_rate):\n",
    "    nf = X.shape[1]\n",
    "    ns = X.shape[0]\n",
    "    m = 1/ns\n",
    "    x = np.array(X)\n",
    "    x = x.T\n",
    "    y = np.array(y_train)\n",
    "    y = y.reshape(1, -1)\n",
    "    w = 2*np.random.random((nf,1))-1\n",
    "    b = 2*np.random.random((1,1))-1\n",
    "    for i in range(epochs):\n",
    "        z = np.dot(w.T, x) + b\n",
    "        cost = sum([data**2 for data in (y-z)]) / ns\n",
    "        dz = z-y\n",
    "        dw = np.dot(x, dz.T)\n",
    "        dw = (-2)*m*dw\n",
    "        db = np.sum(dz)\n",
    "        db = (-2)*m*db\n",
    "        w = w - (learning_rate*dw)\n",
    "        b = b - (learning_rate*db)\n",
    "    return w,b,cost"
   ]
  },
  {
   "cell_type": "markdown",
   "metadata": {},
   "source": [
    "## Calculating the RMSE using gradient descent model"
   ]
  },
  {
   "cell_type": "code",
   "execution_count": 50,
   "metadata": {},
   "outputs": [
    {
     "name": "stdout",
     "output_type": "stream",
     "text": [
      "RMSE: 48.28224362927311\n"
     ]
    }
   ],
   "source": [
    "w,b, cost = linear_regression(x_train, y_train, 100000, 1e-20)\n",
    "x = np.array(x_train)\n",
    "x = x.T\n",
    "z = np.dot(w.T, x) + b\n",
    "y = np.array(y_train)\n",
    "y = y.reshape(1,-1)\n",
    "mse = mean_squared_error(z,y)\n",
    "rmse = sqrt(mse)\n",
    "print(\"RMSE:\", rmse)"
   ]
  },
  {
   "cell_type": "markdown",
   "metadata": {},
   "source": [
    "## Linear Regression using ordinary least squares (imported from sklearn library), and calculated the RMSE using this implementation  "
   ]
  },
  {
   "cell_type": "code",
   "execution_count": 60,
   "metadata": {},
   "outputs": [
    {
     "name": "stdout",
     "output_type": "stream",
     "text": [
      "RMSE: 0.7519290595321102\n"
     ]
    }
   ],
   "source": [
    "model = linear_model.LinearRegression(normalize = True)\n",
    "model.fit(x_train,y_train)\n",
    "predicted = model.predict(x_train)\n",
    "mse = mean_squared_error(predicted, y_train)\n",
    "rmse = sqrt(mse)\n",
    "print(\"RMSE:\", rmse)"
   ]
  },
  {
   "cell_type": "markdown",
   "metadata": {},
   "source": [
    "## The RMSE uisng gradient descent is much higher than the RMSE using ordinary least square(OLS) implementation. So, we will use OLS implementation for our final model. "
   ]
  },
  {
   "cell_type": "code",
   "execution_count": 68,
   "metadata": {},
   "outputs": [
    {
     "name": "stdout",
     "output_type": "stream",
     "text": [
      "[144.8751767915973, 0.061925583232178914, -1.8314952326128604, 0.03158697850982829, 0.07873759640554084, -0.48921409378957514, 0.003584869912324266, -0.0003279348016380929, -144.9890055590131, 0.7212388269877488, 0.6240793674834471, 0.1931686923285479]\n"
     ]
    }
   ],
   "source": [
    "# calculating the coefficients and intercept of the model  \n",
    "coeff= model.coef_\n",
    "coeff = list(coeff)\n",
    "coeff.insert(0,model.intercept_)  # insert coeff=0 for Id because we do not want Id as a contributor in our model \n",
    "print(coeff)"
   ]
  },
  {
   "cell_type": "markdown",
   "metadata": {},
   "source": [
    "## Calculating the final predictions using the model"
   ]
  },
  {
   "cell_type": "code",
   "execution_count": null,
   "metadata": {},
   "outputs": [],
   "source": [
    "coeff = np.array(coeff)\n",
    "coeff = coeff.reshape(-1,1)\n",
    "x = np.array(winequality_white_testing_df.iloc[:,1:12])\n",
    "result = np.dot(x, model.coef_) + model.intercept_\n",
    "print(result)"
   ]
  },
  {
   "cell_type": "markdown",
   "metadata": {},
   "source": [
    "## Exporting model parameters for white wine"
   ]
  },
  {
   "cell_type": "code",
   "execution_count": 64,
   "metadata": {},
   "outputs": [],
   "source": [
    "df = pd.DataFrame()\n",
    "n = range(0,12)\n",
    "df['Id'] = n\n",
    "df['parameter'] = coeff\n",
    "df.to_csv('winequality-white-parameters.csv', index=False)"
   ]
  },
  {
   "cell_type": "markdown",
   "metadata": {},
   "source": [
    "## Exporting model predictions for white wine on test data"
   ]
  },
  {
   "cell_type": "code",
   "execution_count": 65,
   "metadata": {},
   "outputs": [],
   "source": [
    "df1 = pd.DataFrame()\n",
    "df1['Id'] = winequality_white_testing_df['Id']\n",
    "df1['quality'] = result\n",
    "df1.to_csv('winequality-white-solution.csv', index=False)"
   ]
  },
  {
   "cell_type": "code",
   "execution_count": null,
   "metadata": {},
   "outputs": [],
   "source": []
  }
 ],
 "metadata": {
  "kernelspec": {
   "display_name": "Python 3",
   "language": "python",
   "name": "python3"
  },
  "language_info": {
   "codemirror_mode": {
    "name": "ipython",
    "version": 3
   },
   "file_extension": ".py",
   "mimetype": "text/x-python",
   "name": "python",
   "nbconvert_exporter": "python",
   "pygments_lexer": "ipython3",
   "version": "3.6.5"
  }
 },
 "nbformat": 4,
 "nbformat_minor": 2
}
