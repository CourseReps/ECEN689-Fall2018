{
 "cells": [
  {
   "cell_type": "markdown",
   "metadata": {},
   "source": [
    "## Importing the libraries"
   ]
  },
  {
   "cell_type": "code",
   "execution_count": 141,
   "metadata": {},
   "outputs": [],
   "source": [
    "import pandas as pd\n",
    "import numpy as np\n",
    "from sklearn import datasets, linear_model, ensemble, tree\n",
    "from sklearn.metrics import mean_squared_error, confusion_matrix\n",
    "from sklearn.model_selection import cross_validate, ShuffleSplit, GridSearchCV\n",
    "from math import sqrt"
   ]
  },
  {
   "cell_type": "markdown",
   "metadata": {},
   "source": [
    "## Importing the white wine data"
   ]
  },
  {
   "cell_type": "code",
   "execution_count": 142,
   "metadata": {},
   "outputs": [
    {
     "name": "stdout",
     "output_type": "stream",
     "text": [
      "(1199, 13)\n",
      "(400, 12)\n"
     ]
    }
   ],
   "source": [
    "winequality_white_training_df = pd.read_csv('ECEN689-Fall2018/Challenges/4Files/winequality-white-training.csv')\n",
    "print(winequality_red_training_df.shape)\n",
    "winequality_white_testing_df = pd.read_csv('ECEN689-Fall2018/Challenges/4Files/winequality-white-testing.csv')\n",
    "print(winequality_red_testing_df.shape)"
   ]
  },
  {
   "cell_type": "markdown",
   "metadata": {},
   "source": [
    "## Importing the red wine data"
   ]
  },
  {
   "cell_type": "code",
   "execution_count": 143,
   "metadata": {},
   "outputs": [
    {
     "name": "stdout",
     "output_type": "stream",
     "text": [
      "(1199, 13)\n",
      "(400, 12)\n"
     ]
    }
   ],
   "source": [
    "winequality_red_training_df = pd.read_csv('ECEN689-Fall2018/Challenges/4Files/winequality-red-training.csv')\n",
    "print(winequality_red_training_df.shape)\n",
    "winequality_red_testing_df = pd.read_csv('ECEN689-Fall2018/Challenges/4Files/winequality-red-testing.csv')\n",
    "print(winequality_red_testing_df.shape)"
   ]
  },
  {
   "cell_type": "markdown",
   "metadata": {},
   "source": [
    "## Red wine train and test data pre processing"
   ]
  },
  {
   "cell_type": "code",
   "execution_count": 144,
   "metadata": {},
   "outputs": [],
   "source": [
    "red_y_train = winequality_red_training_df.quality\n",
    "red_x_train = winequality_red_training_df.iloc[:,1:12]\n",
    "red_x_test = winequality_red_testing_df.iloc[:,1:12]"
   ]
  },
  {
   "cell_type": "markdown",
   "metadata": {},
   "source": [
    "## White wine train and test data pre processing"
   ]
  },
  {
   "cell_type": "code",
   "execution_count": 145,
   "metadata": {},
   "outputs": [],
   "source": [
    "white_y_train = winequality_white_training_df.quality\n",
    "white_x_train = winequality_white_training_df.iloc[:,1:12]\n",
    "white_x_test = winequality_white_testing_df.iloc[:,1:12]"
   ]
  },
  {
   "cell_type": "markdown",
   "metadata": {},
   "source": [
    "## Predicting the red wine test data using Linear regression model trained on red wine train data"
   ]
  },
  {
   "cell_type": "code",
   "execution_count": 164,
   "metadata": {},
   "outputs": [
    {
     "name": "stdout",
     "output_type": "stream",
     "text": [
      "RMSE: 0.6416714607175982\n"
     ]
    }
   ],
   "source": [
    "model = linear_model.LinearRegression(normalize = True)\n",
    "model.fit(red_x_train,red_y_train)\n",
    "predicted = model.predict(red_x_train)\n",
    "mse = mean_squared_error(predicted, red_y_train)\n",
    "rmse = sqrt(mse)\n",
    "print(\"RMSE:\", rmse)"
   ]
  },
  {
   "cell_type": "code",
   "execution_count": 147,
   "metadata": {},
   "outputs": [],
   "source": [
    "red_on_red = model.predict(red_x_test)\n",
    "df = pd.DataFrame()\n",
    "df['Id'] = winequality_red_testing_df['Id']\n",
    "df['quality'] = red_on_red\n",
    "df.to_csv('red_on_red.csv', index=False)"
   ]
  },
  {
   "cell_type": "markdown",
   "metadata": {},
   "source": [
    "## Importing the white wine model and predicting the red wine test data using Linear regression model trained on white wine train data"
   ]
  },
  {
   "cell_type": "code",
   "execution_count": 148,
   "metadata": {},
   "outputs": [],
   "source": [
    "white_model = pd.read_csv('winequality-white-parameters.csv')\n",
    "white_model_params = white_model['parameter']\n",
    "white_intercept = white_model_params[0]\n",
    "del white_model_params[0]\n",
    "white_model_coeff = np.array(white_model_params)\n",
    "white_coeff = white_model_coeff.reshape(-1,1)"
   ]
  },
  {
   "cell_type": "code",
   "execution_count": 149,
   "metadata": {},
   "outputs": [],
   "source": [
    "red_test = np.array(red_x_test)\n",
    "result = np.dot(red_test, white_coeff) + white_intercept"
   ]
  },
  {
   "cell_type": "code",
   "execution_count": 150,
   "metadata": {},
   "outputs": [],
   "source": [
    "white_on_red = result\n",
    "df1 = pd.DataFrame()\n",
    "df1['Id'] = winequality_red_testing_df['Id']\n",
    "df1['quality'] = white_on_red\n",
    "df1.to_csv('white_on_red.csv', index=False)\n",
    "df1.to_csv('winequality_red_solution.csv', index=False)"
   ]
  },
  {
   "cell_type": "markdown",
   "metadata": {},
   "source": [
    "## Now at this point, we uploaded red wine test data predictions on kaggle obtained from both the models, red on red as well as white on red, and the RMSE for red on red is 0.67 whereas the RMSE for white on red is 0.94.\n",
    "\n",
    "\n",
    "## Now, here we are also trying random forest model trained on white wine data to predict on red wine data but still the model reuse doesn't work here"
   ]
  },
  {
   "cell_type": "code",
   "execution_count": 168,
   "metadata": {},
   "outputs": [
    {
     "name": "stdout",
     "output_type": "stream",
     "text": [
      "RMSE with random forest regressor of white on red: 1.1946328402564457\n"
     ]
    }
   ],
   "source": [
    "rgr = ensemble.RandomForestRegressor()\n",
    "rgr.fit(white_x_train, white_y_train)\n",
    "tree_pred = rgr.predict(red_x_train)\n",
    "mse = mean_squared_error(tree_pred, red_y_train)\n",
    "rmse = sqrt(mse)\n",
    "print(\"RMSE with random forest regressor of white on red:\",rmse)"
   ]
  },
  {
   "cell_type": "code",
   "execution_count": 162,
   "metadata": {},
   "outputs": [
    {
     "name": "stdout",
     "output_type": "stream",
     "text": [
      "RMSE with linear regressor of white on red: 0.992077363701735\n"
     ]
    }
   ],
   "source": [
    "red_x_train = np.array(red_x_train)\n",
    "result = np.dot(red_x_train, white_coeff) + white_intercept\n",
    "mse = mean_squared_error(result, red_y_train)\n",
    "rmse = sqrt(mse)\n",
    "print(\"RMSE with linear regressor of white on red:\",rmse)"
   ]
  },
  {
   "cell_type": "code",
   "execution_count": null,
   "metadata": {},
   "outputs": [],
   "source": []
  }
 ],
 "metadata": {
  "kernelspec": {
   "display_name": "Python 3",
   "language": "python",
   "name": "python3"
  },
  "language_info": {
   "codemirror_mode": {
    "name": "ipython",
    "version": 3
   },
   "file_extension": ".py",
   "mimetype": "text/x-python",
   "name": "python",
   "nbconvert_exporter": "python",
   "pygments_lexer": "ipython3",
   "version": "3.6.5"
  }
 },
 "nbformat": 4,
 "nbformat_minor": 2
}
