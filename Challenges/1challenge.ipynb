{
 "cells": [
  {
   "cell_type": "markdown",
   "metadata": {},
   "source": [
    "# Challenge 1\n",
    "\n",
    "## Reading Materials\n",
    "\n",
    "### Required Reading\n",
    "Due: September 6, 2018\n",
    "\n",
    " * Understanding Machine Learning from Theory to Algorithms, S. Shalev-Shwartz and S. Ben-David\n",
    "   * **Chapter 1**: A gentle start\n",
    "   * **Chapter 9**: Linear predictors\n",
    "   \n",
    "\n",
    "### [Kaggle Tutorials](https://www.kaggle.com/learn/overview)\n",
    "Due: September 6, 2018\n",
    "\n",
    " * __Complete__ [Python course](https://www.kaggle.com/learn/python), if needed\n",
    " * __Complete__ [Pandas course](https://www.kaggle.com/learn/pandas), if needed\n",
    "\n",
    "\n",
    "## Activity 1\n",
    "Due: September 6, 2018\n",
    "\n",
    "In Activity 1, you are tasked with estimating the mean and variance of a series of data sets, two parameters for every row.\n",
    "Each student has their own file, and should work in place.\n",
    "```python\n",
    "student_identity = 'netid'\n",
    "filename = '1challenge1activity_' + student_identity + '.csv'\n",
    "```\n",
    "\n",
    "### Deliverables\n",
    " 1. Fill column ```Mean``` and ```Variance```.\n",
    " 2. Commit your change on Git.\n",
    "\n",
    "### Metric\n",
    " * Average $L_2$ norm between the true and estimated parameters."
   ]
  },
  {
   "cell_type": "code",
   "execution_count": 65,
   "metadata": {},
   "outputs": [],
   "source": [
    "import pandas as pd\n",
    "import numpy as np\n",
    "\n",
    "student_identity = 'netid'\n",
    "filenameToRead = '1challenge1activity_' + 'student_identity' + '.csv'\n",
    "filename = '1challenge1activity_' + student_identity + '.csv'\n",
    "sample_df = pd.read_csv('1Files/' + filenameToRead)\n",
    "\n",
    "list = []\n",
    "for row in range(sample_df.shape[0]):\n",
    "    array =  [sample_df['Sample 0'][row],sample_df['Sample 1'][row],\n",
    "        sample_df['Sample 2'][row],sample_df['Sample 3'][row],\n",
    "        sample_df['Sample 4'][row],sample_df['Sample 5'][row],\n",
    "        sample_df['Sample 6'][row],sample_df['Sample 7'][row],\n",
    "        sample_df['Sample 8'][row],sample_df['Sample 9'][row],\n",
    "        sample_df['Sample 10'][row],sample_df['Sample 11'][row]]\n",
    "    list.append([np.mean(array),np.var(array)])\n",
    "\n",
    "for row in range(sample_df.shape[0]):\n",
    "    sample_df.iloc[row, sample_df.columns.get_loc('Mean')] = list[row][0]\n",
    "    sample_df.iloc[row, sample_df.columns.get_loc('Variance')] = list[row][1]\n",
    "\n",
    "sample_df.to_csv(filename, sep=',', encoding='utf-8')\n"
   ]
  },
  {
   "cell_type": "code",
   "execution_count": null,
   "metadata": {},
   "outputs": [],
   "source": []
  }
 ],
 "metadata": {
  "kernelspec": {
   "display_name": "Python 3",
   "language": "python",
   "name": "python3"
  },
  "language_info": {
   "codemirror_mode": {
    "name": "ipython",
    "version": 3
   },
   "file_extension": ".py",
   "mimetype": "text/x-python",
   "name": "python",
   "nbconvert_exporter": "python",
   "pygments_lexer": "ipython3",
   "version": "3.6.0"
  }
 },
 "nbformat": 4,
 "nbformat_minor": 2
}
