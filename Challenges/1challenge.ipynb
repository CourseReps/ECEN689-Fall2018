{
 "cells": [
  {
   "cell_type": "markdown",
   "metadata": {},
   "source": [
    "# Challenge 1\n",
    "\n",
    "## Reading Materials\n",
    "\n",
    "### Required Reading\n",
    "Due: September 6, 2018\n",
    "\n",
    " * Understanding Machine Learning from Theory to Algorithms, S. Shalev-Shwartz and S. Ben-David\n",
    "   * **Chapter 1**: A gentle start\n",
    "   * **Chapter 9**: Linear predictors\n",
    "   \n",
    "\n",
    "### [Kaggle Tutorials](https://www.kaggle.com/learn/overview)\n",
    "Due: September 6, 2018\n",
    "\n",
    " * __Complete__ [Python course](https://www.kaggle.com/learn/python), if needed\n",
    " * __Complete__ [Pandas course](https://www.kaggle.com/learn/pandas), if needed\n",
    "\n",
    "\n",
    "## Activity 1\n",
    "Due: September 6, 2018\n",
    "\n",
    "In Activity 1, you are tasked with estimating the mean and variance of a series of data sets, two parameters for every row.\n",
    "Each student has their own file, and should work in place.\n",
    "```python\n",
    "student_identity = 'netid'\n",
    "filename = '1challenge1activity_' + student_identity + '.csv'\n",
    "```\n",
    "\n",
    "### Deliverables\n",
    " 1. Fill column ```Mean``` and ```Variance```.\n",
    " 2. Commit your change on Git.\n",
    "\n",
    "### Metric\n",
    " * Average $L_2$ norm between the true and estimated parameters."
   ]
  },
  {
   "cell_type": "code",
   "execution_count": null,
   "metadata": {},
   "outputs": [],
   "source": [
    "import pandas as pd\n",
    "import numpy as np\n",
    "\n",
    "student_identity = 'netid'\n",
    "filename = '1challenge1activity_' + student_identity + '.csv'\n",
    "sample_df = pd.read_csv('1Files/' + filename)\n",
    "\n",
    "print(sample_df.head(2))"
   ]
  }
 ],
 "metadata": {
  "kernelspec": {
   "display_name": "Python 3",
   "language": "python",
   "name": "python3"
  },
  "language_info": {
   "codemirror_mode": {
    "name": "ipython",
    "version": 3
   },
   "file_extension": ".py",
   "mimetype": "text/x-python",
   "name": "python",
   "nbconvert_exporter": "python",
   "pygments_lexer": "ipython3",
   "version": "3.6.1"
  }
 },
 "nbformat": 4,
 "nbformat_minor": 2
}
