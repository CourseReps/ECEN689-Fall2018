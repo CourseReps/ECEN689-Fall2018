{
 "cells": [
  {
   "cell_type": "markdown",
   "metadata": {},
   "source": [
    "# Challenge 1\n",
    "\n",
    "## Reading Materials\n",
    "\n",
    "### Required Reading\n",
    "Due: September 6, 2018\n",
    "\n",
    " * Understanding Machine Learning from Theory to Algorithms, S. Shalev-Shwartz and S. Ben-David\n",
    "   * **Chapter 1: A gentle start**\n",
    "   * **Chapter 9: Linear predictors**\n",
    "   \n",
    "### Additional Reading\n",
    "\n",
    "  * Mathematical Methods and Algorithms for Signal Processing, T. K. Moon and W. C. Stirling\n",
    "    * **Section 3.8: Linear regression**\n",
    "\n"
   ]
  },
  {
   "cell_type": "code",
   "execution_count": null,
   "metadata": {},
   "outputs": [],
   "source": []
  }
 ],
 "metadata": {
  "kernelspec": {
   "display_name": "Python 3",
   "language": "python",
   "name": "python3"
  },
  "language_info": {
   "codemirror_mode": {
    "name": "ipython",
    "version": 3
   },
   "file_extension": ".py",
   "mimetype": "text/x-python",
   "name": "python",
   "nbconvert_exporter": "python",
   "pygments_lexer": "ipython3",
   "version": "3.6.6"
  }
 },
 "nbformat": 4,
 "nbformat_minor": 2
}
