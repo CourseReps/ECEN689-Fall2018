{
 "cells": [
  {
   "cell_type": "code",
   "execution_count": 9,
   "metadata": {},
   "outputs": [],
   "source": [
<<<<<<< HEAD
    "import pandas as pd\n",
    "import numpy as np\n",
    "path = r\"C:/Users/siddh/Desktop/ECEN689-Fall2018/Challenges/1Files\"\n",
    "student_identity = 'Sid.1996'\n",
    "file = '/1challenge1activity_' + student_identity  \n",
    "df = pd.read_csv(path+file+\".csv\")\n",
    "df.head()"
=======
    "# Challenge 1\n",
    "\n",
    "## Reading Materials\n",
    "\n",
    "### Required Reading\n",
    "Due: September 6, 2018\n",
    "\n",
    " * Understanding Machine Learning from Theory to Algorithms, S. Shalev-Shwartz and S. Ben-David\n",
    "   * **Chapter 1**: Introduction\n",
    "   * **Chapter 2**: A gentle start\n",
    "   * **Chapter 9**: Linear predictors\n",
    "   \n",
    "\n",
    "### [Kaggle Tutorials](https://www.kaggle.com/learn/overview)\n",
    "Due: September 6, 2018\n",
    "\n",
    " * __Complete__ [Python course](https://www.kaggle.com/learn/python), if needed\n",
    " * __Complete__ [Pandas course](https://www.kaggle.com/learn/pandas), if needed\n",
    "\n",
    "\n",
    "## Activity 1\n",
    "Due: September 6, 2018\n",
    "\n",
    "In Activity 1, you are tasked with estimating the mean and variance of a series of data sets, two parameters for every row.\n",
    "Each student has their own file, and should work in place.\n",
    "```python\n",
    "student_identity = 'netid'\n",
    "filename = '1challenge1activity_' + student_identity + '.csv'\n",
    "```\n",
    "\n",
    "### Deliverables\n",
    " 1. Fill column ```Mean``` and ```Variance```.\n",
    " 2. Commit your change on Git.\n",
    "\n",
    "### Metric\n",
    " * Average $L_2$ norm between the true and estimated parameters."
>>>>>>> 57d4f20056e26fbab24f030fc352a8d59184f696
   ]
  },
  {
   "cell_type": "code",
<<<<<<< HEAD
   "execution_count": 21,
   "metadata": {},
   "outputs": [],
   "source": [
    "row_mean = df.iloc[:,3:].mean(axis=1)\n",
    "row_variance = df.iloc[:,3:].var(axis = 1)\n",
    "df['Mean'] = row_mean\n",
    "df['Variance'] = row_variance"
=======
   "execution_count": null,
   "metadata": {
    "collapsed": true
   },
   "outputs": [],
   "source": [
    "import pandas as pd\n",
    "import numpy as np\n",
    "\n",
    "student_df = pd.read_csv('../Miscellaneous/ECEN689-Fall2018-Students.csv')\n",
    "print(student_df)\n",
    "for index, row in student_df.iterrows():\n",
    "    student_identity = row['NetID']\n",
    "\n",
    "    filenameToRead = '1challenge1activity_' + student_identity + '.csv'\n",
    "    sample_df = pd.read_csv('1Files/' + filenameToRead)\n",
    "\n",
    "    list = []\n",
    "    for row in range(sample_df.shape[0]):\n",
    "        array =  [sample_df['Sample 0'][row],sample_df['Sample 1'][row],\n",
    "            sample_df['Sample 2'][row],sample_df['Sample 3'][row],\n",
    "            sample_df['Sample 4'][row],sample_df['Sample 5'][row],\n",
    "            sample_df['Sample 6'][row],sample_df['Sample 7'][row],\n",
    "            sample_df['Sample 8'][row],sample_df['Sample 9'][row],\n",
    "            sample_df['Sample 10'][row],sample_df['Sample 11'][row]]\n",
    "        list.append([np.mean(array),np.var(array)])\n",
    "\n",
    "    for row in range(sample_df.shape[0]):\n",
    "        sample_df.iloc[row, sample_df.columns.get_loc('Mean')] = list[row][0]\n",
    "        sample_df.iloc[row, sample_df.columns.get_loc('Variance')] = list[row][1]\n",
    "\n",
    "#     sample_df.to_csv(filename, sep=',', encoding='utf-8')\n"
>>>>>>> 57d4f20056e26fbab24f030fc352a8d59184f696
   ]
  },
  {
   "cell_type": "code",
<<<<<<< HEAD
   "execution_count": 25,
   "metadata": {},
=======
   "execution_count": null,
   "metadata": {
    "collapsed": true
   },
>>>>>>> 57d4f20056e26fbab24f030fc352a8d59184f696
   "outputs": [],
   "source": [
    "df.to_csv(path+file+\".csv\")"
   ]
  },
  {
   "cell_type": "code",
   "execution_count": null,
   "metadata": {
    "collapsed": true
   },
   "outputs": [],
   "source": []
  }
 ],
 "metadata": {
  "kernelspec": {
   "display_name": "Python 3",
   "language": "python",
   "name": "python3"
  },
  "language_info": {
   "codemirror_mode": {
    "name": "ipython",
    "version": 3
   },
   "file_extension": ".py",
   "mimetype": "text/x-python",
   "name": "python",
   "nbconvert_exporter": "python",
   "pygments_lexer": "ipython3",
<<<<<<< HEAD
   "version": "3.6.3"
=======
   "version": "3.6.1"
>>>>>>> 57d4f20056e26fbab24f030fc352a8d59184f696
  }
 },
 "nbformat": 4,
 "nbformat_minor": 2
}
