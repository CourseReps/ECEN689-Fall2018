{
 "cells": [
  {
   "cell_type": "markdown",
   "metadata": {},
   "source": [
    "# Challenge 5\n",
    "\n",
    "## Reading Materials\n",
    "\n",
    "### Required Reading\n",
    "\n",
    "\n",
    "## Activity 1\n",
    "Due: November 8, 2018\n",
    "\n",
    "In Activity 1, you are tasked with building a binary classifier based on SVM.\n",
    "Each student has their own files, and should work in place.\n",
    "```python\n",
    "student_identity = 'netid'\n",
    "training = '5challenge_training_' + student_identity + '.csv'\n",
    "testing = '5challenge_testing_' + student_identity + '.csv'\n",
    "```\n",
    "\n",
    "### Data\n",
    "\n",
    "The data is generated synthetically, one set for every student, using ```sklearn.datasets.make_classification```.\n",
    "\n",
    "\n",
    "### Evaluation\n",
    "\n",
    "Submissions will be scored according to Categorization Accuracy.\n",
    "This Kaggle Metric requires the following columns: Id (String) and Category (String).\n",
    "The solution file should be in a CSV format.\n",
    "\n",
    "\n",
    "### File Descriptions\n",
    "\n",
    " * `5challenge_training_netid.csv` – the training data\n",
    " * `5challenge_testing_netid.csv` – the test data\n",
    " \n",
    "\n",
    "### Deliverables\n",
    "\n",
    "User submissions are evaluated by comparing their submission CSV to the ground truth solution CSV with respect to Categorization Accuracy.\n",
    "Documents to be submitted are as follows.\n",
    "\n",
    "__GitHub__: Every student should commit and push files.\n",
    " 1. A pediction file; Fill column ```Class``` in the testing file.\n",
    "     * `ECEN689-Fall2018 -> Challenges -> 5Files -> 5challenge_testing_netid.csv`\n",
    " 2. Jupyter notebook code or Python code within your own directory.\n",
    " 3. Describe the Kernel you used for your SVM. Plot the decision region juxtaposed with the training set.\n",
    "     * `ECEN689-Fall2018 -> Students -> GitHubID -> 5challenge_testing_netid.csv`\n"
   ]
  },
  {
   "cell_type": "code",
   "execution_count": null,
   "metadata": {},
   "outputs": [],
   "source": [
    "import pandas as pd\n",
    "import numpy as np\n",
    "import matplotlib.pyplot as plt\n",
    "\n",
    "student_identity = ''\n",
    "\n",
    "filenameToRead = '5challenge_training_' + student_identity + '.csv'\n",
    "training_df = pd.read_csv('5Files/' + filenameToRead)\n",
    "\n",
    "print(training_df.head())\n",
    "\n",
    "X1 = training_df[['Feature 0', 'Feature 1']].values\n",
    "Y1 = training_df[['Class']].values\n",
    "plt.scatter(X1[:, 0], X1[:, 1], marker='o', c=Y1,\n",
    "            s=25, edgecolor='k')\n",
    "\n",
    "plt.show()\n"
   ]
  },
  {
   "cell_type": "code",
   "execution_count": null,
   "metadata": {
    "collapsed": true
   },
   "outputs": [],
   "source": []
  }
 ],
 "metadata": {
  "kernelspec": {
   "display_name": "Python 3",
   "language": "python",
   "name": "python3"
  },
  "language_info": {
   "codemirror_mode": {
    "name": "ipython",
    "version": 3
   },
   "file_extension": ".py",
   "mimetype": "text/x-python",
   "name": "python",
   "nbconvert_exporter": "python",
   "pygments_lexer": "ipython3",
   "version": "3.6.0"
  }
 },
 "nbformat": 4,
 "nbformat_minor": 2
}
