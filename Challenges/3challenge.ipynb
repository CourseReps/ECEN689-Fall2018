{
 "cells": [
  {
   "cell_type": "markdown",
   "metadata": {},
   "source": [
    "# Challenge 3\n",
    "\n",
    "## Reading Materials\n",
    "\n",
    "### Required Reading\n",
    "Due: September 27, 2018\n",
    "\n",
    " * Understanding Machine Learning from Theory to Algorithms, S. Shalev-Shwartz and S. Ben-David\n",
    "   * TBA\n",
    "\n",
    "\n",
    "### [Kaggle Tutorials](https://www.kaggle.com/learn/overview)\n",
    "Due: September 27, 2018\n",
    "\n",
    " * __Complete__ [Data Visualisation course](https://www.kaggle.com/learn/data-visualisation), if needed\n",
    "\n",
    "\n",
    "## Activity 3: World Bank Data\n",
    "Due: September 27, 2018\n",
    "\n",
    "Activity 3 is based on the [World Bank Data](https://www.kaggle.com/gemartin/world-bank-data-1960-to-2016), which aggregates countries population, fertility rate, and life expectancy from 1960 to 2016.\n",
    "The goal of this activity is to explore a regression analysis method that perform both variable selection and regularization in order to enhance the prediction accuracy and limit the fragility of a statistical model.\n",
    "Relevant topics for this challenge include the following section.\n",
    " * Linear Regression (Section 9.2)\n",
    " * Regularized Loss Minimization (Section 13.1)\n",
    " * Stable Rules Do Not Overfit (Section 13.2)\n",
    "\n",
    "\n",
    "\n",
    "### Evaluation\n",
    "\n",
    "\n",
    "\n",
    "## Data\n",
    "\n",
    " * country_population.csv\n",
    " * fertility_rate.csv\n",
    " * life_expectancy.csv\n",
    "\n",
    "\n",
    "### File Descriptions\n",
    "\n",
    "\n",
    "\n",
    "### Deliverables\n",
    "\n"
   ]
  },
  {
   "cell_type": "code",
   "execution_count": null,
   "metadata": {},
   "outputs": [],
   "source": [
    "import pandas as pd\n",
    "import numpy as np\n",
    "import matplotlib.pyplot as plt\n",
    "\n",
    "from sklearn.linear_model import Ridge, Lasso\n",
    "from sklearn.metrics import mean_squared_error\n",
    "\n",
    "population_df = pd.read_csv('3Files/country_population.csv').dropna(axis=0)\n",
    "print(population_df.shape)\n",
    "population_df.drop(['Country Name', 'Country Code', 'Indicator Name', 'Indicator Code'], axis=1, inplace=True)\n",
    "population_matrix = population_df.as_matrix(columns=None)\n",
    "\n",
    "population_vector = population_matrix[0,:]\n",
    "population_matrix = np.delete(population_matrix, 0, axis=0)\n",
    "print(population_matrix.shape)\n",
    "\n"
   ]
  },
  {
   "cell_type": "markdown",
   "metadata": {},
   "source": [
    "One can use the `sklearn` package to perform ridge regression and lasso.\n",
    "The main functions in this package that we care about are `Ridge()`, which can be used to fit ridge regression models, and `Lasso()` which will fit lasso models.\n",
    "\n",
    "The `Ridge()` function has an `alpha` argument that is employed to tune the model.\n"
   ]
  },
  {
   "cell_type": "code",
   "execution_count": null,
   "metadata": {},
   "outputs": [],
   "source": [
    "alphas = 10**np.linspace(10,-2,5)*0.5\n",
    "alphas"
   ]
  },
  {
   "cell_type": "markdown",
   "metadata": {},
   "source": [
    "Associated with each `alpha` value is a vector of ridge regression coefficients, stored in a matrix `coefs`."
   ]
  },
  {
   "cell_type": "code",
   "execution_count": null,
   "metadata": {},
   "outputs": [],
   "source": [
    "ridge = Ridge(normalize = True)\n",
    "coefs = []\n",
    "\n",
    "print(population_matrix.shape)\n",
    "print(population_vector.shape)\n",
    "\n",
    "for a in alphas:\n",
    "    ridge.set_params(alpha = a)\n",
    "    ridge.fit(population_matrix.transpose(), population_vector)\n",
    "    coefs.append(ridge.coef_)\n",
    "    \n",
    "np.shape(coefs)\n",
    "\n",
    "ax = plt.gca()\n",
    "ax.plot(alphas, coefs)\n",
    "ax.set_xscale('log')\n",
    "plt.axis('tight')\n",
    "plt.xlabel('alpha')\n",
    "plt.ylabel('weights')\n",
    "plt.show()"
   ]
  },
  {
   "cell_type": "code",
   "execution_count": null,
   "metadata": {
    "collapsed": true
   },
   "outputs": [],
   "source": []
  },
  {
   "cell_type": "code",
   "execution_count": null,
   "metadata": {
    "collapsed": true
   },
   "outputs": [],
   "source": []
  }
 ],
 "metadata": {
  "kernelspec": {
   "display_name": "Python 3",
   "language": "python",
   "name": "python3"
  },
  "language_info": {
   "codemirror_mode": {
    "name": "ipython",
    "version": 3
   },
   "file_extension": ".py",
   "mimetype": "text/x-python",
   "name": "python",
   "nbconvert_exporter": "python",
   "pygments_lexer": "ipython3",
   "version": "3.6.1"
  }
 },
 "nbformat": 4,
 "nbformat_minor": 2
}
