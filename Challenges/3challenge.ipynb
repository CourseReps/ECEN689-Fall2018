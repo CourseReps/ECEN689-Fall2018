{
 "cells": [
  {
   "cell_type": "markdown",
   "metadata": {},
   "source": [
    "# Challenge 3\n",
    "\n",
    "## Reading Materials\n",
    "\n",
    "### Required Reading\n",
    "Due: September 27, 2018\n",
    "\n",
    " * Understanding Machine Learning from Theory to Algorithms, S. Shalev-Shwartz and S. Ben-David\n",
    "   * TBA\n",
    "\n",
    "\n",
    "### [Kaggle Tutorials](https://www.kaggle.com/learn/overview)\n",
    "Due: September 27, 2018\n",
    "\n",
    " * __Complete__ [Data Visualisation course](https://www.kaggle.com/learn/data-visualisation), if needed\n",
    "\n",
    "\n",
    "## Activity 3: World Bank Data\n",
    "Due: September 27, 2018\n",
    "\n",
    "Activity 3 is based on the [World Bank Data](https://www.kaggle.com/gemartin/world-bank-data-1960-to-2016), which aggregates countries population, fertility rate, and life expectancy from 1960 to 2016.\n",
    "The goal of this activity is to explore a regression analysis method that perform both variable selection and regularization in order to enhance the prediction accuracy and limit the fragility of a statistical model.\n",
    "Relevant topics for this challenge include the following section.\n",
    " * Linear Regression (Section 9.2)\n",
    " * Regularized Loss Minimization (Section 13.1)\n",
    " * Stable Rules Do Not Overfit (Section 13.2)\n",
    "\n",
    "\n",
    "\n",
    "### Evaluation\n",
    "\n",
    "\n",
    "\n",
    "## Data\n",
    "\n",
    " * country_population.csv\n",
    " * fertility_rate.csv\n",
    " * life_expectancy.csv\n",
    "\n",
    "\n",
    "### File Descriptions\n",
    "\n",
    "\n",
    "\n",
    "### Deliverables\n",
    "\n"
   ]
  },
  {
   "cell_type": "code",
   "execution_count": null,
   "metadata": {
    "collapsed": true
   },
   "outputs": [],
   "source": []
  }
 ],
 "metadata": {
  "kernelspec": {
   "display_name": "Python 3",
   "language": "python",
   "name": "python3"
  },
  "language_info": {
   "codemirror_mode": {
    "name": "ipython",
    "version": 3
   },
   "file_extension": ".py",
   "mimetype": "text/x-python",
   "name": "python",
   "nbconvert_exporter": "python",
   "pygments_lexer": "ipython3",
   "version": "3.6.1"
  }
 },
 "nbformat": 4,
 "nbformat_minor": 2
}
