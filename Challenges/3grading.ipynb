{
 "cells": [
  {
   "cell_type": "markdown",
   "metadata": {},
   "source": [
    "# Challenge 3 – Grading\n",
    "\n",
    "## Activity 3: World Bank Data\n",
    "\n",
    "\n",
    "### Evaluation\n",
    "\n",
    "The evaluation criterion is the average sum of squared residuals for populations from 2000 to 2016.\n",
    "\n",
    "\n",
    "## Data\n",
    "\n",
    "The data we are using is based on the [World Bank Data](https://www.kaggle.com/gemartin/world-bank-data-1960-to-2016).\n",
    "Specifically, we are using a cleaned up version of `country_population.csv` where incomplete rows have been removed and extraneous columns have been deleted.\n",
    "The intent is to use year 1960 to 1999 to train a least squares model and, subsequently, explore its prediction power for year 2001 to 2016.\n",
    "For a given country, the solution should be a population estimate based on a linear combination of (at most) five other countries.\n",
    "\n",
    "\n",
    "### File Descriptions\n",
    "\n",
    " * `population_training.csv` – the training data\n",
    " * `population_training_kaggle.csv` – the training data in Kaggle format  (40 x 259)\n",
    " * `population_testing.csv` – the test data\n",
    " * `population_testing_kaggle.csv` – the test data in Kaggle format (17 x 259)\n",
    " * `population_sample_kaggle.csv` – A sample Kaggle solution (17 x 259)\n",
    " * `population_parameters.csv` – A sample parameters file (259 x 259)"
   ]
  },
  {
   "cell_type": "code",
   "execution_count": null,
   "metadata": {},
   "outputs": [],
   "source": [
    "import pandas as pd\n",
    "import numpy as np\n",
    "\n",
    "years = 17\n",
    "countries = 258\n",
    "\n",
    "# Load solution\n",
    "population_testing_df = pd.read_csv('3Files/population_testing_kaggle.csv')\n",
    "population_testing_df.drop(labels=['Id'], axis=1, inplace=True)\n",
    "population_testing_matrix = population_testing_df.astype(float).values\n",
    "print(population_testing_matrix.shape)\n",
    "\n",
    "population_prediction_df = pd.read_csv('3Files/Team2/population_prediction.csv')\n",
    "population_prediction_df.drop(labels=['Id'], axis=1, inplace=True)\n",
    "population_predition_matrix = population_prediction_df.astype(float).values\n",
    "print(population_predition_matrix.shape)\n",
    "\n",
    "population_parameters_df = pd.read_csv('3Files/Team2/population_parameters.csv', header=None)\n",
    "population_parameters_df.drop(0, axis=0, inplace=True)\n",
    "population_parameters_df.drop(0, axis=1, inplace=True)\n",
    "population_parameters_matrix = population_parameters_df.astype(float).values\n",
    "print(population_parameters_matrix.shape)\n",
    "\n",
    "population_sparse = np.zeros(countries)\n",
    "population_computed = np.zeros((years, countries))\n",
    "constant_check = np.zeros(countries)\n",
    "\n",
    "for country in range(countries):\n",
    "    parameter_vector = population_parameters_matrix[:, country]\n",
    "    population_sparse[country] = np.count_nonzero(np.around(parameter_vector, decimals=4))\n",
    "#     print(np.linalg.norm(population_testing_matrix[:,country] - population_predition_matrix[:,country], 1)/years, end=', ')\n",
    "    for year in range(years):\n",
    "        population_computed[year, country] = np.inner(parameter_vector, population_testing_matrix[year,:])\n",
    "#         print(population_testing_matrix[year, country])\n",
    "    Offset = population_computed[:,country] - population_predition_matrix[:,country]\n",
    "#     print(np.linalg.norm(population_computed[:,country] - Offset - population_predition_matrix[:,country], 1)/years)\n",
    "#     print(np.linalg.norm(population_computed[:,country] - Offset - population_testing_matrix[:,country], 1)/years)\n",
    "    print(np.linalg.norm(population_predition_matrix[:,country] - population_testing_matrix[:,country], 1)/(17*max(population_testing_matrix[:,country])))\n",
    "    constant_check[country] = (max(Offset)-min(Offset))/max(population_computed[:,country])\n",
    "# print(max(constant_check))\n",
    "# print(max(population_sparse))\n",
    "\n"
   ]
  },
  {
   "cell_type": "code",
   "execution_count": null,
   "metadata": {
    "collapsed": true
   },
   "outputs": [],
   "source": []
  }
 ],
 "metadata": {
  "kernelspec": {
   "display_name": "Python 3",
   "language": "python",
   "name": "python3"
  },
  "language_info": {
   "codemirror_mode": {
    "name": "ipython",
    "version": 3
   },
   "file_extension": ".py",
   "mimetype": "text/x-python",
   "name": "python",
   "nbconvert_exporter": "python",
   "pygments_lexer": "ipython3",
   "version": "3.6.1"
  }
 },
 "nbformat": 4,
 "nbformat_minor": 2
}
