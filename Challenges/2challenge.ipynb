{
 "cells": [
  {
   "cell_type": "markdown",
   "metadata": {},
   "source": [
    "# Challenge 2\n",
    "\n",
    "## Reading Materials\n",
    "\n",
    "### Required Reading\n",
    "Due: September 18, 2018\n",
    "\n",
    " * Understanding Machine Learning from Theory to Algorithms, S. Shalev-Shwartz and S. Ben-David\n",
    "   * **Chapter 3**: A Formal Learning Model\n",
    "   * **Chapter 19**: Nearest Neighbor\n",
    "   \n",
    "\n",
    "### [Kaggle Tutorials](https://www.kaggle.com/learn/overview)\n",
    "Due: September 18, 2018\n",
    "\n",
    " * __Complete__ [Maching Learning course](https://www.kaggle.com/learn/machine-learning), if needed\n",
    "\n",
    "\n",
    "## Activity 2: MNIST Digit Classification\n",
    "Due: September 18, 2018\n",
    "\n",
    "Activity 2 is based on the [MNIST data set](http://yann.lecun.com/exdb/mnist/) of handwritten digits. The training set is composed of 60,000 examples, and the test set has 10,000 samples. The goal is to identify the correct digit for every row in the test set. To perform this task, you are asked to consider two classical algorithms.\n",
    " * Logistic Regression (Section 9.2)\n",
    " * $k$ Nearest Neighbors (Section 19.1)\n",
    "\n",
    "**Logistic Regression**: The hypothesis class associated with logistic regression is the composition of a sigmoid function $\\phi_{\\mathrm{sig}}: \\mathbb{R} \\rightarrow [0, 1]$ over the class of linear functions.\n",
    "In particular, the sigmoid function used in logistic regression is the logistic function, defined as\n",
    "$$\\phi_{\\mathrm{sig}}(z) = \\frac{1}{1 + \\exp(-z)}.$$\n",
    "The classification process is defined through the inner products $\\langle \\mathbf{w}_i, \\mathbf{x} \\rangle$, $i \\in \\{ 0, \\ldots, 9 \\}$ with\n",
    "$$\\begin{split}\n",
    "y &= \\arg \\max_i \\phi_{\\mathrm{sig}} \\left( \\langle \\mathbf{w}_i, \\mathbf{x} \\rangle \\right) \\\\\n",
    "&= \\arg \\max_i \\frac{1}{1 + \\exp \\left( - \\langle \\mathbf{w}_i, \\mathbf{x} \\rangle \\right)}.\n",
    "\\end{split}$$\n",
    "The task, then, is to identify the collection of vectors $\\{ \\mathbf{w}_i \\}$.\n",
    "\n",
    "**$k$ Nearest Neighbors**: An object is classified by a majority vote of its neighbors, with the object being assigned to the class most common among its $k$ nearest neighbors.\n",
    "\n",
    "\n",
    "### Evaluation\n",
    "\n",
    "Submissions will be scored according to Categorization Accuracy. This Kaggle Metric requires the following columns: `Id (String)` an `Category (String)`. The solution file should be in a CSV format.\n",
    "\n",
    "\n",
    "## Data\n",
    "\n",
    "This activity is based on a version of the MNSIT data set. The data files contain gray-scale images of hand-drawn digits, from zero through nine. Each image is 28 pixels in height and 28 pixels in width, for a total of 784 pixels in total. Each pixel has a single pixel-value associated with it, indicating the lightness or darkness of that pixel, with higher numbers meaning darker. The column labels appear in lexicographical order according to a dictionary order, with rows taking precedence over columns.\n",
    "\n",
    "\n",
    "### File Descriptions\n",
    "\n",
    "This data is based on a version of the [MNSIT data set](http://yann.lecun.com/exdb/mnist/).\n",
    "It is available on this site and on our private Kaggle competition site, in slightly different formats.\n",
    "\n",
    " * mnist_train.csv – the training set\n",
    " * mnist_test.csv – the test set\n",
    "\n",
    "\n",
    "### Deliverables\n",
    "\n",
    "User submissions are evaluated by comparing their Submission CSV to the ground truth Solution CSV with respect to Categorization Accuracy.\n",
    "This Metric requires the following columns: `Id (String)` and `Category (String)`.\n",
    "On GitHub, you should submit the following items.\n",
    "\n",
    " 1. 2challenge_logreg.csv – the solution in Kaggle format\n",
    " 2. 2challenge_logreg_vectors.csv – the 10 vectors $\\{ \\mathbf{w}_i \\}$\n",
    " 3. 2challenge_knn.csv – the solution in Kaggle format"
   ]
  },
  {
   "cell_type": "code",
   "execution_count": null,
   "metadata": {
    "collapsed": true
   },
   "outputs": [],
   "source": []
  }
 ],
 "metadata": {
  "kernelspec": {
   "display_name": "Python 3",
   "language": "python",
   "name": "python3"
  },
  "language_info": {
   "codemirror_mode": {
    "name": "ipython",
    "version": 3
   },
   "file_extension": ".py",
   "mimetype": "text/x-python",
   "name": "python",
   "nbconvert_exporter": "python",
   "pygments_lexer": "ipython3",
   "version": "3.6.1"
  }
 },
 "nbformat": 4,
 "nbformat_minor": 2
}
